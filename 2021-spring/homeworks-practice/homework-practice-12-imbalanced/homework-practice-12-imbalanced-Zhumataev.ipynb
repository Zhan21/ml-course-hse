{
 "cells": [
  {
   "cell_type": "markdown",
   "metadata": {
    "id": "sCk9bUMos9A-"
   },
   "source": [
    "# Машинное обучение, ФКН ВШЭ\n",
    "\n",
    "# Практическое задание 12. Несбалансированные задачи\n",
    "\n",
    "## Общая информация\n",
    "Дата выдачи: 01.05.2022\n",
    "\n",
    "Мягкий дедлайн: 11.05.2022 23:59 MSK\n",
    "\n",
    "Жёсткий дедлайн: 16.05.2022 23:59 MSK\n",
    "\n",
    "## Оценивание и штрафы\n",
    "\n",
    "Каждая из задач имеет определенную «стоимость» (указана в скобках около задачи). Максимально допустимая оценка за работу — 10 баллов.\n",
    "\n",
    "Сдавать задание после указанного срока сдачи нельзя. При выставлении неполного балла за задание в связи с наличием ошибок на усмотрение проверяющего предусмотрена возможность исправить работу на указанных в ответном письме условиях.\n",
    "\n",
    "Задание выполняется самостоятельно. «Похожие» решения считаются плагиатом и все задействованные студенты (в том числе те, у кого списали) не могут получить за него больше 0 баллов (подробнее о плагиате см. на странице курса). Если вы нашли решение какого-то из заданий (или его часть) в открытом источнике, необходимо указать ссылку на этот источник в отдельном блоке в конце вашей работы (скорее всего вы будете не единственным, кто это нашел, поэтому чтобы исключить подозрение в плагиате, необходима ссылка на источник).\n",
    "\n",
    "Неэффективная реализация кода может негативно отразиться на оценке.\n",
    "\n",
    "## Формат сдачи\n",
    "Задания сдаются через систему anytask. Посылка должна содержать:\n",
    "* Ноутбук homework-practice-xx-Username.ipynb\n",
    "\n",
    "Username — ваша фамилия и имя на латинице именно в таком порядке"
   ]
  },
  {
   "cell_type": "markdown",
   "metadata": {
    "id": "MsiB3oacs9BG"
   },
   "source": [
    "## О задании\n",
    "\n",
    "В этом задании мы разберем основные техники работы в задачах, где один из классов занимает существенно меньшую долю выборки, чем остальные. Для простоты мы обойдемся бинарной задачей, тем не менее, во многом данные методы можно перенести и на задачи с б**о**льшим числом классов. Кроме того, вы получите очередной бесценный опыт исследования случайной библиотеки случайных индусов с нуля."
   ]
  },
  {
   "cell_type": "code",
   "execution_count": 1,
   "metadata": {
    "id": "I9SXbBCjs9BH"
   },
   "outputs": [],
   "source": [
    "import numpy as np\n",
    "import pandas as pd\n",
    "pd.set_option('display.max_rows', 100)\n",
    "pd.set_option('display.max_columns', 100)\n",
    "\n",
    "import matplotlib.pyplot as plt\n",
    "import seaborn as sns\n",
    "sns.set(style='whitegrid')\n",
    "\n",
    "from tqdm.auto import tqdm\n",
    "# import warnings\n",
    "# warnings.filterwarnings('ignore')"
   ]
  },
  {
   "cell_type": "markdown",
   "metadata": {
    "id": "5l0VsXHes9BI"
   },
   "source": [
    "**Задание -1 (1 балл)**. EDA"
   ]
  },
  {
   "cell_type": "markdown",
   "metadata": {
    "id": "SIund96us9BI"
   },
   "source": [
    "В качестве данных для нашей работы возьмем выложенный на kaggle датасет транзакций, в котором нужно выискивать мошеннические проводки: [клик](https://www.kaggle.com/mlg-ulb/creditcardfraud). Данная задача по определению подходит под несбалансированную, что можно сказать даже без наличия каких-либо данных (понятно, что среди всех транзакций клиентов очень малая часть будет мошеннической).\n",
    "\n",
    "Загрузим данные, проведем некоторые классические манипуляции."
   ]
  },
  {
   "cell_type": "code",
   "execution_count": null,
   "metadata": {
    "id": "tY2aKqhCs9BJ"
   },
   "outputs": [],
   "source": [
    "\"\"\"%%bash\n",
    "kaggle datasets download -d mlg-ulb/creditcardfraud\n",
    "unzip creditcardfraud.zip\"\"\";"
   ]
  },
  {
   "cell_type": "code",
   "execution_count": 2,
   "metadata": {
    "id": "5_UPWW51s9BJ"
   },
   "outputs": [],
   "source": [
    "df = pd.read_csv('creditcard.csv')"
   ]
  },
  {
   "cell_type": "code",
   "execution_count": 3,
   "metadata": {
    "id": "HpJMyb0Hs9BJ",
    "outputId": "7f254a74-d248-47c6-9550-3e884e3cce92"
   },
   "outputs": [
    {
     "data": {
      "text/html": [
       "<div>\n",
       "<style scoped>\n",
       "    .dataframe tbody tr th:only-of-type {\n",
       "        vertical-align: middle;\n",
       "    }\n",
       "\n",
       "    .dataframe tbody tr th {\n",
       "        vertical-align: top;\n",
       "    }\n",
       "\n",
       "    .dataframe thead th {\n",
       "        text-align: right;\n",
       "    }\n",
       "</style>\n",
       "<table border=\"1\" class=\"dataframe\">\n",
       "  <thead>\n",
       "    <tr style=\"text-align: right;\">\n",
       "      <th></th>\n",
       "      <th>Time</th>\n",
       "      <th>V1</th>\n",
       "      <th>V2</th>\n",
       "      <th>V3</th>\n",
       "      <th>V4</th>\n",
       "      <th>V5</th>\n",
       "      <th>V6</th>\n",
       "      <th>V7</th>\n",
       "      <th>V8</th>\n",
       "      <th>V9</th>\n",
       "      <th>V10</th>\n",
       "      <th>V11</th>\n",
       "      <th>V12</th>\n",
       "      <th>V13</th>\n",
       "      <th>V14</th>\n",
       "      <th>V15</th>\n",
       "      <th>V16</th>\n",
       "      <th>V17</th>\n",
       "      <th>V18</th>\n",
       "      <th>V19</th>\n",
       "      <th>V20</th>\n",
       "      <th>V21</th>\n",
       "      <th>V22</th>\n",
       "      <th>V23</th>\n",
       "      <th>V24</th>\n",
       "      <th>V25</th>\n",
       "      <th>V26</th>\n",
       "      <th>V27</th>\n",
       "      <th>V28</th>\n",
       "      <th>Amount</th>\n",
       "      <th>Class</th>\n",
       "    </tr>\n",
       "  </thead>\n",
       "  <tbody>\n",
       "    <tr>\n",
       "      <th>0</th>\n",
       "      <td>0.0</td>\n",
       "      <td>-1.359807</td>\n",
       "      <td>-0.072781</td>\n",
       "      <td>2.536347</td>\n",
       "      <td>1.378155</td>\n",
       "      <td>-0.338321</td>\n",
       "      <td>0.462388</td>\n",
       "      <td>0.239599</td>\n",
       "      <td>0.098698</td>\n",
       "      <td>0.363787</td>\n",
       "      <td>0.090794</td>\n",
       "      <td>-0.551600</td>\n",
       "      <td>-0.617801</td>\n",
       "      <td>-0.991390</td>\n",
       "      <td>-0.311169</td>\n",
       "      <td>1.468177</td>\n",
       "      <td>-0.470401</td>\n",
       "      <td>0.207971</td>\n",
       "      <td>0.025791</td>\n",
       "      <td>0.403993</td>\n",
       "      <td>0.251412</td>\n",
       "      <td>-0.018307</td>\n",
       "      <td>0.277838</td>\n",
       "      <td>-0.110474</td>\n",
       "      <td>0.066928</td>\n",
       "      <td>0.128539</td>\n",
       "      <td>-0.189115</td>\n",
       "      <td>0.133558</td>\n",
       "      <td>-0.021053</td>\n",
       "      <td>149.62</td>\n",
       "      <td>0</td>\n",
       "    </tr>\n",
       "    <tr>\n",
       "      <th>1</th>\n",
       "      <td>0.0</td>\n",
       "      <td>1.191857</td>\n",
       "      <td>0.266151</td>\n",
       "      <td>0.166480</td>\n",
       "      <td>0.448154</td>\n",
       "      <td>0.060018</td>\n",
       "      <td>-0.082361</td>\n",
       "      <td>-0.078803</td>\n",
       "      <td>0.085102</td>\n",
       "      <td>-0.255425</td>\n",
       "      <td>-0.166974</td>\n",
       "      <td>1.612727</td>\n",
       "      <td>1.065235</td>\n",
       "      <td>0.489095</td>\n",
       "      <td>-0.143772</td>\n",
       "      <td>0.635558</td>\n",
       "      <td>0.463917</td>\n",
       "      <td>-0.114805</td>\n",
       "      <td>-0.183361</td>\n",
       "      <td>-0.145783</td>\n",
       "      <td>-0.069083</td>\n",
       "      <td>-0.225775</td>\n",
       "      <td>-0.638672</td>\n",
       "      <td>0.101288</td>\n",
       "      <td>-0.339846</td>\n",
       "      <td>0.167170</td>\n",
       "      <td>0.125895</td>\n",
       "      <td>-0.008983</td>\n",
       "      <td>0.014724</td>\n",
       "      <td>2.69</td>\n",
       "      <td>0</td>\n",
       "    </tr>\n",
       "    <tr>\n",
       "      <th>2</th>\n",
       "      <td>1.0</td>\n",
       "      <td>-1.358354</td>\n",
       "      <td>-1.340163</td>\n",
       "      <td>1.773209</td>\n",
       "      <td>0.379780</td>\n",
       "      <td>-0.503198</td>\n",
       "      <td>1.800499</td>\n",
       "      <td>0.791461</td>\n",
       "      <td>0.247676</td>\n",
       "      <td>-1.514654</td>\n",
       "      <td>0.207643</td>\n",
       "      <td>0.624501</td>\n",
       "      <td>0.066084</td>\n",
       "      <td>0.717293</td>\n",
       "      <td>-0.165946</td>\n",
       "      <td>2.345865</td>\n",
       "      <td>-2.890083</td>\n",
       "      <td>1.109969</td>\n",
       "      <td>-0.121359</td>\n",
       "      <td>-2.261857</td>\n",
       "      <td>0.524980</td>\n",
       "      <td>0.247998</td>\n",
       "      <td>0.771679</td>\n",
       "      <td>0.909412</td>\n",
       "      <td>-0.689281</td>\n",
       "      <td>-0.327642</td>\n",
       "      <td>-0.139097</td>\n",
       "      <td>-0.055353</td>\n",
       "      <td>-0.059752</td>\n",
       "      <td>378.66</td>\n",
       "      <td>0</td>\n",
       "    </tr>\n",
       "    <tr>\n",
       "      <th>3</th>\n",
       "      <td>1.0</td>\n",
       "      <td>-0.966272</td>\n",
       "      <td>-0.185226</td>\n",
       "      <td>1.792993</td>\n",
       "      <td>-0.863291</td>\n",
       "      <td>-0.010309</td>\n",
       "      <td>1.247203</td>\n",
       "      <td>0.237609</td>\n",
       "      <td>0.377436</td>\n",
       "      <td>-1.387024</td>\n",
       "      <td>-0.054952</td>\n",
       "      <td>-0.226487</td>\n",
       "      <td>0.178228</td>\n",
       "      <td>0.507757</td>\n",
       "      <td>-0.287924</td>\n",
       "      <td>-0.631418</td>\n",
       "      <td>-1.059647</td>\n",
       "      <td>-0.684093</td>\n",
       "      <td>1.965775</td>\n",
       "      <td>-1.232622</td>\n",
       "      <td>-0.208038</td>\n",
       "      <td>-0.108300</td>\n",
       "      <td>0.005274</td>\n",
       "      <td>-0.190321</td>\n",
       "      <td>-1.175575</td>\n",
       "      <td>0.647376</td>\n",
       "      <td>-0.221929</td>\n",
       "      <td>0.062723</td>\n",
       "      <td>0.061458</td>\n",
       "      <td>123.50</td>\n",
       "      <td>0</td>\n",
       "    </tr>\n",
       "    <tr>\n",
       "      <th>4</th>\n",
       "      <td>2.0</td>\n",
       "      <td>-1.158233</td>\n",
       "      <td>0.877737</td>\n",
       "      <td>1.548718</td>\n",
       "      <td>0.403034</td>\n",
       "      <td>-0.407193</td>\n",
       "      <td>0.095921</td>\n",
       "      <td>0.592941</td>\n",
       "      <td>-0.270533</td>\n",
       "      <td>0.817739</td>\n",
       "      <td>0.753074</td>\n",
       "      <td>-0.822843</td>\n",
       "      <td>0.538196</td>\n",
       "      <td>1.345852</td>\n",
       "      <td>-1.119670</td>\n",
       "      <td>0.175121</td>\n",
       "      <td>-0.451449</td>\n",
       "      <td>-0.237033</td>\n",
       "      <td>-0.038195</td>\n",
       "      <td>0.803487</td>\n",
       "      <td>0.408542</td>\n",
       "      <td>-0.009431</td>\n",
       "      <td>0.798278</td>\n",
       "      <td>-0.137458</td>\n",
       "      <td>0.141267</td>\n",
       "      <td>-0.206010</td>\n",
       "      <td>0.502292</td>\n",
       "      <td>0.219422</td>\n",
       "      <td>0.215153</td>\n",
       "      <td>69.99</td>\n",
       "      <td>0</td>\n",
       "    </tr>\n",
       "    <tr>\n",
       "      <th>...</th>\n",
       "      <td>...</td>\n",
       "      <td>...</td>\n",
       "      <td>...</td>\n",
       "      <td>...</td>\n",
       "      <td>...</td>\n",
       "      <td>...</td>\n",
       "      <td>...</td>\n",
       "      <td>...</td>\n",
       "      <td>...</td>\n",
       "      <td>...</td>\n",
       "      <td>...</td>\n",
       "      <td>...</td>\n",
       "      <td>...</td>\n",
       "      <td>...</td>\n",
       "      <td>...</td>\n",
       "      <td>...</td>\n",
       "      <td>...</td>\n",
       "      <td>...</td>\n",
       "      <td>...</td>\n",
       "      <td>...</td>\n",
       "      <td>...</td>\n",
       "      <td>...</td>\n",
       "      <td>...</td>\n",
       "      <td>...</td>\n",
       "      <td>...</td>\n",
       "      <td>...</td>\n",
       "      <td>...</td>\n",
       "      <td>...</td>\n",
       "      <td>...</td>\n",
       "      <td>...</td>\n",
       "      <td>...</td>\n",
       "    </tr>\n",
       "    <tr>\n",
       "      <th>284802</th>\n",
       "      <td>172786.0</td>\n",
       "      <td>-11.881118</td>\n",
       "      <td>10.071785</td>\n",
       "      <td>-9.834783</td>\n",
       "      <td>-2.066656</td>\n",
       "      <td>-5.364473</td>\n",
       "      <td>-2.606837</td>\n",
       "      <td>-4.918215</td>\n",
       "      <td>7.305334</td>\n",
       "      <td>1.914428</td>\n",
       "      <td>4.356170</td>\n",
       "      <td>-1.593105</td>\n",
       "      <td>2.711941</td>\n",
       "      <td>-0.689256</td>\n",
       "      <td>4.626942</td>\n",
       "      <td>-0.924459</td>\n",
       "      <td>1.107641</td>\n",
       "      <td>1.991691</td>\n",
       "      <td>0.510632</td>\n",
       "      <td>-0.682920</td>\n",
       "      <td>1.475829</td>\n",
       "      <td>0.213454</td>\n",
       "      <td>0.111864</td>\n",
       "      <td>1.014480</td>\n",
       "      <td>-0.509348</td>\n",
       "      <td>1.436807</td>\n",
       "      <td>0.250034</td>\n",
       "      <td>0.943651</td>\n",
       "      <td>0.823731</td>\n",
       "      <td>0.77</td>\n",
       "      <td>0</td>\n",
       "    </tr>\n",
       "    <tr>\n",
       "      <th>284803</th>\n",
       "      <td>172787.0</td>\n",
       "      <td>-0.732789</td>\n",
       "      <td>-0.055080</td>\n",
       "      <td>2.035030</td>\n",
       "      <td>-0.738589</td>\n",
       "      <td>0.868229</td>\n",
       "      <td>1.058415</td>\n",
       "      <td>0.024330</td>\n",
       "      <td>0.294869</td>\n",
       "      <td>0.584800</td>\n",
       "      <td>-0.975926</td>\n",
       "      <td>-0.150189</td>\n",
       "      <td>0.915802</td>\n",
       "      <td>1.214756</td>\n",
       "      <td>-0.675143</td>\n",
       "      <td>1.164931</td>\n",
       "      <td>-0.711757</td>\n",
       "      <td>-0.025693</td>\n",
       "      <td>-1.221179</td>\n",
       "      <td>-1.545556</td>\n",
       "      <td>0.059616</td>\n",
       "      <td>0.214205</td>\n",
       "      <td>0.924384</td>\n",
       "      <td>0.012463</td>\n",
       "      <td>-1.016226</td>\n",
       "      <td>-0.606624</td>\n",
       "      <td>-0.395255</td>\n",
       "      <td>0.068472</td>\n",
       "      <td>-0.053527</td>\n",
       "      <td>24.79</td>\n",
       "      <td>0</td>\n",
       "    </tr>\n",
       "    <tr>\n",
       "      <th>284804</th>\n",
       "      <td>172788.0</td>\n",
       "      <td>1.919565</td>\n",
       "      <td>-0.301254</td>\n",
       "      <td>-3.249640</td>\n",
       "      <td>-0.557828</td>\n",
       "      <td>2.630515</td>\n",
       "      <td>3.031260</td>\n",
       "      <td>-0.296827</td>\n",
       "      <td>0.708417</td>\n",
       "      <td>0.432454</td>\n",
       "      <td>-0.484782</td>\n",
       "      <td>0.411614</td>\n",
       "      <td>0.063119</td>\n",
       "      <td>-0.183699</td>\n",
       "      <td>-0.510602</td>\n",
       "      <td>1.329284</td>\n",
       "      <td>0.140716</td>\n",
       "      <td>0.313502</td>\n",
       "      <td>0.395652</td>\n",
       "      <td>-0.577252</td>\n",
       "      <td>0.001396</td>\n",
       "      <td>0.232045</td>\n",
       "      <td>0.578229</td>\n",
       "      <td>-0.037501</td>\n",
       "      <td>0.640134</td>\n",
       "      <td>0.265745</td>\n",
       "      <td>-0.087371</td>\n",
       "      <td>0.004455</td>\n",
       "      <td>-0.026561</td>\n",
       "      <td>67.88</td>\n",
       "      <td>0</td>\n",
       "    </tr>\n",
       "    <tr>\n",
       "      <th>284805</th>\n",
       "      <td>172788.0</td>\n",
       "      <td>-0.240440</td>\n",
       "      <td>0.530483</td>\n",
       "      <td>0.702510</td>\n",
       "      <td>0.689799</td>\n",
       "      <td>-0.377961</td>\n",
       "      <td>0.623708</td>\n",
       "      <td>-0.686180</td>\n",
       "      <td>0.679145</td>\n",
       "      <td>0.392087</td>\n",
       "      <td>-0.399126</td>\n",
       "      <td>-1.933849</td>\n",
       "      <td>-0.962886</td>\n",
       "      <td>-1.042082</td>\n",
       "      <td>0.449624</td>\n",
       "      <td>1.962563</td>\n",
       "      <td>-0.608577</td>\n",
       "      <td>0.509928</td>\n",
       "      <td>1.113981</td>\n",
       "      <td>2.897849</td>\n",
       "      <td>0.127434</td>\n",
       "      <td>0.265245</td>\n",
       "      <td>0.800049</td>\n",
       "      <td>-0.163298</td>\n",
       "      <td>0.123205</td>\n",
       "      <td>-0.569159</td>\n",
       "      <td>0.546668</td>\n",
       "      <td>0.108821</td>\n",
       "      <td>0.104533</td>\n",
       "      <td>10.00</td>\n",
       "      <td>0</td>\n",
       "    </tr>\n",
       "    <tr>\n",
       "      <th>284806</th>\n",
       "      <td>172792.0</td>\n",
       "      <td>-0.533413</td>\n",
       "      <td>-0.189733</td>\n",
       "      <td>0.703337</td>\n",
       "      <td>-0.506271</td>\n",
       "      <td>-0.012546</td>\n",
       "      <td>-0.649617</td>\n",
       "      <td>1.577006</td>\n",
       "      <td>-0.414650</td>\n",
       "      <td>0.486180</td>\n",
       "      <td>-0.915427</td>\n",
       "      <td>-1.040458</td>\n",
       "      <td>-0.031513</td>\n",
       "      <td>-0.188093</td>\n",
       "      <td>-0.084316</td>\n",
       "      <td>0.041333</td>\n",
       "      <td>-0.302620</td>\n",
       "      <td>-0.660377</td>\n",
       "      <td>0.167430</td>\n",
       "      <td>-0.256117</td>\n",
       "      <td>0.382948</td>\n",
       "      <td>0.261057</td>\n",
       "      <td>0.643078</td>\n",
       "      <td>0.376777</td>\n",
       "      <td>0.008797</td>\n",
       "      <td>-0.473649</td>\n",
       "      <td>-0.818267</td>\n",
       "      <td>-0.002415</td>\n",
       "      <td>0.013649</td>\n",
       "      <td>217.00</td>\n",
       "      <td>0</td>\n",
       "    </tr>\n",
       "  </tbody>\n",
       "</table>\n",
       "<p>284807 rows × 31 columns</p>\n",
       "</div>"
      ],
      "text/plain": [
       "            Time         V1         V2        V3        V4        V5  \\\n",
       "0            0.0  -1.359807  -0.072781  2.536347  1.378155 -0.338321   \n",
       "1            0.0   1.191857   0.266151  0.166480  0.448154  0.060018   \n",
       "2            1.0  -1.358354  -1.340163  1.773209  0.379780 -0.503198   \n",
       "3            1.0  -0.966272  -0.185226  1.792993 -0.863291 -0.010309   \n",
       "4            2.0  -1.158233   0.877737  1.548718  0.403034 -0.407193   \n",
       "...          ...        ...        ...       ...       ...       ...   \n",
       "284802  172786.0 -11.881118  10.071785 -9.834783 -2.066656 -5.364473   \n",
       "284803  172787.0  -0.732789  -0.055080  2.035030 -0.738589  0.868229   \n",
       "284804  172788.0   1.919565  -0.301254 -3.249640 -0.557828  2.630515   \n",
       "284805  172788.0  -0.240440   0.530483  0.702510  0.689799 -0.377961   \n",
       "284806  172792.0  -0.533413  -0.189733  0.703337 -0.506271 -0.012546   \n",
       "\n",
       "              V6        V7        V8        V9       V10       V11       V12  \\\n",
       "0       0.462388  0.239599  0.098698  0.363787  0.090794 -0.551600 -0.617801   \n",
       "1      -0.082361 -0.078803  0.085102 -0.255425 -0.166974  1.612727  1.065235   \n",
       "2       1.800499  0.791461  0.247676 -1.514654  0.207643  0.624501  0.066084   \n",
       "3       1.247203  0.237609  0.377436 -1.387024 -0.054952 -0.226487  0.178228   \n",
       "4       0.095921  0.592941 -0.270533  0.817739  0.753074 -0.822843  0.538196   \n",
       "...          ...       ...       ...       ...       ...       ...       ...   \n",
       "284802 -2.606837 -4.918215  7.305334  1.914428  4.356170 -1.593105  2.711941   \n",
       "284803  1.058415  0.024330  0.294869  0.584800 -0.975926 -0.150189  0.915802   \n",
       "284804  3.031260 -0.296827  0.708417  0.432454 -0.484782  0.411614  0.063119   \n",
       "284805  0.623708 -0.686180  0.679145  0.392087 -0.399126 -1.933849 -0.962886   \n",
       "284806 -0.649617  1.577006 -0.414650  0.486180 -0.915427 -1.040458 -0.031513   \n",
       "\n",
       "             V13       V14       V15       V16       V17       V18       V19  \\\n",
       "0      -0.991390 -0.311169  1.468177 -0.470401  0.207971  0.025791  0.403993   \n",
       "1       0.489095 -0.143772  0.635558  0.463917 -0.114805 -0.183361 -0.145783   \n",
       "2       0.717293 -0.165946  2.345865 -2.890083  1.109969 -0.121359 -2.261857   \n",
       "3       0.507757 -0.287924 -0.631418 -1.059647 -0.684093  1.965775 -1.232622   \n",
       "4       1.345852 -1.119670  0.175121 -0.451449 -0.237033 -0.038195  0.803487   \n",
       "...          ...       ...       ...       ...       ...       ...       ...   \n",
       "284802 -0.689256  4.626942 -0.924459  1.107641  1.991691  0.510632 -0.682920   \n",
       "284803  1.214756 -0.675143  1.164931 -0.711757 -0.025693 -1.221179 -1.545556   \n",
       "284804 -0.183699 -0.510602  1.329284  0.140716  0.313502  0.395652 -0.577252   \n",
       "284805 -1.042082  0.449624  1.962563 -0.608577  0.509928  1.113981  2.897849   \n",
       "284806 -0.188093 -0.084316  0.041333 -0.302620 -0.660377  0.167430 -0.256117   \n",
       "\n",
       "             V20       V21       V22       V23       V24       V25       V26  \\\n",
       "0       0.251412 -0.018307  0.277838 -0.110474  0.066928  0.128539 -0.189115   \n",
       "1      -0.069083 -0.225775 -0.638672  0.101288 -0.339846  0.167170  0.125895   \n",
       "2       0.524980  0.247998  0.771679  0.909412 -0.689281 -0.327642 -0.139097   \n",
       "3      -0.208038 -0.108300  0.005274 -0.190321 -1.175575  0.647376 -0.221929   \n",
       "4       0.408542 -0.009431  0.798278 -0.137458  0.141267 -0.206010  0.502292   \n",
       "...          ...       ...       ...       ...       ...       ...       ...   \n",
       "284802  1.475829  0.213454  0.111864  1.014480 -0.509348  1.436807  0.250034   \n",
       "284803  0.059616  0.214205  0.924384  0.012463 -1.016226 -0.606624 -0.395255   \n",
       "284804  0.001396  0.232045  0.578229 -0.037501  0.640134  0.265745 -0.087371   \n",
       "284805  0.127434  0.265245  0.800049 -0.163298  0.123205 -0.569159  0.546668   \n",
       "284806  0.382948  0.261057  0.643078  0.376777  0.008797 -0.473649 -0.818267   \n",
       "\n",
       "             V27       V28  Amount  Class  \n",
       "0       0.133558 -0.021053  149.62      0  \n",
       "1      -0.008983  0.014724    2.69      0  \n",
       "2      -0.055353 -0.059752  378.66      0  \n",
       "3       0.062723  0.061458  123.50      0  \n",
       "4       0.219422  0.215153   69.99      0  \n",
       "...          ...       ...     ...    ...  \n",
       "284802  0.943651  0.823731    0.77      0  \n",
       "284803  0.068472 -0.053527   24.79      0  \n",
       "284804  0.004455 -0.026561   67.88      0  \n",
       "284805  0.108821  0.104533   10.00      0  \n",
       "284806 -0.002415  0.013649  217.00      0  \n",
       "\n",
       "[284807 rows x 31 columns]"
      ]
     },
     "execution_count": 3,
     "metadata": {},
     "output_type": "execute_result"
    }
   ],
   "source": [
    "df"
   ]
  },
  {
   "cell_type": "markdown",
   "metadata": {
    "id": "St9c_rxKs9BK"
   },
   "source": [
    "Наши данные были анонимизированы. Мы имеем 30 признаков, из которых 28 - это результаты PCA-преобразования на исходном датасете. Еще 2 признака представляют собой время в секундах, прошедшее с момента первой транзакции в датасете, и размер транзакции. Скажите, какова доля положительных объектов в выборке?"
   ]
  },
  {
   "cell_type": "code",
   "execution_count": 5,
   "metadata": {
    "id": "w5P1I6lgs9BL"
   },
   "outputs": [
    {
     "data": {
      "text/plain": [
       "0    0.998273\n",
       "1    0.001727\n",
       "Name: Class, dtype: float64"
      ]
     },
     "execution_count": 5,
     "metadata": {},
     "output_type": "execute_result"
    }
   ],
   "source": [
    "df['Class'].value_counts(True)"
   ]
  },
  {
   "cell_type": "markdown",
   "metadata": {
    "id": "eu2TTGCws9BL"
   },
   "source": [
    "Начнем с обработки времени. Секунды сами по себе не несут большой информации о зависимостях в данных, попробуйте по ним создать признаки \"час\" (от 0 до 23) и \"день\" (от 0 до ...) в аналогичной манере (принимая первый объект выборки за начальную точку). Сколько дней покрывают данные?\n",
    "\n",
    "Почти 2 полных дня"
   ]
  },
  {
   "cell_type": "code",
   "execution_count": 6,
   "metadata": {},
   "outputs": [
    {
     "data": {
      "text/plain": [
       "1.9999074074074075"
      ]
     },
     "execution_count": 6,
     "metadata": {},
     "output_type": "execute_result"
    }
   ],
   "source": [
    "172792 / 60 / 60 / 24"
   ]
  },
  {
   "cell_type": "code",
   "execution_count": 3,
   "metadata": {
    "id": "FW414k0js9BL"
   },
   "outputs": [],
   "source": [
    "df['Hours'] = df['Time'] // 60 // 60\n",
    "df['Days'] = df['Hours'] // 24"
   ]
  },
  {
   "cell_type": "code",
   "execution_count": 8,
   "metadata": {},
   "outputs": [
    {
     "data": {
      "text/html": [
       "<div>\n",
       "<style scoped>\n",
       "    .dataframe tbody tr th:only-of-type {\n",
       "        vertical-align: middle;\n",
       "    }\n",
       "\n",
       "    .dataframe tbody tr th {\n",
       "        vertical-align: top;\n",
       "    }\n",
       "\n",
       "    .dataframe thead th {\n",
       "        text-align: right;\n",
       "    }\n",
       "</style>\n",
       "<table border=\"1\" class=\"dataframe\">\n",
       "  <thead>\n",
       "    <tr style=\"text-align: right;\">\n",
       "      <th></th>\n",
       "      <th>Time</th>\n",
       "      <th>Hours</th>\n",
       "      <th>Days</th>\n",
       "    </tr>\n",
       "  </thead>\n",
       "  <tbody>\n",
       "    <tr>\n",
       "      <th>0</th>\n",
       "      <td>0.0</td>\n",
       "      <td>0.0</td>\n",
       "      <td>0.0</td>\n",
       "    </tr>\n",
       "    <tr>\n",
       "      <th>1</th>\n",
       "      <td>0.0</td>\n",
       "      <td>0.0</td>\n",
       "      <td>0.0</td>\n",
       "    </tr>\n",
       "    <tr>\n",
       "      <th>2</th>\n",
       "      <td>1.0</td>\n",
       "      <td>0.0</td>\n",
       "      <td>0.0</td>\n",
       "    </tr>\n",
       "    <tr>\n",
       "      <th>3</th>\n",
       "      <td>1.0</td>\n",
       "      <td>0.0</td>\n",
       "      <td>0.0</td>\n",
       "    </tr>\n",
       "    <tr>\n",
       "      <th>4</th>\n",
       "      <td>2.0</td>\n",
       "      <td>0.0</td>\n",
       "      <td>0.0</td>\n",
       "    </tr>\n",
       "    <tr>\n",
       "      <th>...</th>\n",
       "      <td>...</td>\n",
       "      <td>...</td>\n",
       "      <td>...</td>\n",
       "    </tr>\n",
       "    <tr>\n",
       "      <th>284802</th>\n",
       "      <td>172786.0</td>\n",
       "      <td>47.0</td>\n",
       "      <td>1.0</td>\n",
       "    </tr>\n",
       "    <tr>\n",
       "      <th>284803</th>\n",
       "      <td>172787.0</td>\n",
       "      <td>47.0</td>\n",
       "      <td>1.0</td>\n",
       "    </tr>\n",
       "    <tr>\n",
       "      <th>284804</th>\n",
       "      <td>172788.0</td>\n",
       "      <td>47.0</td>\n",
       "      <td>1.0</td>\n",
       "    </tr>\n",
       "    <tr>\n",
       "      <th>284805</th>\n",
       "      <td>172788.0</td>\n",
       "      <td>47.0</td>\n",
       "      <td>1.0</td>\n",
       "    </tr>\n",
       "    <tr>\n",
       "      <th>284806</th>\n",
       "      <td>172792.0</td>\n",
       "      <td>47.0</td>\n",
       "      <td>1.0</td>\n",
       "    </tr>\n",
       "  </tbody>\n",
       "</table>\n",
       "<p>284807 rows × 3 columns</p>\n",
       "</div>"
      ],
      "text/plain": [
       "            Time  Hours  Days\n",
       "0            0.0    0.0   0.0\n",
       "1            0.0    0.0   0.0\n",
       "2            1.0    0.0   0.0\n",
       "3            1.0    0.0   0.0\n",
       "4            2.0    0.0   0.0\n",
       "...          ...    ...   ...\n",
       "284802  172786.0   47.0   1.0\n",
       "284803  172787.0   47.0   1.0\n",
       "284804  172788.0   47.0   1.0\n",
       "284805  172788.0   47.0   1.0\n",
       "284806  172792.0   47.0   1.0\n",
       "\n",
       "[284807 rows x 3 columns]"
      ]
     },
     "execution_count": 8,
     "metadata": {},
     "output_type": "execute_result"
    }
   ],
   "source": [
    "df[['Time', 'Hours', 'Days']]"
   ]
  },
  {
   "cell_type": "markdown",
   "metadata": {
    "id": "QU5oagixs9BL"
   },
   "source": [
    "Постройте следующие графики:\n",
    "\n",
    "1. Распределение числа транзакций по каждому часу (line-plot).\n",
    "2. Распределение доли мошеннических транзакций по каждому часу (line-plot)\n",
    "3. То же самое для дней (здесь можно использовать bar-plot, так как дней должно быть немного).\n",
    "\n",
    "Какие выводы можно сделать из графиков? На ваш взгляд, как можно связать полученные нами часы с реальными часами в сутках?\n",
    "\n",
    "Доля мошеннических операций сильно выше при низком количестве транзакций. Это может говорить о том, что мошенники работают в периоды низкой активности клиентов. Однако, так как доля растет просто так при низком числе транзакций в конкретный час, то можно предположить, что число мошеннических транзакций примерно одинаково в каждый час. \\\n",
    "Если смотреть на абсолютное число таких транзакций, то видно, что ночью они колеблются в районе 10 с большой дисперсией, тогда как днем их дисперсия снижается и график становится более гладким.\n",
    "\n",
    "Можно предположить, что количество транзакций минимально примерно в 5 часов утра, тогда почасовой график транзакций совпадает с реальными часами в сутках. Периоды наибольшей активности как раз приходятся на часы с 10 до 20, то есть днем, тогда как после полуночи количество транзакций резко сокращается. \n",
    "\n",
    "Наибольший объем транзакций приходится на утро, достигая максимума в 10 часов утра, то есть в самое начало рабочего дня, тогда как к вечеру объемы снижаются, при этом количество транзакций растет."
   ]
  },
  {
   "cell_type": "code",
   "execution_count": 74,
   "metadata": {
    "scrolled": false
   },
   "outputs": [
    {
     "data": {
      "image/png": "[encoded data removed]",
      "text/plain": [
       "<Figure size 864x288 with 2 Axes>"
      ]
     },
     "metadata": {},
     "output_type": "display_data"
    }
   ],
   "source": [
    "fig, axs = plt.subplots(1, 2, sharex=True, figsize=(6*2, 4))\n",
    "\n",
    "axs[0].plot(df['Hours'].value_counts().sort_index())\n",
    "axs[0].set_title('Распределение количества транзакций по часам')\n",
    "axs[0].set(xlabel='Hours')\n",
    "\n",
    "axs[1].plot(df.groupby('Hours')['Amount'].sum())\n",
    "axs[1].set_title('Распределение объема транзакций по часам')\n",
    "axs[1].set(xlabel='Hours');"
   ]
  },
  {
   "cell_type": "code",
   "execution_count": 85,
   "metadata": {
    "id": "DGozHHXxs9BM",
    "scrolled": true
   },
   "outputs": [
    {
     "data": {
      "image/png": "[encoded data removed]",
      "text/plain": [
       "<Figure size 864x288 with 2 Axes>"
      ]
     },
     "metadata": {},
     "output_type": "display_data"
    }
   ],
   "source": [
    "fig, axs = plt.subplots(1, 2, sharex=True, figsize=(6*2, 4))\n",
    "\n",
    "axs[0].plot(df.groupby('Hours')['Class'].mean())\n",
    "axs[0].set_title('Распределение доли класса 1 по часам')\n",
    "axs[0].set(xlabel='Hours')\n",
    "\n",
    "axs[1].plot(df.groupby('Hours')['Class'].sum())\n",
    "axs[1].set_title('Распределение количества класса 1 по часам')\n",
    "axs[1].set(xlabel='Hours');"
   ]
  },
  {
   "cell_type": "code",
   "execution_count": 198,
   "metadata": {
    "scrolled": false
   },
   "outputs": [
    {
     "data": {
      "image/png": "[encoded data removed]",
      "text/plain": [
       "<Figure size 432x288 with 1 Axes>"
      ]
     },
     "metadata": {},
     "output_type": "display_data"
    }
   ],
   "source": [
    "plt.title('Распределение доли класса 1 по дням')\n",
    "\n",
    "sns.barplot(x=['Day 1', 'Day 2'], y=df.groupby('Days')['Class'].mean(), color='b');"
   ]
  },
  {
   "cell_type": "code",
   "execution_count": 197,
   "metadata": {},
   "outputs": [
    {
     "data": {
      "text/html": [
       "<svg  width=\"550\" height=\"55\"><rect x=\"0\" y=\"0\" width=\"55\" height=\"55\" style=\"fill:#4c72b0;stroke-width:2;stroke:rgb(255,255,255)\"/><rect x=\"55\" y=\"0\" width=\"55\" height=\"55\" style=\"fill:#dd8452;stroke-width:2;stroke:rgb(255,255,255)\"/><rect x=\"110\" y=\"0\" width=\"55\" height=\"55\" style=\"fill:#55a868;stroke-width:2;stroke:rgb(255,255,255)\"/><rect x=\"165\" y=\"0\" width=\"55\" height=\"55\" style=\"fill:#c44e52;stroke-width:2;stroke:rgb(255,255,255)\"/><rect x=\"220\" y=\"0\" width=\"55\" height=\"55\" style=\"fill:#8172b3;stroke-width:2;stroke:rgb(255,255,255)\"/><rect x=\"275\" y=\"0\" width=\"55\" height=\"55\" style=\"fill:#937860;stroke-width:2;stroke:rgb(255,255,255)\"/><rect x=\"330\" y=\"0\" width=\"55\" height=\"55\" style=\"fill:#da8bc3;stroke-width:2;stroke:rgb(255,255,255)\"/><rect x=\"385\" y=\"0\" width=\"55\" height=\"55\" style=\"fill:#8c8c8c;stroke-width:2;stroke:rgb(255,255,255)\"/><rect x=\"440\" y=\"0\" width=\"55\" height=\"55\" style=\"fill:#ccb974;stroke-width:2;stroke:rgb(255,255,255)\"/><rect x=\"495\" y=\"0\" width=\"55\" height=\"55\" style=\"fill:#64b5cd;stroke-width:2;stroke:rgb(255,255,255)\"/></svg>"
      ],
      "text/plain": [
       "[(0.2980392156862745, 0.4470588235294118, 0.6901960784313725),\n",
       " (0.8666666666666667, 0.5176470588235295, 0.3215686274509804),\n",
       " (0.3333333333333333, 0.6588235294117647, 0.40784313725490196),\n",
       " (0.7686274509803922, 0.3058823529411765, 0.3215686274509804),\n",
       " (0.5058823529411764, 0.4470588235294118, 0.7019607843137254),\n",
       " (0.5764705882352941, 0.47058823529411764, 0.3764705882352941),\n",
       " (0.8549019607843137, 0.5450980392156862, 0.7647058823529411),\n",
       " (0.5490196078431373, 0.5490196078431373, 0.5490196078431373),\n",
       " (0.8, 0.7254901960784313, 0.4549019607843137),\n",
       " (0.39215686274509803, 0.7098039215686275, 0.803921568627451)]"
      ]
     },
     "execution_count": 197,
     "metadata": {},
     "output_type": "execute_result"
    }
   ],
   "source": [
    "sns.color_palette()"
   ]
  },
  {
   "cell_type": "markdown",
   "metadata": {
    "id": "kl7hLlhBs9BM"
   },
   "source": [
    "С анонимизированными признаками вряд ли можно придумать что-то интересное. Попробуйте (например, с помощью корреляции?) выбрать несколько наиболее важных признаков и поглядеть на различия в их распределении для разных классов."
   ]
  },
  {
   "cell_type": "code",
   "execution_count": 159,
   "metadata": {},
   "outputs": [
    {
     "data": {
      "text/plain": [
       "V10      0.216883\n",
       "V12      0.260593\n",
       "V14      0.302544\n",
       "V17      0.326481\n",
       "Class    1.000000\n",
       "dtype: float64"
      ]
     },
     "execution_count": 159,
     "metadata": {},
     "output_type": "execute_result"
    }
   ],
   "source": [
    "corr_y = df.corrwith(df['Class']).abs().sort_values()[-5:]\n",
    "corr_y"
   ]
  },
  {
   "cell_type": "code",
   "execution_count": 208,
   "metadata": {
    "scrolled": false
   },
   "outputs": [
    {
     "data": {
      "image/png": "[encoded data removed]",
      "text/plain": [
       "<Figure size 1440x864 with 8 Axes>"
      ]
     },
     "metadata": {},
     "output_type": "display_data"
    }
   ],
   "source": [
    "fig, axes = plt.subplots(2, 4, figsize=(4*5, 6*2), sharey='row')\n",
    "fig.suptitle('Distribution of TOP4 correlated features', y=0.92, size=18)\n",
    "\n",
    "for i in range(4):\n",
    "    g0 = sns.histplot(df[df['Class'] == 0][corr_y.index[i]], ax=axes[0, i], color='b')\n",
    "    g0.set(xlim=(-5, 5), ylabel='Class 0')\n",
    "    \n",
    "    g1 = sns.histplot(df[df['Class'] == 1][corr_y.index[i]], ax=axes[1, i], color='r')\n",
    "    g1.set(xlim=(None, None), ylabel='Class 1')"
   ]
  },
  {
   "cell_type": "markdown",
   "metadata": {},
   "source": [
    "Видно, что для обычных операций среднее значение главных компонент около нуля, тогда как для мошеннических явно меньше нуля."
   ]
  },
  {
   "cell_type": "markdown",
   "metadata": {
    "id": "CxCb9nars9BM"
   },
   "source": [
    "Теперь давайте разделим данные. Отделите хронологически последние 20% транзакций и поделите их пополам (также хронологически, т.е. без перемешивания) на валидационные и тестовые. Это разбиение не совсем корректно (как можно было заметить, мошеннические транзакции имеют разное распределение во времени - по-хорошему, нам стоило бы выделить целые сутки записей как под валидацию, так и под тест), тем не менее, мы не сможем получить больше данных для адекватного контроля, поэтому обойдемся этим. "
   ]
  },
  {
   "cell_type": "code",
   "execution_count": 227,
   "metadata": {
    "id": "9XXA9XDjs9BN",
    "scrolled": true
   },
   "outputs": [
    {
     "data": {
      "text/plain": [
       "True"
      ]
     },
     "execution_count": 227,
     "metadata": {},
     "output_type": "execute_result"
    }
   ],
   "source": [
    "(df.sort_values('Time', kind='stable', ignore_index=True) == df).all().all()"
   ]
  },
  {
   "cell_type": "code",
   "execution_count": 4,
   "metadata": {},
   "outputs": [
    {
     "data": {
      "text/plain": [
       "28480"
      ]
     },
     "execution_count": 4,
     "metadata": {},
     "output_type": "execute_result"
    }
   ],
   "source": [
    "split = int(df.shape[0] * 0.1)\n",
    "split"
   ]
  },
  {
   "cell_type": "code",
   "execution_count": 5,
   "metadata": {},
   "outputs": [],
   "source": [
    "X = df.drop('Class', axis=1)\n",
    "y = df['Class']"
   ]
  },
  {
   "cell_type": "code",
   "execution_count": 6,
   "metadata": {},
   "outputs": [],
   "source": [
    "X_train, y_train = X.iloc[:-split*2], y.iloc[:-split*2]\n",
    "X_val, y_val  = X.iloc[-split*2:-split], y.iloc[-split*2:-split]\n",
    "X_test, y_test = X.iloc[-split:], y.iloc[-split:]"
   ]
  },
  {
   "cell_type": "markdown",
   "metadata": {
    "id": "a06ZUN0Ms9BN"
   },
   "source": [
    "# Часть 1. Несбалансированная классификация."
   ]
  },
  {
   "cell_type": "markdown",
   "metadata": {
    "id": "h6Gaot3Fs9BN"
   },
   "source": [
    "**Задание 0. (1 балл)**: перед началом работы давайте поговорим о том, как мы будем оценивать качество. Классические метрики для качества классификации чаще всего \"ломаются\" на задачах с сильным перекосом. Чему будет равно значение accuracy для наивного предсказания (= мажорный класс для каждого объекта)? (можете не отвечать, просто подумайте)\n",
    "\n",
    "Из курса МО-1 вам уже известно, что мы можем использовать в таких задачах `AUC-PR` и получать адекватные показатели. Можно сказать, что `AUC-PR` представляет собой матожидание `precision` по распределению, заданному выигрышем в `recall` при смене порога. "
   ]
  },
  {
   "cell_type": "code",
   "execution_count": 7,
   "metadata": {},
   "outputs": [],
   "source": [
    "np.random.seed(2022)"
   ]
  },
  {
   "cell_type": "code",
   "execution_count": 8,
   "metadata": {},
   "outputs": [
    {
     "data": {
      "text/plain": [
       "0.9992275280898877"
      ]
     },
     "execution_count": 8,
     "metadata": {},
     "output_type": "execute_result"
    }
   ],
   "source": [
    "(y_test == 0).mean()"
   ]
  },
  {
   "cell_type": "code",
   "execution_count": 9,
   "metadata": {},
   "outputs": [],
   "source": [
    "from sklearn.metrics import auc, precision_recall_curve\n",
    "\n",
    "def auc_pr(y_test, y_probas):\n",
    "    precision, recall, _ = precision_recall_curve(y_test, y_probas)\n",
    "    return auc(recall, precision)"
   ]
  },
  {
   "cell_type": "markdown",
   "metadata": {
    "id": "haRPLskDs9BO"
   },
   "source": [
    "Тем не менее, существуют и другие, не менее интересные метрики. Одной из таких метрик является коэффициент Каппа Коэна, представляющий собой нормализованную `accuracy`:\n",
    "\n",
    "$$\\kappa = \\frac{p_o - p_e}{1 - p_e}$$\n",
    "\n",
    "Данная метрика служит в качестве меры согласованности между двумя независимыми предсказателями, но ничего не знает про \"верные\" и \"предсказанные\" метки (в отличие от многих других метрик машинного обучения). Здесь $p_o$ - доля согласованных предсказаний, а $p_e$ - доля согласованных предсказаний, которая могла бы получиться при случайных ответах предсказателей. В нашем случае это работает так:\n",
    "\n",
    "• В качестве $p_o$ берем accuracy\n",
    "\n",
    "• В качестве $p_e$ примем следующую величину - вероятность случайного соглашения позитивных ответов (произведение долей позитивных ответов в обоих предсказаниях) плюс вероятность случайного соглашения негативных ответов (произведение долей негативных ответов в обоих предсказаниях)\n",
    "\n",
    "Метрика принимает значения от -1 до 1, где 1 - полная согласованность, 0 - согласованность на уровне рандома, -1 - совсем плохо. Как уже говорилось, метрика не различает \"верные\" и \"предсказанные\" метки, поэтому является симметричной (можете использовать это для отладки):"
   ]
  },
  {
   "cell_type": "code",
   "execution_count": 10,
   "metadata": {
    "id": "LC4U_7ays9BO"
   },
   "outputs": [],
   "source": [
    "def kappa_cohen(y_test, y_pred):\n",
    "    p_o = (y_pred == y_test).mean()\n",
    "    p_e = (y_pred == 0).mean() * (y_test == 0).mean() + (y_pred == 1).mean() * (y_test == 1).mean()\n",
    "    \n",
    "    return (p_o - p_e) / (1 - p_e)\n",
    "\n",
    "# or from sklearn.metrics import cohen_kappa_score"
   ]
  },
  {
   "cell_type": "markdown",
   "metadata": {
    "id": "vldIZwrMs9BP"
   },
   "source": [
    "Еще одной метрикой в такой задаче служит коэффициент корреляции Мэтьюза, выражающийся в терминах матрицы ошибок следующим образом:\n",
    "\n",
    "$$\\text{MCC} = \\frac{TP\\times TN - FP \\times FN}{\\sqrt{(TP+FP)(TP+FN)(TN+FP)(TN+FN)}}$$ \n",
    "\n",
    "Метрика принимает значения от -1 до 1, интерпретируемые аналогичным образом. "
   ]
  },
  {
   "cell_type": "code",
   "execution_count": 11,
   "metadata": {
    "id": "rsKSZScts9BP"
   },
   "outputs": [],
   "source": [
    "from sklearn.metrics import confusion_matrix\n",
    "\n",
    "def mcc(y_test, y_pred):\n",
    "    eps = 1\n",
    "    tn, fp, fn, tp = confusion_matrix(y_test, y_pred).ravel()\n",
    "    return (tp * tn - fp * fn) / np.sqrt((tp + fp) * (tp + fn) * (tn + fp) * (tn + fn) + eps)"
   ]
  },
  {
   "cell_type": "markdown",
   "metadata": {
    "id": "GaOHYiZPs9BP"
   },
   "source": [
    "Обратите внимание, что эти метрики вычисляются на бинаризованных предсказаниях, поэтому может иметь смысл дополнительная настройка порога бинаризации."
   ]
  },
  {
   "cell_type": "markdown",
   "metadata": {
    "id": "TBsLuK2ds9BQ"
   },
   "source": [
    "Давайте проверим, что наши метрики действительно подходят под задачу. Вычислите их значения для наивного предсказания (aka мажорный класс для всех объектов):"
   ]
  },
  {
   "cell_type": "code",
   "execution_count": 12,
   "metadata": {},
   "outputs": [
    {
     "name": "stdout",
     "output_type": "stream",
     "text": [
      "AUC PR:\t 0.5003862359550562\n",
      "Kappa:\t 0.0\n",
      "MCC:\t 0.0\n"
     ]
    }
   ],
   "source": [
    "y_pred = np.array([0] * split)\n",
    "\n",
    "def results(y_true, y_pred):\n",
    "    print(f'AUC PR:\\t {auc_pr(y_true, y_pred)}')\n",
    "    print(f'Kappa:\\t {kappa_cohen(y_true, y_pred)}')\n",
    "    print(f'MCC:\\t {mcc(y_true, y_pred)}')\n",
    "\n",
    "results(y_test, y_pred)"
   ]
  },
  {
   "cell_type": "markdown",
   "metadata": {
    "id": "nwryyw3ts9BQ"
   },
   "source": [
    "Давайте запустим бейзлайн-решение для нашей задачи. С чего же начнем? Возьмите `catboost` и обучите его классификатор на наших данных (используйте все признаки). Вычислите значения всех метрик на тестовой части, для контроля переобучения используйте валидационную (здесь и далее везде, где фигурирует `catboost`). "
   ]
  },
  {
   "cell_type": "code",
   "execution_count": 306,
   "metadata": {
    "scrolled": false
   },
   "outputs": [],
   "source": [
    "# !pip install catboost"
   ]
  },
  {
   "cell_type": "code",
   "execution_count": 359,
   "metadata": {
    "id": "C3R-MRd7s9BQ",
    "scrolled": false
   },
   "outputs": [
    {
     "data": {
      "application/vnd.jupyter.widget-view+json": {
       "model_id": "db2c75b1e83f41c2a77c002fb783fd2a",
       "version_major": 2,
       "version_minor": 0
      },
      "text/plain": [
       "  0%|          | 0/3 [00:00<?, ?it/s]"
      ]
     },
     "metadata": {},
     "output_type": "display_data"
    },
    {
     "name": "stdout",
     "output_type": "stream",
     "text": [
      "\t lr = 1, depth = 5\n",
      "AUC PR:\t 0.8653915989518969\n",
      "Kappa:\t 0.850821655703036\n",
      "MCC:\t 0.8578635968831203\n",
      "\t lr = 1, depth = 7\n",
      "AUC PR:\t 0.8653915989518969\n",
      "Kappa:\t 0.850821655703036\n",
      "MCC:\t 0.8578635968831203\n",
      "\t lr = 1, depth = 9\n",
      "AUC PR:\t 0.858753908734365\n",
      "Kappa:\t 0.8349082488680916\n",
      "MCC:\t 0.8465240717550727\n"
     ]
    },
    {
     "data": {
      "application/vnd.jupyter.widget-view+json": {
       "model_id": "e965d24743b2433fbe4cef0e18f55a62",
       "version_major": 2,
       "version_minor": 0
      },
      "text/plain": [
       "  0%|          | 0/3 [00:00<?, ?it/s]"
      ]
     },
     "metadata": {},
     "output_type": "display_data"
    },
    {
     "name": "stdout",
     "output_type": "stream",
     "text": [
      "\t lr = 0.1, depth = 5\n",
      "AUC PR:\t 0.8459333959138523\n",
      "Kappa:\t 0.8258121287785526\n",
      "MCC:\t 0.8355744143393784\n",
      "\t lr = 0.1, depth = 7\n",
      "AUC PR:\t 0.8775867209031164\n",
      "Kappa:\t 0.8599909242172248\n",
      "MCC:\t 0.8685459101180174\n",
      "\t lr = 0.1, depth = 9\n",
      "AUC PR:\t 0.8681703148187407\n",
      "Kappa:\t 0.8475856126812334\n",
      "MCC:\t 0.8576052920972796\n"
     ]
    },
    {
     "data": {
      "application/vnd.jupyter.widget-view+json": {
       "model_id": "650ba0245ea0437ca9f79596708a390a",
       "version_major": 2,
       "version_minor": 0
      },
      "text/plain": [
       "  0%|          | 0/3 [00:00<?, ?it/s]"
      ]
     },
     "metadata": {},
     "output_type": "display_data"
    },
    {
     "name": "stdout",
     "output_type": "stream",
     "text": [
      "\t lr = 0.01, depth = 5\n",
      "AUC PR:\t 0.8399210965656136\n",
      "Kappa:\t 0.8087007646279862\n",
      "MCC:\t 0.8239170598346655\n",
      "\t lr = 0.01, depth = 7\n",
      "AUC PR:\t 0.8399210965656136\n",
      "Kappa:\t 0.8087007646279862\n",
      "MCC:\t 0.8239170598346655\n",
      "\t lr = 0.01, depth = 9\n",
      "AUC PR:\t 0.8399210965656136\n",
      "Kappa:\t 0.8087007646279862\n",
      "MCC:\t 0.8239170598346655\n"
     ]
    }
   ],
   "source": [
    "from catboost import CatBoostClassifier\n",
    "\n",
    "for lr in [1, 0.1, 0.01]:\n",
    "    for d in tqdm([5, 7, 9]):\n",
    "        based = CatBoostClassifier(iterations=100,\n",
    "                                   learning_rate=lr, \n",
    "                                   depth=d, \n",
    "                                   verbose=0).fit(X_train, y_train)\n",
    "        y_pred = based.predict(X_val)\n",
    "\n",
    "        print(f'\\t lr = {lr}, depth = {d}')\n",
    "        results(y_val, y_pred)"
   ]
  },
  {
   "cell_type": "code",
   "execution_count": 360,
   "metadata": {
    "id": "ZFFhboVQs9BR"
   },
   "outputs": [
    {
     "name": "stdout",
     "output_type": "stream",
     "text": [
      "AUC PR:\t 0.7072111565089093\n",
      "Kappa:\t 0.6997912874821827\n",
      "MCC:\t 0.703321650936739\n"
     ]
    }
   ],
   "source": [
    "based = CatBoostClassifier(iterations=100,\n",
    "                           learning_rate=0.1, \n",
    "                           depth=7, \n",
    "                           verbose=0).fit(X_train, y_train)\n",
    "y_pred = based.predict(X_test)\n",
    "results(y_test, y_pred)"
   ]
  },
  {
   "cell_type": "markdown",
   "metadata": {
    "id": "zs-ZjQDLs9BR"
   },
   "source": [
    "Если вы все сделали правильно, у вас должны были получиться значения в районе 0.7."
   ]
  },
  {
   "cell_type": "markdown",
   "metadata": {
    "id": "slOmV65fs9BR"
   },
   "source": [
    "**Задание 1. (1 балл)**. Многие реализации методов предлагают встроенные способы для борьбы с нашей проблемой. Самое часто встречающееся решение - просто добавить вес в функции потерь для минорного класса (таким образом, ошибка на объекте минорного класса будет весить больше, чем для мажорного). В `catboost` это также реализовано, причем для бинарной задачи это можно сделать целыми двумя способами (можете выбрать любой, на свой вкус, автор задания предпочитает отдельный скейлинг для минорного класса). Чаще всего в качестве веса берется отношение числа объектов мажорного класса к числу минорного. Попробуйте обучить модель с таким скалированием и сравните метрики на тестовой части с бейзлайном."
   ]
  },
  {
   "cell_type": "code",
   "execution_count": 355,
   "metadata": {},
   "outputs": [
    {
     "data": {
      "text/plain": [
       "545.3956834532374"
      ]
     },
     "execution_count": 355,
     "metadata": {},
     "output_type": "execute_result"
    }
   ],
   "source": [
    "weight = (y_train == 0).sum() / y_train.sum()\n",
    "weight"
   ]
  },
  {
   "cell_type": "code",
   "execution_count": 357,
   "metadata": {},
   "outputs": [
    {
     "name": "stdout",
     "output_type": "stream",
     "text": [
      "\t lr = 1, depth = 2: AUC PR 0.6105978439181481\n",
      "\t lr = 1, depth = 5: AUC PR 0.7360948431206275\n",
      "\t lr = 1, depth = 7: AUC PR 0.7163846005330264\n",
      "\t lr = 0.1, depth = 2: AUC PR 0.5288673366667292\n",
      "\t lr = 0.1, depth = 5: AUC PR 0.6543827800232277\n",
      "\t lr = 0.1, depth = 7: AUC PR 0.8432280437101656\n",
      "\t lr = 0.01, depth = 2: AUC PR 0.5272213751508771\n",
      "\t lr = 0.01, depth = 5: AUC PR 0.5570281335420553\n",
      "\t lr = 0.01, depth = 7: AUC PR 0.625751824076037\n"
     ]
    }
   ],
   "source": [
    "for lr in [1, 0.1, 0.01]:\n",
    "    for d in [2, 5, 7]:\n",
    "        based = CatBoostClassifier(iterations=100,\n",
    "                                   learning_rate=lr, \n",
    "                                   depth=d, \n",
    "                                   class_weights=(1, weight),\n",
    "                                   verbose=0).fit(X_train, y_train)\n",
    "        y_pred = based.predict(X_val)\n",
    "        print(f'\\t lr = {lr}, depth = {d}: AUC PR {auc_pr(y_val, y_pred)}')"
   ]
  },
  {
   "cell_type": "code",
   "execution_count": 354,
   "metadata": {
    "id": "WLVjSc0As9BR"
   },
   "outputs": [
    {
     "name": "stdout",
     "output_type": "stream",
     "text": [
      "AUC PR:\t 0.6304083673816819\n",
      "Kappa:\t 0.6150414965802498\n",
      "MCC:\t 0.622465370549372\n"
     ]
    }
   ],
   "source": [
    "based = CatBoostClassifier(iterations=100,\n",
    "                           learning_rate=0.1, \n",
    "                           depth=7, \n",
    "                           verbose=0,\n",
    "                           class_weights=(1, weight)).fit(X_train, y_train)\n",
    "y_pred = based.predict(X_test)\n",
    "results(y_test, y_pred)"
   ]
  },
  {
   "cell_type": "markdown",
   "metadata": {},
   "source": [
    "Качество снизилось (все метрики упали примерно на 10%)."
   ]
  },
  {
   "cell_type": "markdown",
   "metadata": {
    "id": "qwhhGSVVs9BR"
   },
   "source": [
    "Поскольку данный вес будет являться гиперпараметром метода, было бы опрометчиво остановиться на одном значении (тем более, с большой вероятностью у вас все сломалось). Запустите перебор для этого гиперпараметра на валидационной выборке (используйте `PR-AUC`), подберите оптимальный порог бинаризации для $\\kappa$ или $\\text{MCC}$. Для лучшего найденного веса и порога вычислите все метрики на тестовой части. \n",
    "\n",
    "При этом можете также проверить отдельное скалирование в большую сторону для мажорного класса (т.е. веса минорного сделать меньше 1) и экстремальные скалирования (т.е. веса минорного больше, чем в начале этого задания). Какой вес получился оптимальным?"
   ]
  },
  {
   "cell_type": "code",
   "execution_count": 363,
   "metadata": {
    "id": "LluYkXus8OWt"
   },
   "outputs": [
    {
     "name": "stdout",
     "output_type": "stream",
     "text": [
      "\t weight = 0.01, lr = 1, depth = 5: AUC PR 0.5009304775280898\n",
      "\t weight = 0.01, lr = 1, depth = 7: AUC PR 0.5574289140343438\n",
      "\t weight = 0.01, lr = 1, depth = 8: AUC PR 0.5103468836124655\n",
      "\t weight = 0.01, lr = 0.1, depth = 5: AUC PR 0.5009304775280898\n",
      "\t weight = 0.01, lr = 0.1, depth = 7: AUC PR 0.5574289140343438\n",
      "\t weight = 0.01, lr = 0.1, depth = 8: AUC PR 0.5103468836124655\n",
      "\t weight = 0.1, lr = 1, depth = 5: AUC PR 0.8493375026499894\n",
      "\t weight = 0.1, lr = 1, depth = 7: AUC PR 0.858753908734365\n",
      "\t weight = 0.1, lr = 1, depth = 8: AUC PR 0.8305046904812381\n",
      "\t weight = 0.1, lr = 0.1, depth = 5: AUC PR 0.8493375026499894\n",
      "\t weight = 0.1, lr = 0.1, depth = 7: AUC PR 0.858753908734365\n",
      "\t weight = 0.1, lr = 0.1, depth = 8: AUC PR 0.8305046904812381\n",
      "\t weight = 10, lr = 1, depth = 5: AUC PR 0.8529412722023025\n",
      "\t weight = 10, lr = 1, depth = 7: AUC PR 0.8427029999728838\n",
      "\t weight = 10, lr = 1, depth = 8: AUC PR 0.8653915989518969\n",
      "\t weight = 10, lr = 0.1, depth = 5: AUC PR 0.8529412722023025\n",
      "\t weight = 10, lr = 0.1, depth = 7: AUC PR 0.8427029999728838\n",
      "\t weight = 10, lr = 0.1, depth = 8: AUC PR 0.8653915989518969\n",
      "\t weight = 100, lr = 1, depth = 5: AUC PR 0.759002345240619\n",
      "\t weight = 100, lr = 1, depth = 7: AUC PR 0.8637473130340036\n",
      "\t weight = 100, lr = 1, depth = 8: AUC PR 0.8537771970935926\n",
      "\t weight = 100, lr = 0.1, depth = 5: AUC PR 0.759002345240619\n",
      "\t weight = 100, lr = 0.1, depth = 7: AUC PR 0.8637473130340036\n",
      "\t weight = 100, lr = 0.1, depth = 8: AUC PR 0.8537771970935926\n",
      "\t weight = 1000, lr = 1, depth = 5: AUC PR 0.63762498041822\n",
      "\t weight = 1000, lr = 1, depth = 7: AUC PR 0.7967450300653343\n",
      "\t weight = 1000, lr = 1, depth = 8: AUC PR 0.8231733397534495\n",
      "\t weight = 1000, lr = 0.1, depth = 5: AUC PR 0.63762498041822\n",
      "\t weight = 1000, lr = 0.1, depth = 7: AUC PR 0.7967450300653343\n",
      "\t weight = 1000, lr = 0.1, depth = 8: AUC PR 0.8231733397534495\n"
     ]
    }
   ],
   "source": [
    "for weight in [0.01, 0.1, 10, 100, 1000]:\n",
    "    for lr in [1, 0.1]:\n",
    "        for d in [5, 7, 8]:\n",
    "            based = CatBoostClassifier(iterations=100,\n",
    "                                       learning_rate=0.1, \n",
    "                                       depth=d, \n",
    "                                       class_weights=(1, weight),\n",
    "                                       verbose=0).fit(X_train, y_train)\n",
    "            y_pred = based.predict(X_val)\n",
    "            print(f'\\t weight = {weight}, lr = {lr}, depth = {d}: AUC PR {auc_pr(y_val, y_pred)}')"
   ]
  },
  {
   "cell_type": "code",
   "execution_count": 469,
   "metadata": {},
   "outputs": [
    {
     "name": "stdout",
     "output_type": "stream",
     "text": [
      "AUC PR:\t 0.7446940816673963\n",
      "Kappa:\t 0.7439928872385557\n",
      "MCC:\t 0.7441944609764755\n"
     ]
    }
   ],
   "source": [
    "based = CatBoostClassifier(iterations=100,\n",
    "                           learning_rate=0.1, \n",
    "                           depth=7, \n",
    "                           verbose=0,\n",
    "                           class_weights=(1, 10)).fit(X_train, y_train)\n",
    "y_pred = based.predict(X_test)\n",
    "results(y_test, y_pred)"
   ]
  },
  {
   "cell_type": "code",
   "execution_count": 459,
   "metadata": {
    "scrolled": true
   },
   "outputs": [],
   "source": [
    "y_probas = based.predict_proba(X_val)\n",
    "_, _, thresholds = precision_recall_curve(y_test, y_probas[:, 1])"
   ]
  },
  {
   "cell_type": "code",
   "execution_count": 451,
   "metadata": {},
   "outputs": [
    {
     "data": {
      "application/vnd.jupyter.widget-view+json": {
       "model_id": "1984ed0fc05b413cad7d6d500bd4b525",
       "version_major": 2,
       "version_minor": 0
      },
      "text/plain": [
       "  0%|          | 0/27509 [00:00<?, ?it/s]"
      ]
     },
     "metadata": {},
     "output_type": "display_data"
    }
   ],
   "source": [
    "kappa_dct, mcc_dct = {}, {}\n",
    "\n",
    "for t in tqdm(thresholds):\n",
    "    y_pred = y_probas[:, 1] > t\n",
    "    kappa_dct[t] = kappa_cohen(y_val, y_pred)\n",
    "    mcc_dct[t] = mcc(y_val, y_pred)"
   ]
  },
  {
   "cell_type": "code",
   "execution_count": 453,
   "metadata": {},
   "outputs": [
    {
     "data": {
      "text/plain": [
       "0.850821655703036"
      ]
     },
     "execution_count": 453,
     "metadata": {},
     "output_type": "execute_result"
    }
   ],
   "source": [
    "max(kappa_dct.values())"
   ]
  },
  {
   "cell_type": "code",
   "execution_count": 455,
   "metadata": {},
   "outputs": [
    {
     "name": "stdout",
     "output_type": "stream",
     "text": [
      "Max Kappa: 0.850821655703036, threshold = 0.42880829212730515\n",
      "Max MCC: 0.8578635968831203, threshold = 0.42880829212730515\n"
     ]
    }
   ],
   "source": [
    "print(f'Max Kappa: {kappa_dct[max(kappa_dct, key=kappa_dct.get)]}, threshold = {max(kappa_dct, key=kappa_dct.get)}' )\n",
    "print(f'Max MCC: {mcc_dct[max(mcc_dct, key=kappa_dct.get)]}, threshold = {max(mcc_dct, key=mcc_dct.get)}' )"
   ]
  },
  {
   "cell_type": "code",
   "execution_count": 460,
   "metadata": {},
   "outputs": [
    {
     "name": "stdout",
     "output_type": "stream",
     "text": [
      "Max Kappa Test: 0.7270618902497477\n",
      "Max MCC Test: 0.7270618902488186\n"
     ]
    }
   ],
   "source": [
    "y_pred = based.predict_proba(X_test)[:, 1] > max(kappa_dct, key=kappa_dct.get)\n",
    "print(f'Max Kappa Test: {kappa_cohen(y_test, y_pred)}')\n",
    "print(f'Max MCC Test: {mcc(y_test, y_pred)}')"
   ]
  },
  {
   "cell_type": "markdown",
   "metadata": {
    "id": "6SaQ-j2Ss9BS"
   },
   "source": [
    "**Задание 2. (1 балл)**. На самом деле, то, что мы сейчас делали, очень схоже с другой распространенной техникой - оверсэмплингом. Фактически, мы можем продублировать все объекты минорного класса и получить тот же эффект, какой был бы при использовании веса, равного 2. Тем не менее, такой подход - это лишь малая часть того, что мы можем проделать с целью повысить число объектов минорного класса. \n",
    "\n",
    "Для продолжения работы установим библиотеку [imbalanced-learn](https://imbalanced-learn.org/stable/):"
   ]
  },
  {
   "cell_type": "code",
   "execution_count": 461,
   "metadata": {
    "id": "oHL5jywds9BS"
   },
   "outputs": [],
   "source": [
    "# !pip3 install imbalanced-learn"
   ]
  },
  {
   "cell_type": "markdown",
   "metadata": {
    "id": "A-dF_oXps9BS"
   },
   "source": [
    "Первый метод, которым мы воспользуемся, называется SMOTE (его вы уже разбирали на лекции). Кратко напомним суть: мы выбираем случайного кандидата среди $k$ ближайших соседей объекта минорного класса, затем берем точку на отрезке между двумя объектами (т.е. выпуклую комбинацию со случайными коэффициентами) и добавляем в выборку. "
   ]
  },
  {
   "cell_type": "code",
   "execution_count": 466,
   "metadata": {
    "id": "EcWmeujGs9BS"
   },
   "outputs": [
    {
     "data": {
      "text/plain": [
       "(454860, 32)"
      ]
     },
     "execution_count": 466,
     "metadata": {},
     "output_type": "execute_result"
    }
   ],
   "source": [
    "from imblearn.over_sampling import SMOTE\n",
    "\n",
    "sm = SMOTE(random_state=42)\n",
    "X_res, y_res = sm.fit_resample(X_train, y_train)\n",
    "X_res.shape"
   ]
  },
  {
   "cell_type": "markdown",
   "metadata": {
    "id": "Pke-fWMGs9BT"
   },
   "source": [
    "Используйте SMOTE для ресэмплинга обучающей выборки, на новой выборке обучите модель (вес положительных объектов скалировать не нужно). Замерьте качество на тестовой выборке (**важно!** не преобразовывайте валидационную и тестовую выборку никак - мы не хотим отслеживать качество на объектах, которых в реальности не существует). Сравните полное выравнивание выборки с частичным (т.е. таким, что баланс классов улучшается, но не достигает равенства - скажем, 1:2 и 1:10)."
   ]
  },
  {
   "cell_type": "code",
   "execution_count": 470,
   "metadata": {
    "id": "xm3HED1ms9BT"
   },
   "outputs": [
    {
     "name": "stdout",
     "output_type": "stream",
     "text": [
      "AUC PR:\t 0.5637417007150153\n",
      "Kappa:\t 0.5156462585033923\n",
      "MCC:\t 0.5389049049031063\n"
     ]
    }
   ],
   "source": [
    "based = CatBoostClassifier(iterations=100,\n",
    "                           learning_rate=0.1, \n",
    "                           depth=7, \n",
    "                           verbose=0,\n",
    "                           class_weights=(1, 1)).fit(X_res, y_res)\n",
    "y_pred = based.predict(X_test)\n",
    "results(y_test, y_pred)"
   ]
  },
  {
   "cell_type": "code",
   "execution_count": 471,
   "metadata": {},
   "outputs": [
    {
     "name": "stdout",
     "output_type": "stream",
     "text": [
      "AUC PR:\t 0.649455986429301\n",
      "Kappa:\t 0.6396882696265602\n",
      "MCC:\t 0.6443525273921867\n"
     ]
    }
   ],
   "source": [
    "based = CatBoostClassifier(iterations=100,\n",
    "                           learning_rate=0.1, \n",
    "                           depth=7, \n",
    "                           verbose=0,\n",
    "                           class_weights=(1, 0.1)).fit(X_res, y_res)\n",
    "y_pred = based.predict(X_test)\n",
    "results(y_test, y_pred)"
   ]
  },
  {
   "cell_type": "markdown",
   "metadata": {},
   "source": [
    "Полное выравнивание выборки работает хуже, чем частичный оверсемплинг 1 к 10."
   ]
  },
  {
   "cell_type": "markdown",
   "metadata": {
    "id": "f_3MA21rs9BT"
   },
   "source": [
    "**Бонус (1.5 балла)**. Для vanilla SMOTE существуют некоторые модификации, часть из которых была реализована в библиотеке imblearn. Во время лекций/семинаров эти модификации не рассматривались, тем не менее, мы все равно их исследуем.\n",
    "\n",
    "Найдите статьи о следующих методах и попробуйте вкратце сформулировать, в чем их основная идея (сделайте так, чтобы человек, знакомый с машинным обучением в целом, но не слышавший конкретно про это смог понять):\n",
    "\n",
    "* BorderlineSMOTE - в обычном SMOTE есть проблема генерации данных для точек минорного класса, которые появляются в мажорном классе, таким образом синтетические точки генерируются \"чужой территории\". BorderlineSMOTE решает эту проблему, сначала классифицируя точки по k ближайших соседям как **шумовые** (у которых все соседи мажорного класса) и **граничные** (у которых есть соседи обоих классов). И при генерации игнорирует шумовые, учитывая только граничные.\n",
    "\n",
    "* SVM-SMOTE - метод строит решаюущую поверхность с помощю SVM и случайно генерирует точки на прямой, соединяющей k ближайших соседей с опорным вектором минорного класса с помощью интерполяции и экстраполяции, в зависимости от плотности точек мажорного класса.\n",
    "\n",
    "* K-Means-SMOTE - метод кластеризует данные стандартным KMeans и, выбирая кластеры, где много объектов минорного класса генерирует больше синтетических точек в тех кластерах, где минорный класс распределен не плотно (sparsely disributed). Таким образом, в каждом кластере будет свой плотный участок минорного класса.\n",
    "\n",
    "* ADASYN - метод сначала считает для каждой точки минорного класса считает impurity of the neighborhood, которая равна доли объектов мажорного класса среди k соседей. Далее, все дели нормируются к единице, получая тем самым распределение. Чем больше impurity для конкретной точки, тем больше синтетических точек будет для нее построено. \n",
    "\n",
    "Теперь попробуйте сравнить качество всех методов на наших данных."
   ]
  },
  {
   "cell_type": "code",
   "execution_count": 21,
   "metadata": {
    "id": "cw5hLd-6s9BT"
   },
   "outputs": [
    {
     "data": {
      "text/plain": [
       "(454860, 32)"
      ]
     },
     "execution_count": 21,
     "metadata": {},
     "output_type": "execute_result"
    }
   ],
   "source": [
    "from imblearn.over_sampling import BorderlineSMOTE\n",
    "\n",
    "sm = BorderlineSMOTE(random_state=42)\n",
    "X_res, y_res = sm.fit_resample(X_train, y_train)\n",
    "X_res.shape"
   ]
  },
  {
   "cell_type": "code",
   "execution_count": 30,
   "metadata": {},
   "outputs": [
    {
     "name": "stdout",
     "output_type": "stream",
     "text": [
      "AUC PR:\t 0.7637417007150153\n",
      "Kappa:\t 0.7617294692456881\n",
      "MCC:\t 0.7625958561360509\n"
     ]
    }
   ],
   "source": [
    "based = CatBoostClassifier(iterations=100,\n",
    "                           learning_rate=0.1, \n",
    "                           depth=7, \n",
    "                           verbose=0,\n",
    "                           class_weights=(1, 0.1)).fit(X_res, y_res)\n",
    "y_pred = based.predict(X_test)\n",
    "results(y_test, y_pred)"
   ]
  },
  {
   "cell_type": "code",
   "execution_count": 31,
   "metadata": {},
   "outputs": [
    {
     "data": {
      "text/plain": [
       "(454860, 32)"
      ]
     },
     "execution_count": 31,
     "metadata": {},
     "output_type": "execute_result"
    }
   ],
   "source": [
    "from imblearn.over_sampling import SVMSMOTE\n",
    "\n",
    "sm = SVMSMOTE(random_state=42)\n",
    "X_res, y_res = sm.fit_resample(X_train, y_train)\n",
    "X_res.shape"
   ]
  },
  {
   "cell_type": "code",
   "execution_count": 32,
   "metadata": {},
   "outputs": [
    {
     "name": "stdout",
     "output_type": "stream",
     "text": [
      "AUC PR:\t 0.7822084547557531\n",
      "Kappa:\t 0.7690752559523882\n",
      "MCC:\t 0.7754834638215798\n"
     ]
    }
   ],
   "source": [
    "based = CatBoostClassifier(iterations=100,\n",
    "                           learning_rate=0.1, \n",
    "                           depth=7, \n",
    "                           verbose=0,\n",
    "                           class_weights=(1, 0.1)).fit(X_res, y_res)\n",
    "y_pred = based.predict(X_test)\n",
    "results(y_test, y_pred)"
   ]
  },
  {
   "cell_type": "code",
   "execution_count": 40,
   "metadata": {
    "scrolled": true
   },
   "outputs": [
    {
     "data": {
      "text/plain": [
       "(454862, 32)"
      ]
     },
     "execution_count": 40,
     "metadata": {},
     "output_type": "execute_result"
    }
   ],
   "source": [
    "from imblearn.over_sampling import KMeansSMOTE\n",
    "\n",
    "sm = KMeansSMOTE(random_state=42, \n",
    "                 cluster_balance_threshold=(y_train == 1).mean())\n",
    "X_res, y_res = sm.fit_resample(X_train, y_train)\n",
    "X_res.shape"
   ]
  },
  {
   "cell_type": "code",
   "execution_count": 41,
   "metadata": {},
   "outputs": [
    {
     "name": "stdout",
     "output_type": "stream",
     "text": [
      "AUC PR:\t 0.7344412960634871\n",
      "Kappa:\t 0.6855338336204099\n",
      "MCC:\t 0.709416992994846\n"
     ]
    }
   ],
   "source": [
    "based = CatBoostClassifier(iterations=100,\n",
    "                           learning_rate=0.1, \n",
    "                           depth=7, \n",
    "                           verbose=0,\n",
    "                           class_weights=(1, 0.1)).fit(X_res, y_res)\n",
    "y_pred = based.predict(X_test)\n",
    "results(y_test, y_pred)"
   ]
  },
  {
   "cell_type": "code",
   "execution_count": 34,
   "metadata": {},
   "outputs": [
    {
     "data": {
      "text/plain": [
       "(454920, 32)"
      ]
     },
     "execution_count": 34,
     "metadata": {},
     "output_type": "execute_result"
    }
   ],
   "source": [
    "from imblearn.over_sampling import ADASYN\n",
    "\n",
    "sm = ADASYN(random_state=42)\n",
    "X_res, y_res = sm.fit_resample(X_train, y_train)\n",
    "X_res.shape"
   ]
  },
  {
   "cell_type": "code",
   "execution_count": 37,
   "metadata": {},
   "outputs": [
    {
     "name": "stdout",
     "output_type": "stream",
     "text": [
      "AUC PR:\t 0.6137417007150152\n",
      "Kappa:\t 0.5922192602466025\n",
      "MCC:\t 0.6026624065502327\n"
     ]
    }
   ],
   "source": [
    "based = CatBoostClassifier(iterations=100,\n",
    "                           learning_rate=0.1, \n",
    "                           depth=7, \n",
    "                           verbose=0,\n",
    "                           class_weights=(1, 0.1)).fit(X_res, y_res)\n",
    "y_pred = based.predict(X_test)\n",
    "results(y_test, y_pred)"
   ]
  },
  {
   "cell_type": "markdown",
   "metadata": {},
   "source": [
    "Самое лучшее качество показываетт SVMSMOTE."
   ]
  },
  {
   "cell_type": "markdown",
   "metadata": {
    "id": "xvVG5osbs9BU"
   },
   "source": [
    "**Задание 3. (1 балл)**. До этого момента все наши решения концентрировались на работе с минорным классом. Теперь давайте попробуем зайти с другой стороны. Может быть, для восстановления закономерностей нам не нужно столько объектов мажорного класса, и они просто засоряют нам выборку лишней информацией?\n",
    "\n",
    "Для решения этой проблемы существуют методы андерсэмплинга. Самое простое, что можно придумать - удалять точки мажорного класса, пока мы не получим приемлемый баланс. Протестируйте следующий метод и постройте графики достигаемых значений метрик от баланса классов и от отношения размеров исходной и пересэмпленной выборки:"
   ]
  },
  {
   "cell_type": "code",
   "execution_count": 511,
   "metadata": {},
   "outputs": [],
   "source": [
    "np.random.seed(2022)"
   ]
  },
  {
   "cell_type": "code",
   "execution_count": 512,
   "metadata": {
    "id": "GZQymG9Rs9BU"
   },
   "outputs": [
    {
     "data": {
      "text/plain": [
       "(834, 32)"
      ]
     },
     "execution_count": 512,
     "metadata": {},
     "output_type": "execute_result"
    }
   ],
   "source": [
    "from imblearn.under_sampling import RandomUnderSampler\n",
    "\n",
    "rus = RandomUnderSampler(random_state=42)\n",
    "X_res, y_res = rus.fit_resample(X_train, y_train)\n",
    "X_res.shape"
   ]
  },
  {
   "cell_type": "code",
   "execution_count": 513,
   "metadata": {},
   "outputs": [
    {
     "data": {
      "text/plain": [
       "0.5"
      ]
     },
     "execution_count": 513,
     "metadata": {},
     "output_type": "execute_result"
    }
   ],
   "source": [
    "(y_res == 1).mean()"
   ]
  },
  {
   "cell_type": "code",
   "execution_count": 506,
   "metadata": {},
   "outputs": [
    {
     "data": {
      "application/vnd.jupyter.widget-view+json": {
       "model_id": "7e04a850334b4993a3b4534107e6f889",
       "version_major": 2,
       "version_minor": 0
      },
      "text/plain": [
       "  0%|          | 0/6 [00:00<?, ?it/s]"
      ]
     },
     "metadata": {},
     "output_type": "display_data"
    }
   ],
   "source": [
    "auc_list, kappa_list, mcc_list = [], [], []\n",
    "weight_list = [0.001, 0.01, 0.1, 1, 10, 100]\n",
    "\n",
    "for weight in tqdm(weight_list):\n",
    "    based = CatBoostClassifier(iterations=100,\n",
    "                               learning_rate=0.1, \n",
    "                               depth=7, \n",
    "                               verbose=0,\n",
    "                               class_weights=(1, weight)).fit(X_train, y_train)\n",
    "    y_pred = based.predict(X_test)\n",
    "    auc_list.append(auc_pr(y_test, y_pred))\n",
    "    kappa_list.append(kappa_cohen(y_test, y_pred))\n",
    "    mcc_list.append(mcc(y_test, y_pred))"
   ]
  },
  {
   "cell_type": "code",
   "execution_count": 508,
   "metadata": {},
   "outputs": [
    {
     "data": {
      "image/png": "[encoded data removed]",
      "text/plain": [
       "<Figure size 432x288 with 1 Axes>"
      ]
     },
     "metadata": {},
     "output_type": "display_data"
    }
   ],
   "source": [
    "plt.plot(list(map(str, weight_list)), auc_list, label='AUC PR')\n",
    "plt.plot(list(map(str, weight_list)), kappa_list, label='Kappa')\n",
    "plt.plot(list(map(str, weight_list)), mcc_list, label='MCC')\n",
    "\n",
    "plt.title('Initial dataset perfomance')\n",
    "plt.xlabel('Weights')\n",
    "plt.legend();"
   ]
  },
  {
   "cell_type": "code",
   "execution_count": 514,
   "metadata": {
    "id": "ZRysrdxhs9BU"
   },
   "outputs": [
    {
     "data": {
      "application/vnd.jupyter.widget-view+json": {
       "model_id": "3fd0619fbd8b4edf9b89d8e576da4170",
       "version_major": 2,
       "version_minor": 0
      },
      "text/plain": [
       "  0%|          | 0/6 [00:00<?, ?it/s]"
      ]
     },
     "metadata": {},
     "output_type": "display_data"
    }
   ],
   "source": [
    "auc_list, kappa_list, mcc_list = [], [], []\n",
    "weight_list = [0.001, 0.01, 0.1, 1, 10, 100]\n",
    "\n",
    "for weight in tqdm(weight_list):\n",
    "    based = CatBoostClassifier(iterations=100,\n",
    "                               learning_rate=0.1, \n",
    "                               depth=7, \n",
    "                               verbose=0,\n",
    "                               class_weights=(1, weight)).fit(X_res, y_res)\n",
    "    y_pred = based.predict(X_test)\n",
    "    auc_list.append(auc_pr(y_test, y_pred))\n",
    "    kappa_list.append(kappa_cohen(y_test, y_pred))\n",
    "    mcc_list.append(mcc(y_test, y_pred))"
   ]
  },
  {
   "cell_type": "code",
   "execution_count": 515,
   "metadata": {},
   "outputs": [
    {
     "data": {
      "image/png": "[encoded data removed]",
      "text/plain": [
       "<Figure size 432x288 with 1 Axes>"
      ]
     },
     "metadata": {},
     "output_type": "display_data"
    }
   ],
   "source": [
    "plt.plot(list(map(str, weight_list)), auc_list, label='AUC PR')\n",
    "plt.plot(list(map(str, weight_list)), kappa_list, label='Kappa')\n",
    "plt.plot(list(map(str, weight_list)), mcc_list, label='MCC')\n",
    "\n",
    "plt.title('Undersampled dataset perfomance')\n",
    "plt.xlabel('Weights')\n",
    "plt.legend();"
   ]
  },
  {
   "cell_type": "markdown",
   "metadata": {
    "id": "w-onGH2ts9BU"
   },
   "source": [
    "Даже такой наивный подход может дать относительно неплохие результаты и улучшить наши метрики. Тем не менее, сейчас мы никак не используем информацию о распределении объектов в выборке. Оказывается, что даже относительно простые эвристические правила могут заметно поднять нам качество - например, мы можем при отбрасывании использовать близость отдельных объектов мажорного класса к минорному и отбрасывать самые близкие. Протестируйте алгоритм [Near-Miss](https://www.site.uottawa.ca/~nat/Workshop2003/jzhang.pdf) на наших данных и постройте графики, аналогичные предыдущему пункту (также добавьте график с зависимостью качества от числа соседей)."
   ]
  },
  {
   "cell_type": "code",
   "execution_count": 521,
   "metadata": {
    "id": "FXhxPmEUs9BU",
    "scrolled": false
   },
   "outputs": [
    {
     "data": {
      "text/plain": [
       "(834, 32)"
      ]
     },
     "execution_count": 521,
     "metadata": {},
     "output_type": "execute_result"
    }
   ],
   "source": [
    "from imblearn.under_sampling import NearMiss\n",
    "\n",
    "nm = NearMiss(n_neighbors=4)\n",
    "X_res, y_res = nm.fit_resample(X_train, y_train)\n",
    "X_res.shape"
   ]
  },
  {
   "cell_type": "code",
   "execution_count": 522,
   "metadata": {},
   "outputs": [
    {
     "data": {
      "application/vnd.jupyter.widget-view+json": {
       "model_id": "a98c52581c68465f8ea89f94b0dd73de",
       "version_major": 2,
       "version_minor": 0
      },
      "text/plain": [
       "  0%|          | 0/6 [00:00<?, ?it/s]"
      ]
     },
     "metadata": {},
     "output_type": "display_data"
    }
   ],
   "source": [
    "auc_list, kappa_list, mcc_list = [], [], []\n",
    "weight_list = [0.001, 0.01, 0.1, 1, 10, 100]\n",
    "\n",
    "for weight in tqdm(weight_list):\n",
    "    based = CatBoostClassifier(iterations=100,\n",
    "                               learning_rate=0.1, \n",
    "                               depth=7, \n",
    "                               verbose=0,\n",
    "                               class_weights=(1, weight)).fit(X_res, y_res)\n",
    "    y_pred = based.predict(X_test)\n",
    "    auc_list.append(auc_pr(y_test, y_pred))\n",
    "    kappa_list.append(kappa_cohen(y_test, y_pred))\n",
    "    mcc_list.append(mcc(y_test, y_pred))"
   ]
  },
  {
   "cell_type": "code",
   "execution_count": 523,
   "metadata": {},
   "outputs": [
    {
     "data": {
      "image/png": "[encoded data removed]",
      "text/plain": [
       "<Figure size 432x288 with 1 Axes>"
      ]
     },
     "metadata": {},
     "output_type": "display_data"
    }
   ],
   "source": [
    "plt.plot(list(map(str, weight_list)), auc_list, label='AUC PR')\n",
    "plt.plot(list(map(str, weight_list)), kappa_list, label='Kappa')\n",
    "plt.plot(list(map(str, weight_list)), mcc_list, label='MCC')\n",
    "\n",
    "plt.title('Near-Miss undersampling perfomance')\n",
    "plt.xlabel('Weights')\n",
    "plt.legend();"
   ]
  },
  {
   "cell_type": "code",
   "execution_count": 531,
   "metadata": {},
   "outputs": [
    {
     "data": {
      "application/vnd.jupyter.widget-view+json": {
       "model_id": "4c449bb2bf8042b9a4a4039274b3f4df",
       "version_major": 2,
       "version_minor": 0
      },
      "text/plain": [
       "  0%|          | 0/9 [00:00<?, ?it/s]"
      ]
     },
     "metadata": {},
     "output_type": "display_data"
    }
   ],
   "source": [
    "auc_list, kappa_list, mcc_list = [], [], []\n",
    "neighbour_list = np.arange(2, 11)\n",
    "\n",
    "for n in tqdm(neighbour_list):\n",
    "    nm = NearMiss(n_neighbors=n)\n",
    "    X_res, y_res = nm.fit_resample(X_train, y_train)\n",
    "\n",
    "    based = CatBoostClassifier(iterations=100,\n",
    "                               learning_rate=0.1, \n",
    "                               depth=7, \n",
    "                               verbose=0,\n",
    "                               class_weights=(1, 0.001)).fit(X_res, y_res)\n",
    "    y_pred = based.predict(X_test)\n",
    "    auc_list.append(auc_pr(y_test, y_pred))\n",
    "    kappa_list.append(kappa_cohen(y_test, y_pred))\n",
    "    mcc_list.append(mcc(y_test, y_pred))"
   ]
  },
  {
   "cell_type": "code",
   "execution_count": 533,
   "metadata": {},
   "outputs": [
    {
     "data": {
      "image/png": "[encoded data removed]",
      "text/plain": [
       "<Figure size 432x288 with 1 Axes>"
      ]
     },
     "metadata": {},
     "output_type": "display_data"
    }
   ],
   "source": [
    "plt.plot(neighbour_list, auc_list, label='AUC PR')\n",
    "plt.plot(neighbour_list, kappa_list, label='Kappa')\n",
    "plt.plot(neighbour_list, mcc_list, label='MCC')\n",
    "\n",
    "plt.title('Near-Miss undersampling perfomance')\n",
    "plt.xlabel('Neighbours')\n",
    "plt.legend();"
   ]
  },
  {
   "cell_type": "markdown",
   "metadata": {},
   "source": [
    "**Бонус (1 балл)**. imblearn также предлагает много различных методов для андерсэмплинга. Выберите что-нибудь еще из предлагаемого на свой вкус, опишите идею метода и протестируйте его.\n",
    "\n",
    "* EditedNearestNeighbours (ENN) - используют kNN, чтобы определить, какие точки следует убрать. Алгоритм удаляет точки, которые содержат большинство точек, не относящихся к тому же классу, что и рассматриваемая точка. (за 20 минут он так и не обучился, так как подсчет всех расстояний напрямую неблагодарное дело)\n",
    "\n",
    "* RandomUnderSampler - быстрый способ отбора точек путем случайного выбора подмножества мажорного класса."
   ]
  },
  {
   "cell_type": "code",
   "execution_count": 81,
   "metadata": {
    "scrolled": true
   },
   "outputs": [
    {
     "data": {
      "text/plain": [
       "(834, 32)"
      ]
     },
     "execution_count": 81,
     "metadata": {},
     "output_type": "execute_result"
    }
   ],
   "source": [
    "from imblearn.under_sampling import RandomUnderSampler\n",
    "\n",
    "sm = RandomUnderSampler()\n",
    "X_res, y_res = sm.fit_resample(X_train, y_train)\n",
    "X_res.shape"
   ]
  },
  {
   "cell_type": "code",
   "execution_count": 87,
   "metadata": {},
   "outputs": [
    {
     "name": "stdout",
     "output_type": "stream",
     "text": [
      "AUC PR:\t 0.6051363605963325\n",
      "Kappa:\t 0.6043526439141317\n",
      "MCC:\t 0.6045163842180211\n"
     ]
    }
   ],
   "source": [
    "based = CatBoostClassifier(iterations=100,\n",
    "                           learning_rate=0.1, \n",
    "                           depth=7, \n",
    "                           verbose=0,\n",
    "                           class_weights=(1, 0.001)).fit(X_res, y_res)\n",
    "y_pred = based.predict(X_test)\n",
    "results(y_test, y_pred)"
   ]
  },
  {
   "cell_type": "markdown",
   "metadata": {
    "id": "9z_OwXkps9BV"
   },
   "source": [
    "**Бонус (2 балла)**. Сможете ли вы с помощью комбинации любых методов оверсэмплинга, андерсэмплинга и классификации набрать 0.8 на всех трех метриках?"
   ]
  },
  {
   "cell_type": "code",
   "execution_count": 43,
   "metadata": {
    "id": "RXrq_R_Ks9BV"
   },
   "outputs": [
    {
     "data": {
      "application/vnd.jupyter.widget-view+json": {
       "model_id": "ad1ee210ed1a4be79a182be5261a78c0",
       "version_major": 2,
       "version_minor": 0
      },
      "text/plain": [
       "  0%|          | 0/6 [00:00<?, ?it/s]"
      ]
     },
     "metadata": {},
     "output_type": "display_data"
    }
   ],
   "source": [
    "sm = SVMSMOTE(random_state=42)\n",
    "X_res, y_res = sm.fit_resample(X_train, y_train)\n",
    "\n",
    "auc_list, kappa_list, mcc_list = [], [], []\n",
    "weight_list = [0.001, 0.01, 0.1, 1, 10, 100]\n",
    "\n",
    "for weight in tqdm(weight_list):\n",
    "    based = CatBoostClassifier(iterations=100,\n",
    "                               learning_rate=0.1, \n",
    "                               depth=7, \n",
    "                               verbose=0,\n",
    "                               class_weights=(1, weight)).fit(X_res, y_res)\n",
    "    y_pred = based.predict(X_test)\n",
    "    auc_list.append(auc_pr(y_test, y_pred))\n",
    "    kappa_list.append(kappa_cohen(y_test, y_pred))\n",
    "    mcc_list.append(mcc(y_test, y_pred))"
   ]
  },
  {
   "cell_type": "code",
   "execution_count": 44,
   "metadata": {},
   "outputs": [
    {
     "data": {
      "image/png": "[encoded data removed]",
      "text/plain": [
       "<Figure size 432x288 with 1 Axes>"
      ]
     },
     "metadata": {},
     "output_type": "display_data"
    }
   ],
   "source": [
    "plt.plot(list(map(str, weight_list)), auc_list, label='AUC PR')\n",
    "plt.plot(list(map(str, weight_list)), kappa_list, label='Kappa')\n",
    "plt.plot(list(map(str, weight_list)), mcc_list, label='MCC')\n",
    "\n",
    "plt.title('SVM SMOTE oversampling perfomance')\n",
    "plt.xlabel('Weights')\n",
    "plt.legend();"
   ]
  },
  {
   "cell_type": "code",
   "execution_count": 46,
   "metadata": {},
   "outputs": [
    {
     "data": {
      "application/vnd.jupyter.widget-view+json": {
       "model_id": "4c3b6f57bcc04ee8ab63b494b9a1a329",
       "version_major": 2,
       "version_minor": 0
      },
      "text/plain": [
       "  0%|          | 0/9 [00:00<?, ?it/s]"
      ]
     },
     "metadata": {},
     "output_type": "display_data"
    }
   ],
   "source": [
    "auc_list, kappa_list, mcc_list = [], [], []\n",
    "neighbour_list = np.arange(2, 11)\n",
    "\n",
    "for n in tqdm(neighbour_list):\n",
    "    sm = SVMSMOTE(k_neighbors=n, random_state=42)\n",
    "    X_res, y_res = sm.fit_resample(X_train, y_train)\n",
    "    \n",
    "    based = CatBoostClassifier(iterations=100,\n",
    "                               learning_rate=0.1, \n",
    "                               depth=7, \n",
    "                               verbose=0,\n",
    "                               class_weights=(1, 0.1)).fit(X_res, y_res)\n",
    "    y_pred = based.predict(X_test)\n",
    "    auc_list.append(auc_pr(y_test, y_pred))\n",
    "    kappa_list.append(kappa_cohen(y_test, y_pred))\n",
    "    mcc_list.append(mcc(y_test, y_pred))"
   ]
  },
  {
   "cell_type": "code",
   "execution_count": 47,
   "metadata": {},
   "outputs": [
    {
     "data": {
      "image/png": "[encoded data removed]",
      "text/plain": [
       "<Figure size 432x288 with 1 Axes>"
      ]
     },
     "metadata": {},
     "output_type": "display_data"
    }
   ],
   "source": [
    "plt.plot(neighbour_list, auc_list, label='AUC PR')\n",
    "plt.plot(neighbour_list, kappa_list, label='Kappa')\n",
    "plt.plot(neighbour_list, mcc_list, label='MCC')\n",
    "\n",
    "plt.title('SVM SMOTE oversampling perfomance')\n",
    "plt.xlabel('Neighbours')\n",
    "plt.legend();"
   ]
  },
  {
   "cell_type": "code",
   "execution_count": 55,
   "metadata": {},
   "outputs": [
    {
     "name": "stdout",
     "output_type": "stream",
     "text": [
      "AUC PR:\t 0.858753908734365\n",
      "Kappa:\t 0.8349082488680916\n",
      "MCC:\t 0.8465240717550727\n"
     ]
    }
   ],
   "source": [
    "sm = SVMSMOTE(k_neighbors=4, random_state=42)\n",
    "X_res, y_res = sm.fit_resample(X_train, y_train)\n",
    "\n",
    "based = CatBoostClassifier(iterations=100,\n",
    "                           learning_rate=0.1, \n",
    "                           depth=7, \n",
    "                           verbose=0,\n",
    "                           class_weights=(1, 0.1)).fit(X_res, y_res)\n",
    "y_pred = based.predict(X_val)\n",
    "results(y_val, y_pred)"
   ]
  },
  {
   "cell_type": "markdown",
   "metadata": {},
   "source": [
    "Ezzz!"
   ]
  },
  {
   "cell_type": "markdown",
   "metadata": {
    "id": "gBf-rrmcs9BV"
   },
   "source": [
    "# Часть 2. Поиск аномалий. "
   ]
  },
  {
   "cell_type": "markdown",
   "metadata": {
    "id": "3UBhTHszs9BV"
   },
   "source": [
    "Как вы могли заметить, методы балансировки выборок очень часто могут привести к не самым лучшим результатам из-за того, что они по сути искажают информацию о реальном распределении данных - в реальности обычно требуется долгий подбор в принципе работоспособных для задачи методов и их аккуратная настройка. "
   ]
  },
  {
   "cell_type": "markdown",
   "metadata": {
    "id": "HSYVXvmxs9BV"
   },
   "source": [
    "Теперь давайте попробуем слегка сменить постановку задачи и переключиться на задачу \"одноклассовой\" классификации, то есть - поиска *аномалий* в выборке. В общем-то, это вполне согласуется с нашей областью работы - мы действительно можем назвать мошеннические транзакции аномальньми (как интуитивно, так и на основании наблюдаемой балансировки данных). \n",
    "\n",
    "Стоит отметить, что методы обнаружения аномалий чаще всего относятся к классу методов обучения без учителя. Это дает некоторый положительный эффект - нам не обязательно нужно тратить время на разметку данных (тем не менее, для контроля качества какую-то часть разметить все-таки придется). Впрочем, чаще всего перфоманс таких методов оказывается заметно хуже, чем у честного обучения с учителем (если мы можем себе его позволить).\n",
    "\n"
   ]
  },
  {
   "cell_type": "markdown",
   "metadata": {
    "id": "mrRy0uOAs9BW"
   },
   "source": [
    "**Задание 4. (3 балла).** На занятиях вы разбирали схожий с Random Forest подход для детекции аномалий без известной разметки данных, называемый Isolation Forest. Напомним суть: на этапе обучения мы создаем ансамбль из решающих деревьев, в котором признак и порог на каждую вершину подбираются случайно. Затем мы считаем для объектов оценку аномальности через длину пути до соответствующего листа в каждом дереве.\n",
    "\n",
    "В данном задании вам предлагается реализовать модификацию данного алгоритма, известную как Extended Isolation Forest. В ней мы на каждом шаге будем определять не порог для признака, а полноценную случайную гиперплоскость, разбивающую выборку на 2 части. С детальным описанием вы можете ознакомиться [здесь](https://arxiv.org/pdf/1811.02141.pdf).\n",
    "\n",
    "Ниже приведен шаблон кода. Постарайтесь работать в его рамках (минорные изменения вполне допустимы, главное не переворачивайте всю структуру с ног на голову). \n",
    "\n",
    "**NB**: будем считать, что в нашем датасете нет категориальных признаков - можете не заморачиваться с их обработкой (но в общем случае, это будет важно).\n",
    "\n",
    "**Советы**:\n",
    " - Численные признаки лучше предобработать надлежащим образом.\n",
    " - Возможно, вам поможет выбрасывание некоторых признаков.\n",
    " - Внимательно следите за знаками.\n",
    " - Не игнорируйте документирующие строки.\n",
    " - Вероятнее всего, вы не сможете приблизиться по качеству к supervised-решениям. Если у вас не получается это сделать (но вы уверены в своей правоте), не стоит тратить слишком много времени на поиск ошибок.\n",
    "\n",
    "\n",
    "\n",
    "**Бонусы (каждый по 0.5)**:\n",
    "- Сделайте ваш EIF параллельным (`multiprocessing`, `joblib`).\n",
    "- Добавьте возможность откатиться к дефолтному варианту Isolation Forest. (порассуждайте, как можно реализовать это в данной модели?):\n"
   ]
  },
  {
   "cell_type": "code",
   "execution_count": 13,
   "metadata": {},
   "outputs": [],
   "source": [
    "from sklearn.preprocessing import StandardScaler"
   ]
  },
  {
   "cell_type": "code",
   "execution_count": 14,
   "metadata": {
    "id": "HsFj1XR2s9BW"
   },
   "outputs": [],
   "source": [
    "def c_factor(n):\n",
    "    \"\"\"\n",
    "    Computes average path length for an unsuccessful search in a binary search tree.\n",
    "    Params:\n",
    "        n: int - number of data points for BST\n",
    "    \"\"\"\n",
    "    # harmonic_num = np.log(n - 1) + np.euler_gamma\n",
    "    return np.log2(1 + n) # 2 * harmonic_num - 2 * (n - 1) / (n + 1e-5)\n",
    "\n",
    "def calc_height(X, depth, node):\n",
    "    \"\"\"\n",
    "    Calculates anomaly scores for sample in a recursive manner.\n",
    "    Params:\n",
    "        X: np.array - current sample, available to node\n",
    "        depth: int - path length up to current node\n",
    "        node: Node - current tree node\n",
    "        \n",
    "    Returns:\n",
    "        scores: int, float or np.array - anomaly scores for sample\n",
    "    \"\"\"\n",
    "    scores = np.zeros(X.shape[0])\n",
    "    if node.kind == 'external':\n",
    "        return scores + c_factor(X.shape[0]) + depth\n",
    "    if node.kind == 'internal':\n",
    "        w, b = node.w, node.b\n",
    "        \n",
    "        left = X[(X - b) @ w <= 0]\n",
    "        right = X[(X - b) @ w > 0]\n",
    "        scores[(X - b) @ w > 0] = calc_height(right, depth + 1, node.right)\n",
    "        scores[(X - b) @ w <= 0] = calc_height(left, depth + 1, node.left)\n",
    "    return scores\n",
    "\n",
    "\n",
    "class Node(object):\n",
    "    \"\"\"\n",
    "    A single node object for each tree. Contains information on height, current data,\n",
    "    splitting hyperplane and children nodes.\n",
    "    \n",
    "    Attributes:\n",
    "        X: np.array - data available to current node\n",
    "        size: int - length of available data\n",
    "        \n",
    "        depth: int - depth of node\n",
    "\n",
    "        left: Node - left child\n",
    "        right: Node - right child\n",
    "\n",
    "        kind: str - either \"internal\" or \"external\", indicates the type of current node\n",
    "\n",
    "        w: np.array - normal vector for the splitting hyperplane\n",
    "        b: float - intercept term for the splitting hyperplane\n",
    "    \"\"\"\n",
    "    def __init__(self, X, depth, left, right, kind, w, b):\n",
    "        \"\"\"\n",
    "        Node(h, left, right, kind, w, b)\n",
    "        Represents the node object.\n",
    "        \n",
    "        Params:\n",
    "            X: np.array - data available to current node\n",
    "            depth: int - depth of node\n",
    "            \n",
    "            left: Node - left child\n",
    "            right: Node - right child\n",
    "            \n",
    "            kind: str - either \"internal\" or \"external\", indicates the type of current node\n",
    "            \n",
    "            w: np.array - normal vector for the splitting hyperplane\n",
    "            b: float - intercept term for the splitting hyperplane\n",
    "            \n",
    "        \"\"\"\n",
    "        self.size = len(X)\n",
    "        \n",
    "        self.depth = depth\n",
    "        \n",
    "        self.left = left\n",
    "        self.right = right\n",
    "        \n",
    "        self.kind = kind\n",
    "    \n",
    "        self.w = w\n",
    "        self.b = b\n",
    "    \n",
    "    def __repr__(self):\n",
    "        \"\"\"\n",
    "        For convenience only.\n",
    "        \"\"\"\n",
    "        return f\"Node(size={self.size}, depth={self.depth}, kind={self.kind})\"\n",
    "\n",
    "class RandomizedTree(object):\n",
    "    \"\"\"\n",
    "    Single randomized tree object. Stores root and its depth (tree is built recursively).\n",
    "    Attributes:\n",
    "        depth: int - current tree depth\n",
    "        max_depth: int - maximum tree depth\n",
    "        root: Node - root node \n",
    "\n",
    "        internal_count: int - number of internal nodes\n",
    "        external_count: int - number of external nodes\n",
    "        \n",
    "    \"\"\"\n",
    "    def __init__(self, X, max_depth):\n",
    "        \"\"\"\n",
    "        Single randomized tree object. Stores root and its depth (tree is built recursively).\n",
    "        Params:\n",
    "            X: np.array - train sample\n",
    "            max_depth: int - maximum tree depth\n",
    "        \"\"\"\n",
    "        self.depth = 0\n",
    "        self.max_depth = max_depth\n",
    "        \n",
    "        self.internal_count = 0\n",
    "        self.external_count = 0\n",
    "\n",
    "        self.root = self.grow(X, 0)\n",
    "        \n",
    "    def __repr__(self):\n",
    "        \"\"\"\n",
    "        For convenience only.\n",
    "        \"\"\"\n",
    "        return f\"RandomizedTree(depth={self.depth}, max_depth={self.max_depth}, n_internal={self.internal_count}, n_external={self.external_count})\"\n",
    "\n",
    "        \n",
    "        \n",
    "    def grow(self, X, depth):\n",
    "        \"\"\"\n",
    "        Grow tree in a recursive manner.\n",
    "        Params:\n",
    "            X: np.array - available train sample\n",
    "            depth: int - current tree depth\n",
    "            \n",
    "        Returns:\n",
    "            node: Node - a trained node with separating hyperplane data.\n",
    "                         Node provides access to children if necessary (these are built recursively)\n",
    "        \"\"\"\n",
    "        if (depth + 1 > self.max_depth) or (X.shape[0] <= 1):\n",
    "            kind = 'external'\n",
    "            return Node(X, depth, None, None, kind, None, None)\n",
    "        else:\n",
    "            kind = 'internal'\n",
    "            w = np.random.normal(size=X.shape[1])\n",
    "            b = np.random.uniform(low=X_train.values.min(axis=0), \n",
    "                                  high=X_train.values.max(axis=0))\n",
    "            \n",
    "            left = self.grow(X[(X - b) @ w <= 0], depth+1)\n",
    "            right = self.grow(X[(X - b) @ w > 0], depth+1)\n",
    "            return Node(X, depth, left, right, kind, w, b)\n",
    "        \n",
    "    def score_samples(self, X):\n",
    "        \"\"\"\n",
    "        Calculate anomaly scores for given data. You may utilize outer function `calc_height`.\n",
    "        Params:\n",
    "            X: np.array - data to be evaluated\n",
    "            \n",
    "        Returns:\n",
    "            scores: np.array - estimated anomaly scores\n",
    "        \"\"\"\n",
    "        return calc_height(X, 0, self.root)\n",
    "        \n",
    "    \n",
    "class ExtendedIsolationForest(object):\n",
    "    \"\"\"\n",
    "    Extended Isolation Forest object. Stores training data and trained randomized trees.\n",
    "    Attributes:\n",
    "        n_trees: int - number of Randomized Trees\n",
    "        \n",
    "        max_depth: int - maximum depth of each tree\n",
    "        \n",
    "        subsample_rate: float - draw `subsample_rate * X.shape[0]` samples for each tree\n",
    "        \n",
    "        trees: list - container for trained trees \n",
    "        \n",
    "        contamination: float - estimated fraction of anomaly samples in data. Used for thresholding\n",
    "        \n",
    "    \"\"\"\n",
    "    \n",
    "    def __init__(self, n_trees, subsample_rate, max_depth=None, contamination=0.01):\n",
    "        \"\"\"\n",
    "        Extended Isolation Forest object. Stores training data and trained randomized trees.\n",
    "        Params:\n",
    "            n_trees: int - number of Randomized Trees\n",
    "\n",
    "            subsample_rate: float - draw `subsample_rate * X.shape[0]` samples for each tree\n",
    "\n",
    "            max_depth: int or None - maximum depth of each tree. Defaults to ceil(log_2(subsample_size)) if not provided\n",
    "\n",
    "            contamination: float - estimated fraction of anomaly samples in data. Used for thresholding\n",
    "\n",
    "        \"\"\"\n",
    "        self.n_trees = n_trees\n",
    "        self.max_depth = max_depth\n",
    "        self.subsample_rate = subsample_rate\n",
    "        self.trees = []\n",
    "        self.contamination = contamination\n",
    "        self.is_fit = False\n",
    "        \n",
    "    def __repr__(self):\n",
    "        \"\"\"For convenience only.\"\"\"\n",
    "        \n",
    "        return f\"ExtendedIsolationForest(n_trees={self.n_trees}, max_depth={self.max_depth}, subsample_rate={self.subsample_rate}, contamination={self.contamination}, is_fit={self.is_fit})\"\n",
    "        \n",
    "    def fit(self, X):\n",
    "        \"\"\"\n",
    "        Fit EIF to new data.\n",
    "        Params:\n",
    "            X: np.array - 2d array of samples\n",
    "        \"\"\"\n",
    "        self.sample_size = int(X.shape[0] * self.subsample_rate)\n",
    "        \n",
    "        self.scaler = StandardScaler()\n",
    "        X = self.scaler.fit_transform(X)\n",
    "        \n",
    "        for i in range(self.n_trees):\n",
    "            indices = np.random.choice(X.shape[0], size=self.sample_size)\n",
    "            self.trees.append(RandomizedTree(X[indices], self.max_depth))\n",
    "        return self\n",
    "    \n",
    "    def score_samples(self, X):\n",
    "        \"\"\"\n",
    "        Estimate (normalized) anomaly score for each given sample\n",
    "        Params:\n",
    "            X: np.array - new samples\n",
    "\n",
    "        Returns:\n",
    "            scores: np.array - anomaly scores (larger value means higher probability of a sample being an outlier)\n",
    "        \"\"\"\n",
    "        scores = np.zeros(X.shape[0])\n",
    "        for tree in self.trees:\n",
    "            scores += tree.score_samples(X)\n",
    "        scores = scores / self.n_trees\n",
    "        return 2 ** (- scores / c_factor(self.sample_size))\n",
    "\n",
    "    \n",
    "    def predict(self, X):\n",
    "        \"\"\"\n",
    "        Predict if given samples are outliers.\n",
    "        Params:\n",
    "            X: np.array - new samples\n",
    "\n",
    "        Returns:\n",
    "            labels: np.array - anomaly labels (1 for outliers, 0 for inliers)\n",
    "        \"\"\"\n",
    "        X = self.scaler.transform(X)\n",
    "        \n",
    "        scores = self.score_samples(X)\n",
    "        labels = scores > self.contamination\n",
    "        return labels, scores"
   ]
  },
  {
   "cell_type": "markdown",
   "metadata": {
    "id": "s9ikebErs9BX"
   },
   "source": [
    "**Задание 5. (1 балл).** Протестируйте вашу реализацию EIF и подберите оптимальные гиперпараметры (наш метод не использует разметку, поэтому можете попробовать делать это на обучающей выборке). Сравните ее с обычным IF из `sklearn` (желательно делать это на одних и тех же параметрах). Удалось ли сделать лучше?"
   ]
  },
  {
   "cell_type": "markdown",
   "metadata": {
    "id": "G00BCRJj4Sz3"
   },
   "source": [
    "Возможно, ваш алгоритм выдал большие оценки объектам с негативной разметкой. Постарайтесь выбрать несколько таких объектов и доступно объяснить (= с кодом и графиками), почему так вышло:"
   ]
  },
  {
   "cell_type": "code",
   "execution_count": 96,
   "metadata": {},
   "outputs": [],
   "source": [
    "np.random.seed(42)\n",
    "\n",
    "X_full = X_train[:28480*2]\n",
    "y_full = y_train[:28480*2]"
   ]
  },
  {
   "cell_type": "code",
   "execution_count": 97,
   "metadata": {
    "id": "ds6Rz3a-4s9V",
    "scrolled": true
   },
   "outputs": [],
   "source": [
    "eif = ExtendedIsolationForest(n_trees=100,\n",
    "                              subsample_rate=0.001,\n",
    "                              max_depth=10)\n",
    "eif.fit(X_full.values)\n",
    "_, scores = eif.predict(X_full.values)"
   ]
  },
  {
   "cell_type": "code",
   "execution_count": 98,
   "metadata": {},
   "outputs": [
    {
     "name": "stdout",
     "output_type": "stream",
     "text": [
      "0.046623970304070596\n",
      "0.04852526341668269\n"
     ]
    }
   ],
   "source": [
    "print(scores.min())\n",
    "print(scores.max())"
   ]
  },
  {
   "cell_type": "code",
   "execution_count": 103,
   "metadata": {
    "scrolled": true
   },
   "outputs": [
    {
     "name": "stdout",
     "output_type": "stream",
     "text": [
      "AUC PR:\t 0.1353426985461758\n",
      "Kappa:\t 0.1204631585737745\n",
      "MCC:\t 0.12557684579424813\n"
     ]
    }
   ],
   "source": [
    "y_eif = scores > 0.046723971304070596\n",
    "results(y_full, y_eif)"
   ]
  },
  {
   "cell_type": "code",
   "execution_count": 104,
   "metadata": {},
   "outputs": [
    {
     "name": "stdout",
     "output_type": "stream",
     "text": [
      "AUC PR:\t 0.4604665023616976\n",
      "Kappa:\t 0.10876087114193819\n",
      "MCC:\t 0.22273029854661638\n"
     ]
    }
   ],
   "source": [
    "from sklearn.ensemble import IsolationForest\n",
    "isf = IsolationForest(n_estimators=100).fit(X_full.values)\n",
    "\n",
    "y_isf = isf.predict(X_full.values) < 0\n",
    "results(y_full, y_isf)"
   ]
  },
  {
   "cell_type": "markdown",
   "metadata": {},
   "source": [
    "IsolationForest сработал лучше, чем наша реализация Extended IF."
   ]
  },
  {
   "cell_type": "markdown",
   "metadata": {
    "id": "oLpfrhGFs9BX"
   },
   "source": [
    "**Задание 6. (1 балл).** `sklearn` также предлагает нам и другие методы для поиска аномалий. В этом задании мы предлагаем вам сделать следующее:\n",
    "\n",
    "Для начала попробуйте использовать методы Local Outlier Factor и One-Class SVM. Сравните результаты с IF и EIF.  "
   ]
  },
  {
   "cell_type": "code",
   "execution_count": 34,
   "metadata": {},
   "outputs": [],
   "source": [
    "import time"
   ]
  },
  {
   "cell_type": "code",
   "execution_count": 95,
   "metadata": {},
   "outputs": [
    {
     "name": "stdout",
     "output_type": "stream",
     "text": [
      "CPU times: total: 2min 9s\n",
      "Wall time: 1min 11s\n"
     ]
    }
   ],
   "source": [
    "%%time\n",
    "from sklearn.neighbors import LocalOutlierFactor\n",
    "lof = LocalOutlierFactor(n_neighbors=5, novelty=True).fit(X_full.values)"
   ]
  },
  {
   "cell_type": "code",
   "execution_count": 112,
   "metadata": {},
   "outputs": [
    {
     "name": "stdout",
     "output_type": "stream",
     "text": [
      "AUC PR:\t 0.26690350666916707\n",
      "Kappa:\t 0.14081025090659274\n",
      "MCC:\t 0.19166279955962348\n"
     ]
    }
   ],
   "source": [
    "y_lof = lof.predict(X_full.values) < 0\n",
    "results(y_full, y_lof)"
   ]
  },
  {
   "cell_type": "code",
   "execution_count": 113,
   "metadata": {},
   "outputs": [
    {
     "name": "stdout",
     "output_type": "stream",
     "text": [
      "CPU times: total: 2min 21s\n",
      "Wall time: 2min 22s\n"
     ]
    }
   ],
   "source": [
    "%%time\n",
    "from sklearn.svm import OneClassSVM\n",
    "clf = OneClassSVM().fit(X_full.values)"
   ]
  },
  {
   "cell_type": "code",
   "execution_count": 114,
   "metadata": {},
   "outputs": [
    {
     "name": "stdout",
     "output_type": "stream",
     "text": [
      "AUC PR:\t 0.3430817469405281\n",
      "Kappa:\t 0.0020014044943821307\n",
      "MCC:\t 0.019087075565331284\n"
     ]
    }
   ],
   "source": [
    "y_svm = clf.predict(X_full.values) < 0\n",
    "results(y_full, y_svm)"
   ]
  },
  {
   "cell_type": "markdown",
   "metadata": {},
   "source": [
    "LOF и SVM показали качество хуже, чем IF, но лучше, чем наша реализация EIF. "
   ]
  },
  {
   "cell_type": "markdown",
   "metadata": {
    "id": "BGY_u8nts9BX"
   },
   "source": [
    "У вас началась депрессия из-за плохих метрик? Не беда! Сейчас давайте сделаем так: все методы, опробованные в этой части, попробуем задействовать для создания дополнительных признаков в данных. Проделайте это (не забудьте, что обучаться здесь нужно на трейне). Теперь возьмите лучшую модель из предыдущей части и обучите на новых данных. Смогли ли unsupervised-методы повысить вам качество?"
   ]
  },
  {
   "cell_type": "code",
   "execution_count": 115,
   "metadata": {
    "id": "Q3QpV-Hgs9BY"
   },
   "outputs": [
    {
     "data": {
      "text/plain": [
       "(56960, 36)"
      ]
     },
     "execution_count": 115,
     "metadata": {},
     "output_type": "execute_result"
    }
   ],
   "source": [
    "X_new = np.concatenate([X_full.values, y_eif.reshape(-1, 1),\n",
    "                                       y_isf.reshape(-1, 1), \n",
    "                                       y_lof.reshape(-1, 1), \n",
    "                                       y_svm.reshape(-1, 1)], axis=1)\n",
    "X_new.shape"
   ]
  },
  {
   "cell_type": "code",
   "execution_count": 123,
   "metadata": {},
   "outputs": [],
   "source": [
    "split = int(X_new.shape[0] * 0.2)\n",
    "\n",
    "X_train, y_train = X_new[:-split], y_full.iloc[:-split]\n",
    "X_test, y_test = X_new[-split:], y_full.iloc[-split:]"
   ]
  },
  {
   "cell_type": "code",
   "execution_count": 124,
   "metadata": {},
   "outputs": [
    {
     "data": {
      "text/plain": [
       "(142, 15)"
      ]
     },
     "execution_count": 124,
     "metadata": {},
     "output_type": "execute_result"
    }
   ],
   "source": [
    "y_train.sum(), y_test.sum()"
   ]
  },
  {
   "cell_type": "code",
   "execution_count": 126,
   "metadata": {
    "scrolled": true
   },
   "outputs": [
    {
     "name": "stdout",
     "output_type": "stream",
     "text": [
      "AUC PR:\t 0.6338161282771535\n",
      "Kappa:\t 0.4207314818239019\n",
      "MCC:\t 0.5161483173981072\n"
     ]
    }
   ],
   "source": [
    "based = CatBoostClassifier(iterations=100,\n",
    "                           learning_rate=0.1, \n",
    "                           depth=7, \n",
    "                           verbose=0,\n",
    "                           class_weights=(1, 0.1)).fit(X_train, y_train)\n",
    "y_pred = based.predict(X_test)\n",
    "results(y_test, y_pred)"
   ]
  },
  {
   "cell_type": "markdown",
   "metadata": {},
   "source": [
    "Качество с новыми признаками не превысило качество изначальной модели с оверсэмплингом. \\\n",
    "Возможно unsupervised методы не так хороши, как supervised.\n"
   ]
  },
  {
   "cell_type": "markdown",
   "metadata": {
    "id": "NiGbNcXHs9BY"
   },
   "source": [
    "**Бонус. (0.1 балла).**\n",
    "\n",
    "При сдаче проверяющий запустит следующую клетку один раз. Если она даст положительный результат, вы получите 0.1 бонусных балла. Если она даст отрицательный результат, вы получите -0.1 бонусных балла. Если вы получите ровно 0, то мы посчитаем вас невероятно везучим человеком и в качестве поощрения зачтем теорминимум на коллоквиуме. \n",
    "\n",
    "Если вы хотите отказаться от сдачи данного задания, допишите \"хочу\" после двоеточия: `your text here`\n",
    "\n",
    "Ниже вы можете попрактиковаться и оценить ваши силы (изменять код ячейки запрещается!)"
   ]
  },
  {
   "cell_type": "code",
   "execution_count": null,
   "metadata": {
    "id": "mfgJoZ_ns9BY"
   },
   "outputs": [],
   "source": [
    "import numpy as np\n",
    "\n",
    "np.random.randn()"
   ]
  },
  {
   "cell_type": "code",
   "execution_count": null,
   "metadata": {},
   "outputs": [],
   "source": []
  }
 ],
 "metadata": {
  "colab": {
   "collapsed_sections": [],
   "name": "imbalanced-hw-clean.ipynb",
   "provenance": []
  },
  "kernelspec": {
   "display_name": "Python 3 (ipykernel)",
   "language": "python",
   "name": "python3"
  },
  "language_info": {
   "codemirror_mode": {
    "name": "ipython",
    "version": 3
   },
   "file_extension": ".py",
   "mimetype": "text/x-python",
   "name": "python",
   "nbconvert_exporter": "python",
   "pygments_lexer": "ipython3",
   "version": "3.10.2"
  }
 },
 "nbformat": 4,
 "nbformat_minor": 1
}
