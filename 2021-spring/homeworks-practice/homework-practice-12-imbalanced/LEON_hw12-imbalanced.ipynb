{
 "cells": [
  {
   "cell_type": "markdown",
   "metadata": {
    "id": "sCk9bUMos9A-"
   },
   "source": [
    "# Машинное обучение, ФКН ВШЭ\n",
    "\n",
    "# Практическое задание 12. Несбалансированные задачи\n",
    "\n",
    "## Общая информация\n",
    "Дата выдачи: 01.05.2022\n",
    "\n",
    "Мягкий дедлайн: 11.05.2022 23:59 MSK\n",
    "\n",
    "Жёсткий дедлайн: 16.05.2022 23:59 MSK\n",
    "\n",
    "## Оценивание и штрафы\n",
    "\n",
    "Каждая из задач имеет определенную «стоимость» (указана в скобках около задачи). Максимально допустимая оценка за работу — 10 баллов.\n",
    "\n",
    "Сдавать задание после указанного срока сдачи нельзя. При выставлении неполного балла за задание в связи с наличием ошибок на усмотрение проверяющего предусмотрена возможность исправить работу на указанных в ответном письме условиях.\n",
    "\n",
    "Задание выполняется самостоятельно. «Похожие» решения считаются плагиатом и все задействованные студенты (в том числе те, у кого списали) не могут получить за него больше 0 баллов (подробнее о плагиате см. на странице курса). Если вы нашли решение какого-то из заданий (или его часть) в открытом источнике, необходимо указать ссылку на этот источник в отдельном блоке в конце вашей работы (скорее всего вы будете не единственным, кто это нашел, поэтому чтобы исключить подозрение в плагиате, необходима ссылка на источник).\n",
    "\n",
    "Неэффективная реализация кода может негативно отразиться на оценке.\n",
    "\n",
    "## Формат сдачи\n",
    "Задания сдаются через систему anytask. Посылка должна содержать:\n",
    "* Ноутбук homework-practice-xx-Username.ipynb\n",
    "\n",
    "Username — ваша фамилия и имя на латинице именно в таком порядке"
   ]
  },
  {
   "cell_type": "markdown",
   "metadata": {
    "id": "MsiB3oacs9BG"
   },
   "source": [
    "## О задании\n",
    "\n",
    "В этом задании мы разберем основные техники работы в задачах, где один из классов занимает существенно меньшую долю выборки, чем остальные. Для простоты мы обойдемся бинарной задачей, тем не менее, во многом данные методы можно перенести и на задачи с б**о**льшим числом классов. Кроме того, вы получите очередной бесценный опыт исследования случайной библиотеки случайных индусов с нуля."
   ]
  },
  {
   "cell_type": "code",
   "execution_count": 1,
   "metadata": {
    "id": "I9SXbBCjs9BH"
   },
   "outputs": [],
   "source": [
    "import numpy as np\n",
    "import pandas as pd\n",
    "pd.set_option('display.max_rows', 100)\n",
    "pd.set_option('display.max_columns', 100)\n",
    "\n",
    "import matplotlib.pyplot as plt\n",
    "import seaborn as sns\n",
    "sns.set(style='whitegrid')\n",
    "\n",
    "from tqdm.auto import tqdm"
   ]
  },
  {
   "cell_type": "markdown",
   "metadata": {
    "id": "5l0VsXHes9BI"
   },
   "source": [
    "**Задание -1 (1 балл)**. EDA"
   ]
  },
  {
   "cell_type": "markdown",
   "metadata": {
    "id": "SIund96us9BI"
   },
   "source": [
    "В качестве данных для нашей работы возьмем выложенный на kaggle датасет транзакций, в котором нужно выискивать мошеннические проводки: [клик](https://www.kaggle.com/mlg-ulb/creditcardfraud). Данная задача по определению подходит под несбалансированную, что можно сказать даже без наличия каких-либо данных (понятно, что среди всех транзакций клиентов очень малая часть будет мошеннической).\n",
    "\n",
    "Загрузим данные, проведем некоторые классические манипуляции."
   ]
  },
  {
   "cell_type": "code",
   "execution_count": 2,
   "metadata": {
    "id": "tY2aKqhCs9BJ"
   },
   "outputs": [],
   "source": [
    "\"\"\"%%bash\n",
    "kaggle datasets download -d mlg-ulb/creditcardfraud\n",
    "unzip creditcardfraud.zip\"\"\";"
   ]
  },
  {
   "cell_type": "code",
   "execution_count": 2,
   "metadata": {
    "id": "5_UPWW51s9BJ"
   },
   "outputs": [],
   "source": [
    "df = pd.read_csv('creditcard.csv')"
   ]
  },
  {
   "cell_type": "code",
   "execution_count": 3,
   "metadata": {
    "id": "HpJMyb0Hs9BJ",
    "outputId": "7f254a74-d248-47c6-9550-3e884e3cce92",
    "scrolled": false
   },
   "outputs": [
    {
     "data": {
      "text/html": [
       "<div>\n",
       "<style scoped>\n",
       "    .dataframe tbody tr th:only-of-type {\n",
       "        vertical-align: middle;\n",
       "    }\n",
       "\n",
       "    .dataframe tbody tr th {\n",
       "        vertical-align: top;\n",
       "    }\n",
       "\n",
       "    .dataframe thead th {\n",
       "        text-align: right;\n",
       "    }\n",
       "</style>\n",
       "<table border=\"1\" class=\"dataframe\">\n",
       "  <thead>\n",
       "    <tr style=\"text-align: right;\">\n",
       "      <th></th>\n",
       "      <th>Time</th>\n",
       "      <th>V1</th>\n",
       "      <th>V2</th>\n",
       "      <th>V3</th>\n",
       "      <th>V4</th>\n",
       "      <th>V5</th>\n",
       "      <th>V6</th>\n",
       "      <th>V7</th>\n",
       "      <th>V8</th>\n",
       "      <th>V9</th>\n",
       "      <th>V10</th>\n",
       "      <th>V11</th>\n",
       "      <th>V12</th>\n",
       "      <th>V13</th>\n",
       "      <th>V14</th>\n",
       "      <th>V15</th>\n",
       "      <th>V16</th>\n",
       "      <th>V17</th>\n",
       "      <th>V18</th>\n",
       "      <th>V19</th>\n",
       "      <th>V20</th>\n",
       "      <th>V21</th>\n",
       "      <th>V22</th>\n",
       "      <th>V23</th>\n",
       "      <th>V24</th>\n",
       "      <th>V25</th>\n",
       "      <th>V26</th>\n",
       "      <th>V27</th>\n",
       "      <th>V28</th>\n",
       "      <th>Amount</th>\n",
       "      <th>Class</th>\n",
       "    </tr>\n",
       "  </thead>\n",
       "  <tbody>\n",
       "    <tr>\n",
       "      <th>0</th>\n",
       "      <td>0.0</td>\n",
       "      <td>-1.359807</td>\n",
       "      <td>-0.072781</td>\n",
       "      <td>2.536347</td>\n",
       "      <td>1.378155</td>\n",
       "      <td>-0.338321</td>\n",
       "      <td>0.462388</td>\n",
       "      <td>0.239599</td>\n",
       "      <td>0.098698</td>\n",
       "      <td>0.363787</td>\n",
       "      <td>0.090794</td>\n",
       "      <td>-0.551600</td>\n",
       "      <td>-0.617801</td>\n",
       "      <td>-0.991390</td>\n",
       "      <td>-0.311169</td>\n",
       "      <td>1.468177</td>\n",
       "      <td>-0.470401</td>\n",
       "      <td>0.207971</td>\n",
       "      <td>0.025791</td>\n",
       "      <td>0.403993</td>\n",
       "      <td>0.251412</td>\n",
       "      <td>-0.018307</td>\n",
       "      <td>0.277838</td>\n",
       "      <td>-0.110474</td>\n",
       "      <td>0.066928</td>\n",
       "      <td>0.128539</td>\n",
       "      <td>-0.189115</td>\n",
       "      <td>0.133558</td>\n",
       "      <td>-0.021053</td>\n",
       "      <td>149.62</td>\n",
       "      <td>0</td>\n",
       "    </tr>\n",
       "    <tr>\n",
       "      <th>1</th>\n",
       "      <td>0.0</td>\n",
       "      <td>1.191857</td>\n",
       "      <td>0.266151</td>\n",
       "      <td>0.166480</td>\n",
       "      <td>0.448154</td>\n",
       "      <td>0.060018</td>\n",
       "      <td>-0.082361</td>\n",
       "      <td>-0.078803</td>\n",
       "      <td>0.085102</td>\n",
       "      <td>-0.255425</td>\n",
       "      <td>-0.166974</td>\n",
       "      <td>1.612727</td>\n",
       "      <td>1.065235</td>\n",
       "      <td>0.489095</td>\n",
       "      <td>-0.143772</td>\n",
       "      <td>0.635558</td>\n",
       "      <td>0.463917</td>\n",
       "      <td>-0.114805</td>\n",
       "      <td>-0.183361</td>\n",
       "      <td>-0.145783</td>\n",
       "      <td>-0.069083</td>\n",
       "      <td>-0.225775</td>\n",
       "      <td>-0.638672</td>\n",
       "      <td>0.101288</td>\n",
       "      <td>-0.339846</td>\n",
       "      <td>0.167170</td>\n",
       "      <td>0.125895</td>\n",
       "      <td>-0.008983</td>\n",
       "      <td>0.014724</td>\n",
       "      <td>2.69</td>\n",
       "      <td>0</td>\n",
       "    </tr>\n",
       "    <tr>\n",
       "      <th>2</th>\n",
       "      <td>1.0</td>\n",
       "      <td>-1.358354</td>\n",
       "      <td>-1.340163</td>\n",
       "      <td>1.773209</td>\n",
       "      <td>0.379780</td>\n",
       "      <td>-0.503198</td>\n",
       "      <td>1.800499</td>\n",
       "      <td>0.791461</td>\n",
       "      <td>0.247676</td>\n",
       "      <td>-1.514654</td>\n",
       "      <td>0.207643</td>\n",
       "      <td>0.624501</td>\n",
       "      <td>0.066084</td>\n",
       "      <td>0.717293</td>\n",
       "      <td>-0.165946</td>\n",
       "      <td>2.345865</td>\n",
       "      <td>-2.890083</td>\n",
       "      <td>1.109969</td>\n",
       "      <td>-0.121359</td>\n",
       "      <td>-2.261857</td>\n",
       "      <td>0.524980</td>\n",
       "      <td>0.247998</td>\n",
       "      <td>0.771679</td>\n",
       "      <td>0.909412</td>\n",
       "      <td>-0.689281</td>\n",
       "      <td>-0.327642</td>\n",
       "      <td>-0.139097</td>\n",
       "      <td>-0.055353</td>\n",
       "      <td>-0.059752</td>\n",
       "      <td>378.66</td>\n",
       "      <td>0</td>\n",
       "    </tr>\n",
       "    <tr>\n",
       "      <th>3</th>\n",
       "      <td>1.0</td>\n",
       "      <td>-0.966272</td>\n",
       "      <td>-0.185226</td>\n",
       "      <td>1.792993</td>\n",
       "      <td>-0.863291</td>\n",
       "      <td>-0.010309</td>\n",
       "      <td>1.247203</td>\n",
       "      <td>0.237609</td>\n",
       "      <td>0.377436</td>\n",
       "      <td>-1.387024</td>\n",
       "      <td>-0.054952</td>\n",
       "      <td>-0.226487</td>\n",
       "      <td>0.178228</td>\n",
       "      <td>0.507757</td>\n",
       "      <td>-0.287924</td>\n",
       "      <td>-0.631418</td>\n",
       "      <td>-1.059647</td>\n",
       "      <td>-0.684093</td>\n",
       "      <td>1.965775</td>\n",
       "      <td>-1.232622</td>\n",
       "      <td>-0.208038</td>\n",
       "      <td>-0.108300</td>\n",
       "      <td>0.005274</td>\n",
       "      <td>-0.190321</td>\n",
       "      <td>-1.175575</td>\n",
       "      <td>0.647376</td>\n",
       "      <td>-0.221929</td>\n",
       "      <td>0.062723</td>\n",
       "      <td>0.061458</td>\n",
       "      <td>123.50</td>\n",
       "      <td>0</td>\n",
       "    </tr>\n",
       "    <tr>\n",
       "      <th>4</th>\n",
       "      <td>2.0</td>\n",
       "      <td>-1.158233</td>\n",
       "      <td>0.877737</td>\n",
       "      <td>1.548718</td>\n",
       "      <td>0.403034</td>\n",
       "      <td>-0.407193</td>\n",
       "      <td>0.095921</td>\n",
       "      <td>0.592941</td>\n",
       "      <td>-0.270533</td>\n",
       "      <td>0.817739</td>\n",
       "      <td>0.753074</td>\n",
       "      <td>-0.822843</td>\n",
       "      <td>0.538196</td>\n",
       "      <td>1.345852</td>\n",
       "      <td>-1.119670</td>\n",
       "      <td>0.175121</td>\n",
       "      <td>-0.451449</td>\n",
       "      <td>-0.237033</td>\n",
       "      <td>-0.038195</td>\n",
       "      <td>0.803487</td>\n",
       "      <td>0.408542</td>\n",
       "      <td>-0.009431</td>\n",
       "      <td>0.798278</td>\n",
       "      <td>-0.137458</td>\n",
       "      <td>0.141267</td>\n",
       "      <td>-0.206010</td>\n",
       "      <td>0.502292</td>\n",
       "      <td>0.219422</td>\n",
       "      <td>0.215153</td>\n",
       "      <td>69.99</td>\n",
       "      <td>0</td>\n",
       "    </tr>\n",
       "    <tr>\n",
       "      <th>...</th>\n",
       "      <td>...</td>\n",
       "      <td>...</td>\n",
       "      <td>...</td>\n",
       "      <td>...</td>\n",
       "      <td>...</td>\n",
       "      <td>...</td>\n",
       "      <td>...</td>\n",
       "      <td>...</td>\n",
       "      <td>...</td>\n",
       "      <td>...</td>\n",
       "      <td>...</td>\n",
       "      <td>...</td>\n",
       "      <td>...</td>\n",
       "      <td>...</td>\n",
       "      <td>...</td>\n",
       "      <td>...</td>\n",
       "      <td>...</td>\n",
       "      <td>...</td>\n",
       "      <td>...</td>\n",
       "      <td>...</td>\n",
       "      <td>...</td>\n",
       "      <td>...</td>\n",
       "      <td>...</td>\n",
       "      <td>...</td>\n",
       "      <td>...</td>\n",
       "      <td>...</td>\n",
       "      <td>...</td>\n",
       "      <td>...</td>\n",
       "      <td>...</td>\n",
       "      <td>...</td>\n",
       "      <td>...</td>\n",
       "    </tr>\n",
       "    <tr>\n",
       "      <th>284802</th>\n",
       "      <td>172786.0</td>\n",
       "      <td>-11.881118</td>\n",
       "      <td>10.071785</td>\n",
       "      <td>-9.834783</td>\n",
       "      <td>-2.066656</td>\n",
       "      <td>-5.364473</td>\n",
       "      <td>-2.606837</td>\n",
       "      <td>-4.918215</td>\n",
       "      <td>7.305334</td>\n",
       "      <td>1.914428</td>\n",
       "      <td>4.356170</td>\n",
       "      <td>-1.593105</td>\n",
       "      <td>2.711941</td>\n",
       "      <td>-0.689256</td>\n",
       "      <td>4.626942</td>\n",
       "      <td>-0.924459</td>\n",
       "      <td>1.107641</td>\n",
       "      <td>1.991691</td>\n",
       "      <td>0.510632</td>\n",
       "      <td>-0.682920</td>\n",
       "      <td>1.475829</td>\n",
       "      <td>0.213454</td>\n",
       "      <td>0.111864</td>\n",
       "      <td>1.014480</td>\n",
       "      <td>-0.509348</td>\n",
       "      <td>1.436807</td>\n",
       "      <td>0.250034</td>\n",
       "      <td>0.943651</td>\n",
       "      <td>0.823731</td>\n",
       "      <td>0.77</td>\n",
       "      <td>0</td>\n",
       "    </tr>\n",
       "    <tr>\n",
       "      <th>284803</th>\n",
       "      <td>172787.0</td>\n",
       "      <td>-0.732789</td>\n",
       "      <td>-0.055080</td>\n",
       "      <td>2.035030</td>\n",
       "      <td>-0.738589</td>\n",
       "      <td>0.868229</td>\n",
       "      <td>1.058415</td>\n",
       "      <td>0.024330</td>\n",
       "      <td>0.294869</td>\n",
       "      <td>0.584800</td>\n",
       "      <td>-0.975926</td>\n",
       "      <td>-0.150189</td>\n",
       "      <td>0.915802</td>\n",
       "      <td>1.214756</td>\n",
       "      <td>-0.675143</td>\n",
       "      <td>1.164931</td>\n",
       "      <td>-0.711757</td>\n",
       "      <td>-0.025693</td>\n",
       "      <td>-1.221179</td>\n",
       "      <td>-1.545556</td>\n",
       "      <td>0.059616</td>\n",
       "      <td>0.214205</td>\n",
       "      <td>0.924384</td>\n",
       "      <td>0.012463</td>\n",
       "      <td>-1.016226</td>\n",
       "      <td>-0.606624</td>\n",
       "      <td>-0.395255</td>\n",
       "      <td>0.068472</td>\n",
       "      <td>-0.053527</td>\n",
       "      <td>24.79</td>\n",
       "      <td>0</td>\n",
       "    </tr>\n",
       "    <tr>\n",
       "      <th>284804</th>\n",
       "      <td>172788.0</td>\n",
       "      <td>1.919565</td>\n",
       "      <td>-0.301254</td>\n",
       "      <td>-3.249640</td>\n",
       "      <td>-0.557828</td>\n",
       "      <td>2.630515</td>\n",
       "      <td>3.031260</td>\n",
       "      <td>-0.296827</td>\n",
       "      <td>0.708417</td>\n",
       "      <td>0.432454</td>\n",
       "      <td>-0.484782</td>\n",
       "      <td>0.411614</td>\n",
       "      <td>0.063119</td>\n",
       "      <td>-0.183699</td>\n",
       "      <td>-0.510602</td>\n",
       "      <td>1.329284</td>\n",
       "      <td>0.140716</td>\n",
       "      <td>0.313502</td>\n",
       "      <td>0.395652</td>\n",
       "      <td>-0.577252</td>\n",
       "      <td>0.001396</td>\n",
       "      <td>0.232045</td>\n",
       "      <td>0.578229</td>\n",
       "      <td>-0.037501</td>\n",
       "      <td>0.640134</td>\n",
       "      <td>0.265745</td>\n",
       "      <td>-0.087371</td>\n",
       "      <td>0.004455</td>\n",
       "      <td>-0.026561</td>\n",
       "      <td>67.88</td>\n",
       "      <td>0</td>\n",
       "    </tr>\n",
       "    <tr>\n",
       "      <th>284805</th>\n",
       "      <td>172788.0</td>\n",
       "      <td>-0.240440</td>\n",
       "      <td>0.530483</td>\n",
       "      <td>0.702510</td>\n",
       "      <td>0.689799</td>\n",
       "      <td>-0.377961</td>\n",
       "      <td>0.623708</td>\n",
       "      <td>-0.686180</td>\n",
       "      <td>0.679145</td>\n",
       "      <td>0.392087</td>\n",
       "      <td>-0.399126</td>\n",
       "      <td>-1.933849</td>\n",
       "      <td>-0.962886</td>\n",
       "      <td>-1.042082</td>\n",
       "      <td>0.449624</td>\n",
       "      <td>1.962563</td>\n",
       "      <td>-0.608577</td>\n",
       "      <td>0.509928</td>\n",
       "      <td>1.113981</td>\n",
       "      <td>2.897849</td>\n",
       "      <td>0.127434</td>\n",
       "      <td>0.265245</td>\n",
       "      <td>0.800049</td>\n",
       "      <td>-0.163298</td>\n",
       "      <td>0.123205</td>\n",
       "      <td>-0.569159</td>\n",
       "      <td>0.546668</td>\n",
       "      <td>0.108821</td>\n",
       "      <td>0.104533</td>\n",
       "      <td>10.00</td>\n",
       "      <td>0</td>\n",
       "    </tr>\n",
       "    <tr>\n",
       "      <th>284806</th>\n",
       "      <td>172792.0</td>\n",
       "      <td>-0.533413</td>\n",
       "      <td>-0.189733</td>\n",
       "      <td>0.703337</td>\n",
       "      <td>-0.506271</td>\n",
       "      <td>-0.012546</td>\n",
       "      <td>-0.649617</td>\n",
       "      <td>1.577006</td>\n",
       "      <td>-0.414650</td>\n",
       "      <td>0.486180</td>\n",
       "      <td>-0.915427</td>\n",
       "      <td>-1.040458</td>\n",
       "      <td>-0.031513</td>\n",
       "      <td>-0.188093</td>\n",
       "      <td>-0.084316</td>\n",
       "      <td>0.041333</td>\n",
       "      <td>-0.302620</td>\n",
       "      <td>-0.660377</td>\n",
       "      <td>0.167430</td>\n",
       "      <td>-0.256117</td>\n",
       "      <td>0.382948</td>\n",
       "      <td>0.261057</td>\n",
       "      <td>0.643078</td>\n",
       "      <td>0.376777</td>\n",
       "      <td>0.008797</td>\n",
       "      <td>-0.473649</td>\n",
       "      <td>-0.818267</td>\n",
       "      <td>-0.002415</td>\n",
       "      <td>0.013649</td>\n",
       "      <td>217.00</td>\n",
       "      <td>0</td>\n",
       "    </tr>\n",
       "  </tbody>\n",
       "</table>\n",
       "<p>284807 rows × 31 columns</p>\n",
       "</div>"
      ],
      "text/plain": [
       "            Time         V1         V2        V3        V4        V5  \\\n",
       "0            0.0  -1.359807  -0.072781  2.536347  1.378155 -0.338321   \n",
       "1            0.0   1.191857   0.266151  0.166480  0.448154  0.060018   \n",
       "2            1.0  -1.358354  -1.340163  1.773209  0.379780 -0.503198   \n",
       "3            1.0  -0.966272  -0.185226  1.792993 -0.863291 -0.010309   \n",
       "4            2.0  -1.158233   0.877737  1.548718  0.403034 -0.407193   \n",
       "...          ...        ...        ...       ...       ...       ...   \n",
       "284802  172786.0 -11.881118  10.071785 -9.834783 -2.066656 -5.364473   \n",
       "284803  172787.0  -0.732789  -0.055080  2.035030 -0.738589  0.868229   \n",
       "284804  172788.0   1.919565  -0.301254 -3.249640 -0.557828  2.630515   \n",
       "284805  172788.0  -0.240440   0.530483  0.702510  0.689799 -0.377961   \n",
       "284806  172792.0  -0.533413  -0.189733  0.703337 -0.506271 -0.012546   \n",
       "\n",
       "              V6        V7        V8        V9       V10       V11       V12  \\\n",
       "0       0.462388  0.239599  0.098698  0.363787  0.090794 -0.551600 -0.617801   \n",
       "1      -0.082361 -0.078803  0.085102 -0.255425 -0.166974  1.612727  1.065235   \n",
       "2       1.800499  0.791461  0.247676 -1.514654  0.207643  0.624501  0.066084   \n",
       "3       1.247203  0.237609  0.377436 -1.387024 -0.054952 -0.226487  0.178228   \n",
       "4       0.095921  0.592941 -0.270533  0.817739  0.753074 -0.822843  0.538196   \n",
       "...          ...       ...       ...       ...       ...       ...       ...   \n",
       "284802 -2.606837 -4.918215  7.305334  1.914428  4.356170 -1.593105  2.711941   \n",
       "284803  1.058415  0.024330  0.294869  0.584800 -0.975926 -0.150189  0.915802   \n",
       "284804  3.031260 -0.296827  0.708417  0.432454 -0.484782  0.411614  0.063119   \n",
       "284805  0.623708 -0.686180  0.679145  0.392087 -0.399126 -1.933849 -0.962886   \n",
       "284806 -0.649617  1.577006 -0.414650  0.486180 -0.915427 -1.040458 -0.031513   \n",
       "\n",
       "             V13       V14       V15       V16       V17       V18       V19  \\\n",
       "0      -0.991390 -0.311169  1.468177 -0.470401  0.207971  0.025791  0.403993   \n",
       "1       0.489095 -0.143772  0.635558  0.463917 -0.114805 -0.183361 -0.145783   \n",
       "2       0.717293 -0.165946  2.345865 -2.890083  1.109969 -0.121359 -2.261857   \n",
       "3       0.507757 -0.287924 -0.631418 -1.059647 -0.684093  1.965775 -1.232622   \n",
       "4       1.345852 -1.119670  0.175121 -0.451449 -0.237033 -0.038195  0.803487   \n",
       "...          ...       ...       ...       ...       ...       ...       ...   \n",
       "284802 -0.689256  4.626942 -0.924459  1.107641  1.991691  0.510632 -0.682920   \n",
       "284803  1.214756 -0.675143  1.164931 -0.711757 -0.025693 -1.221179 -1.545556   \n",
       "284804 -0.183699 -0.510602  1.329284  0.140716  0.313502  0.395652 -0.577252   \n",
       "284805 -1.042082  0.449624  1.962563 -0.608577  0.509928  1.113981  2.897849   \n",
       "284806 -0.188093 -0.084316  0.041333 -0.302620 -0.660377  0.167430 -0.256117   \n",
       "\n",
       "             V20       V21       V22       V23       V24       V25       V26  \\\n",
       "0       0.251412 -0.018307  0.277838 -0.110474  0.066928  0.128539 -0.189115   \n",
       "1      -0.069083 -0.225775 -0.638672  0.101288 -0.339846  0.167170  0.125895   \n",
       "2       0.524980  0.247998  0.771679  0.909412 -0.689281 -0.327642 -0.139097   \n",
       "3      -0.208038 -0.108300  0.005274 -0.190321 -1.175575  0.647376 -0.221929   \n",
       "4       0.408542 -0.009431  0.798278 -0.137458  0.141267 -0.206010  0.502292   \n",
       "...          ...       ...       ...       ...       ...       ...       ...   \n",
       "284802  1.475829  0.213454  0.111864  1.014480 -0.509348  1.436807  0.250034   \n",
       "284803  0.059616  0.214205  0.924384  0.012463 -1.016226 -0.606624 -0.395255   \n",
       "284804  0.001396  0.232045  0.578229 -0.037501  0.640134  0.265745 -0.087371   \n",
       "284805  0.127434  0.265245  0.800049 -0.163298  0.123205 -0.569159  0.546668   \n",
       "284806  0.382948  0.261057  0.643078  0.376777  0.008797 -0.473649 -0.818267   \n",
       "\n",
       "             V27       V28  Amount  Class  \n",
       "0       0.133558 -0.021053  149.62      0  \n",
       "1      -0.008983  0.014724    2.69      0  \n",
       "2      -0.055353 -0.059752  378.66      0  \n",
       "3       0.062723  0.061458  123.50      0  \n",
       "4       0.219422  0.215153   69.99      0  \n",
       "...          ...       ...     ...    ...  \n",
       "284802  0.943651  0.823731    0.77      0  \n",
       "284803  0.068472 -0.053527   24.79      0  \n",
       "284804  0.004455 -0.026561   67.88      0  \n",
       "284805  0.108821  0.104533   10.00      0  \n",
       "284806 -0.002415  0.013649  217.00      0  \n",
       "\n",
       "[284807 rows x 31 columns]"
      ]
     },
     "execution_count": 3,
     "metadata": {},
     "output_type": "execute_result"
    }
   ],
   "source": [
    "df"
   ]
  },
  {
   "cell_type": "markdown",
   "metadata": {
    "id": "St9c_rxKs9BK"
   },
   "source": [
    "Наши данные были анонимизированы. Мы имеем 30 признаков, из которых 28 - это результаты PCA-преобразования на исходном датасете. Еще 2 признака представляют собой время в секундах, прошедшее с момента первой транзакции в датасете, и размер транзакции. Скажите, какова доля положительных объектов в выборке?"
   ]
  },
  {
   "cell_type": "code",
   "execution_count": 4,
   "metadata": {
    "id": "w5P1I6lgs9BL"
   },
   "outputs": [
    {
     "data": {
      "text/plain": [
       "0.001727485630620034"
      ]
     },
     "execution_count": 4,
     "metadata": {},
     "output_type": "execute_result"
    }
   ],
   "source": [
    "df['Class'].mean()"
   ]
  },
  {
   "cell_type": "markdown",
   "metadata": {
    "id": "eu2TTGCws9BL"
   },
   "source": [
    "Начнем с обработки времени. Секунды сами по себе не несут большой информации о зависимостях в данных, попробуйте по ним создать признаки \"час\" (от 0 до 23) и \"день\" (от 0 до ...) в аналогичной манере (принимая первый объект выборки за начальную точку). Сколько дней покрывают данные?"
   ]
  },
  {
   "cell_type": "code",
   "execution_count": 5,
   "metadata": {
    "id": "FW414k0js9BL"
   },
   "outputs": [],
   "source": [
    "df['day'] = df['Time'] / 60 / 60 // 24\n",
    "df['hour'] = (df['Time'] / 60 / 60 % 24).round()"
   ]
  },
  {
   "cell_type": "code",
   "execution_count": 6,
   "metadata": {},
   "outputs": [],
   "source": [
    "df = df.drop('Time', axis=1)"
   ]
  },
  {
   "cell_type": "markdown",
   "metadata": {
    "id": "QU5oagixs9BL"
   },
   "source": [
    "Постройте следующие графики:\n",
    "\n",
    "1. Распределение числа транзакций по каждому часу (line-plot).\n",
    "2. Распределение доли мошеннических транзакций по каждому часу (line-plot)\n",
    "3. То же самое для дней (здесь можно использовать bar-plot, так как дней должно быть немного).\n",
    "\n",
    "Какие выводы можно сделать из графиков? На ваш взгляд, как можно связать полученные нами часы с реальными часами в сутках?"
   ]
  },
  {
   "cell_type": "code",
   "execution_count": 7,
   "metadata": {
    "id": "DGozHHXxs9BM"
   },
   "outputs": [
    {
     "data": {
      "image/png": "[encoded data removed]",
      "text/plain": [
       "<Figure size 432x288 with 1 Axes>"
      ]
     },
     "metadata": {},
     "output_type": "display_data"
    }
   ],
   "source": [
    "# 1\n",
    "df['hour'].hist(bins=24);"
   ]
  },
  {
   "cell_type": "code",
   "execution_count": 8,
   "metadata": {},
   "outputs": [
    {
     "data": {
      "image/png": "[encoded data removed]",
      "text/plain": [
       "<Figure size 432x288 with 1 Axes>"
      ]
     },
     "metadata": {},
     "output_type": "display_data"
    }
   ],
   "source": [
    "# 2\n",
    "df.groupby('hour')['Class'].mean().plot.bar();"
   ]
  },
  {
   "cell_type": "code",
   "execution_count": 9,
   "metadata": {},
   "outputs": [
    {
     "data": {
      "image/png": "[encoded data removed]",
      "text/plain": [
       "<Figure size 432x288 with 1 Axes>"
      ]
     },
     "metadata": {},
     "output_type": "display_data"
    }
   ],
   "source": [
    "# day 1\n",
    "df['day'].hist(bins=2);"
   ]
  },
  {
   "cell_type": "code",
   "execution_count": 10,
   "metadata": {},
   "outputs": [
    {
     "data": {
      "image/png": "[encoded data removed]",
      "text/plain": [
       "<Figure size 432x288 with 1 Axes>"
      ]
     },
     "metadata": {},
     "output_type": "display_data"
    }
   ],
   "source": [
    "# day 2\n",
    "df.groupby('day')['Class'].mean().plot.bar();"
   ]
  },
  {
   "cell_type": "markdown",
   "metadata": {
    "id": "kl7hLlhBs9BM"
   },
   "source": [
    "С анонимизированными признаками вряд ли можно придумать что-то интересное. Попробуйте (например, с помощью корреляции?) выбрать несколько наиболее важных признаков и поглядеть на различия в их распределении для разных классов."
   ]
  },
  {
   "cell_type": "markdown",
   "metadata": {},
   "source": [
    "Выбрал порог 0.2"
   ]
  },
  {
   "cell_type": "code",
   "execution_count": 11,
   "metadata": {
    "id": "UfFy6Qhys9BM"
   },
   "outputs": [
    {
     "data": {
      "text/plain": [
       "V1        False\n",
       "V2        False\n",
       "V3        False\n",
       "V4        False\n",
       "V5        False\n",
       "V6        False\n",
       "V7        False\n",
       "V8        False\n",
       "V9        False\n",
       "V10        True\n",
       "V11       False\n",
       "V12        True\n",
       "V13       False\n",
       "V14        True\n",
       "V15       False\n",
       "V16       False\n",
       "V17        True\n",
       "V18       False\n",
       "V19       False\n",
       "V20       False\n",
       "V21       False\n",
       "V22       False\n",
       "V23       False\n",
       "V24       False\n",
       "V25       False\n",
       "V26       False\n",
       "V27       False\n",
       "V28       False\n",
       "Amount    False\n",
       "Class      True\n",
       "day       False\n",
       "hour      False\n",
       "Name: Class, dtype: bool"
      ]
     },
     "execution_count": 11,
     "metadata": {},
     "output_type": "execute_result"
    }
   ],
   "source": [
    "abs(df.corr()['Class']) > 0.2"
   ]
  },
  {
   "cell_type": "code",
   "execution_count": 12,
   "metadata": {},
   "outputs": [
    {
     "data": {
      "image/png": "[encoded data removed]",
      "text/plain": [
       "<Figure size 720x288 with 2 Axes>"
      ]
     },
     "metadata": {},
     "output_type": "display_data"
    }
   ],
   "source": [
    "fig, ax = plt.subplots(1, 2, figsize=(10, 4))\n",
    "ax[0].hist(df[df['Class'] == 0]['V10'])\n",
    "ax[0].set_title('0')\n",
    "ax[1].hist(df[df['Class'] == 1]['V10'])\n",
    "ax[1].set_title('1')\n",
    "fig.suptitle('V10');"
   ]
  },
  {
   "cell_type": "code",
   "execution_count": 13,
   "metadata": {},
   "outputs": [
    {
     "data": {
      "image/png": "[encoded data removed]",
      "text/plain": [
       "<Figure size 720x288 with 2 Axes>"
      ]
     },
     "metadata": {},
     "output_type": "display_data"
    }
   ],
   "source": [
    "fig, ax = plt.subplots(1, 2, figsize=(10, 4))\n",
    "ax[0].hist(df[df['Class'] == 0]['V12'])\n",
    "ax[0].set_title('0')\n",
    "ax[1].hist(df[df['Class'] == 1]['V12'])\n",
    "ax[1].set_title('1')\n",
    "fig.suptitle('V12');"
   ]
  },
  {
   "cell_type": "code",
   "execution_count": 14,
   "metadata": {},
   "outputs": [
    {
     "data": {
      "image/png": "[encoded data removed]",
      "text/plain": [
       "<Figure size 720x288 with 2 Axes>"
      ]
     },
     "metadata": {},
     "output_type": "display_data"
    }
   ],
   "source": [
    "fig, ax = plt.subplots(1, 2, figsize=(10, 4))\n",
    "ax[0].hist(df[df['Class'] == 0]['V14'])\n",
    "ax[0].set_title('0')\n",
    "ax[1].hist(df[df['Class'] == 1]['V14'])\n",
    "ax[1].set_title('1')\n",
    "fig.suptitle('V14');"
   ]
  },
  {
   "cell_type": "code",
   "execution_count": 15,
   "metadata": {},
   "outputs": [
    {
     "data": {
      "image/png": "[encoded data removed]",
      "text/plain": [
       "<Figure size 720x288 with 2 Axes>"
      ]
     },
     "metadata": {},
     "output_type": "display_data"
    }
   ],
   "source": [
    "fig, ax = plt.subplots(1, 2, figsize=(10, 4))\n",
    "ax[0].hist(df[df['Class'] == 0]['V17'])\n",
    "ax[0].set_title('0')\n",
    "ax[1].hist(df[df['Class'] == 1]['V17'])\n",
    "ax[1].set_title('1')\n",
    "fig.suptitle('V17');"
   ]
  },
  {
   "cell_type": "markdown",
   "metadata": {
    "id": "CxCb9nars9BM"
   },
   "source": [
    "Теперь давайте разделим данные. Отделите хронологически последние 20% транзакций и поделите их пополам (также хронологически, т.е. без перемешивания) на валидационные и тестовые. Это разбиение не совсем корректно (как можно было заметить, мошеннические транзакции имеют разное распределение во времени - по-хорошему, нам стоило бы выделить целые сутки записей как под валидацию, так и под тест), тем не менее, мы не сможем получить больше данных для адекватного контроля, поэтому обойдемся этим. "
   ]
  },
  {
   "cell_type": "code",
   "execution_count": 16,
   "metadata": {},
   "outputs": [],
   "source": [
    "size = df.shape[0]\n",
    "X_train = df.iloc[0: int(size * 0.8)]\n",
    "X_val = df.iloc[int(size * 0.8): int(size * 0.85)]\n",
    "X_test = df.iloc[int(size * 0.85): size + 1]"
   ]
  },
  {
   "cell_type": "markdown",
   "metadata": {
    "id": "a06ZUN0Ms9BN"
   },
   "source": [
    "# Часть 1. Несбалансированная классификация."
   ]
  },
  {
   "cell_type": "markdown",
   "metadata": {
    "id": "h6Gaot3Fs9BN"
   },
   "source": [
    "**Задание 0. (1 балл)**: перед началом работы давайте поговорим о том, как мы будем оценивать качество. Классические метрики для качества классификации чаще всего \"ломаются\" на задачах с сильным перекосом. Чему будет равно значение accuracy для наивного предсказания (= мажорный класс для каждого объекта)? (можете не отвечать, просто подумайте)\n",
    "\n",
    "Из курса МО-1 вам уже известно, что мы можем использовать в таких задачах `AUC-PR` и получать адекватные показатели. Можно сказать, что `AUC-PR` представляет собой матожидание `precision` по распределению, заданному выигрышем в `recall` при смене порога. "
   ]
  },
  {
   "cell_type": "code",
   "execution_count": 17,
   "metadata": {
    "id": "FN144XVps9BO"
   },
   "outputs": [],
   "source": [
    "from sklearn.metrics import precision_recall_curve, auc, average_precision_score"
   ]
  },
  {
   "cell_type": "markdown",
   "metadata": {
    "id": "haRPLskDs9BO"
   },
   "source": [
    "Тем не менее, существуют и другие, не менее интересные метрики. Одной из таких метрик является коэффициент Каппа Коэна, представляющий собой нормализованную `accuracy`:\n",
    "\n",
    "$$\\kappa = \\frac{p_o - p_e}{1 - p_e}$$\n",
    "\n",
    "Данная метрика служит в качестве меры согласованности между двумя независимыми предсказателями, но ничего не знает про \"верные\" и \"предсказанные\" метки (в отличие от многих других метрик машинного обучения). Здесь $p_o$ - доля согласованных предсказаний, а $p_e$ - доля согласованных предсказаний, которая могла бы получиться при случайных ответах предсказателей. В нашем случае это работает так:\n",
    "\n",
    "• В качестве $p_o$ берем accuracy\n",
    "\n",
    "• В качестве $p_e$ примем следующую величину - вероятность случайного соглашения позитивных ответов (произведение долей позитивных ответов в обоих предсказаниях) плюс вероятность случайного соглашения негативных ответов (произведение долей негативных ответов в обоих предсказаниях)\n",
    "\n",
    "Метрика принимает значения от -1 до 1, где 1 - полная согласованность, 0 - согласованность на уровне рандома, -1 - совсем плохо. Как уже говорилось, метрика не различает \"верные\" и \"предсказанные\" метки, поэтому является симметричной (можете использовать это для отладки):"
   ]
  },
  {
   "cell_type": "code",
   "execution_count": 18,
   "metadata": {
    "id": "LC4U_7ays9BO"
   },
   "outputs": [],
   "source": [
    "from sklearn.metrics import cohen_kappa_score"
   ]
  },
  {
   "cell_type": "markdown",
   "metadata": {
    "id": "vldIZwrMs9BP"
   },
   "source": [
    "Еще одной метрикой в такой задаче служит коэффициент корреляции Мэтьюза, выражающийся в терминах матрицы ошибок следующим образом:\n",
    "\n",
    "$$\\text{MCC} = \\frac{TP\\times TN - FP \\times FN}{\\sqrt{(TP+FP)(TP+FN)(TN+FP)(TN+FN)}}$$ \n",
    "\n",
    "Метрика принимает значения от -1 до 1, интерпретируемые аналогичным образом. "
   ]
  },
  {
   "cell_type": "code",
   "execution_count": 19,
   "metadata": {
    "id": "rsKSZScts9BP"
   },
   "outputs": [],
   "source": [
    "from sklearn.metrics import matthews_corrcoef"
   ]
  },
  {
   "cell_type": "markdown",
   "metadata": {
    "id": "GaOHYiZPs9BP"
   },
   "source": [
    "Обратите внимание, что эти метрики вычисляются на бинаризованных предсказаниях, поэтому может иметь смысл дополнительная настройка порога бинаризации."
   ]
  },
  {
   "cell_type": "markdown",
   "metadata": {
    "id": "TBsLuK2ds9BQ"
   },
   "source": [
    "Давайте проверим, что наши метрики действительно подходят под задачу. Вычислите их значения для наивного предсказания (aka мажорный класс для всех объектов):"
   ]
  },
  {
   "cell_type": "code",
   "execution_count": 20,
   "metadata": {
    "id": "LM_Q37gAs9BQ"
   },
   "outputs": [],
   "source": [
    "naive_pred = np.zeros(X_train.shape[0])"
   ]
  },
  {
   "cell_type": "code",
   "execution_count": 21,
   "metadata": {},
   "outputs": [
    {
     "data": {
      "text/plain": [
       "0.001830191577607584"
      ]
     },
     "execution_count": 21,
     "metadata": {},
     "output_type": "execute_result"
    }
   ],
   "source": [
    "average_precision_score(X_train['Class'], naive_pred)"
   ]
  },
  {
   "cell_type": "code",
   "execution_count": 22,
   "metadata": {},
   "outputs": [
    {
     "data": {
      "text/plain": [
       "0.0"
      ]
     },
     "execution_count": 22,
     "metadata": {},
     "output_type": "execute_result"
    }
   ],
   "source": [
    "cohen_kappa_score(X_train['Class'], naive_pred)"
   ]
  },
  {
   "cell_type": "code",
   "execution_count": 23,
   "metadata": {},
   "outputs": [
    {
     "name": "stderr",
     "output_type": "stream",
     "text": [
      "/opt/anaconda3/lib/python3.8/site-packages/sklearn/metrics/_classification.py:846: RuntimeWarning: invalid value encountered in double_scalars\n",
      "  mcc = cov_ytyp / np.sqrt(cov_ytyt * cov_ypyp)\n"
     ]
    },
    {
     "data": {
      "text/plain": [
       "0.0"
      ]
     },
     "execution_count": 23,
     "metadata": {},
     "output_type": "execute_result"
    }
   ],
   "source": [
    "matthews_corrcoef(X_train['Class'], naive_pred)"
   ]
  },
  {
   "cell_type": "markdown",
   "metadata": {
    "id": "nwryyw3ts9BQ"
   },
   "source": [
    "Давайте запустим бейзлайн-решение для нашей задачи. С чего же начнем? Возьмите `catboost` и обучите его классификатор на наших данных (используйте все признаки). Вычислите значения всех метрик на тестовой части, для контроля переобучения используйте валидационную (здесь и далее везде, где фигурирует `catboost`). "
   ]
  },
  {
   "cell_type": "code",
   "execution_count": 24,
   "metadata": {},
   "outputs": [],
   "source": [
    "import sys\n",
    "sys.path.append('/Users/leon/Documents/Всячина/MyPython/PC/venv/lib/python3.8/site-packages/')"
   ]
  },
  {
   "cell_type": "code",
   "execution_count": 25,
   "metadata": {
    "id": "C3R-MRd7s9BQ"
   },
   "outputs": [],
   "source": [
    "from catboost import CatBoostClassifier"
   ]
  },
  {
   "cell_type": "code",
   "execution_count": 26,
   "metadata": {
    "id": "ZFFhboVQs9BR"
   },
   "outputs": [],
   "source": [
    "cat = CatBoostClassifier()"
   ]
  },
  {
   "cell_type": "code",
   "execution_count": 27,
   "metadata": {
    "collapsed": true
   },
   "outputs": [
    {
     "name": "stdout",
     "output_type": "stream",
     "text": [
      "Learning rate set to 0.104628\n",
      "0:\tlearn: 0.3623370\ttotal: 84.5ms\tremaining: 1m 24s\n",
      "1:\tlearn: 0.1885549\ttotal: 103ms\tremaining: 51.6s\n",
      "2:\tlearn: 0.0989066\ttotal: 122ms\tremaining: 40.6s\n",
      "3:\tlearn: 0.0549181\ttotal: 141ms\tremaining: 35.1s\n",
      "4:\tlearn: 0.0332784\ttotal: 160ms\tremaining: 31.9s\n",
      "5:\tlearn: 0.0210836\ttotal: 180ms\tremaining: 29.8s\n",
      "6:\tlearn: 0.0141629\ttotal: 207ms\tremaining: 29.3s\n",
      "7:\tlearn: 0.0098962\ttotal: 229ms\tremaining: 28.4s\n",
      "8:\tlearn: 0.0074364\ttotal: 243ms\tremaining: 26.8s\n",
      "9:\tlearn: 0.0060318\ttotal: 258ms\tremaining: 25.6s\n",
      "10:\tlearn: 0.0051046\ttotal: 274ms\tremaining: 24.6s\n",
      "11:\tlearn: 0.0043935\ttotal: 289ms\tremaining: 23.8s\n",
      "12:\tlearn: 0.0039370\ttotal: 304ms\tremaining: 23.1s\n",
      "13:\tlearn: 0.0036136\ttotal: 320ms\tremaining: 22.5s\n",
      "14:\tlearn: 0.0033369\ttotal: 334ms\tremaining: 21.9s\n",
      "15:\tlearn: 0.0031616\ttotal: 350ms\tremaining: 21.5s\n",
      "16:\tlearn: 0.0030382\ttotal: 364ms\tremaining: 21s\n",
      "17:\tlearn: 0.0029473\ttotal: 379ms\tremaining: 20.7s\n",
      "18:\tlearn: 0.0028496\ttotal: 399ms\tremaining: 20.6s\n",
      "19:\tlearn: 0.0027735\ttotal: 421ms\tremaining: 20.6s\n",
      "20:\tlearn: 0.0026882\ttotal: 437ms\tremaining: 20.4s\n",
      "21:\tlearn: 0.0026513\ttotal: 455ms\tremaining: 20.2s\n",
      "22:\tlearn: 0.0025931\ttotal: 470ms\tremaining: 20s\n",
      "23:\tlearn: 0.0025624\ttotal: 486ms\tremaining: 19.7s\n",
      "24:\tlearn: 0.0025331\ttotal: 502ms\tremaining: 19.6s\n",
      "25:\tlearn: 0.0025004\ttotal: 518ms\tremaining: 19.4s\n",
      "26:\tlearn: 0.0024817\ttotal: 532ms\tremaining: 19.2s\n",
      "27:\tlearn: 0.0024222\ttotal: 547ms\tremaining: 19s\n",
      "28:\tlearn: 0.0023800\ttotal: 562ms\tremaining: 18.8s\n",
      "29:\tlearn: 0.0023608\ttotal: 577ms\tremaining: 18.7s\n",
      "30:\tlearn: 0.0023389\ttotal: 596ms\tremaining: 18.6s\n",
      "31:\tlearn: 0.0023146\ttotal: 612ms\tremaining: 18.5s\n",
      "32:\tlearn: 0.0022845\ttotal: 628ms\tremaining: 18.4s\n",
      "33:\tlearn: 0.0022561\ttotal: 643ms\tremaining: 18.3s\n",
      "34:\tlearn: 0.0022296\ttotal: 658ms\tremaining: 18.1s\n",
      "35:\tlearn: 0.0022218\ttotal: 672ms\tremaining: 18s\n",
      "36:\tlearn: 0.0022122\ttotal: 687ms\tremaining: 17.9s\n",
      "37:\tlearn: 0.0021984\ttotal: 701ms\tremaining: 17.7s\n",
      "38:\tlearn: 0.0021821\ttotal: 716ms\tremaining: 17.6s\n",
      "39:\tlearn: 0.0021552\ttotal: 731ms\tremaining: 17.5s\n",
      "40:\tlearn: 0.0021416\ttotal: 747ms\tremaining: 17.5s\n",
      "41:\tlearn: 0.0021356\ttotal: 762ms\tremaining: 17.4s\n",
      "42:\tlearn: 0.0021236\ttotal: 777ms\tremaining: 17.3s\n",
      "43:\tlearn: 0.0021113\ttotal: 794ms\tremaining: 17.3s\n",
      "44:\tlearn: 0.0020808\ttotal: 813ms\tremaining: 17.3s\n",
      "45:\tlearn: 0.0020703\ttotal: 828ms\tremaining: 17.2s\n",
      "46:\tlearn: 0.0020537\ttotal: 843ms\tremaining: 17.1s\n",
      "47:\tlearn: 0.0020485\ttotal: 857ms\tremaining: 17s\n",
      "48:\tlearn: 0.0020406\ttotal: 872ms\tremaining: 16.9s\n",
      "49:\tlearn: 0.0020196\ttotal: 887ms\tremaining: 16.9s\n",
      "50:\tlearn: 0.0020111\ttotal: 905ms\tremaining: 16.8s\n",
      "51:\tlearn: 0.0019843\ttotal: 921ms\tremaining: 16.8s\n",
      "52:\tlearn: 0.0019687\ttotal: 937ms\tremaining: 16.7s\n",
      "53:\tlearn: 0.0019559\ttotal: 951ms\tremaining: 16.7s\n",
      "54:\tlearn: 0.0019457\ttotal: 967ms\tremaining: 16.6s\n",
      "55:\tlearn: 0.0019394\ttotal: 986ms\tremaining: 16.6s\n",
      "56:\tlearn: 0.0019270\ttotal: 1s\tremaining: 16.6s\n",
      "57:\tlearn: 0.0019150\ttotal: 1.02s\tremaining: 16.6s\n",
      "58:\tlearn: 0.0019034\ttotal: 1.04s\tremaining: 16.6s\n",
      "59:\tlearn: 0.0018951\ttotal: 1.06s\tremaining: 16.6s\n",
      "60:\tlearn: 0.0018843\ttotal: 1.07s\tremaining: 16.5s\n",
      "61:\tlearn: 0.0018756\ttotal: 1.09s\tremaining: 16.4s\n",
      "62:\tlearn: 0.0018664\ttotal: 1.1s\tremaining: 16.4s\n",
      "63:\tlearn: 0.0018492\ttotal: 1.12s\tremaining: 16.3s\n",
      "64:\tlearn: 0.0018425\ttotal: 1.13s\tremaining: 16.3s\n",
      "65:\tlearn: 0.0018361\ttotal: 1.15s\tremaining: 16.3s\n",
      "66:\tlearn: 0.0018240\ttotal: 1.17s\tremaining: 16.2s\n",
      "67:\tlearn: 0.0018059\ttotal: 1.18s\tremaining: 16.2s\n",
      "68:\tlearn: 0.0017961\ttotal: 1.2s\tremaining: 16.2s\n",
      "69:\tlearn: 0.0017882\ttotal: 1.22s\tremaining: 16.2s\n",
      "70:\tlearn: 0.0017785\ttotal: 1.24s\tremaining: 16.2s\n",
      "71:\tlearn: 0.0017754\ttotal: 1.25s\tremaining: 16.1s\n",
      "72:\tlearn: 0.0017709\ttotal: 1.27s\tremaining: 16.1s\n",
      "73:\tlearn: 0.0017631\ttotal: 1.28s\tremaining: 16.1s\n",
      "74:\tlearn: 0.0017587\ttotal: 1.3s\tremaining: 16.1s\n",
      "75:\tlearn: 0.0017528\ttotal: 1.32s\tremaining: 16s\n",
      "76:\tlearn: 0.0017487\ttotal: 1.33s\tremaining: 16s\n",
      "77:\tlearn: 0.0017434\ttotal: 1.35s\tremaining: 15.9s\n",
      "78:\tlearn: 0.0017355\ttotal: 1.36s\tremaining: 15.9s\n",
      "79:\tlearn: 0.0017294\ttotal: 1.38s\tremaining: 15.9s\n",
      "80:\tlearn: 0.0017202\ttotal: 1.4s\tremaining: 15.8s\n",
      "81:\tlearn: 0.0017100\ttotal: 1.42s\tremaining: 15.9s\n",
      "82:\tlearn: 0.0017052\ttotal: 1.43s\tremaining: 15.8s\n",
      "83:\tlearn: 0.0016935\ttotal: 1.45s\tremaining: 15.8s\n",
      "84:\tlearn: 0.0016878\ttotal: 1.47s\tremaining: 15.8s\n",
      "85:\tlearn: 0.0016799\ttotal: 1.48s\tremaining: 15.8s\n",
      "86:\tlearn: 0.0016718\ttotal: 1.5s\tremaining: 15.7s\n",
      "87:\tlearn: 0.0016593\ttotal: 1.51s\tremaining: 15.7s\n",
      "88:\tlearn: 0.0016525\ttotal: 1.53s\tremaining: 15.7s\n",
      "89:\tlearn: 0.0016451\ttotal: 1.55s\tremaining: 15.6s\n",
      "90:\tlearn: 0.0016363\ttotal: 1.56s\tremaining: 15.6s\n",
      "91:\tlearn: 0.0016308\ttotal: 1.58s\tremaining: 15.6s\n",
      "92:\tlearn: 0.0016264\ttotal: 1.59s\tremaining: 15.6s\n",
      "93:\tlearn: 0.0016161\ttotal: 1.61s\tremaining: 15.6s\n",
      "94:\tlearn: 0.0016130\ttotal: 1.63s\tremaining: 15.6s\n",
      "95:\tlearn: 0.0015940\ttotal: 1.65s\tremaining: 15.6s\n",
      "96:\tlearn: 0.0015886\ttotal: 1.67s\tremaining: 15.5s\n",
      "97:\tlearn: 0.0015820\ttotal: 1.69s\tremaining: 15.5s\n",
      "98:\tlearn: 0.0015725\ttotal: 1.7s\tremaining: 15.5s\n",
      "99:\tlearn: 0.0015684\ttotal: 1.72s\tremaining: 15.5s\n",
      "100:\tlearn: 0.0015652\ttotal: 1.74s\tremaining: 15.5s\n",
      "101:\tlearn: 0.0015575\ttotal: 1.75s\tremaining: 15.4s\n",
      "102:\tlearn: 0.0015488\ttotal: 1.77s\tremaining: 15.4s\n",
      "103:\tlearn: 0.0015386\ttotal: 1.79s\tremaining: 15.4s\n",
      "104:\tlearn: 0.0015303\ttotal: 1.81s\tremaining: 15.4s\n",
      "105:\tlearn: 0.0015183\ttotal: 1.83s\tremaining: 15.5s\n",
      "106:\tlearn: 0.0015129\ttotal: 1.86s\tremaining: 15.5s\n",
      "107:\tlearn: 0.0015054\ttotal: 1.88s\tremaining: 15.5s\n",
      "108:\tlearn: 0.0014896\ttotal: 1.89s\tremaining: 15.5s\n",
      "109:\tlearn: 0.0014871\ttotal: 1.91s\tremaining: 15.5s\n",
      "110:\tlearn: 0.0014829\ttotal: 1.93s\tremaining: 15.4s\n",
      "111:\tlearn: 0.0014778\ttotal: 1.94s\tremaining: 15.4s\n",
      "112:\tlearn: 0.0014739\ttotal: 1.96s\tremaining: 15.4s\n",
      "113:\tlearn: 0.0014597\ttotal: 1.98s\tremaining: 15.4s\n",
      "114:\tlearn: 0.0014543\ttotal: 2s\tremaining: 15.4s\n",
      "115:\tlearn: 0.0014484\ttotal: 2.02s\tremaining: 15.4s\n",
      "116:\tlearn: 0.0014417\ttotal: 2.04s\tremaining: 15.4s\n",
      "117:\tlearn: 0.0014305\ttotal: 2.06s\tremaining: 15.4s\n",
      "118:\tlearn: 0.0014233\ttotal: 2.08s\tremaining: 15.4s\n",
      "119:\tlearn: 0.0014182\ttotal: 2.1s\tremaining: 15.4s\n",
      "120:\tlearn: 0.0014123\ttotal: 2.12s\tremaining: 15.4s\n",
      "121:\tlearn: 0.0014080\ttotal: 2.14s\tremaining: 15.4s\n",
      "122:\tlearn: 0.0014017\ttotal: 2.17s\tremaining: 15.4s\n",
      "123:\tlearn: 0.0013988\ttotal: 2.18s\tremaining: 15.4s\n",
      "124:\tlearn: 0.0013942\ttotal: 2.2s\tremaining: 15.4s\n",
      "125:\tlearn: 0.0013886\ttotal: 2.22s\tremaining: 15.4s\n",
      "126:\tlearn: 0.0013864\ttotal: 2.24s\tremaining: 15.4s\n",
      "127:\tlearn: 0.0013817\ttotal: 2.26s\tremaining: 15.4s\n",
      "128:\tlearn: 0.0013799\ttotal: 2.27s\tremaining: 15.4s\n",
      "129:\tlearn: 0.0013756\ttotal: 2.29s\tremaining: 15.3s\n",
      "130:\tlearn: 0.0013721\ttotal: 2.31s\tremaining: 15.3s\n",
      "131:\tlearn: 0.0013677\ttotal: 2.33s\tremaining: 15.3s\n",
      "132:\tlearn: 0.0013615\ttotal: 2.34s\tremaining: 15.3s\n",
      "133:\tlearn: 0.0013531\ttotal: 2.36s\tremaining: 15.3s\n",
      "134:\tlearn: 0.0013509\ttotal: 2.38s\tremaining: 15.2s\n",
      "135:\tlearn: 0.0013450\ttotal: 2.39s\tremaining: 15.2s\n",
      "136:\tlearn: 0.0013403\ttotal: 2.41s\tremaining: 15.2s\n",
      "137:\tlearn: 0.0013380\ttotal: 2.42s\tremaining: 15.1s\n",
      "138:\tlearn: 0.0013330\ttotal: 2.45s\tremaining: 15.2s\n",
      "139:\tlearn: 0.0013298\ttotal: 2.46s\tremaining: 15.1s\n",
      "140:\tlearn: 0.0013282\ttotal: 2.48s\tremaining: 15.1s\n",
      "141:\tlearn: 0.0013238\ttotal: 2.5s\tremaining: 15.1s\n",
      "142:\tlearn: 0.0013201\ttotal: 2.51s\tremaining: 15.1s\n",
      "143:\tlearn: 0.0013159\ttotal: 2.53s\tremaining: 15.1s\n",
      "144:\tlearn: 0.0013132\ttotal: 2.55s\tremaining: 15s\n",
      "145:\tlearn: 0.0013076\ttotal: 2.57s\tremaining: 15s\n",
      "146:\tlearn: 0.0013064\ttotal: 2.58s\tremaining: 15s\n",
      "147:\tlearn: 0.0013035\ttotal: 2.6s\tremaining: 15s\n",
      "148:\tlearn: 0.0013016\ttotal: 2.62s\tremaining: 15s\n",
      "149:\tlearn: 0.0012990\ttotal: 2.64s\tremaining: 14.9s\n",
      "150:\tlearn: 0.0012973\ttotal: 2.65s\tremaining: 14.9s\n",
      "151:\tlearn: 0.0012948\ttotal: 2.67s\tremaining: 14.9s\n",
      "152:\tlearn: 0.0012876\ttotal: 2.69s\tremaining: 14.9s\n",
      "153:\tlearn: 0.0012850\ttotal: 2.71s\tremaining: 14.9s\n",
      "154:\tlearn: 0.0012828\ttotal: 2.72s\tremaining: 14.8s\n",
      "155:\tlearn: 0.0012811\ttotal: 2.73s\tremaining: 14.8s\n",
      "156:\tlearn: 0.0012787\ttotal: 2.75s\tremaining: 14.8s\n",
      "157:\tlearn: 0.0012766\ttotal: 2.77s\tremaining: 14.8s\n",
      "158:\tlearn: 0.0012752\ttotal: 2.78s\tremaining: 14.7s\n",
      "159:\tlearn: 0.0012725\ttotal: 2.8s\tremaining: 14.7s\n",
      "160:\tlearn: 0.0012693\ttotal: 2.82s\tremaining: 14.7s\n",
      "161:\tlearn: 0.0012655\ttotal: 2.83s\tremaining: 14.6s\n"
     ]
    },
    {
     "name": "stdout",
     "output_type": "stream",
     "text": [
      "162:\tlearn: 0.0012630\ttotal: 2.85s\tremaining: 14.6s\n",
      "163:\tlearn: 0.0012600\ttotal: 2.88s\tremaining: 14.7s\n",
      "164:\tlearn: 0.0012582\ttotal: 2.9s\tremaining: 14.7s\n",
      "165:\tlearn: 0.0012562\ttotal: 2.92s\tremaining: 14.7s\n",
      "166:\tlearn: 0.0012532\ttotal: 2.94s\tremaining: 14.6s\n",
      "167:\tlearn: 0.0012523\ttotal: 2.95s\tremaining: 14.6s\n",
      "168:\tlearn: 0.0012509\ttotal: 2.97s\tremaining: 14.6s\n",
      "169:\tlearn: 0.0012453\ttotal: 2.98s\tremaining: 14.6s\n",
      "170:\tlearn: 0.0012400\ttotal: 3s\tremaining: 14.6s\n",
      "171:\tlearn: 0.0012374\ttotal: 3.02s\tremaining: 14.5s\n",
      "172:\tlearn: 0.0012354\ttotal: 3.03s\tremaining: 14.5s\n",
      "173:\tlearn: 0.0012311\ttotal: 3.06s\tremaining: 14.5s\n",
      "174:\tlearn: 0.0012261\ttotal: 3.07s\tremaining: 14.5s\n",
      "175:\tlearn: 0.0012152\ttotal: 3.1s\tremaining: 14.5s\n",
      "176:\tlearn: 0.0012137\ttotal: 3.12s\tremaining: 14.5s\n",
      "177:\tlearn: 0.0012088\ttotal: 3.13s\tremaining: 14.5s\n",
      "178:\tlearn: 0.0012074\ttotal: 3.15s\tremaining: 14.4s\n",
      "179:\tlearn: 0.0012042\ttotal: 3.17s\tremaining: 14.4s\n",
      "180:\tlearn: 0.0011988\ttotal: 3.18s\tremaining: 14.4s\n",
      "181:\tlearn: 0.0011981\ttotal: 3.2s\tremaining: 14.4s\n",
      "182:\tlearn: 0.0011938\ttotal: 3.21s\tremaining: 14.3s\n",
      "183:\tlearn: 0.0011925\ttotal: 3.23s\tremaining: 14.3s\n",
      "184:\tlearn: 0.0011881\ttotal: 3.25s\tremaining: 14.3s\n",
      "185:\tlearn: 0.0011852\ttotal: 3.26s\tremaining: 14.3s\n",
      "186:\tlearn: 0.0011846\ttotal: 3.28s\tremaining: 14.3s\n",
      "187:\tlearn: 0.0011829\ttotal: 3.3s\tremaining: 14.3s\n",
      "188:\tlearn: 0.0011815\ttotal: 3.32s\tremaining: 14.2s\n",
      "189:\tlearn: 0.0011791\ttotal: 3.33s\tremaining: 14.2s\n",
      "190:\tlearn: 0.0011679\ttotal: 3.35s\tremaining: 14.2s\n",
      "191:\tlearn: 0.0011663\ttotal: 3.37s\tremaining: 14.2s\n",
      "192:\tlearn: 0.0011629\ttotal: 3.38s\tremaining: 14.2s\n",
      "193:\tlearn: 0.0011618\ttotal: 3.4s\tremaining: 14.1s\n",
      "194:\tlearn: 0.0011608\ttotal: 3.42s\tremaining: 14.1s\n",
      "195:\tlearn: 0.0011571\ttotal: 3.43s\tremaining: 14.1s\n",
      "196:\tlearn: 0.0011564\ttotal: 3.45s\tremaining: 14.1s\n",
      "197:\tlearn: 0.0011546\ttotal: 3.46s\tremaining: 14s\n",
      "198:\tlearn: 0.0011519\ttotal: 3.48s\tremaining: 14s\n",
      "199:\tlearn: 0.0011495\ttotal: 3.5s\tremaining: 14s\n",
      "200:\tlearn: 0.0011459\ttotal: 3.51s\tremaining: 14s\n",
      "201:\tlearn: 0.0011454\ttotal: 3.53s\tremaining: 13.9s\n",
      "202:\tlearn: 0.0011433\ttotal: 3.54s\tremaining: 13.9s\n",
      "203:\tlearn: 0.0011395\ttotal: 3.56s\tremaining: 13.9s\n",
      "204:\tlearn: 0.0011367\ttotal: 3.57s\tremaining: 13.9s\n",
      "205:\tlearn: 0.0011304\ttotal: 3.59s\tremaining: 13.8s\n",
      "206:\tlearn: 0.0011277\ttotal: 3.6s\tremaining: 13.8s\n",
      "207:\tlearn: 0.0011242\ttotal: 3.62s\tremaining: 13.8s\n",
      "208:\tlearn: 0.0011224\ttotal: 3.63s\tremaining: 13.8s\n",
      "209:\tlearn: 0.0011169\ttotal: 3.65s\tremaining: 13.7s\n",
      "210:\tlearn: 0.0011144\ttotal: 3.66s\tremaining: 13.7s\n",
      "211:\tlearn: 0.0011136\ttotal: 3.68s\tremaining: 13.7s\n",
      "212:\tlearn: 0.0011075\ttotal: 3.7s\tremaining: 13.7s\n",
      "213:\tlearn: 0.0011057\ttotal: 3.71s\tremaining: 13.6s\n",
      "214:\tlearn: 0.0011040\ttotal: 3.73s\tremaining: 13.6s\n",
      "215:\tlearn: 0.0011018\ttotal: 3.75s\tremaining: 13.6s\n",
      "216:\tlearn: 0.0010976\ttotal: 3.76s\tremaining: 13.6s\n",
      "217:\tlearn: 0.0010955\ttotal: 3.77s\tremaining: 13.5s\n",
      "218:\tlearn: 0.0010939\ttotal: 3.79s\tremaining: 13.5s\n",
      "219:\tlearn: 0.0010847\ttotal: 3.81s\tremaining: 13.5s\n",
      "220:\tlearn: 0.0010810\ttotal: 3.82s\tremaining: 13.5s\n",
      "221:\tlearn: 0.0010794\ttotal: 3.83s\tremaining: 13.4s\n",
      "222:\tlearn: 0.0010723\ttotal: 3.85s\tremaining: 13.4s\n",
      "223:\tlearn: 0.0010688\ttotal: 3.88s\tremaining: 13.4s\n",
      "224:\tlearn: 0.0010672\ttotal: 3.9s\tremaining: 13.4s\n",
      "225:\tlearn: 0.0010654\ttotal: 3.92s\tremaining: 13.4s\n",
      "226:\tlearn: 0.0010624\ttotal: 3.94s\tremaining: 13.4s\n",
      "227:\tlearn: 0.0010583\ttotal: 3.96s\tremaining: 13.4s\n",
      "228:\tlearn: 0.0010559\ttotal: 3.97s\tremaining: 13.4s\n",
      "229:\tlearn: 0.0010537\ttotal: 3.99s\tremaining: 13.4s\n",
      "230:\tlearn: 0.0010519\ttotal: 4.01s\tremaining: 13.3s\n",
      "231:\tlearn: 0.0010504\ttotal: 4.02s\tremaining: 13.3s\n",
      "232:\tlearn: 0.0010489\ttotal: 4.04s\tremaining: 13.3s\n",
      "233:\tlearn: 0.0010438\ttotal: 4.05s\tremaining: 13.3s\n",
      "234:\tlearn: 0.0010419\ttotal: 4.07s\tremaining: 13.2s\n",
      "235:\tlearn: 0.0010393\ttotal: 4.08s\tremaining: 13.2s\n",
      "236:\tlearn: 0.0010377\ttotal: 4.1s\tremaining: 13.2s\n",
      "237:\tlearn: 0.0010371\ttotal: 4.12s\tremaining: 13.2s\n",
      "238:\tlearn: 0.0010357\ttotal: 4.13s\tremaining: 13.2s\n",
      "239:\tlearn: 0.0010330\ttotal: 4.14s\tremaining: 13.1s\n",
      "240:\tlearn: 0.0010307\ttotal: 4.16s\tremaining: 13.1s\n",
      "241:\tlearn: 0.0010282\ttotal: 4.17s\tremaining: 13.1s\n",
      "242:\tlearn: 0.0010248\ttotal: 4.19s\tremaining: 13.1s\n",
      "243:\tlearn: 0.0010230\ttotal: 4.21s\tremaining: 13s\n",
      "244:\tlearn: 0.0010226\ttotal: 4.22s\tremaining: 13s\n",
      "245:\tlearn: 0.0010208\ttotal: 4.23s\tremaining: 13s\n",
      "246:\tlearn: 0.0010188\ttotal: 4.25s\tremaining: 13s\n",
      "247:\tlearn: 0.0010173\ttotal: 4.27s\tremaining: 12.9s\n",
      "248:\tlearn: 0.0010129\ttotal: 4.28s\tremaining: 12.9s\n",
      "249:\tlearn: 0.0010116\ttotal: 4.3s\tremaining: 12.9s\n",
      "250:\tlearn: 0.0010094\ttotal: 4.32s\tremaining: 12.9s\n",
      "251:\tlearn: 0.0010019\ttotal: 4.33s\tremaining: 12.9s\n",
      "252:\tlearn: 0.0010007\ttotal: 4.35s\tremaining: 12.8s\n",
      "253:\tlearn: 0.0009945\ttotal: 4.36s\tremaining: 12.8s\n",
      "254:\tlearn: 0.0009884\ttotal: 4.38s\tremaining: 12.8s\n",
      "255:\tlearn: 0.0009870\ttotal: 4.39s\tremaining: 12.8s\n",
      "256:\tlearn: 0.0009843\ttotal: 4.41s\tremaining: 12.7s\n",
      "257:\tlearn: 0.0009798\ttotal: 4.42s\tremaining: 12.7s\n",
      "258:\tlearn: 0.0009774\ttotal: 4.44s\tremaining: 12.7s\n",
      "259:\tlearn: 0.0009759\ttotal: 4.45s\tremaining: 12.7s\n",
      "260:\tlearn: 0.0009745\ttotal: 4.47s\tremaining: 12.7s\n",
      "261:\tlearn: 0.0009677\ttotal: 4.49s\tremaining: 12.6s\n",
      "262:\tlearn: 0.0009634\ttotal: 4.5s\tremaining: 12.6s\n",
      "263:\tlearn: 0.0009600\ttotal: 4.52s\tremaining: 12.6s\n",
      "264:\tlearn: 0.0009582\ttotal: 4.54s\tremaining: 12.6s\n",
      "265:\tlearn: 0.0009544\ttotal: 4.55s\tremaining: 12.6s\n",
      "266:\tlearn: 0.0009505\ttotal: 4.57s\tremaining: 12.5s\n",
      "267:\tlearn: 0.0009487\ttotal: 4.58s\tremaining: 12.5s\n",
      "268:\tlearn: 0.0009477\ttotal: 4.59s\tremaining: 12.5s\n",
      "269:\tlearn: 0.0009452\ttotal: 4.61s\tremaining: 12.5s\n",
      "270:\tlearn: 0.0009437\ttotal: 4.62s\tremaining: 12.4s\n",
      "271:\tlearn: 0.0009416\ttotal: 4.64s\tremaining: 12.4s\n",
      "272:\tlearn: 0.0009397\ttotal: 4.65s\tremaining: 12.4s\n",
      "273:\tlearn: 0.0009360\ttotal: 4.67s\tremaining: 12.4s\n",
      "274:\tlearn: 0.0009346\ttotal: 4.68s\tremaining: 12.3s\n",
      "275:\tlearn: 0.0009314\ttotal: 4.7s\tremaining: 12.3s\n",
      "276:\tlearn: 0.0009297\ttotal: 4.71s\tremaining: 12.3s\n",
      "277:\tlearn: 0.0009284\ttotal: 4.73s\tremaining: 12.3s\n",
      "278:\tlearn: 0.0009226\ttotal: 4.75s\tremaining: 12.3s\n",
      "279:\tlearn: 0.0009217\ttotal: 4.76s\tremaining: 12.2s\n",
      "280:\tlearn: 0.0009211\ttotal: 4.77s\tremaining: 12.2s\n",
      "281:\tlearn: 0.0009122\ttotal: 4.79s\tremaining: 12.2s\n",
      "282:\tlearn: 0.0009085\ttotal: 4.81s\tremaining: 12.2s\n",
      "283:\tlearn: 0.0009049\ttotal: 4.82s\tremaining: 12.2s\n",
      "284:\tlearn: 0.0009020\ttotal: 4.84s\tremaining: 12.1s\n",
      "285:\tlearn: 0.0009003\ttotal: 4.85s\tremaining: 12.1s\n",
      "286:\tlearn: 0.0008984\ttotal: 4.87s\tremaining: 12.1s\n",
      "287:\tlearn: 0.0008920\ttotal: 4.88s\tremaining: 12.1s\n",
      "288:\tlearn: 0.0008908\ttotal: 4.9s\tremaining: 12s\n",
      "289:\tlearn: 0.0008895\ttotal: 4.92s\tremaining: 12s\n",
      "290:\tlearn: 0.0008886\ttotal: 4.93s\tremaining: 12s\n",
      "291:\tlearn: 0.0008875\ttotal: 4.94s\tremaining: 12s\n",
      "292:\tlearn: 0.0008853\ttotal: 4.96s\tremaining: 12s\n",
      "293:\tlearn: 0.0008791\ttotal: 4.98s\tremaining: 11.9s\n",
      "294:\tlearn: 0.0008773\ttotal: 4.99s\tremaining: 11.9s\n",
      "295:\tlearn: 0.0008717\ttotal: 5s\tremaining: 11.9s\n",
      "296:\tlearn: 0.0008705\ttotal: 5.02s\tremaining: 11.9s\n",
      "297:\tlearn: 0.0008632\ttotal: 5.04s\tremaining: 11.9s\n",
      "298:\tlearn: 0.0008599\ttotal: 5.05s\tremaining: 11.8s\n",
      "299:\tlearn: 0.0008575\ttotal: 5.07s\tremaining: 11.8s\n",
      "300:\tlearn: 0.0008553\ttotal: 5.08s\tremaining: 11.8s\n",
      "301:\tlearn: 0.0008456\ttotal: 5.1s\tremaining: 11.8s\n",
      "302:\tlearn: 0.0008427\ttotal: 5.11s\tremaining: 11.8s\n",
      "303:\tlearn: 0.0008395\ttotal: 5.13s\tremaining: 11.8s\n",
      "304:\tlearn: 0.0008379\ttotal: 5.15s\tremaining: 11.7s\n",
      "305:\tlearn: 0.0008350\ttotal: 5.16s\tremaining: 11.7s\n",
      "306:\tlearn: 0.0008302\ttotal: 5.18s\tremaining: 11.7s\n",
      "307:\tlearn: 0.0008278\ttotal: 5.2s\tremaining: 11.7s\n",
      "308:\tlearn: 0.0008265\ttotal: 5.21s\tremaining: 11.7s\n",
      "309:\tlearn: 0.0008231\ttotal: 5.23s\tremaining: 11.6s\n",
      "310:\tlearn: 0.0008209\ttotal: 5.24s\tremaining: 11.6s\n",
      "311:\tlearn: 0.0008179\ttotal: 5.26s\tremaining: 11.6s\n",
      "312:\tlearn: 0.0008139\ttotal: 5.27s\tremaining: 11.6s\n",
      "313:\tlearn: 0.0008108\ttotal: 5.29s\tremaining: 11.6s\n",
      "314:\tlearn: 0.0008075\ttotal: 5.3s\tremaining: 11.5s\n",
      "315:\tlearn: 0.0008021\ttotal: 5.32s\tremaining: 11.5s\n",
      "316:\tlearn: 0.0008005\ttotal: 5.34s\tremaining: 11.5s\n",
      "317:\tlearn: 0.0007991\ttotal: 5.35s\tremaining: 11.5s\n",
      "318:\tlearn: 0.0007977\ttotal: 5.36s\tremaining: 11.5s\n",
      "319:\tlearn: 0.0007950\ttotal: 5.38s\tremaining: 11.4s\n",
      "320:\tlearn: 0.0007899\ttotal: 5.4s\tremaining: 11.4s\n",
      "321:\tlearn: 0.0007873\ttotal: 5.41s\tremaining: 11.4s\n",
      "322:\tlearn: 0.0007862\ttotal: 5.43s\tremaining: 11.4s\n",
      "323:\tlearn: 0.0007846\ttotal: 5.44s\tremaining: 11.3s\n",
      "324:\tlearn: 0.0007834\ttotal: 5.45s\tremaining: 11.3s\n",
      "325:\tlearn: 0.0007819\ttotal: 5.47s\tremaining: 11.3s\n",
      "326:\tlearn: 0.0007802\ttotal: 5.48s\tremaining: 11.3s\n",
      "327:\tlearn: 0.0007764\ttotal: 5.5s\tremaining: 11.3s\n",
      "328:\tlearn: 0.0007745\ttotal: 5.51s\tremaining: 11.2s\n"
     ]
    },
    {
     "name": "stdout",
     "output_type": "stream",
     "text": [
      "329:\tlearn: 0.0007706\ttotal: 5.53s\tremaining: 11.2s\n",
      "330:\tlearn: 0.0007704\ttotal: 5.55s\tremaining: 11.2s\n",
      "331:\tlearn: 0.0007681\ttotal: 5.56s\tremaining: 11.2s\n",
      "332:\tlearn: 0.0007651\ttotal: 5.58s\tremaining: 11.2s\n",
      "333:\tlearn: 0.0007616\ttotal: 5.59s\tremaining: 11.2s\n",
      "334:\tlearn: 0.0007606\ttotal: 5.61s\tremaining: 11.1s\n",
      "335:\tlearn: 0.0007576\ttotal: 5.62s\tremaining: 11.1s\n",
      "336:\tlearn: 0.0007564\ttotal: 5.64s\tremaining: 11.1s\n",
      "337:\tlearn: 0.0007555\ttotal: 5.66s\tremaining: 11.1s\n",
      "338:\tlearn: 0.0007534\ttotal: 5.67s\tremaining: 11.1s\n",
      "339:\tlearn: 0.0007492\ttotal: 5.69s\tremaining: 11s\n",
      "340:\tlearn: 0.0007479\ttotal: 5.7s\tremaining: 11s\n",
      "341:\tlearn: 0.0007449\ttotal: 5.72s\tremaining: 11s\n",
      "342:\tlearn: 0.0007425\ttotal: 5.74s\tremaining: 11s\n",
      "343:\tlearn: 0.0007408\ttotal: 5.75s\tremaining: 11s\n",
      "344:\tlearn: 0.0007401\ttotal: 5.77s\tremaining: 11s\n",
      "345:\tlearn: 0.0007346\ttotal: 5.79s\tremaining: 10.9s\n",
      "346:\tlearn: 0.0007319\ttotal: 5.8s\tremaining: 10.9s\n",
      "347:\tlearn: 0.0007311\ttotal: 5.82s\tremaining: 10.9s\n",
      "348:\tlearn: 0.0007246\ttotal: 5.83s\tremaining: 10.9s\n",
      "349:\tlearn: 0.0007218\ttotal: 5.85s\tremaining: 10.9s\n",
      "350:\tlearn: 0.0007166\ttotal: 5.86s\tremaining: 10.8s\n",
      "351:\tlearn: 0.0007139\ttotal: 5.88s\tremaining: 10.8s\n",
      "352:\tlearn: 0.0007137\ttotal: 5.89s\tremaining: 10.8s\n",
      "353:\tlearn: 0.0007109\ttotal: 5.91s\tremaining: 10.8s\n",
      "354:\tlearn: 0.0007083\ttotal: 5.92s\tremaining: 10.8s\n",
      "355:\tlearn: 0.0007060\ttotal: 5.94s\tremaining: 10.7s\n",
      "356:\tlearn: 0.0007053\ttotal: 5.96s\tremaining: 10.7s\n",
      "357:\tlearn: 0.0007015\ttotal: 5.97s\tremaining: 10.7s\n",
      "358:\tlearn: 0.0006991\ttotal: 5.99s\tremaining: 10.7s\n",
      "359:\tlearn: 0.0006985\ttotal: 6s\tremaining: 10.7s\n",
      "360:\tlearn: 0.0006945\ttotal: 6.02s\tremaining: 10.7s\n",
      "361:\tlearn: 0.0006935\ttotal: 6.03s\tremaining: 10.6s\n",
      "362:\tlearn: 0.0006912\ttotal: 6.05s\tremaining: 10.6s\n",
      "363:\tlearn: 0.0006895\ttotal: 6.07s\tremaining: 10.6s\n",
      "364:\tlearn: 0.0006878\ttotal: 6.08s\tremaining: 10.6s\n",
      "365:\tlearn: 0.0006863\ttotal: 6.1s\tremaining: 10.6s\n",
      "366:\tlearn: 0.0006852\ttotal: 6.11s\tremaining: 10.5s\n",
      "367:\tlearn: 0.0006829\ttotal: 6.13s\tremaining: 10.5s\n",
      "368:\tlearn: 0.0006820\ttotal: 6.15s\tremaining: 10.5s\n",
      "369:\tlearn: 0.0006779\ttotal: 6.16s\tremaining: 10.5s\n",
      "370:\tlearn: 0.0006750\ttotal: 6.18s\tremaining: 10.5s\n",
      "371:\tlearn: 0.0006729\ttotal: 6.2s\tremaining: 10.5s\n",
      "372:\tlearn: 0.0006714\ttotal: 6.21s\tremaining: 10.4s\n",
      "373:\tlearn: 0.0006697\ttotal: 6.23s\tremaining: 10.4s\n",
      "374:\tlearn: 0.0006676\ttotal: 6.24s\tremaining: 10.4s\n",
      "375:\tlearn: 0.0006649\ttotal: 6.26s\tremaining: 10.4s\n",
      "376:\tlearn: 0.0006605\ttotal: 6.28s\tremaining: 10.4s\n",
      "377:\tlearn: 0.0006592\ttotal: 6.29s\tremaining: 10.4s\n",
      "378:\tlearn: 0.0006579\ttotal: 6.31s\tremaining: 10.3s\n",
      "379:\tlearn: 0.0006564\ttotal: 6.32s\tremaining: 10.3s\n",
      "380:\tlearn: 0.0006551\ttotal: 6.34s\tremaining: 10.3s\n",
      "381:\tlearn: 0.0006544\ttotal: 6.35s\tremaining: 10.3s\n",
      "382:\tlearn: 0.0006522\ttotal: 6.37s\tremaining: 10.3s\n",
      "383:\tlearn: 0.0006509\ttotal: 6.38s\tremaining: 10.2s\n",
      "384:\tlearn: 0.0006490\ttotal: 6.4s\tremaining: 10.2s\n",
      "385:\tlearn: 0.0006484\ttotal: 6.42s\tremaining: 10.2s\n",
      "386:\tlearn: 0.0006459\ttotal: 6.43s\tremaining: 10.2s\n",
      "387:\tlearn: 0.0006434\ttotal: 6.45s\tremaining: 10.2s\n",
      "388:\tlearn: 0.0006396\ttotal: 6.46s\tremaining: 10.2s\n",
      "389:\tlearn: 0.0006342\ttotal: 6.48s\tremaining: 10.1s\n",
      "390:\tlearn: 0.0006326\ttotal: 6.5s\tremaining: 10.1s\n",
      "391:\tlearn: 0.0006257\ttotal: 6.51s\tremaining: 10.1s\n",
      "392:\tlearn: 0.0006253\ttotal: 6.53s\tremaining: 10.1s\n",
      "393:\tlearn: 0.0006252\ttotal: 6.54s\tremaining: 10.1s\n",
      "394:\tlearn: 0.0006196\ttotal: 6.56s\tremaining: 10.1s\n",
      "395:\tlearn: 0.0006194\ttotal: 6.58s\tremaining: 10s\n",
      "396:\tlearn: 0.0006157\ttotal: 6.59s\tremaining: 10s\n",
      "397:\tlearn: 0.0006135\ttotal: 6.61s\tremaining: 9.99s\n",
      "398:\tlearn: 0.0006120\ttotal: 6.62s\tremaining: 9.98s\n",
      "399:\tlearn: 0.0006111\ttotal: 6.64s\tremaining: 9.96s\n",
      "400:\tlearn: 0.0006104\ttotal: 6.66s\tremaining: 9.94s\n",
      "401:\tlearn: 0.0006062\ttotal: 6.67s\tremaining: 9.93s\n",
      "402:\tlearn: 0.0006041\ttotal: 6.69s\tremaining: 9.91s\n",
      "403:\tlearn: 0.0006030\ttotal: 6.7s\tremaining: 9.89s\n",
      "404:\tlearn: 0.0005997\ttotal: 6.72s\tremaining: 9.87s\n",
      "405:\tlearn: 0.0005980\ttotal: 6.73s\tremaining: 9.85s\n",
      "406:\tlearn: 0.0005954\ttotal: 6.75s\tremaining: 9.83s\n",
      "407:\tlearn: 0.0005913\ttotal: 6.77s\tremaining: 9.82s\n",
      "408:\tlearn: 0.0005900\ttotal: 6.78s\tremaining: 9.8s\n",
      "409:\tlearn: 0.0005878\ttotal: 6.8s\tremaining: 9.79s\n",
      "410:\tlearn: 0.0005850\ttotal: 6.82s\tremaining: 9.77s\n",
      "411:\tlearn: 0.0005835\ttotal: 6.83s\tremaining: 9.75s\n",
      "412:\tlearn: 0.0005833\ttotal: 6.85s\tremaining: 9.73s\n",
      "413:\tlearn: 0.0005819\ttotal: 6.86s\tremaining: 9.71s\n",
      "414:\tlearn: 0.0005740\ttotal: 6.88s\tremaining: 9.7s\n",
      "415:\tlearn: 0.0005735\ttotal: 6.9s\tremaining: 9.68s\n",
      "416:\tlearn: 0.0005722\ttotal: 6.91s\tremaining: 9.66s\n",
      "417:\tlearn: 0.0005707\ttotal: 6.92s\tremaining: 9.64s\n",
      "418:\tlearn: 0.0005663\ttotal: 6.94s\tremaining: 9.63s\n",
      "419:\tlearn: 0.0005648\ttotal: 6.96s\tremaining: 9.61s\n",
      "420:\tlearn: 0.0005642\ttotal: 6.97s\tremaining: 9.59s\n",
      "421:\tlearn: 0.0005637\ttotal: 6.99s\tremaining: 9.57s\n",
      "422:\tlearn: 0.0005629\ttotal: 7s\tremaining: 9.55s\n",
      "423:\tlearn: 0.0005610\ttotal: 7.02s\tremaining: 9.54s\n",
      "424:\tlearn: 0.0005579\ttotal: 7.04s\tremaining: 9.52s\n",
      "425:\tlearn: 0.0005576\ttotal: 7.05s\tremaining: 9.5s\n",
      "426:\tlearn: 0.0005558\ttotal: 7.07s\tremaining: 9.48s\n",
      "427:\tlearn: 0.0005542\ttotal: 7.08s\tremaining: 9.47s\n",
      "428:\tlearn: 0.0005523\ttotal: 7.1s\tremaining: 9.45s\n",
      "429:\tlearn: 0.0005509\ttotal: 7.12s\tremaining: 9.43s\n",
      "430:\tlearn: 0.0005469\ttotal: 7.13s\tremaining: 9.42s\n",
      "431:\tlearn: 0.0005442\ttotal: 7.15s\tremaining: 9.4s\n",
      "432:\tlearn: 0.0005441\ttotal: 7.16s\tremaining: 9.38s\n",
      "433:\tlearn: 0.0005432\ttotal: 7.18s\tremaining: 9.36s\n",
      "434:\tlearn: 0.0005412\ttotal: 7.2s\tremaining: 9.35s\n",
      "435:\tlearn: 0.0005401\ttotal: 7.21s\tremaining: 9.33s\n",
      "436:\tlearn: 0.0005390\ttotal: 7.23s\tremaining: 9.31s\n",
      "437:\tlearn: 0.0005363\ttotal: 7.24s\tremaining: 9.29s\n",
      "438:\tlearn: 0.0005360\ttotal: 7.26s\tremaining: 9.28s\n",
      "439:\tlearn: 0.0005343\ttotal: 7.28s\tremaining: 9.26s\n",
      "440:\tlearn: 0.0005323\ttotal: 7.29s\tremaining: 9.24s\n",
      "441:\tlearn: 0.0005310\ttotal: 7.31s\tremaining: 9.23s\n",
      "442:\tlearn: 0.0005306\ttotal: 7.32s\tremaining: 9.21s\n",
      "443:\tlearn: 0.0005302\ttotal: 7.34s\tremaining: 9.19s\n",
      "444:\tlearn: 0.0005254\ttotal: 7.36s\tremaining: 9.18s\n",
      "445:\tlearn: 0.0005236\ttotal: 7.38s\tremaining: 9.16s\n",
      "446:\tlearn: 0.0005209\ttotal: 7.4s\tremaining: 9.15s\n",
      "447:\tlearn: 0.0005181\ttotal: 7.41s\tremaining: 9.13s\n",
      "448:\tlearn: 0.0005163\ttotal: 7.43s\tremaining: 9.12s\n",
      "449:\tlearn: 0.0005096\ttotal: 7.45s\tremaining: 9.1s\n",
      "450:\tlearn: 0.0005073\ttotal: 7.46s\tremaining: 9.09s\n",
      "451:\tlearn: 0.0005066\ttotal: 7.48s\tremaining: 9.07s\n",
      "452:\tlearn: 0.0005061\ttotal: 7.5s\tremaining: 9.05s\n",
      "453:\tlearn: 0.0005057\ttotal: 7.51s\tremaining: 9.04s\n",
      "454:\tlearn: 0.0005025\ttotal: 7.53s\tremaining: 9.02s\n",
      "455:\tlearn: 0.0005024\ttotal: 7.55s\tremaining: 9s\n",
      "456:\tlearn: 0.0005021\ttotal: 7.56s\tremaining: 8.98s\n",
      "457:\tlearn: 0.0005008\ttotal: 7.58s\tremaining: 8.96s\n",
      "458:\tlearn: 0.0004988\ttotal: 7.59s\tremaining: 8.95s\n",
      "459:\tlearn: 0.0004982\ttotal: 7.61s\tremaining: 8.93s\n",
      "460:\tlearn: 0.0004938\ttotal: 7.63s\tremaining: 8.92s\n",
      "461:\tlearn: 0.0004921\ttotal: 7.64s\tremaining: 8.9s\n",
      "462:\tlearn: 0.0004909\ttotal: 7.66s\tremaining: 8.88s\n",
      "463:\tlearn: 0.0004868\ttotal: 7.67s\tremaining: 8.87s\n",
      "464:\tlearn: 0.0004844\ttotal: 7.69s\tremaining: 8.85s\n",
      "465:\tlearn: 0.0004823\ttotal: 7.71s\tremaining: 8.83s\n",
      "466:\tlearn: 0.0004801\ttotal: 7.72s\tremaining: 8.81s\n",
      "467:\tlearn: 0.0004791\ttotal: 7.74s\tremaining: 8.8s\n",
      "468:\tlearn: 0.0004763\ttotal: 7.76s\tremaining: 8.78s\n",
      "469:\tlearn: 0.0004738\ttotal: 7.77s\tremaining: 8.77s\n",
      "470:\tlearn: 0.0004719\ttotal: 7.79s\tremaining: 8.75s\n",
      "471:\tlearn: 0.0004718\ttotal: 7.8s\tremaining: 8.73s\n",
      "472:\tlearn: 0.0004696\ttotal: 7.82s\tremaining: 8.72s\n",
      "473:\tlearn: 0.0004681\ttotal: 7.84s\tremaining: 8.7s\n",
      "474:\tlearn: 0.0004667\ttotal: 7.86s\tremaining: 8.68s\n",
      "475:\tlearn: 0.0004654\ttotal: 7.87s\tremaining: 8.67s\n",
      "476:\tlearn: 0.0004645\ttotal: 7.89s\tremaining: 8.65s\n",
      "477:\tlearn: 0.0004625\ttotal: 7.91s\tremaining: 8.63s\n",
      "478:\tlearn: 0.0004608\ttotal: 7.92s\tremaining: 8.61s\n",
      "479:\tlearn: 0.0004599\ttotal: 7.94s\tremaining: 8.6s\n",
      "480:\tlearn: 0.0004586\ttotal: 7.95s\tremaining: 8.58s\n",
      "481:\tlearn: 0.0004568\ttotal: 7.97s\tremaining: 8.56s\n",
      "482:\tlearn: 0.0004546\ttotal: 7.99s\tremaining: 8.55s\n",
      "483:\tlearn: 0.0004532\ttotal: 8s\tremaining: 8.53s\n",
      "484:\tlearn: 0.0004519\ttotal: 8.02s\tremaining: 8.51s\n",
      "485:\tlearn: 0.0004473\ttotal: 8.04s\tremaining: 8.5s\n",
      "486:\tlearn: 0.0004451\ttotal: 8.06s\tremaining: 8.49s\n",
      "487:\tlearn: 0.0004439\ttotal: 8.07s\tremaining: 8.47s\n",
      "488:\tlearn: 0.0004432\ttotal: 8.09s\tremaining: 8.46s\n",
      "489:\tlearn: 0.0004394\ttotal: 8.11s\tremaining: 8.44s\n",
      "490:\tlearn: 0.0004379\ttotal: 8.13s\tremaining: 8.43s\n",
      "491:\tlearn: 0.0004357\ttotal: 8.15s\tremaining: 8.42s\n",
      "492:\tlearn: 0.0004340\ttotal: 8.17s\tremaining: 8.41s\n",
      "493:\tlearn: 0.0004323\ttotal: 8.19s\tremaining: 8.39s\n",
      "494:\tlearn: 0.0004306\ttotal: 8.21s\tremaining: 8.37s\n",
      "495:\tlearn: 0.0004289\ttotal: 8.23s\tremaining: 8.36s\n"
     ]
    },
    {
     "name": "stdout",
     "output_type": "stream",
     "text": [
      "496:\tlearn: 0.0004273\ttotal: 8.25s\tremaining: 8.35s\n",
      "497:\tlearn: 0.0004260\ttotal: 8.27s\tremaining: 8.33s\n",
      "498:\tlearn: 0.0004221\ttotal: 8.29s\tremaining: 8.32s\n",
      "499:\tlearn: 0.0004213\ttotal: 8.3s\tremaining: 8.3s\n",
      "500:\tlearn: 0.0004203\ttotal: 8.32s\tremaining: 8.29s\n",
      "501:\tlearn: 0.0004184\ttotal: 8.34s\tremaining: 8.27s\n",
      "502:\tlearn: 0.0004158\ttotal: 8.36s\tremaining: 8.26s\n",
      "503:\tlearn: 0.0004149\ttotal: 8.38s\tremaining: 8.24s\n",
      "504:\tlearn: 0.0004137\ttotal: 8.39s\tremaining: 8.23s\n",
      "505:\tlearn: 0.0004126\ttotal: 8.41s\tremaining: 8.21s\n",
      "506:\tlearn: 0.0004089\ttotal: 8.43s\tremaining: 8.19s\n",
      "507:\tlearn: 0.0004082\ttotal: 8.44s\tremaining: 8.18s\n",
      "508:\tlearn: 0.0004065\ttotal: 8.46s\tremaining: 8.17s\n",
      "509:\tlearn: 0.0004043\ttotal: 8.48s\tremaining: 8.15s\n",
      "510:\tlearn: 0.0004034\ttotal: 8.5s\tremaining: 8.13s\n",
      "511:\tlearn: 0.0004017\ttotal: 8.52s\tremaining: 8.12s\n",
      "512:\tlearn: 0.0004002\ttotal: 8.54s\tremaining: 8.1s\n",
      "513:\tlearn: 0.0003984\ttotal: 8.55s\tremaining: 8.09s\n",
      "514:\tlearn: 0.0003960\ttotal: 8.57s\tremaining: 8.07s\n",
      "515:\tlearn: 0.0003944\ttotal: 8.59s\tremaining: 8.06s\n",
      "516:\tlearn: 0.0003934\ttotal: 8.61s\tremaining: 8.04s\n",
      "517:\tlearn: 0.0003924\ttotal: 8.63s\tremaining: 8.03s\n",
      "518:\tlearn: 0.0003913\ttotal: 8.64s\tremaining: 8.01s\n",
      "519:\tlearn: 0.0003905\ttotal: 8.66s\tremaining: 7.99s\n",
      "520:\tlearn: 0.0003887\ttotal: 8.68s\tremaining: 7.98s\n",
      "521:\tlearn: 0.0003850\ttotal: 8.7s\tremaining: 7.96s\n",
      "522:\tlearn: 0.0003845\ttotal: 8.71s\tremaining: 7.95s\n",
      "523:\tlearn: 0.0003820\ttotal: 8.73s\tremaining: 7.93s\n",
      "524:\tlearn: 0.0003816\ttotal: 8.75s\tremaining: 7.91s\n",
      "525:\tlearn: 0.0003789\ttotal: 8.77s\tremaining: 7.9s\n",
      "526:\tlearn: 0.0003762\ttotal: 8.78s\tremaining: 7.88s\n",
      "527:\tlearn: 0.0003744\ttotal: 8.8s\tremaining: 7.87s\n",
      "528:\tlearn: 0.0003719\ttotal: 8.82s\tremaining: 7.86s\n",
      "529:\tlearn: 0.0003706\ttotal: 8.84s\tremaining: 7.84s\n",
      "530:\tlearn: 0.0003654\ttotal: 8.86s\tremaining: 7.83s\n",
      "531:\tlearn: 0.0003633\ttotal: 8.88s\tremaining: 7.81s\n",
      "532:\tlearn: 0.0003616\ttotal: 8.9s\tremaining: 7.8s\n",
      "533:\tlearn: 0.0003597\ttotal: 8.92s\tremaining: 7.78s\n",
      "534:\tlearn: 0.0003594\ttotal: 8.94s\tremaining: 7.77s\n",
      "535:\tlearn: 0.0003580\ttotal: 8.95s\tremaining: 7.75s\n",
      "536:\tlearn: 0.0003566\ttotal: 8.97s\tremaining: 7.73s\n",
      "537:\tlearn: 0.0003563\ttotal: 8.98s\tremaining: 7.71s\n",
      "538:\tlearn: 0.0003534\ttotal: 9s\tremaining: 7.7s\n",
      "539:\tlearn: 0.0003530\ttotal: 9.02s\tremaining: 7.68s\n",
      "540:\tlearn: 0.0003516\ttotal: 9.04s\tremaining: 7.67s\n",
      "541:\tlearn: 0.0003510\ttotal: 9.06s\tremaining: 7.66s\n",
      "542:\tlearn: 0.0003468\ttotal: 9.09s\tremaining: 7.65s\n",
      "543:\tlearn: 0.0003455\ttotal: 9.12s\tremaining: 7.64s\n",
      "544:\tlearn: 0.0003421\ttotal: 9.14s\tremaining: 7.63s\n",
      "545:\tlearn: 0.0003409\ttotal: 9.15s\tremaining: 7.61s\n",
      "546:\tlearn: 0.0003379\ttotal: 9.18s\tremaining: 7.6s\n",
      "547:\tlearn: 0.0003369\ttotal: 9.19s\tremaining: 7.58s\n",
      "548:\tlearn: 0.0003366\ttotal: 9.21s\tremaining: 7.57s\n",
      "549:\tlearn: 0.0003364\ttotal: 9.23s\tremaining: 7.55s\n",
      "550:\tlearn: 0.0003348\ttotal: 9.25s\tremaining: 7.54s\n",
      "551:\tlearn: 0.0003339\ttotal: 9.27s\tremaining: 7.52s\n",
      "552:\tlearn: 0.0003314\ttotal: 9.29s\tremaining: 7.51s\n",
      "553:\tlearn: 0.0003312\ttotal: 9.31s\tremaining: 7.5s\n",
      "554:\tlearn: 0.0003302\ttotal: 9.33s\tremaining: 7.48s\n",
      "555:\tlearn: 0.0003289\ttotal: 9.35s\tremaining: 7.47s\n",
      "556:\tlearn: 0.0003277\ttotal: 9.37s\tremaining: 7.45s\n",
      "557:\tlearn: 0.0003256\ttotal: 9.38s\tremaining: 7.43s\n",
      "558:\tlearn: 0.0003254\ttotal: 9.4s\tremaining: 7.42s\n",
      "559:\tlearn: 0.0003242\ttotal: 9.42s\tremaining: 7.4s\n",
      "560:\tlearn: 0.0003238\ttotal: 9.44s\tremaining: 7.39s\n",
      "561:\tlearn: 0.0003230\ttotal: 9.46s\tremaining: 7.37s\n",
      "562:\tlearn: 0.0003199\ttotal: 9.48s\tremaining: 7.36s\n",
      "563:\tlearn: 0.0003173\ttotal: 9.5s\tremaining: 7.34s\n",
      "564:\tlearn: 0.0003161\ttotal: 9.52s\tremaining: 7.33s\n",
      "565:\tlearn: 0.0003148\ttotal: 9.54s\tremaining: 7.31s\n",
      "566:\tlearn: 0.0003140\ttotal: 9.56s\tremaining: 7.3s\n",
      "567:\tlearn: 0.0003129\ttotal: 9.58s\tremaining: 7.28s\n",
      "568:\tlearn: 0.0003127\ttotal: 9.6s\tremaining: 7.27s\n",
      "569:\tlearn: 0.0003117\ttotal: 9.62s\tremaining: 7.25s\n",
      "570:\tlearn: 0.0003104\ttotal: 9.64s\tremaining: 7.24s\n",
      "571:\tlearn: 0.0003095\ttotal: 9.65s\tremaining: 7.22s\n",
      "572:\tlearn: 0.0003090\ttotal: 9.67s\tremaining: 7.21s\n",
      "573:\tlearn: 0.0003079\ttotal: 9.69s\tremaining: 7.19s\n",
      "574:\tlearn: 0.0003061\ttotal: 9.71s\tremaining: 7.18s\n",
      "575:\tlearn: 0.0003052\ttotal: 9.73s\tremaining: 7.17s\n",
      "576:\tlearn: 0.0003050\ttotal: 9.75s\tremaining: 7.15s\n",
      "577:\tlearn: 0.0003043\ttotal: 9.77s\tremaining: 7.13s\n",
      "578:\tlearn: 0.0003033\ttotal: 9.79s\tremaining: 7.12s\n",
      "579:\tlearn: 0.0003026\ttotal: 9.81s\tremaining: 7.1s\n",
      "580:\tlearn: 0.0003023\ttotal: 9.82s\tremaining: 7.08s\n",
      "581:\tlearn: 0.0003014\ttotal: 9.84s\tremaining: 7.07s\n",
      "582:\tlearn: 0.0002983\ttotal: 9.86s\tremaining: 7.05s\n",
      "583:\tlearn: 0.0002966\ttotal: 9.88s\tremaining: 7.04s\n",
      "584:\tlearn: 0.0002965\ttotal: 9.9s\tremaining: 7.02s\n",
      "585:\tlearn: 0.0002958\ttotal: 9.92s\tremaining: 7.01s\n",
      "586:\tlearn: 0.0002954\ttotal: 9.94s\tremaining: 6.99s\n",
      "587:\tlearn: 0.0002943\ttotal: 9.96s\tremaining: 6.98s\n",
      "588:\tlearn: 0.0002941\ttotal: 9.98s\tremaining: 6.97s\n",
      "589:\tlearn: 0.0002918\ttotal: 10s\tremaining: 6.95s\n",
      "590:\tlearn: 0.0002909\ttotal: 10s\tremaining: 6.93s\n",
      "591:\tlearn: 0.0002903\ttotal: 10s\tremaining: 6.92s\n",
      "592:\tlearn: 0.0002896\ttotal: 10.1s\tremaining: 6.9s\n",
      "593:\tlearn: 0.0002885\ttotal: 10.1s\tremaining: 6.89s\n",
      "594:\tlearn: 0.0002876\ttotal: 10.1s\tremaining: 6.87s\n",
      "595:\tlearn: 0.0002864\ttotal: 10.1s\tremaining: 6.86s\n",
      "596:\tlearn: 0.0002861\ttotal: 10.1s\tremaining: 6.84s\n",
      "597:\tlearn: 0.0002856\ttotal: 10.2s\tremaining: 6.83s\n",
      "598:\tlearn: 0.0002847\ttotal: 10.2s\tremaining: 6.81s\n",
      "599:\tlearn: 0.0002845\ttotal: 10.2s\tremaining: 6.8s\n",
      "600:\tlearn: 0.0002843\ttotal: 10.2s\tremaining: 6.78s\n",
      "601:\tlearn: 0.0002832\ttotal: 10.2s\tremaining: 6.76s\n",
      "602:\tlearn: 0.0002814\ttotal: 10.2s\tremaining: 6.75s\n",
      "603:\tlearn: 0.0002798\ttotal: 10.3s\tremaining: 6.73s\n",
      "604:\tlearn: 0.0002792\ttotal: 10.3s\tremaining: 6.71s\n",
      "605:\tlearn: 0.0002791\ttotal: 10.3s\tremaining: 6.7s\n",
      "606:\tlearn: 0.0002786\ttotal: 10.3s\tremaining: 6.68s\n",
      "607:\tlearn: 0.0002766\ttotal: 10.3s\tremaining: 6.66s\n",
      "608:\tlearn: 0.0002744\ttotal: 10.4s\tremaining: 6.65s\n",
      "609:\tlearn: 0.0002738\ttotal: 10.4s\tremaining: 6.63s\n",
      "610:\tlearn: 0.0002733\ttotal: 10.4s\tremaining: 6.62s\n",
      "611:\tlearn: 0.0002730\ttotal: 10.4s\tremaining: 6.6s\n",
      "612:\tlearn: 0.0002718\ttotal: 10.4s\tremaining: 6.58s\n",
      "613:\tlearn: 0.0002702\ttotal: 10.4s\tremaining: 6.57s\n",
      "614:\tlearn: 0.0002699\ttotal: 10.5s\tremaining: 6.55s\n",
      "615:\tlearn: 0.0002696\ttotal: 10.5s\tremaining: 6.54s\n",
      "616:\tlearn: 0.0002690\ttotal: 10.5s\tremaining: 6.52s\n",
      "617:\tlearn: 0.0002685\ttotal: 10.5s\tremaining: 6.5s\n",
      "618:\tlearn: 0.0002676\ttotal: 10.5s\tremaining: 6.48s\n",
      "619:\tlearn: 0.0002668\ttotal: 10.6s\tremaining: 6.47s\n",
      "620:\tlearn: 0.0002651\ttotal: 10.6s\tremaining: 6.45s\n",
      "621:\tlearn: 0.0002633\ttotal: 10.6s\tremaining: 6.43s\n",
      "622:\tlearn: 0.0002624\ttotal: 10.6s\tremaining: 6.42s\n",
      "623:\tlearn: 0.0002616\ttotal: 10.6s\tremaining: 6.4s\n",
      "624:\tlearn: 0.0002607\ttotal: 10.6s\tremaining: 6.39s\n",
      "625:\tlearn: 0.0002603\ttotal: 10.7s\tremaining: 6.37s\n",
      "626:\tlearn: 0.0002587\ttotal: 10.7s\tremaining: 6.35s\n",
      "627:\tlearn: 0.0002583\ttotal: 10.7s\tremaining: 6.34s\n",
      "628:\tlearn: 0.0002564\ttotal: 10.7s\tremaining: 6.32s\n",
      "629:\tlearn: 0.0002554\ttotal: 10.7s\tremaining: 6.31s\n",
      "630:\tlearn: 0.0002547\ttotal: 10.8s\tremaining: 6.29s\n",
      "631:\tlearn: 0.0002543\ttotal: 10.8s\tremaining: 6.27s\n",
      "632:\tlearn: 0.0002535\ttotal: 10.8s\tremaining: 6.26s\n",
      "633:\tlearn: 0.0002528\ttotal: 10.8s\tremaining: 6.24s\n",
      "634:\tlearn: 0.0002512\ttotal: 10.8s\tremaining: 6.22s\n",
      "635:\tlearn: 0.0002510\ttotal: 10.8s\tremaining: 6.21s\n",
      "636:\tlearn: 0.0002508\ttotal: 10.9s\tremaining: 6.19s\n",
      "637:\tlearn: 0.0002496\ttotal: 10.9s\tremaining: 6.17s\n",
      "638:\tlearn: 0.0002493\ttotal: 10.9s\tremaining: 6.16s\n",
      "639:\tlearn: 0.0002489\ttotal: 10.9s\tremaining: 6.14s\n",
      "640:\tlearn: 0.0002483\ttotal: 10.9s\tremaining: 6.12s\n",
      "641:\tlearn: 0.0002456\ttotal: 10.9s\tremaining: 6.1s\n",
      "642:\tlearn: 0.0002451\ttotal: 11s\tremaining: 6.09s\n",
      "643:\tlearn: 0.0002448\ttotal: 11s\tremaining: 6.07s\n",
      "644:\tlearn: 0.0002433\ttotal: 11s\tremaining: 6.05s\n",
      "645:\tlearn: 0.0002433\ttotal: 11s\tremaining: 6.04s\n",
      "646:\tlearn: 0.0002425\ttotal: 11s\tremaining: 6.02s\n",
      "647:\tlearn: 0.0002410\ttotal: 11.1s\tremaining: 6s\n",
      "648:\tlearn: 0.0002398\ttotal: 11.1s\tremaining: 5.99s\n",
      "649:\tlearn: 0.0002392\ttotal: 11.1s\tremaining: 5.97s\n",
      "650:\tlearn: 0.0002386\ttotal: 11.1s\tremaining: 5.95s\n",
      "651:\tlearn: 0.0002359\ttotal: 11.1s\tremaining: 5.94s\n",
      "652:\tlearn: 0.0002356\ttotal: 11.1s\tremaining: 5.92s\n",
      "653:\tlearn: 0.0002335\ttotal: 11.2s\tremaining: 5.9s\n",
      "654:\tlearn: 0.0002330\ttotal: 11.2s\tremaining: 5.89s\n",
      "655:\tlearn: 0.0002324\ttotal: 11.2s\tremaining: 5.87s\n"
     ]
    },
    {
     "name": "stdout",
     "output_type": "stream",
     "text": [
      "656:\tlearn: 0.0002308\ttotal: 11.2s\tremaining: 5.86s\n",
      "657:\tlearn: 0.0002270\ttotal: 11.2s\tremaining: 5.84s\n",
      "658:\tlearn: 0.0002256\ttotal: 11.3s\tremaining: 5.82s\n",
      "659:\tlearn: 0.0002243\ttotal: 11.3s\tremaining: 5.81s\n",
      "660:\tlearn: 0.0002220\ttotal: 11.3s\tremaining: 5.79s\n",
      "661:\tlearn: 0.0002208\ttotal: 11.3s\tremaining: 5.77s\n",
      "662:\tlearn: 0.0002205\ttotal: 11.3s\tremaining: 5.75s\n",
      "663:\tlearn: 0.0002192\ttotal: 11.3s\tremaining: 5.74s\n",
      "664:\tlearn: 0.0002189\ttotal: 11.4s\tremaining: 5.72s\n",
      "665:\tlearn: 0.0002175\ttotal: 11.4s\tremaining: 5.7s\n",
      "666:\tlearn: 0.0002168\ttotal: 11.4s\tremaining: 5.69s\n",
      "667:\tlearn: 0.0002164\ttotal: 11.4s\tremaining: 5.67s\n",
      "668:\tlearn: 0.0002149\ttotal: 11.4s\tremaining: 5.65s\n",
      "669:\tlearn: 0.0002133\ttotal: 11.4s\tremaining: 5.64s\n",
      "670:\tlearn: 0.0002121\ttotal: 11.5s\tremaining: 5.62s\n",
      "671:\tlearn: 0.0002116\ttotal: 11.5s\tremaining: 5.6s\n",
      "672:\tlearn: 0.0002111\ttotal: 11.5s\tremaining: 5.59s\n",
      "673:\tlearn: 0.0002106\ttotal: 11.5s\tremaining: 5.57s\n",
      "674:\tlearn: 0.0002094\ttotal: 11.5s\tremaining: 5.55s\n",
      "675:\tlearn: 0.0002093\ttotal: 11.6s\tremaining: 5.54s\n",
      "676:\tlearn: 0.0002079\ttotal: 11.6s\tremaining: 5.52s\n",
      "677:\tlearn: 0.0002065\ttotal: 11.6s\tremaining: 5.5s\n",
      "678:\tlearn: 0.0002058\ttotal: 11.6s\tremaining: 5.49s\n",
      "679:\tlearn: 0.0002055\ttotal: 11.6s\tremaining: 5.47s\n",
      "680:\tlearn: 0.0002054\ttotal: 11.6s\tremaining: 5.46s\n",
      "681:\tlearn: 0.0002032\ttotal: 11.7s\tremaining: 5.44s\n",
      "682:\tlearn: 0.0002026\ttotal: 11.7s\tremaining: 5.42s\n",
      "683:\tlearn: 0.0002025\ttotal: 11.7s\tremaining: 5.4s\n",
      "684:\tlearn: 0.0002022\ttotal: 11.7s\tremaining: 5.39s\n",
      "685:\tlearn: 0.0002022\ttotal: 11.7s\tremaining: 5.37s\n",
      "686:\tlearn: 0.0002010\ttotal: 11.7s\tremaining: 5.35s\n",
      "687:\tlearn: 0.0002010\ttotal: 11.8s\tremaining: 5.33s\n",
      "688:\tlearn: 0.0002002\ttotal: 11.8s\tremaining: 5.32s\n",
      "689:\tlearn: 0.0001995\ttotal: 11.8s\tremaining: 5.3s\n",
      "690:\tlearn: 0.0001994\ttotal: 11.8s\tremaining: 5.28s\n",
      "691:\tlearn: 0.0001993\ttotal: 11.8s\tremaining: 5.26s\n",
      "692:\tlearn: 0.0001991\ttotal: 11.8s\tremaining: 5.25s\n",
      "693:\tlearn: 0.0001990\ttotal: 11.9s\tremaining: 5.23s\n",
      "694:\tlearn: 0.0001979\ttotal: 11.9s\tremaining: 5.21s\n",
      "695:\tlearn: 0.0001978\ttotal: 11.9s\tremaining: 5.2s\n",
      "696:\tlearn: 0.0001974\ttotal: 11.9s\tremaining: 5.18s\n",
      "697:\tlearn: 0.0001971\ttotal: 11.9s\tremaining: 5.16s\n",
      "698:\tlearn: 0.0001968\ttotal: 11.9s\tremaining: 5.14s\n",
      "699:\tlearn: 0.0001964\ttotal: 12s\tremaining: 5.13s\n",
      "700:\tlearn: 0.0001963\ttotal: 12s\tremaining: 5.11s\n",
      "701:\tlearn: 0.0001960\ttotal: 12s\tremaining: 5.09s\n",
      "702:\tlearn: 0.0001949\ttotal: 12s\tremaining: 5.07s\n",
      "703:\tlearn: 0.0001933\ttotal: 12s\tremaining: 5.06s\n",
      "704:\tlearn: 0.0001928\ttotal: 12s\tremaining: 5.04s\n",
      "705:\tlearn: 0.0001926\ttotal: 12.1s\tremaining: 5.02s\n",
      "706:\tlearn: 0.0001920\ttotal: 12.1s\tremaining: 5.01s\n",
      "707:\tlearn: 0.0001920\ttotal: 12.1s\tremaining: 4.99s\n",
      "708:\tlearn: 0.0001917\ttotal: 12.1s\tremaining: 4.97s\n",
      "709:\tlearn: 0.0001916\ttotal: 12.1s\tremaining: 4.96s\n",
      "710:\tlearn: 0.0001914\ttotal: 12.2s\tremaining: 4.94s\n",
      "711:\tlearn: 0.0001905\ttotal: 12.2s\tremaining: 4.92s\n",
      "712:\tlearn: 0.0001901\ttotal: 12.2s\tremaining: 4.91s\n",
      "713:\tlearn: 0.0001891\ttotal: 12.2s\tremaining: 4.89s\n",
      "714:\tlearn: 0.0001888\ttotal: 12.2s\tremaining: 4.87s\n",
      "715:\tlearn: 0.0001888\ttotal: 12.2s\tremaining: 4.85s\n",
      "716:\tlearn: 0.0001882\ttotal: 12.3s\tremaining: 4.84s\n",
      "717:\tlearn: 0.0001869\ttotal: 12.3s\tremaining: 4.82s\n",
      "718:\tlearn: 0.0001857\ttotal: 12.3s\tremaining: 4.8s\n",
      "719:\tlearn: 0.0001854\ttotal: 12.3s\tremaining: 4.79s\n",
      "720:\tlearn: 0.0001847\ttotal: 12.3s\tremaining: 4.77s\n",
      "721:\tlearn: 0.0001846\ttotal: 12.3s\tremaining: 4.75s\n",
      "722:\tlearn: 0.0001837\ttotal: 12.4s\tremaining: 4.74s\n",
      "723:\tlearn: 0.0001837\ttotal: 12.4s\tremaining: 4.72s\n",
      "724:\tlearn: 0.0001821\ttotal: 12.4s\tremaining: 4.7s\n",
      "725:\tlearn: 0.0001818\ttotal: 12.4s\tremaining: 4.68s\n",
      "726:\tlearn: 0.0001812\ttotal: 12.4s\tremaining: 4.67s\n",
      "727:\tlearn: 0.0001809\ttotal: 12.4s\tremaining: 4.65s\n",
      "728:\tlearn: 0.0001805\ttotal: 12.5s\tremaining: 4.63s\n",
      "729:\tlearn: 0.0001804\ttotal: 12.5s\tremaining: 4.62s\n",
      "730:\tlearn: 0.0001795\ttotal: 12.5s\tremaining: 4.6s\n",
      "731:\tlearn: 0.0001792\ttotal: 12.5s\tremaining: 4.58s\n",
      "732:\tlearn: 0.0001789\ttotal: 12.5s\tremaining: 4.57s\n",
      "733:\tlearn: 0.0001786\ttotal: 12.6s\tremaining: 4.55s\n",
      "734:\tlearn: 0.0001780\ttotal: 12.6s\tremaining: 4.53s\n",
      "735:\tlearn: 0.0001778\ttotal: 12.6s\tremaining: 4.51s\n",
      "736:\tlearn: 0.0001778\ttotal: 12.6s\tremaining: 4.5s\n",
      "737:\tlearn: 0.0001776\ttotal: 12.6s\tremaining: 4.48s\n",
      "738:\tlearn: 0.0001767\ttotal: 12.6s\tremaining: 4.46s\n",
      "739:\tlearn: 0.0001766\ttotal: 12.7s\tremaining: 4.45s\n",
      "740:\tlearn: 0.0001764\ttotal: 12.7s\tremaining: 4.43s\n",
      "741:\tlearn: 0.0001761\ttotal: 12.7s\tremaining: 4.41s\n",
      "742:\tlearn: 0.0001761\ttotal: 12.7s\tremaining: 4.39s\n",
      "743:\tlearn: 0.0001758\ttotal: 12.7s\tremaining: 4.38s\n",
      "744:\tlearn: 0.0001750\ttotal: 12.7s\tremaining: 4.36s\n",
      "745:\tlearn: 0.0001749\ttotal: 12.8s\tremaining: 4.34s\n",
      "746:\tlearn: 0.0001747\ttotal: 12.8s\tremaining: 4.33s\n",
      "747:\tlearn: 0.0001744\ttotal: 12.8s\tremaining: 4.31s\n",
      "748:\tlearn: 0.0001730\ttotal: 12.8s\tremaining: 4.29s\n",
      "749:\tlearn: 0.0001720\ttotal: 12.8s\tremaining: 4.28s\n",
      "750:\tlearn: 0.0001718\ttotal: 12.8s\tremaining: 4.26s\n",
      "751:\tlearn: 0.0001716\ttotal: 12.9s\tremaining: 4.24s\n",
      "752:\tlearn: 0.0001709\ttotal: 12.9s\tremaining: 4.22s\n",
      "753:\tlearn: 0.0001699\ttotal: 12.9s\tremaining: 4.21s\n",
      "754:\tlearn: 0.0001696\ttotal: 12.9s\tremaining: 4.19s\n",
      "755:\tlearn: 0.0001684\ttotal: 12.9s\tremaining: 4.17s\n",
      "756:\tlearn: 0.0001676\ttotal: 12.9s\tremaining: 4.16s\n",
      "757:\tlearn: 0.0001670\ttotal: 13s\tremaining: 4.14s\n",
      "758:\tlearn: 0.0001669\ttotal: 13s\tremaining: 4.12s\n",
      "759:\tlearn: 0.0001652\ttotal: 13s\tremaining: 4.11s\n",
      "760:\tlearn: 0.0001650\ttotal: 13s\tremaining: 4.09s\n",
      "761:\tlearn: 0.0001644\ttotal: 13s\tremaining: 4.07s\n",
      "762:\tlearn: 0.0001643\ttotal: 13.1s\tremaining: 4.05s\n",
      "763:\tlearn: 0.0001639\ttotal: 13.1s\tremaining: 4.04s\n",
      "764:\tlearn: 0.0001627\ttotal: 13.1s\tremaining: 4.02s\n",
      "765:\tlearn: 0.0001619\ttotal: 13.1s\tremaining: 4.01s\n",
      "766:\tlearn: 0.0001616\ttotal: 13.1s\tremaining: 3.99s\n",
      "767:\tlearn: 0.0001613\ttotal: 13.1s\tremaining: 3.97s\n",
      "768:\tlearn: 0.0001613\ttotal: 13.2s\tremaining: 3.95s\n",
      "769:\tlearn: 0.0001611\ttotal: 13.2s\tremaining: 3.94s\n",
      "770:\tlearn: 0.0001603\ttotal: 13.2s\tremaining: 3.92s\n",
      "771:\tlearn: 0.0001601\ttotal: 13.2s\tremaining: 3.9s\n",
      "772:\tlearn: 0.0001597\ttotal: 13.2s\tremaining: 3.88s\n",
      "773:\tlearn: 0.0001586\ttotal: 13.2s\tremaining: 3.87s\n",
      "774:\tlearn: 0.0001584\ttotal: 13.3s\tremaining: 3.85s\n",
      "775:\tlearn: 0.0001572\ttotal: 13.3s\tremaining: 3.83s\n",
      "776:\tlearn: 0.0001569\ttotal: 13.3s\tremaining: 3.82s\n",
      "777:\tlearn: 0.0001566\ttotal: 13.3s\tremaining: 3.8s\n",
      "778:\tlearn: 0.0001563\ttotal: 13.3s\tremaining: 3.78s\n",
      "779:\tlearn: 0.0001557\ttotal: 13.4s\tremaining: 3.77s\n",
      "780:\tlearn: 0.0001544\ttotal: 13.4s\tremaining: 3.75s\n",
      "781:\tlearn: 0.0001544\ttotal: 13.4s\tremaining: 3.73s\n",
      "782:\tlearn: 0.0001534\ttotal: 13.4s\tremaining: 3.71s\n",
      "783:\tlearn: 0.0001534\ttotal: 13.4s\tremaining: 3.7s\n",
      "784:\tlearn: 0.0001534\ttotal: 13.4s\tremaining: 3.68s\n",
      "785:\tlearn: 0.0001533\ttotal: 13.5s\tremaining: 3.66s\n",
      "786:\tlearn: 0.0001532\ttotal: 13.5s\tremaining: 3.65s\n",
      "787:\tlearn: 0.0001528\ttotal: 13.5s\tremaining: 3.63s\n",
      "788:\tlearn: 0.0001527\ttotal: 13.5s\tremaining: 3.61s\n",
      "789:\tlearn: 0.0001525\ttotal: 13.5s\tremaining: 3.59s\n",
      "790:\tlearn: 0.0001524\ttotal: 13.5s\tremaining: 3.58s\n",
      "791:\tlearn: 0.0001517\ttotal: 13.6s\tremaining: 3.56s\n",
      "792:\tlearn: 0.0001510\ttotal: 13.6s\tremaining: 3.54s\n",
      "793:\tlearn: 0.0001509\ttotal: 13.6s\tremaining: 3.53s\n",
      "794:\tlearn: 0.0001504\ttotal: 13.6s\tremaining: 3.51s\n",
      "795:\tlearn: 0.0001504\ttotal: 13.6s\tremaining: 3.49s\n",
      "796:\tlearn: 0.0001502\ttotal: 13.6s\tremaining: 3.48s\n",
      "797:\tlearn: 0.0001500\ttotal: 13.7s\tremaining: 3.46s\n",
      "798:\tlearn: 0.0001494\ttotal: 13.7s\tremaining: 3.44s\n",
      "799:\tlearn: 0.0001494\ttotal: 13.7s\tremaining: 3.42s\n",
      "800:\tlearn: 0.0001492\ttotal: 13.7s\tremaining: 3.41s\n",
      "801:\tlearn: 0.0001485\ttotal: 13.7s\tremaining: 3.39s\n",
      "802:\tlearn: 0.0001484\ttotal: 13.8s\tremaining: 3.37s\n",
      "803:\tlearn: 0.0001474\ttotal: 13.8s\tremaining: 3.36s\n",
      "804:\tlearn: 0.0001474\ttotal: 13.8s\tremaining: 3.34s\n",
      "805:\tlearn: 0.0001469\ttotal: 13.8s\tremaining: 3.32s\n",
      "806:\tlearn: 0.0001467\ttotal: 13.8s\tremaining: 3.3s\n",
      "807:\tlearn: 0.0001461\ttotal: 13.8s\tremaining: 3.29s\n",
      "808:\tlearn: 0.0001457\ttotal: 13.9s\tremaining: 3.27s\n",
      "809:\tlearn: 0.0001457\ttotal: 13.9s\tremaining: 3.25s\n",
      "810:\tlearn: 0.0001456\ttotal: 13.9s\tremaining: 3.23s\n",
      "811:\tlearn: 0.0001455\ttotal: 13.9s\tremaining: 3.22s\n",
      "812:\tlearn: 0.0001455\ttotal: 13.9s\tremaining: 3.2s\n",
      "813:\tlearn: 0.0001455\ttotal: 13.9s\tremaining: 3.18s\n",
      "814:\tlearn: 0.0001452\ttotal: 13.9s\tremaining: 3.16s\n",
      "815:\tlearn: 0.0001452\ttotal: 14s\tremaining: 3.15s\n",
      "816:\tlearn: 0.0001450\ttotal: 14s\tremaining: 3.13s\n",
      "817:\tlearn: 0.0001450\ttotal: 14s\tremaining: 3.11s\n",
      "818:\tlearn: 0.0001450\ttotal: 14s\tremaining: 3.09s\n",
      "819:\tlearn: 0.0001450\ttotal: 14s\tremaining: 3.08s\n",
      "820:\tlearn: 0.0001448\ttotal: 14s\tremaining: 3.06s\n",
      "821:\tlearn: 0.0001447\ttotal: 14s\tremaining: 3.04s\n",
      "822:\tlearn: 0.0001438\ttotal: 14.1s\tremaining: 3.02s\n",
      "823:\tlearn: 0.0001437\ttotal: 14.1s\tremaining: 3.01s\n",
      "824:\tlearn: 0.0001426\ttotal: 14.1s\tremaining: 2.99s\n",
      "825:\tlearn: 0.0001424\ttotal: 14.1s\tremaining: 2.97s\n",
      "826:\tlearn: 0.0001422\ttotal: 14.1s\tremaining: 2.96s\n"
     ]
    },
    {
     "name": "stdout",
     "output_type": "stream",
     "text": [
      "827:\tlearn: 0.0001422\ttotal: 14.1s\tremaining: 2.94s\n",
      "828:\tlearn: 0.0001420\ttotal: 14.2s\tremaining: 2.92s\n",
      "829:\tlearn: 0.0001420\ttotal: 14.2s\tremaining: 2.9s\n",
      "830:\tlearn: 0.0001419\ttotal: 14.2s\tremaining: 2.89s\n",
      "831:\tlearn: 0.0001414\ttotal: 14.2s\tremaining: 2.87s\n",
      "832:\tlearn: 0.0001413\ttotal: 14.2s\tremaining: 2.85s\n",
      "833:\tlearn: 0.0001413\ttotal: 14.2s\tremaining: 2.84s\n",
      "834:\tlearn: 0.0001411\ttotal: 14.3s\tremaining: 2.82s\n",
      "835:\tlearn: 0.0001408\ttotal: 14.3s\tremaining: 2.8s\n",
      "836:\tlearn: 0.0001408\ttotal: 14.3s\tremaining: 2.78s\n",
      "837:\tlearn: 0.0001404\ttotal: 14.3s\tremaining: 2.77s\n",
      "838:\tlearn: 0.0001403\ttotal: 14.3s\tremaining: 2.75s\n",
      "839:\tlearn: 0.0001399\ttotal: 14.3s\tremaining: 2.73s\n",
      "840:\tlearn: 0.0001397\ttotal: 14.4s\tremaining: 2.72s\n",
      "841:\tlearn: 0.0001397\ttotal: 14.4s\tremaining: 2.7s\n",
      "842:\tlearn: 0.0001389\ttotal: 14.4s\tremaining: 2.68s\n",
      "843:\tlearn: 0.0001382\ttotal: 14.4s\tremaining: 2.67s\n",
      "844:\tlearn: 0.0001380\ttotal: 14.4s\tremaining: 2.65s\n",
      "845:\tlearn: 0.0001377\ttotal: 14.5s\tremaining: 2.63s\n",
      "846:\tlearn: 0.0001373\ttotal: 14.5s\tremaining: 2.61s\n",
      "847:\tlearn: 0.0001370\ttotal: 14.5s\tremaining: 2.6s\n",
      "848:\tlearn: 0.0001361\ttotal: 14.5s\tremaining: 2.58s\n",
      "849:\tlearn: 0.0001359\ttotal: 14.5s\tremaining: 2.56s\n",
      "850:\tlearn: 0.0001353\ttotal: 14.5s\tremaining: 2.54s\n",
      "851:\tlearn: 0.0001352\ttotal: 14.5s\tremaining: 2.53s\n",
      "852:\tlearn: 0.0001352\ttotal: 14.6s\tremaining: 2.51s\n",
      "853:\tlearn: 0.0001344\ttotal: 14.6s\tremaining: 2.49s\n",
      "854:\tlearn: 0.0001336\ttotal: 14.6s\tremaining: 2.48s\n",
      "855:\tlearn: 0.0001330\ttotal: 14.6s\tremaining: 2.46s\n",
      "856:\tlearn: 0.0001329\ttotal: 14.6s\tremaining: 2.44s\n",
      "857:\tlearn: 0.0001328\ttotal: 14.7s\tremaining: 2.42s\n",
      "858:\tlearn: 0.0001320\ttotal: 14.7s\tremaining: 2.41s\n",
      "859:\tlearn: 0.0001319\ttotal: 14.7s\tremaining: 2.39s\n",
      "860:\tlearn: 0.0001316\ttotal: 14.7s\tremaining: 2.38s\n",
      "861:\tlearn: 0.0001309\ttotal: 14.7s\tremaining: 2.36s\n",
      "862:\tlearn: 0.0001303\ttotal: 14.8s\tremaining: 2.34s\n",
      "863:\tlearn: 0.0001301\ttotal: 14.8s\tremaining: 2.33s\n",
      "864:\tlearn: 0.0001301\ttotal: 14.8s\tremaining: 2.31s\n",
      "865:\tlearn: 0.0001301\ttotal: 14.8s\tremaining: 2.29s\n",
      "866:\tlearn: 0.0001293\ttotal: 14.8s\tremaining: 2.28s\n",
      "867:\tlearn: 0.0001293\ttotal: 14.9s\tremaining: 2.26s\n",
      "868:\tlearn: 0.0001292\ttotal: 14.9s\tremaining: 2.24s\n",
      "869:\tlearn: 0.0001288\ttotal: 14.9s\tremaining: 2.23s\n",
      "870:\tlearn: 0.0001283\ttotal: 14.9s\tremaining: 2.21s\n",
      "871:\tlearn: 0.0001283\ttotal: 14.9s\tremaining: 2.19s\n",
      "872:\tlearn: 0.0001281\ttotal: 15s\tremaining: 2.18s\n",
      "873:\tlearn: 0.0001278\ttotal: 15s\tremaining: 2.16s\n",
      "874:\tlearn: 0.0001277\ttotal: 15s\tremaining: 2.14s\n",
      "875:\tlearn: 0.0001274\ttotal: 15s\tremaining: 2.13s\n",
      "876:\tlearn: 0.0001268\ttotal: 15s\tremaining: 2.11s\n",
      "877:\tlearn: 0.0001261\ttotal: 15.1s\tremaining: 2.09s\n",
      "878:\tlearn: 0.0001261\ttotal: 15.1s\tremaining: 2.08s\n",
      "879:\tlearn: 0.0001256\ttotal: 15.1s\tremaining: 2.06s\n",
      "880:\tlearn: 0.0001253\ttotal: 15.1s\tremaining: 2.04s\n",
      "881:\tlearn: 0.0001252\ttotal: 15.1s\tremaining: 2.02s\n",
      "882:\tlearn: 0.0001252\ttotal: 15.1s\tremaining: 2s\n",
      "883:\tlearn: 0.0001251\ttotal: 15.2s\tremaining: 1.99s\n",
      "884:\tlearn: 0.0001245\ttotal: 15.2s\tremaining: 1.97s\n",
      "885:\tlearn: 0.0001242\ttotal: 15.2s\tremaining: 1.96s\n",
      "886:\tlearn: 0.0001240\ttotal: 15.2s\tremaining: 1.94s\n",
      "887:\tlearn: 0.0001239\ttotal: 15.2s\tremaining: 1.92s\n",
      "888:\tlearn: 0.0001234\ttotal: 15.3s\tremaining: 1.9s\n",
      "889:\tlearn: 0.0001229\ttotal: 15.3s\tremaining: 1.89s\n",
      "890:\tlearn: 0.0001228\ttotal: 15.3s\tremaining: 1.87s\n",
      "891:\tlearn: 0.0001222\ttotal: 15.3s\tremaining: 1.85s\n",
      "892:\tlearn: 0.0001220\ttotal: 15.3s\tremaining: 1.83s\n",
      "893:\tlearn: 0.0001214\ttotal: 15.3s\tremaining: 1.82s\n",
      "894:\tlearn: 0.0001210\ttotal: 15.4s\tremaining: 1.8s\n",
      "895:\tlearn: 0.0001208\ttotal: 15.4s\tremaining: 1.78s\n",
      "896:\tlearn: 0.0001207\ttotal: 15.4s\tremaining: 1.77s\n",
      "897:\tlearn: 0.0001202\ttotal: 15.4s\tremaining: 1.75s\n",
      "898:\tlearn: 0.0001201\ttotal: 15.4s\tremaining: 1.73s\n",
      "899:\tlearn: 0.0001196\ttotal: 15.4s\tremaining: 1.72s\n",
      "900:\tlearn: 0.0001193\ttotal: 15.5s\tremaining: 1.7s\n",
      "901:\tlearn: 0.0001192\ttotal: 15.5s\tremaining: 1.68s\n",
      "902:\tlearn: 0.0001190\ttotal: 15.5s\tremaining: 1.66s\n",
      "903:\tlearn: 0.0001189\ttotal: 15.5s\tremaining: 1.65s\n",
      "904:\tlearn: 0.0001186\ttotal: 15.5s\tremaining: 1.63s\n",
      "905:\tlearn: 0.0001184\ttotal: 15.5s\tremaining: 1.61s\n",
      "906:\tlearn: 0.0001181\ttotal: 15.6s\tremaining: 1.59s\n",
      "907:\tlearn: 0.0001176\ttotal: 15.6s\tremaining: 1.58s\n",
      "908:\tlearn: 0.0001173\ttotal: 15.6s\tremaining: 1.56s\n",
      "909:\tlearn: 0.0001172\ttotal: 15.6s\tremaining: 1.54s\n",
      "910:\tlearn: 0.0001170\ttotal: 15.6s\tremaining: 1.53s\n",
      "911:\tlearn: 0.0001165\ttotal: 15.7s\tremaining: 1.51s\n",
      "912:\tlearn: 0.0001165\ttotal: 15.7s\tremaining: 1.49s\n",
      "913:\tlearn: 0.0001165\ttotal: 15.7s\tremaining: 1.48s\n",
      "914:\tlearn: 0.0001160\ttotal: 15.7s\tremaining: 1.46s\n",
      "915:\tlearn: 0.0001158\ttotal: 15.7s\tremaining: 1.44s\n",
      "916:\tlearn: 0.0001158\ttotal: 15.7s\tremaining: 1.42s\n",
      "917:\tlearn: 0.0001153\ttotal: 15.8s\tremaining: 1.41s\n",
      "918:\tlearn: 0.0001147\ttotal: 15.8s\tremaining: 1.39s\n",
      "919:\tlearn: 0.0001145\ttotal: 15.8s\tremaining: 1.37s\n",
      "920:\tlearn: 0.0001144\ttotal: 15.8s\tremaining: 1.36s\n",
      "921:\tlearn: 0.0001142\ttotal: 15.8s\tremaining: 1.34s\n",
      "922:\tlearn: 0.0001141\ttotal: 15.9s\tremaining: 1.32s\n",
      "923:\tlearn: 0.0001139\ttotal: 15.9s\tremaining: 1.3s\n",
      "924:\tlearn: 0.0001136\ttotal: 15.9s\tremaining: 1.29s\n",
      "925:\tlearn: 0.0001128\ttotal: 15.9s\tremaining: 1.27s\n",
      "926:\tlearn: 0.0001126\ttotal: 15.9s\tremaining: 1.25s\n",
      "927:\tlearn: 0.0001120\ttotal: 15.9s\tremaining: 1.24s\n",
      "928:\tlearn: 0.0001118\ttotal: 16s\tremaining: 1.22s\n",
      "929:\tlearn: 0.0001110\ttotal: 16s\tremaining: 1.2s\n",
      "930:\tlearn: 0.0001101\ttotal: 16s\tremaining: 1.19s\n",
      "931:\tlearn: 0.0001100\ttotal: 16.1s\tremaining: 1.17s\n",
      "932:\tlearn: 0.0001099\ttotal: 16.1s\tremaining: 1.15s\n",
      "933:\tlearn: 0.0001097\ttotal: 16.1s\tremaining: 1.14s\n",
      "934:\tlearn: 0.0001093\ttotal: 16.1s\tremaining: 1.12s\n",
      "935:\tlearn: 0.0001091\ttotal: 16.1s\tremaining: 1.1s\n",
      "936:\tlearn: 0.0001090\ttotal: 16.2s\tremaining: 1.09s\n",
      "937:\tlearn: 0.0001086\ttotal: 16.2s\tremaining: 1.07s\n",
      "938:\tlearn: 0.0001078\ttotal: 16.2s\tremaining: 1.05s\n",
      "939:\tlearn: 0.0001075\ttotal: 16.3s\tremaining: 1.04s\n",
      "940:\tlearn: 0.0001074\ttotal: 16.3s\tremaining: 1.02s\n",
      "941:\tlearn: 0.0001073\ttotal: 16.3s\tremaining: 1s\n",
      "942:\tlearn: 0.0001072\ttotal: 16.3s\tremaining: 986ms\n",
      "943:\tlearn: 0.0001069\ttotal: 16.3s\tremaining: 969ms\n",
      "944:\tlearn: 0.0001067\ttotal: 16.4s\tremaining: 952ms\n",
      "945:\tlearn: 0.0001060\ttotal: 16.4s\tremaining: 935ms\n",
      "946:\tlearn: 0.0001059\ttotal: 16.4s\tremaining: 917ms\n",
      "947:\tlearn: 0.0001057\ttotal: 16.4s\tremaining: 900ms\n",
      "948:\tlearn: 0.0001054\ttotal: 16.4s\tremaining: 883ms\n",
      "949:\tlearn: 0.0001053\ttotal: 16.5s\tremaining: 866ms\n",
      "950:\tlearn: 0.0001050\ttotal: 16.5s\tremaining: 849ms\n",
      "951:\tlearn: 0.0001047\ttotal: 16.5s\tremaining: 832ms\n",
      "952:\tlearn: 0.0001046\ttotal: 16.5s\tremaining: 815ms\n",
      "953:\tlearn: 0.0001046\ttotal: 16.5s\tremaining: 798ms\n",
      "954:\tlearn: 0.0001044\ttotal: 16.6s\tremaining: 781ms\n",
      "955:\tlearn: 0.0001044\ttotal: 16.6s\tremaining: 764ms\n",
      "956:\tlearn: 0.0001043\ttotal: 16.6s\tremaining: 746ms\n",
      "957:\tlearn: 0.0001041\ttotal: 16.6s\tremaining: 729ms\n",
      "958:\tlearn: 0.0001041\ttotal: 16.7s\tremaining: 712ms\n",
      "959:\tlearn: 0.0001038\ttotal: 16.7s\tremaining: 695ms\n",
      "960:\tlearn: 0.0001036\ttotal: 16.7s\tremaining: 678ms\n",
      "961:\tlearn: 0.0001034\ttotal: 16.7s\tremaining: 660ms\n",
      "962:\tlearn: 0.0001032\ttotal: 16.7s\tremaining: 643ms\n",
      "963:\tlearn: 0.0001031\ttotal: 16.8s\tremaining: 626ms\n",
      "964:\tlearn: 0.0001030\ttotal: 16.8s\tremaining: 609ms\n",
      "965:\tlearn: 0.0001029\ttotal: 16.8s\tremaining: 592ms\n",
      "966:\tlearn: 0.0001026\ttotal: 16.8s\tremaining: 575ms\n",
      "967:\tlearn: 0.0001025\ttotal: 16.9s\tremaining: 557ms\n",
      "968:\tlearn: 0.0001023\ttotal: 16.9s\tremaining: 540ms\n",
      "969:\tlearn: 0.0001021\ttotal: 16.9s\tremaining: 523ms\n",
      "970:\tlearn: 0.0001020\ttotal: 16.9s\tremaining: 505ms\n",
      "971:\tlearn: 0.0001017\ttotal: 16.9s\tremaining: 488ms\n",
      "972:\tlearn: 0.0001016\ttotal: 17s\tremaining: 471ms\n",
      "973:\tlearn: 0.0001014\ttotal: 17s\tremaining: 453ms\n",
      "974:\tlearn: 0.0001012\ttotal: 17s\tremaining: 436ms\n",
      "975:\tlearn: 0.0001009\ttotal: 17s\tremaining: 419ms\n",
      "976:\tlearn: 0.0001009\ttotal: 17s\tremaining: 401ms\n",
      "977:\tlearn: 0.0001006\ttotal: 17.1s\tremaining: 384ms\n",
      "978:\tlearn: 0.0001003\ttotal: 17.1s\tremaining: 366ms\n",
      "979:\tlearn: 0.0001003\ttotal: 17.1s\tremaining: 349ms\n",
      "980:\tlearn: 0.0001001\ttotal: 17.1s\tremaining: 331ms\n",
      "981:\tlearn: 0.0001000\ttotal: 17.1s\tremaining: 314ms\n",
      "982:\tlearn: 0.0000998\ttotal: 17.1s\tremaining: 297ms\n",
      "983:\tlearn: 0.0000997\ttotal: 17.2s\tremaining: 279ms\n",
      "984:\tlearn: 0.0000997\ttotal: 17.2s\tremaining: 262ms\n",
      "985:\tlearn: 0.0000996\ttotal: 17.2s\tremaining: 244ms\n",
      "986:\tlearn: 0.0000994\ttotal: 17.2s\tremaining: 227ms\n",
      "987:\tlearn: 0.0000994\ttotal: 17.2s\tremaining: 209ms\n"
     ]
    },
    {
     "name": "stdout",
     "output_type": "stream",
     "text": [
      "988:\tlearn: 0.0000994\ttotal: 17.3s\tremaining: 192ms\n",
      "989:\tlearn: 0.0000991\ttotal: 17.3s\tremaining: 175ms\n",
      "990:\tlearn: 0.0000991\ttotal: 17.3s\tremaining: 157ms\n",
      "991:\tlearn: 0.0000991\ttotal: 17.3s\tremaining: 140ms\n",
      "992:\tlearn: 0.0000989\ttotal: 17.3s\tremaining: 122ms\n",
      "993:\tlearn: 0.0000985\ttotal: 17.4s\tremaining: 105ms\n",
      "994:\tlearn: 0.0000983\ttotal: 17.4s\tremaining: 87.4ms\n",
      "995:\tlearn: 0.0000980\ttotal: 17.4s\tremaining: 70.1ms\n",
      "996:\tlearn: 0.0000980\ttotal: 17.5s\tremaining: 52.6ms\n",
      "997:\tlearn: 0.0000969\ttotal: 17.5s\tremaining: 35.1ms\n",
      "998:\tlearn: 0.0000967\ttotal: 17.5s\tremaining: 17.5ms\n",
      "999:\tlearn: 0.0000964\ttotal: 17.5s\tremaining: 0us\n"
     ]
    },
    {
     "data": {
      "text/plain": [
       "<catboost.core.CatBoostClassifier at 0x7f7e2897e4f0>"
      ]
     },
     "execution_count": 27,
     "metadata": {},
     "output_type": "execute_result"
    }
   ],
   "source": [
    "cat.fit(X_train.drop('Class', axis=1), X_train['Class'])"
   ]
  },
  {
   "cell_type": "code",
   "execution_count": 28,
   "metadata": {},
   "outputs": [
    {
     "name": "stdout",
     "output_type": "stream",
     "text": [
      "0.620337192700686\n",
      "0.7775491352835752\n",
      "0.7871508575994483\n"
     ]
    }
   ],
   "source": [
    "print(average_precision_score(X_test['Class'], cat.predict(X_test.drop('Class', axis=1))))\n",
    "print(cohen_kappa_score(X_test['Class'], cat.predict(X_test.drop('Class', axis=1))))\n",
    "print(matthews_corrcoef(X_test['Class'], cat.predict(X_test.drop('Class', axis=1))))"
   ]
  },
  {
   "cell_type": "markdown",
   "metadata": {
    "id": "zs-ZjQDLs9BR"
   },
   "source": [
    "Если вы все сделали правильно, у вас должны были получиться значения в районе 0.7."
   ]
  },
  {
   "cell_type": "markdown",
   "metadata": {
    "id": "slOmV65fs9BR"
   },
   "source": [
    "**Задание 1. (1 балл)**. Многие реализации методов предлагают встроенные способы для борьбы с нашей проблемой. Самое часто встречающееся решение - просто добавить вес в функции потерь для минорного класса (таким образом, ошибка на объекте минорного класса будет весить больше, чем для мажорного). В `catboost` это также реализовано, причем для бинарной задачи это можно сделать целыми двумя способами (можете выбрать любой, на свой вкус, автор задания предпочитает отдельный скейлинг для минорного класса). Чаще всего в качестве веса берется отношение числа объектов мажорного класса к числу минорного. Попробуйте обучить модель с таким скалированием и сравните метрики на тестовой части с бейзлайном."
   ]
  },
  {
   "cell_type": "code",
   "execution_count": 29,
   "metadata": {
    "id": "WLVjSc0As9BR"
   },
   "outputs": [],
   "source": [
    "scale = (X_train.shape[0] - X_train['Class'].sum()) / X_train['Class'].sum()\n",
    "cat1 = CatBoostClassifier(scale_pos_weight=scale)"
   ]
  },
  {
   "cell_type": "code",
   "execution_count": 78,
   "metadata": {
    "collapsed": true
   },
   "outputs": [
    {
     "name": "stdout",
     "output_type": "stream",
     "text": [
      "Learning rate set to 0.104628\n",
      "0:\tlearn: 0.4845078\ttotal: 31.6ms\tremaining: 31.6s\n",
      "1:\tlearn: 0.3728031\ttotal: 54.5ms\tremaining: 27.2s\n",
      "2:\tlearn: 0.2922179\ttotal: 76.1ms\tremaining: 25.3s\n",
      "3:\tlearn: 0.2407370\ttotal: 94.8ms\tremaining: 23.6s\n",
      "4:\tlearn: 0.1932144\ttotal: 115ms\tremaining: 22.9s\n",
      "5:\tlearn: 0.1709494\ttotal: 134ms\tremaining: 22.2s\n",
      "6:\tlearn: 0.1557423\ttotal: 153ms\tremaining: 21.6s\n",
      "7:\tlearn: 0.1418560\ttotal: 172ms\tremaining: 21.3s\n",
      "8:\tlearn: 0.1349748\ttotal: 192ms\tremaining: 21.1s\n",
      "9:\tlearn: 0.1277754\ttotal: 215ms\tremaining: 21.3s\n",
      "10:\tlearn: 0.1143748\ttotal: 243ms\tremaining: 21.9s\n",
      "11:\tlearn: 0.1061837\ttotal: 263ms\tremaining: 21.7s\n",
      "12:\tlearn: 0.1007143\ttotal: 286ms\tremaining: 21.7s\n",
      "13:\tlearn: 0.0952922\ttotal: 304ms\tremaining: 21.4s\n",
      "14:\tlearn: 0.0921081\ttotal: 322ms\tremaining: 21.2s\n",
      "15:\tlearn: 0.0860080\ttotal: 341ms\tremaining: 21s\n",
      "16:\tlearn: 0.0817215\ttotal: 360ms\tremaining: 20.8s\n",
      "17:\tlearn: 0.0786674\ttotal: 377ms\tremaining: 20.6s\n",
      "18:\tlearn: 0.0756656\ttotal: 395ms\tremaining: 20.4s\n",
      "19:\tlearn: 0.0730189\ttotal: 417ms\tremaining: 20.4s\n",
      "20:\tlearn: 0.0694014\ttotal: 438ms\tremaining: 20.4s\n",
      "21:\tlearn: 0.0652287\ttotal: 459ms\tremaining: 20.4s\n",
      "22:\tlearn: 0.0619347\ttotal: 478ms\tremaining: 20.3s\n",
      "23:\tlearn: 0.0581677\ttotal: 496ms\tremaining: 20.2s\n",
      "24:\tlearn: 0.0556005\ttotal: 517ms\tremaining: 20.2s\n",
      "25:\tlearn: 0.0527197\ttotal: 539ms\tremaining: 20.2s\n",
      "26:\tlearn: 0.0506264\ttotal: 559ms\tremaining: 20.2s\n",
      "27:\tlearn: 0.0477011\ttotal: 581ms\tremaining: 20.2s\n",
      "28:\tlearn: 0.0451339\ttotal: 603ms\tremaining: 20.2s\n",
      "29:\tlearn: 0.0421530\ttotal: 625ms\tremaining: 20.2s\n",
      "30:\tlearn: 0.0402586\ttotal: 645ms\tremaining: 20.2s\n",
      "31:\tlearn: 0.0384417\ttotal: 668ms\tremaining: 20.2s\n",
      "32:\tlearn: 0.0367511\ttotal: 688ms\tremaining: 20.1s\n",
      "33:\tlearn: 0.0358800\ttotal: 707ms\tremaining: 20.1s\n",
      "34:\tlearn: 0.0339825\ttotal: 729ms\tremaining: 20.1s\n",
      "35:\tlearn: 0.0330678\ttotal: 750ms\tremaining: 20.1s\n",
      "36:\tlearn: 0.0321856\ttotal: 769ms\tremaining: 20s\n",
      "37:\tlearn: 0.0311293\ttotal: 789ms\tremaining: 20s\n",
      "38:\tlearn: 0.0305323\ttotal: 815ms\tremaining: 20.1s\n",
      "39:\tlearn: 0.0294551\ttotal: 842ms\tremaining: 20.2s\n",
      "40:\tlearn: 0.0280813\ttotal: 864ms\tremaining: 20.2s\n",
      "41:\tlearn: 0.0280118\ttotal: 875ms\tremaining: 20s\n",
      "42:\tlearn: 0.0271245\ttotal: 893ms\tremaining: 19.9s\n",
      "43:\tlearn: 0.0265949\ttotal: 909ms\tremaining: 19.7s\n",
      "44:\tlearn: 0.0250422\ttotal: 928ms\tremaining: 19.7s\n",
      "45:\tlearn: 0.0242188\ttotal: 946ms\tremaining: 19.6s\n",
      "46:\tlearn: 0.0227970\ttotal: 966ms\tremaining: 19.6s\n",
      "47:\tlearn: 0.0217102\ttotal: 986ms\tremaining: 19.6s\n",
      "48:\tlearn: 0.0211754\ttotal: 1s\tremaining: 19.5s\n",
      "49:\tlearn: 0.0202369\ttotal: 1.02s\tremaining: 19.5s\n",
      "50:\tlearn: 0.0194402\ttotal: 1.05s\tremaining: 19.5s\n",
      "51:\tlearn: 0.0186539\ttotal: 1.07s\tremaining: 19.5s\n",
      "52:\tlearn: 0.0179019\ttotal: 1.09s\tremaining: 19.5s\n",
      "53:\tlearn: 0.0171674\ttotal: 1.11s\tremaining: 19.4s\n",
      "54:\tlearn: 0.0164622\ttotal: 1.13s\tremaining: 19.4s\n",
      "55:\tlearn: 0.0156788\ttotal: 1.15s\tremaining: 19.4s\n",
      "56:\tlearn: 0.0152809\ttotal: 1.17s\tremaining: 19.4s\n",
      "57:\tlearn: 0.0146427\ttotal: 1.19s\tremaining: 19.4s\n",
      "58:\tlearn: 0.0140119\ttotal: 1.22s\tremaining: 19.4s\n",
      "59:\tlearn: 0.0138172\ttotal: 1.25s\tremaining: 19.6s\n",
      "60:\tlearn: 0.0133975\ttotal: 1.28s\tremaining: 19.7s\n",
      "61:\tlearn: 0.0130666\ttotal: 1.3s\tremaining: 19.7s\n",
      "62:\tlearn: 0.0128086\ttotal: 1.32s\tremaining: 19.6s\n",
      "63:\tlearn: 0.0124749\ttotal: 1.34s\tremaining: 19.6s\n",
      "64:\tlearn: 0.0120325\ttotal: 1.36s\tremaining: 19.5s\n",
      "65:\tlearn: 0.0117594\ttotal: 1.37s\tremaining: 19.4s\n",
      "66:\tlearn: 0.0114530\ttotal: 1.39s\tremaining: 19.4s\n",
      "67:\tlearn: 0.0111580\ttotal: 1.41s\tremaining: 19.3s\n",
      "68:\tlearn: 0.0108166\ttotal: 1.43s\tremaining: 19.3s\n",
      "69:\tlearn: 0.0105915\ttotal: 1.44s\tremaining: 19.2s\n",
      "70:\tlearn: 0.0103058\ttotal: 1.47s\tremaining: 19.2s\n",
      "71:\tlearn: 0.0100189\ttotal: 1.49s\tremaining: 19.2s\n",
      "72:\tlearn: 0.0096446\ttotal: 1.51s\tremaining: 19.1s\n",
      "73:\tlearn: 0.0092928\ttotal: 1.52s\tremaining: 19.1s\n",
      "74:\tlearn: 0.0091469\ttotal: 1.54s\tremaining: 19s\n",
      "75:\tlearn: 0.0089417\ttotal: 1.56s\tremaining: 19s\n",
      "76:\tlearn: 0.0086481\ttotal: 1.58s\tremaining: 18.9s\n",
      "77:\tlearn: 0.0085142\ttotal: 1.6s\tremaining: 18.9s\n",
      "78:\tlearn: 0.0082564\ttotal: 1.61s\tremaining: 18.8s\n",
      "79:\tlearn: 0.0080720\ttotal: 1.63s\tremaining: 18.8s\n",
      "80:\tlearn: 0.0078778\ttotal: 1.65s\tremaining: 18.7s\n",
      "81:\tlearn: 0.0077362\ttotal: 1.67s\tremaining: 18.7s\n",
      "82:\tlearn: 0.0075774\ttotal: 1.69s\tremaining: 18.7s\n",
      "83:\tlearn: 0.0073983\ttotal: 1.72s\tremaining: 18.7s\n",
      "84:\tlearn: 0.0072444\ttotal: 1.74s\tremaining: 18.7s\n",
      "85:\tlearn: 0.0070467\ttotal: 1.75s\tremaining: 18.6s\n",
      "86:\tlearn: 0.0068757\ttotal: 1.77s\tremaining: 18.6s\n",
      "87:\tlearn: 0.0066905\ttotal: 1.79s\tremaining: 18.6s\n",
      "88:\tlearn: 0.0064536\ttotal: 1.81s\tremaining: 18.5s\n",
      "89:\tlearn: 0.0063607\ttotal: 1.83s\tremaining: 18.5s\n",
      "90:\tlearn: 0.0062457\ttotal: 1.85s\tremaining: 18.5s\n",
      "91:\tlearn: 0.0060261\ttotal: 1.87s\tremaining: 18.5s\n",
      "92:\tlearn: 0.0058223\ttotal: 1.9s\tremaining: 18.5s\n",
      "93:\tlearn: 0.0057438\ttotal: 1.92s\tremaining: 18.5s\n",
      "94:\tlearn: 0.0056610\ttotal: 1.94s\tremaining: 18.4s\n",
      "95:\tlearn: 0.0055615\ttotal: 1.95s\tremaining: 18.4s\n",
      "96:\tlearn: 0.0054746\ttotal: 1.97s\tremaining: 18.3s\n",
      "97:\tlearn: 0.0054162\ttotal: 1.99s\tremaining: 18.3s\n",
      "98:\tlearn: 0.0053596\ttotal: 2.01s\tremaining: 18.3s\n",
      "99:\tlearn: 0.0052725\ttotal: 2.03s\tremaining: 18.2s\n",
      "100:\tlearn: 0.0051921\ttotal: 2.04s\tremaining: 18.2s\n",
      "101:\tlearn: 0.0051226\ttotal: 2.06s\tremaining: 18.1s\n",
      "102:\tlearn: 0.0050547\ttotal: 2.08s\tremaining: 18.1s\n",
      "103:\tlearn: 0.0049326\ttotal: 2.1s\tremaining: 18.1s\n",
      "104:\tlearn: 0.0048345\ttotal: 2.12s\tremaining: 18.1s\n",
      "105:\tlearn: 0.0047039\ttotal: 2.14s\tremaining: 18s\n",
      "106:\tlearn: 0.0045741\ttotal: 2.15s\tremaining: 18s\n",
      "107:\tlearn: 0.0044793\ttotal: 2.17s\tremaining: 17.9s\n",
      "108:\tlearn: 0.0044020\ttotal: 2.19s\tremaining: 17.9s\n",
      "109:\tlearn: 0.0043312\ttotal: 2.21s\tremaining: 17.9s\n",
      "110:\tlearn: 0.0042683\ttotal: 2.23s\tremaining: 17.8s\n",
      "111:\tlearn: 0.0042105\ttotal: 2.24s\tremaining: 17.8s\n",
      "112:\tlearn: 0.0041651\ttotal: 2.26s\tremaining: 17.7s\n",
      "113:\tlearn: 0.0041116\ttotal: 2.28s\tremaining: 17.7s\n",
      "114:\tlearn: 0.0040138\ttotal: 2.3s\tremaining: 17.7s\n",
      "115:\tlearn: 0.0039714\ttotal: 2.31s\tremaining: 17.6s\n",
      "116:\tlearn: 0.0039175\ttotal: 2.33s\tremaining: 17.6s\n",
      "117:\tlearn: 0.0039017\ttotal: 2.35s\tremaining: 17.6s\n",
      "118:\tlearn: 0.0038297\ttotal: 2.37s\tremaining: 17.6s\n",
      "119:\tlearn: 0.0037973\ttotal: 2.39s\tremaining: 17.5s\n",
      "120:\tlearn: 0.0036823\ttotal: 2.41s\tremaining: 17.5s\n",
      "121:\tlearn: 0.0036143\ttotal: 2.43s\tremaining: 17.5s\n",
      "122:\tlearn: 0.0035518\ttotal: 2.45s\tremaining: 17.5s\n",
      "123:\tlearn: 0.0034948\ttotal: 2.47s\tremaining: 17.4s\n",
      "124:\tlearn: 0.0034357\ttotal: 2.48s\tremaining: 17.4s\n",
      "125:\tlearn: 0.0033682\ttotal: 2.5s\tremaining: 17.4s\n",
      "126:\tlearn: 0.0033359\ttotal: 2.52s\tremaining: 17.4s\n",
      "127:\tlearn: 0.0033033\ttotal: 2.54s\tremaining: 17.3s\n",
      "128:\tlearn: 0.0032353\ttotal: 2.56s\tremaining: 17.3s\n",
      "129:\tlearn: 0.0032056\ttotal: 2.57s\tremaining: 17.2s\n",
      "130:\tlearn: 0.0031753\ttotal: 2.59s\tremaining: 17.2s\n",
      "131:\tlearn: 0.0030957\ttotal: 2.61s\tremaining: 17.2s\n",
      "132:\tlearn: 0.0030612\ttotal: 2.63s\tremaining: 17.1s\n",
      "133:\tlearn: 0.0030186\ttotal: 2.64s\tremaining: 17.1s\n",
      "134:\tlearn: 0.0029253\ttotal: 2.66s\tremaining: 17s\n",
      "135:\tlearn: 0.0028626\ttotal: 2.68s\tremaining: 17s\n",
      "136:\tlearn: 0.0028417\ttotal: 2.69s\tremaining: 17s\n",
      "137:\tlearn: 0.0028024\ttotal: 2.71s\tremaining: 17s\n",
      "138:\tlearn: 0.0027859\ttotal: 2.73s\tremaining: 16.9s\n",
      "139:\tlearn: 0.0027514\ttotal: 2.75s\tremaining: 16.9s\n",
      "140:\tlearn: 0.0027160\ttotal: 2.77s\tremaining: 16.9s\n",
      "141:\tlearn: 0.0026866\ttotal: 2.79s\tremaining: 16.8s\n",
      "142:\tlearn: 0.0026618\ttotal: 2.8s\tremaining: 16.8s\n",
      "143:\tlearn: 0.0025848\ttotal: 2.82s\tremaining: 16.8s\n",
      "144:\tlearn: 0.0025258\ttotal: 2.84s\tremaining: 16.7s\n",
      "145:\tlearn: 0.0024747\ttotal: 2.85s\tremaining: 16.7s\n",
      "146:\tlearn: 0.0024371\ttotal: 2.87s\tremaining: 16.7s\n",
      "147:\tlearn: 0.0023969\ttotal: 2.89s\tremaining: 16.6s\n",
      "148:\tlearn: 0.0023437\ttotal: 2.9s\tremaining: 16.6s\n",
      "149:\tlearn: 0.0022908\ttotal: 2.92s\tremaining: 16.6s\n",
      "150:\tlearn: 0.0022746\ttotal: 2.94s\tremaining: 16.5s\n",
      "151:\tlearn: 0.0022509\ttotal: 2.96s\tremaining: 16.5s\n",
      "152:\tlearn: 0.0022297\ttotal: 2.97s\tremaining: 16.5s\n",
      "153:\tlearn: 0.0022064\ttotal: 2.99s\tremaining: 16.4s\n",
      "154:\tlearn: 0.0021723\ttotal: 3.01s\tremaining: 16.4s\n",
      "155:\tlearn: 0.0021522\ttotal: 3.02s\tremaining: 16.4s\n",
      "156:\tlearn: 0.0021020\ttotal: 3.04s\tremaining: 16.3s\n",
      "157:\tlearn: 0.0020696\ttotal: 3.06s\tremaining: 16.3s\n",
      "158:\tlearn: 0.0020469\ttotal: 3.08s\tremaining: 16.3s\n",
      "159:\tlearn: 0.0020107\ttotal: 3.09s\tremaining: 16.2s\n",
      "160:\tlearn: 0.0019754\ttotal: 3.11s\tremaining: 16.2s\n"
     ]
    },
    {
     "name": "stdout",
     "output_type": "stream",
     "text": [
      "161:\tlearn: 0.0019228\ttotal: 3.13s\tremaining: 16.2s\n",
      "162:\tlearn: 0.0018965\ttotal: 3.15s\tremaining: 16.2s\n",
      "163:\tlearn: 0.0018660\ttotal: 3.17s\tremaining: 16.2s\n",
      "164:\tlearn: 0.0018350\ttotal: 3.19s\tremaining: 16.1s\n",
      "165:\tlearn: 0.0018096\ttotal: 3.21s\tremaining: 16.1s\n",
      "166:\tlearn: 0.0017771\ttotal: 3.22s\tremaining: 16.1s\n",
      "167:\tlearn: 0.0017468\ttotal: 3.24s\tremaining: 16.1s\n",
      "168:\tlearn: 0.0017143\ttotal: 3.26s\tremaining: 16s\n",
      "169:\tlearn: 0.0017016\ttotal: 3.28s\tremaining: 16s\n",
      "170:\tlearn: 0.0016802\ttotal: 3.3s\tremaining: 16s\n",
      "171:\tlearn: 0.0016689\ttotal: 3.31s\tremaining: 15.9s\n",
      "172:\tlearn: 0.0016449\ttotal: 3.33s\tremaining: 15.9s\n",
      "173:\tlearn: 0.0016248\ttotal: 3.35s\tremaining: 15.9s\n",
      "174:\tlearn: 0.0016212\ttotal: 3.37s\tremaining: 15.9s\n",
      "175:\tlearn: 0.0015913\ttotal: 3.38s\tremaining: 15.8s\n",
      "176:\tlearn: 0.0015649\ttotal: 3.4s\tremaining: 15.8s\n",
      "177:\tlearn: 0.0015513\ttotal: 3.42s\tremaining: 15.8s\n",
      "178:\tlearn: 0.0015366\ttotal: 3.44s\tremaining: 15.8s\n",
      "179:\tlearn: 0.0015219\ttotal: 3.46s\tremaining: 15.7s\n",
      "180:\tlearn: 0.0015025\ttotal: 3.48s\tremaining: 15.7s\n",
      "181:\tlearn: 0.0015025\ttotal: 3.49s\tremaining: 15.7s\n",
      "182:\tlearn: 0.0014847\ttotal: 3.51s\tremaining: 15.7s\n",
      "183:\tlearn: 0.0014641\ttotal: 3.53s\tremaining: 15.6s\n",
      "184:\tlearn: 0.0014468\ttotal: 3.55s\tremaining: 15.6s\n",
      "185:\tlearn: 0.0014468\ttotal: 3.56s\tremaining: 15.6s\n",
      "186:\tlearn: 0.0014468\ttotal: 3.58s\tremaining: 15.6s\n",
      "187:\tlearn: 0.0014468\ttotal: 3.59s\tremaining: 15.5s\n",
      "188:\tlearn: 0.0014468\ttotal: 3.6s\tremaining: 15.5s\n",
      "189:\tlearn: 0.0014468\ttotal: 3.62s\tremaining: 15.4s\n",
      "190:\tlearn: 0.0014468\ttotal: 3.63s\tremaining: 15.4s\n",
      "191:\tlearn: 0.0014468\ttotal: 3.65s\tremaining: 15.3s\n",
      "192:\tlearn: 0.0014468\ttotal: 3.66s\tremaining: 15.3s\n",
      "193:\tlearn: 0.0014468\ttotal: 3.67s\tremaining: 15.3s\n",
      "194:\tlearn: 0.0014468\ttotal: 3.69s\tremaining: 15.2s\n",
      "195:\tlearn: 0.0014468\ttotal: 3.7s\tremaining: 15.2s\n",
      "196:\tlearn: 0.0014468\ttotal: 3.71s\tremaining: 15.1s\n",
      "197:\tlearn: 0.0014468\ttotal: 3.73s\tremaining: 15.1s\n",
      "198:\tlearn: 0.0014468\ttotal: 3.74s\tremaining: 15.1s\n",
      "199:\tlearn: 0.0014468\ttotal: 3.76s\tremaining: 15s\n",
      "200:\tlearn: 0.0014468\ttotal: 3.77s\tremaining: 15s\n",
      "201:\tlearn: 0.0014468\ttotal: 3.78s\tremaining: 14.9s\n",
      "202:\tlearn: 0.0014468\ttotal: 3.8s\tremaining: 14.9s\n",
      "203:\tlearn: 0.0014468\ttotal: 3.81s\tremaining: 14.9s\n",
      "204:\tlearn: 0.0014468\ttotal: 3.82s\tremaining: 14.8s\n",
      "205:\tlearn: 0.0014468\ttotal: 3.83s\tremaining: 14.8s\n",
      "206:\tlearn: 0.0014468\ttotal: 3.85s\tremaining: 14.7s\n",
      "207:\tlearn: 0.0014468\ttotal: 3.86s\tremaining: 14.7s\n",
      "208:\tlearn: 0.0014468\ttotal: 3.87s\tremaining: 14.7s\n",
      "209:\tlearn: 0.0014468\ttotal: 3.88s\tremaining: 14.6s\n",
      "210:\tlearn: 0.0014468\ttotal: 3.9s\tremaining: 14.6s\n",
      "211:\tlearn: 0.0014468\ttotal: 3.91s\tremaining: 14.5s\n",
      "212:\tlearn: 0.0014468\ttotal: 3.92s\tremaining: 14.5s\n",
      "213:\tlearn: 0.0014468\ttotal: 3.93s\tremaining: 14.4s\n",
      "214:\tlearn: 0.0014468\ttotal: 3.94s\tremaining: 14.4s\n",
      "215:\tlearn: 0.0014468\ttotal: 3.96s\tremaining: 14.4s\n",
      "216:\tlearn: 0.0014468\ttotal: 3.97s\tremaining: 14.3s\n",
      "217:\tlearn: 0.0014467\ttotal: 3.98s\tremaining: 14.3s\n",
      "218:\tlearn: 0.0014467\ttotal: 4s\tremaining: 14.3s\n",
      "219:\tlearn: 0.0014467\ttotal: 4.01s\tremaining: 14.2s\n",
      "220:\tlearn: 0.0014467\ttotal: 4.02s\tremaining: 14.2s\n",
      "221:\tlearn: 0.0014468\ttotal: 4.03s\tremaining: 14.1s\n",
      "222:\tlearn: 0.0014468\ttotal: 4.04s\tremaining: 14.1s\n",
      "223:\tlearn: 0.0014468\ttotal: 4.06s\tremaining: 14.1s\n",
      "224:\tlearn: 0.0014468\ttotal: 4.07s\tremaining: 14s\n",
      "225:\tlearn: 0.0014468\ttotal: 4.08s\tremaining: 14s\n",
      "226:\tlearn: 0.0014468\ttotal: 4.09s\tremaining: 13.9s\n",
      "227:\tlearn: 0.0014468\ttotal: 4.11s\tremaining: 13.9s\n",
      "228:\tlearn: 0.0014468\ttotal: 4.12s\tremaining: 13.9s\n",
      "229:\tlearn: 0.0014468\ttotal: 4.13s\tremaining: 13.8s\n",
      "230:\tlearn: 0.0014467\ttotal: 4.14s\tremaining: 13.8s\n",
      "231:\tlearn: 0.0014467\ttotal: 4.16s\tremaining: 13.8s\n",
      "232:\tlearn: 0.0014467\ttotal: 4.17s\tremaining: 13.7s\n",
      "233:\tlearn: 0.0014467\ttotal: 4.19s\tremaining: 13.7s\n",
      "234:\tlearn: 0.0014467\ttotal: 4.2s\tremaining: 13.7s\n",
      "235:\tlearn: 0.0014467\ttotal: 4.21s\tremaining: 13.6s\n",
      "236:\tlearn: 0.0014467\ttotal: 4.22s\tremaining: 13.6s\n",
      "237:\tlearn: 0.0014467\ttotal: 4.24s\tremaining: 13.6s\n",
      "238:\tlearn: 0.0014467\ttotal: 4.25s\tremaining: 13.5s\n",
      "239:\tlearn: 0.0014467\ttotal: 4.26s\tremaining: 13.5s\n",
      "240:\tlearn: 0.0014467\ttotal: 4.27s\tremaining: 13.5s\n",
      "241:\tlearn: 0.0014467\ttotal: 4.28s\tremaining: 13.4s\n",
      "242:\tlearn: 0.0014467\ttotal: 4.3s\tremaining: 13.4s\n",
      "243:\tlearn: 0.0014467\ttotal: 4.31s\tremaining: 13.3s\n",
      "244:\tlearn: 0.0014467\ttotal: 4.32s\tremaining: 13.3s\n",
      "245:\tlearn: 0.0014467\ttotal: 4.33s\tremaining: 13.3s\n",
      "246:\tlearn: 0.0014467\ttotal: 4.34s\tremaining: 13.2s\n",
      "247:\tlearn: 0.0014467\ttotal: 4.36s\tremaining: 13.2s\n",
      "248:\tlearn: 0.0014467\ttotal: 4.37s\tremaining: 13.2s\n",
      "249:\tlearn: 0.0014467\ttotal: 4.38s\tremaining: 13.1s\n",
      "250:\tlearn: 0.0014467\ttotal: 4.4s\tremaining: 13.1s\n",
      "251:\tlearn: 0.0014467\ttotal: 4.41s\tremaining: 13.1s\n",
      "252:\tlearn: 0.0014467\ttotal: 4.42s\tremaining: 13.1s\n",
      "253:\tlearn: 0.0014467\ttotal: 4.43s\tremaining: 13s\n",
      "254:\tlearn: 0.0014467\ttotal: 4.45s\tremaining: 13s\n",
      "255:\tlearn: 0.0014467\ttotal: 4.46s\tremaining: 13s\n",
      "256:\tlearn: 0.0014467\ttotal: 4.47s\tremaining: 12.9s\n",
      "257:\tlearn: 0.0014467\ttotal: 4.48s\tremaining: 12.9s\n",
      "258:\tlearn: 0.0014467\ttotal: 4.5s\tremaining: 12.9s\n",
      "259:\tlearn: 0.0014467\ttotal: 4.51s\tremaining: 12.8s\n",
      "260:\tlearn: 0.0014467\ttotal: 4.52s\tremaining: 12.8s\n",
      "261:\tlearn: 0.0014467\ttotal: 4.53s\tremaining: 12.8s\n",
      "262:\tlearn: 0.0014467\ttotal: 4.55s\tremaining: 12.7s\n",
      "263:\tlearn: 0.0014467\ttotal: 4.56s\tremaining: 12.7s\n",
      "264:\tlearn: 0.0014467\ttotal: 4.58s\tremaining: 12.7s\n",
      "265:\tlearn: 0.0014467\ttotal: 4.59s\tremaining: 12.7s\n",
      "266:\tlearn: 0.0014467\ttotal: 4.6s\tremaining: 12.6s\n",
      "267:\tlearn: 0.0014467\ttotal: 4.61s\tremaining: 12.6s\n",
      "268:\tlearn: 0.0014467\ttotal: 4.63s\tremaining: 12.6s\n",
      "269:\tlearn: 0.0014467\ttotal: 4.64s\tremaining: 12.5s\n",
      "270:\tlearn: 0.0014467\ttotal: 4.65s\tremaining: 12.5s\n",
      "271:\tlearn: 0.0014467\ttotal: 4.67s\tremaining: 12.5s\n",
      "272:\tlearn: 0.0014467\ttotal: 4.68s\tremaining: 12.5s\n",
      "273:\tlearn: 0.0014467\ttotal: 4.69s\tremaining: 12.4s\n",
      "274:\tlearn: 0.0014467\ttotal: 4.7s\tremaining: 12.4s\n",
      "275:\tlearn: 0.0014467\ttotal: 4.72s\tremaining: 12.4s\n",
      "276:\tlearn: 0.0014467\ttotal: 4.73s\tremaining: 12.3s\n",
      "277:\tlearn: 0.0014467\ttotal: 4.74s\tremaining: 12.3s\n",
      "278:\tlearn: 0.0014467\ttotal: 4.75s\tremaining: 12.3s\n",
      "279:\tlearn: 0.0014467\ttotal: 4.77s\tremaining: 12.3s\n",
      "280:\tlearn: 0.0014467\ttotal: 4.78s\tremaining: 12.2s\n",
      "281:\tlearn: 0.0014467\ttotal: 4.79s\tremaining: 12.2s\n",
      "282:\tlearn: 0.0014467\ttotal: 4.8s\tremaining: 12.2s\n",
      "283:\tlearn: 0.0014467\ttotal: 4.82s\tremaining: 12.1s\n",
      "284:\tlearn: 0.0014467\ttotal: 4.83s\tremaining: 12.1s\n",
      "285:\tlearn: 0.0014467\ttotal: 4.84s\tremaining: 12.1s\n",
      "286:\tlearn: 0.0014467\ttotal: 4.85s\tremaining: 12.1s\n",
      "287:\tlearn: 0.0014467\ttotal: 4.87s\tremaining: 12s\n",
      "288:\tlearn: 0.0014467\ttotal: 4.88s\tremaining: 12s\n",
      "289:\tlearn: 0.0014467\ttotal: 4.89s\tremaining: 12s\n",
      "290:\tlearn: 0.0014467\ttotal: 4.9s\tremaining: 11.9s\n",
      "291:\tlearn: 0.0014467\ttotal: 4.91s\tremaining: 11.9s\n",
      "292:\tlearn: 0.0014467\ttotal: 4.92s\tremaining: 11.9s\n",
      "293:\tlearn: 0.0014467\ttotal: 4.94s\tremaining: 11.9s\n",
      "294:\tlearn: 0.0014467\ttotal: 4.95s\tremaining: 11.8s\n",
      "295:\tlearn: 0.0014467\ttotal: 4.96s\tremaining: 11.8s\n",
      "296:\tlearn: 0.0014467\ttotal: 4.97s\tremaining: 11.8s\n",
      "297:\tlearn: 0.0014467\ttotal: 4.99s\tremaining: 11.7s\n",
      "298:\tlearn: 0.0014467\ttotal: 5s\tremaining: 11.7s\n",
      "299:\tlearn: 0.0014467\ttotal: 5.01s\tremaining: 11.7s\n",
      "300:\tlearn: 0.0014467\ttotal: 5.02s\tremaining: 11.7s\n",
      "301:\tlearn: 0.0014467\ttotal: 5.04s\tremaining: 11.6s\n",
      "302:\tlearn: 0.0014467\ttotal: 5.05s\tremaining: 11.6s\n",
      "303:\tlearn: 0.0014467\ttotal: 5.06s\tremaining: 11.6s\n",
      "304:\tlearn: 0.0014467\ttotal: 5.07s\tremaining: 11.6s\n",
      "305:\tlearn: 0.0014467\ttotal: 5.08s\tremaining: 11.5s\n",
      "306:\tlearn: 0.0014467\ttotal: 5.1s\tremaining: 11.5s\n",
      "307:\tlearn: 0.0014467\ttotal: 5.11s\tremaining: 11.5s\n",
      "308:\tlearn: 0.0014467\ttotal: 5.12s\tremaining: 11.5s\n",
      "309:\tlearn: 0.0014467\ttotal: 5.13s\tremaining: 11.4s\n",
      "310:\tlearn: 0.0014467\ttotal: 5.15s\tremaining: 11.4s\n",
      "311:\tlearn: 0.0014467\ttotal: 5.16s\tremaining: 11.4s\n",
      "312:\tlearn: 0.0014467\ttotal: 5.18s\tremaining: 11.4s\n",
      "313:\tlearn: 0.0014467\ttotal: 5.19s\tremaining: 11.3s\n",
      "314:\tlearn: 0.0014467\ttotal: 5.2s\tremaining: 11.3s\n",
      "315:\tlearn: 0.0014467\ttotal: 5.21s\tremaining: 11.3s\n",
      "316:\tlearn: 0.0014467\ttotal: 5.23s\tremaining: 11.3s\n",
      "317:\tlearn: 0.0014467\ttotal: 5.24s\tremaining: 11.2s\n",
      "318:\tlearn: 0.0014467\ttotal: 5.25s\tremaining: 11.2s\n",
      "319:\tlearn: 0.0014467\ttotal: 5.26s\tremaining: 11.2s\n",
      "320:\tlearn: 0.0014467\ttotal: 5.28s\tremaining: 11.2s\n",
      "321:\tlearn: 0.0014467\ttotal: 5.29s\tremaining: 11.1s\n",
      "322:\tlearn: 0.0014467\ttotal: 5.3s\tremaining: 11.1s\n",
      "323:\tlearn: 0.0014467\ttotal: 5.31s\tremaining: 11.1s\n",
      "324:\tlearn: 0.0014467\ttotal: 5.33s\tremaining: 11.1s\n",
      "325:\tlearn: 0.0014467\ttotal: 5.34s\tremaining: 11s\n",
      "326:\tlearn: 0.0014467\ttotal: 5.35s\tremaining: 11s\n",
      "327:\tlearn: 0.0014467\ttotal: 5.36s\tremaining: 11s\n"
     ]
    },
    {
     "name": "stdout",
     "output_type": "stream",
     "text": [
      "328:\tlearn: 0.0014467\ttotal: 5.38s\tremaining: 11s\n",
      "329:\tlearn: 0.0014467\ttotal: 5.39s\tremaining: 10.9s\n",
      "330:\tlearn: 0.0014467\ttotal: 5.4s\tremaining: 10.9s\n",
      "331:\tlearn: 0.0014467\ttotal: 5.42s\tremaining: 10.9s\n",
      "332:\tlearn: 0.0014467\ttotal: 5.43s\tremaining: 10.9s\n",
      "333:\tlearn: 0.0014467\ttotal: 5.44s\tremaining: 10.8s\n",
      "334:\tlearn: 0.0014467\ttotal: 5.45s\tremaining: 10.8s\n",
      "335:\tlearn: 0.0014467\ttotal: 5.46s\tremaining: 10.8s\n",
      "336:\tlearn: 0.0014467\ttotal: 5.47s\tremaining: 10.8s\n",
      "337:\tlearn: 0.0014467\ttotal: 5.49s\tremaining: 10.7s\n",
      "338:\tlearn: 0.0014467\ttotal: 5.5s\tremaining: 10.7s\n",
      "339:\tlearn: 0.0014467\ttotal: 5.51s\tremaining: 10.7s\n",
      "340:\tlearn: 0.0014467\ttotal: 5.52s\tremaining: 10.7s\n",
      "341:\tlearn: 0.0014467\ttotal: 5.54s\tremaining: 10.7s\n",
      "342:\tlearn: 0.0014467\ttotal: 5.55s\tremaining: 10.6s\n",
      "343:\tlearn: 0.0014467\ttotal: 5.56s\tremaining: 10.6s\n",
      "344:\tlearn: 0.0014467\ttotal: 5.57s\tremaining: 10.6s\n",
      "345:\tlearn: 0.0014467\ttotal: 5.59s\tremaining: 10.6s\n",
      "346:\tlearn: 0.0014467\ttotal: 5.6s\tremaining: 10.5s\n",
      "347:\tlearn: 0.0014467\ttotal: 5.62s\tremaining: 10.5s\n",
      "348:\tlearn: 0.0014467\ttotal: 5.63s\tremaining: 10.5s\n",
      "349:\tlearn: 0.0014467\ttotal: 5.64s\tremaining: 10.5s\n",
      "350:\tlearn: 0.0014467\ttotal: 5.65s\tremaining: 10.5s\n",
      "351:\tlearn: 0.0014467\ttotal: 5.66s\tremaining: 10.4s\n",
      "352:\tlearn: 0.0014467\ttotal: 5.68s\tremaining: 10.4s\n",
      "353:\tlearn: 0.0014467\ttotal: 5.69s\tremaining: 10.4s\n",
      "354:\tlearn: 0.0014467\ttotal: 5.7s\tremaining: 10.4s\n",
      "355:\tlearn: 0.0014467\ttotal: 5.71s\tremaining: 10.3s\n",
      "356:\tlearn: 0.0014467\ttotal: 5.73s\tremaining: 10.3s\n",
      "357:\tlearn: 0.0014467\ttotal: 5.74s\tremaining: 10.3s\n",
      "358:\tlearn: 0.0014467\ttotal: 5.76s\tremaining: 10.3s\n",
      "359:\tlearn: 0.0014467\ttotal: 5.77s\tremaining: 10.3s\n",
      "360:\tlearn: 0.0014467\ttotal: 5.78s\tremaining: 10.2s\n",
      "361:\tlearn: 0.0014467\ttotal: 5.8s\tremaining: 10.2s\n",
      "362:\tlearn: 0.0014467\ttotal: 5.81s\tremaining: 10.2s\n",
      "363:\tlearn: 0.0014467\ttotal: 5.82s\tremaining: 10.2s\n",
      "364:\tlearn: 0.0014467\ttotal: 5.83s\tremaining: 10.2s\n",
      "365:\tlearn: 0.0014467\ttotal: 5.85s\tremaining: 10.1s\n",
      "366:\tlearn: 0.0014467\ttotal: 5.86s\tremaining: 10.1s\n",
      "367:\tlearn: 0.0014466\ttotal: 5.87s\tremaining: 10.1s\n",
      "368:\tlearn: 0.0014466\ttotal: 5.89s\tremaining: 10.1s\n",
      "369:\tlearn: 0.0014466\ttotal: 5.9s\tremaining: 10.1s\n",
      "370:\tlearn: 0.0014466\ttotal: 5.92s\tremaining: 10s\n",
      "371:\tlearn: 0.0014466\ttotal: 5.93s\tremaining: 10s\n",
      "372:\tlearn: 0.0014466\ttotal: 5.95s\tremaining: 10s\n",
      "373:\tlearn: 0.0014466\ttotal: 5.96s\tremaining: 9.98s\n",
      "374:\tlearn: 0.0014466\ttotal: 5.97s\tremaining: 9.96s\n",
      "375:\tlearn: 0.0014466\ttotal: 5.99s\tremaining: 9.94s\n",
      "376:\tlearn: 0.0014466\ttotal: 6s\tremaining: 9.92s\n",
      "377:\tlearn: 0.0014466\ttotal: 6.01s\tremaining: 9.9s\n",
      "378:\tlearn: 0.0014466\ttotal: 6.03s\tremaining: 9.88s\n",
      "379:\tlearn: 0.0014466\ttotal: 6.04s\tremaining: 9.86s\n",
      "380:\tlearn: 0.0014466\ttotal: 6.05s\tremaining: 9.83s\n",
      "381:\tlearn: 0.0014466\ttotal: 6.06s\tremaining: 9.81s\n",
      "382:\tlearn: 0.0014466\ttotal: 6.08s\tremaining: 9.79s\n",
      "383:\tlearn: 0.0014466\ttotal: 6.09s\tremaining: 9.77s\n",
      "384:\tlearn: 0.0014466\ttotal: 6.1s\tremaining: 9.74s\n",
      "385:\tlearn: 0.0014466\ttotal: 6.11s\tremaining: 9.72s\n",
      "386:\tlearn: 0.0014466\ttotal: 6.12s\tremaining: 9.7s\n",
      "387:\tlearn: 0.0014466\ttotal: 6.14s\tremaining: 9.68s\n",
      "388:\tlearn: 0.0014466\ttotal: 6.15s\tremaining: 9.66s\n",
      "389:\tlearn: 0.0014466\ttotal: 6.17s\tremaining: 9.64s\n",
      "390:\tlearn: 0.0014466\ttotal: 6.18s\tremaining: 9.62s\n",
      "391:\tlearn: 0.0014466\ttotal: 6.19s\tremaining: 9.6s\n",
      "392:\tlearn: 0.0014466\ttotal: 6.21s\tremaining: 9.58s\n",
      "393:\tlearn: 0.0014466\ttotal: 6.22s\tremaining: 9.56s\n",
      "394:\tlearn: 0.0014466\ttotal: 6.23s\tremaining: 9.55s\n",
      "395:\tlearn: 0.0014466\ttotal: 6.25s\tremaining: 9.53s\n",
      "396:\tlearn: 0.0014466\ttotal: 6.26s\tremaining: 9.51s\n",
      "397:\tlearn: 0.0014466\ttotal: 6.27s\tremaining: 9.49s\n",
      "398:\tlearn: 0.0014466\ttotal: 6.29s\tremaining: 9.47s\n",
      "399:\tlearn: 0.0014466\ttotal: 6.3s\tremaining: 9.45s\n",
      "400:\tlearn: 0.0014466\ttotal: 6.31s\tremaining: 9.43s\n",
      "401:\tlearn: 0.0014466\ttotal: 6.32s\tremaining: 9.4s\n",
      "402:\tlearn: 0.0014466\ttotal: 6.33s\tremaining: 9.38s\n",
      "403:\tlearn: 0.0014466\ttotal: 6.35s\tremaining: 9.36s\n",
      "404:\tlearn: 0.0014466\ttotal: 6.36s\tremaining: 9.34s\n",
      "405:\tlearn: 0.0014466\ttotal: 6.37s\tremaining: 9.32s\n",
      "406:\tlearn: 0.0014466\ttotal: 6.38s\tremaining: 9.3s\n",
      "407:\tlearn: 0.0014466\ttotal: 6.4s\tremaining: 9.28s\n",
      "408:\tlearn: 0.0014466\ttotal: 6.41s\tremaining: 9.27s\n",
      "409:\tlearn: 0.0014466\ttotal: 6.43s\tremaining: 9.25s\n",
      "410:\tlearn: 0.0014466\ttotal: 6.44s\tremaining: 9.23s\n",
      "411:\tlearn: 0.0014466\ttotal: 6.45s\tremaining: 9.21s\n",
      "412:\tlearn: 0.0014466\ttotal: 6.47s\tremaining: 9.19s\n",
      "413:\tlearn: 0.0014466\ttotal: 6.48s\tremaining: 9.17s\n",
      "414:\tlearn: 0.0014466\ttotal: 6.49s\tremaining: 9.15s\n",
      "415:\tlearn: 0.0014466\ttotal: 6.51s\tremaining: 9.13s\n",
      "416:\tlearn: 0.0014466\ttotal: 6.52s\tremaining: 9.12s\n",
      "417:\tlearn: 0.0014466\ttotal: 6.53s\tremaining: 9.1s\n",
      "418:\tlearn: 0.0014466\ttotal: 6.54s\tremaining: 9.07s\n",
      "419:\tlearn: 0.0014466\ttotal: 6.56s\tremaining: 9.06s\n",
      "420:\tlearn: 0.0014466\ttotal: 6.57s\tremaining: 9.04s\n",
      "421:\tlearn: 0.0014466\ttotal: 6.58s\tremaining: 9.02s\n",
      "422:\tlearn: 0.0014466\ttotal: 6.59s\tremaining: 8.99s\n",
      "423:\tlearn: 0.0014466\ttotal: 6.61s\tremaining: 8.97s\n",
      "424:\tlearn: 0.0014466\ttotal: 6.62s\tremaining: 8.96s\n",
      "425:\tlearn: 0.0014466\ttotal: 6.63s\tremaining: 8.94s\n",
      "426:\tlearn: 0.0014466\ttotal: 6.65s\tremaining: 8.92s\n",
      "427:\tlearn: 0.0014466\ttotal: 6.66s\tremaining: 8.9s\n",
      "428:\tlearn: 0.0014466\ttotal: 6.67s\tremaining: 8.88s\n",
      "429:\tlearn: 0.0014466\ttotal: 6.68s\tremaining: 8.86s\n",
      "430:\tlearn: 0.0014466\ttotal: 6.69s\tremaining: 8.84s\n",
      "431:\tlearn: 0.0014466\ttotal: 6.71s\tremaining: 8.82s\n",
      "432:\tlearn: 0.0014466\ttotal: 6.72s\tremaining: 8.8s\n",
      "433:\tlearn: 0.0014466\ttotal: 6.73s\tremaining: 8.78s\n",
      "434:\tlearn: 0.0014466\ttotal: 6.74s\tremaining: 8.76s\n",
      "435:\tlearn: 0.0014466\ttotal: 6.75s\tremaining: 8.74s\n",
      "436:\tlearn: 0.0014466\ttotal: 6.77s\tremaining: 8.72s\n",
      "437:\tlearn: 0.0014466\ttotal: 6.78s\tremaining: 8.7s\n",
      "438:\tlearn: 0.0014466\ttotal: 6.79s\tremaining: 8.68s\n",
      "439:\tlearn: 0.0014466\ttotal: 6.8s\tremaining: 8.66s\n",
      "440:\tlearn: 0.0014466\ttotal: 6.82s\tremaining: 8.64s\n",
      "441:\tlearn: 0.0014466\ttotal: 6.83s\tremaining: 8.62s\n",
      "442:\tlearn: 0.0014466\ttotal: 6.84s\tremaining: 8.61s\n",
      "443:\tlearn: 0.0014466\ttotal: 6.86s\tremaining: 8.59s\n",
      "444:\tlearn: 0.0014466\ttotal: 6.87s\tremaining: 8.57s\n",
      "445:\tlearn: 0.0014466\ttotal: 6.88s\tremaining: 8.55s\n",
      "446:\tlearn: 0.0014466\ttotal: 6.89s\tremaining: 8.53s\n",
      "447:\tlearn: 0.0014466\ttotal: 6.91s\tremaining: 8.51s\n",
      "448:\tlearn: 0.0014466\ttotal: 6.92s\tremaining: 8.49s\n",
      "449:\tlearn: 0.0014466\ttotal: 6.93s\tremaining: 8.47s\n",
      "450:\tlearn: 0.0014466\ttotal: 6.94s\tremaining: 8.45s\n",
      "451:\tlearn: 0.0014466\ttotal: 6.96s\tremaining: 8.43s\n",
      "452:\tlearn: 0.0014466\ttotal: 6.97s\tremaining: 8.41s\n",
      "453:\tlearn: 0.0014466\ttotal: 6.98s\tremaining: 8.39s\n",
      "454:\tlearn: 0.0014466\ttotal: 6.99s\tremaining: 8.38s\n",
      "455:\tlearn: 0.0014466\ttotal: 7.01s\tremaining: 8.36s\n",
      "456:\tlearn: 0.0014466\ttotal: 7.02s\tremaining: 8.34s\n",
      "457:\tlearn: 0.0014466\ttotal: 7.03s\tremaining: 8.32s\n",
      "458:\tlearn: 0.0014466\ttotal: 7.05s\tremaining: 8.31s\n",
      "459:\tlearn: 0.0014466\ttotal: 7.06s\tremaining: 8.29s\n",
      "460:\tlearn: 0.0014466\ttotal: 7.07s\tremaining: 8.27s\n",
      "461:\tlearn: 0.0014466\ttotal: 7.09s\tremaining: 8.25s\n",
      "462:\tlearn: 0.0014466\ttotal: 7.1s\tremaining: 8.23s\n",
      "463:\tlearn: 0.0014466\ttotal: 7.11s\tremaining: 8.22s\n",
      "464:\tlearn: 0.0014466\ttotal: 7.13s\tremaining: 8.2s\n",
      "465:\tlearn: 0.0014466\ttotal: 7.14s\tremaining: 8.18s\n",
      "466:\tlearn: 0.0014466\ttotal: 7.16s\tremaining: 8.17s\n",
      "467:\tlearn: 0.0014466\ttotal: 7.17s\tremaining: 8.15s\n",
      "468:\tlearn: 0.0014466\ttotal: 7.18s\tremaining: 8.13s\n",
      "469:\tlearn: 0.0014466\ttotal: 7.19s\tremaining: 8.11s\n",
      "470:\tlearn: 0.0014466\ttotal: 7.21s\tremaining: 8.09s\n",
      "471:\tlearn: 0.0014466\ttotal: 7.22s\tremaining: 8.08s\n",
      "472:\tlearn: 0.0014466\ttotal: 7.24s\tremaining: 8.06s\n",
      "473:\tlearn: 0.0014466\ttotal: 7.25s\tremaining: 8.04s\n",
      "474:\tlearn: 0.0014466\ttotal: 7.26s\tremaining: 8.03s\n",
      "475:\tlearn: 0.0014466\ttotal: 7.28s\tremaining: 8.01s\n",
      "476:\tlearn: 0.0014466\ttotal: 7.29s\tremaining: 7.99s\n",
      "477:\tlearn: 0.0014466\ttotal: 7.3s\tremaining: 7.97s\n",
      "478:\tlearn: 0.0014466\ttotal: 7.32s\tremaining: 7.96s\n",
      "479:\tlearn: 0.0014466\ttotal: 7.33s\tremaining: 7.94s\n",
      "480:\tlearn: 0.0014466\ttotal: 7.34s\tremaining: 7.92s\n",
      "481:\tlearn: 0.0014466\ttotal: 7.36s\tremaining: 7.9s\n",
      "482:\tlearn: 0.0014466\ttotal: 7.37s\tremaining: 7.89s\n",
      "483:\tlearn: 0.0014466\ttotal: 7.38s\tremaining: 7.87s\n",
      "484:\tlearn: 0.0014466\ttotal: 7.39s\tremaining: 7.85s\n",
      "485:\tlearn: 0.0014466\ttotal: 7.41s\tremaining: 7.83s\n",
      "486:\tlearn: 0.0014466\ttotal: 7.42s\tremaining: 7.82s\n"
     ]
    },
    {
     "name": "stdout",
     "output_type": "stream",
     "text": [
      "487:\tlearn: 0.0014466\ttotal: 7.44s\tremaining: 7.8s\n",
      "488:\tlearn: 0.0014466\ttotal: 7.45s\tremaining: 7.79s\n",
      "489:\tlearn: 0.0014466\ttotal: 7.46s\tremaining: 7.77s\n",
      "490:\tlearn: 0.0014466\ttotal: 7.48s\tremaining: 7.75s\n",
      "491:\tlearn: 0.0014466\ttotal: 7.49s\tremaining: 7.73s\n",
      "492:\tlearn: 0.0014466\ttotal: 7.5s\tremaining: 7.72s\n",
      "493:\tlearn: 0.0014466\ttotal: 7.52s\tremaining: 7.7s\n",
      "494:\tlearn: 0.0014466\ttotal: 7.53s\tremaining: 7.68s\n",
      "495:\tlearn: 0.0014466\ttotal: 7.54s\tremaining: 7.66s\n",
      "496:\tlearn: 0.0014466\ttotal: 7.55s\tremaining: 7.65s\n",
      "497:\tlearn: 0.0014465\ttotal: 7.57s\tremaining: 7.63s\n",
      "498:\tlearn: 0.0014465\ttotal: 7.58s\tremaining: 7.61s\n",
      "499:\tlearn: 0.0014466\ttotal: 7.59s\tremaining: 7.59s\n",
      "500:\tlearn: 0.0014465\ttotal: 7.61s\tremaining: 7.58s\n",
      "501:\tlearn: 0.0014465\ttotal: 7.62s\tremaining: 7.56s\n",
      "502:\tlearn: 0.0014465\ttotal: 7.63s\tremaining: 7.54s\n",
      "503:\tlearn: 0.0014465\ttotal: 7.65s\tremaining: 7.53s\n",
      "504:\tlearn: 0.0014465\ttotal: 7.66s\tremaining: 7.51s\n",
      "505:\tlearn: 0.0014465\ttotal: 7.68s\tremaining: 7.5s\n",
      "506:\tlearn: 0.0014465\ttotal: 7.69s\tremaining: 7.48s\n",
      "507:\tlearn: 0.0014465\ttotal: 7.7s\tremaining: 7.46s\n",
      "508:\tlearn: 0.0014465\ttotal: 7.72s\tremaining: 7.44s\n",
      "509:\tlearn: 0.0014465\ttotal: 7.73s\tremaining: 7.43s\n",
      "510:\tlearn: 0.0014465\ttotal: 7.74s\tremaining: 7.41s\n",
      "511:\tlearn: 0.0014465\ttotal: 7.76s\tremaining: 7.39s\n",
      "512:\tlearn: 0.0014465\ttotal: 7.77s\tremaining: 7.38s\n",
      "513:\tlearn: 0.0014465\ttotal: 7.78s\tremaining: 7.36s\n",
      "514:\tlearn: 0.0014465\ttotal: 7.8s\tremaining: 7.34s\n",
      "515:\tlearn: 0.0014465\ttotal: 7.81s\tremaining: 7.33s\n",
      "516:\tlearn: 0.0014465\ttotal: 7.82s\tremaining: 7.31s\n",
      "517:\tlearn: 0.0014465\ttotal: 7.84s\tremaining: 7.29s\n",
      "518:\tlearn: 0.0014465\ttotal: 7.85s\tremaining: 7.28s\n",
      "519:\tlearn: 0.0014465\ttotal: 7.87s\tremaining: 7.26s\n",
      "520:\tlearn: 0.0014465\ttotal: 7.88s\tremaining: 7.24s\n",
      "521:\tlearn: 0.0014465\ttotal: 7.89s\tremaining: 7.23s\n",
      "522:\tlearn: 0.0014465\ttotal: 7.91s\tremaining: 7.21s\n",
      "523:\tlearn: 0.0014465\ttotal: 7.92s\tremaining: 7.2s\n",
      "524:\tlearn: 0.0014465\ttotal: 7.94s\tremaining: 7.18s\n",
      "525:\tlearn: 0.0014465\ttotal: 7.95s\tremaining: 7.17s\n",
      "526:\tlearn: 0.0014465\ttotal: 7.96s\tremaining: 7.15s\n",
      "527:\tlearn: 0.0014465\ttotal: 7.98s\tremaining: 7.13s\n",
      "528:\tlearn: 0.0014465\ttotal: 7.99s\tremaining: 7.12s\n",
      "529:\tlearn: 0.0014465\ttotal: 8.01s\tremaining: 7.1s\n",
      "530:\tlearn: 0.0014465\ttotal: 8.02s\tremaining: 7.08s\n",
      "531:\tlearn: 0.0014465\ttotal: 8.03s\tremaining: 7.07s\n",
      "532:\tlearn: 0.0014465\ttotal: 8.05s\tremaining: 7.05s\n",
      "533:\tlearn: 0.0014465\ttotal: 8.06s\tremaining: 7.04s\n",
      "534:\tlearn: 0.0014465\ttotal: 8.08s\tremaining: 7.02s\n",
      "535:\tlearn: 0.0014465\ttotal: 8.09s\tremaining: 7.01s\n",
      "536:\tlearn: 0.0014465\ttotal: 8.11s\tremaining: 6.99s\n",
      "537:\tlearn: 0.0014465\ttotal: 8.12s\tremaining: 6.97s\n",
      "538:\tlearn: 0.0014465\ttotal: 8.13s\tremaining: 6.96s\n",
      "539:\tlearn: 0.0014465\ttotal: 8.15s\tremaining: 6.94s\n",
      "540:\tlearn: 0.0014465\ttotal: 8.16s\tremaining: 6.92s\n",
      "541:\tlearn: 0.0014465\ttotal: 8.18s\tremaining: 6.91s\n",
      "542:\tlearn: 0.0014465\ttotal: 8.19s\tremaining: 6.89s\n",
      "543:\tlearn: 0.0014465\ttotal: 8.2s\tremaining: 6.88s\n",
      "544:\tlearn: 0.0014465\ttotal: 8.21s\tremaining: 6.86s\n",
      "545:\tlearn: 0.0014465\ttotal: 8.23s\tremaining: 6.84s\n",
      "546:\tlearn: 0.0014465\ttotal: 8.24s\tremaining: 6.83s\n",
      "547:\tlearn: 0.0014465\ttotal: 8.26s\tremaining: 6.81s\n",
      "548:\tlearn: 0.0014465\ttotal: 8.28s\tremaining: 6.8s\n",
      "549:\tlearn: 0.0014465\ttotal: 8.29s\tremaining: 6.78s\n",
      "550:\tlearn: 0.0014465\ttotal: 8.3s\tremaining: 6.77s\n",
      "551:\tlearn: 0.0014465\ttotal: 8.32s\tremaining: 6.75s\n",
      "552:\tlearn: 0.0014465\ttotal: 8.33s\tremaining: 6.74s\n",
      "553:\tlearn: 0.0014465\ttotal: 8.35s\tremaining: 6.72s\n",
      "554:\tlearn: 0.0014465\ttotal: 8.36s\tremaining: 6.7s\n",
      "555:\tlearn: 0.0014465\ttotal: 8.38s\tremaining: 6.69s\n",
      "556:\tlearn: 0.0014465\ttotal: 8.39s\tremaining: 6.67s\n",
      "557:\tlearn: 0.0014465\ttotal: 8.41s\tremaining: 6.66s\n",
      "558:\tlearn: 0.0014465\ttotal: 8.42s\tremaining: 6.64s\n",
      "559:\tlearn: 0.0014465\ttotal: 8.44s\tremaining: 6.63s\n",
      "560:\tlearn: 0.0014465\ttotal: 8.45s\tremaining: 6.61s\n",
      "561:\tlearn: 0.0014465\ttotal: 8.47s\tremaining: 6.6s\n",
      "562:\tlearn: 0.0014465\ttotal: 8.48s\tremaining: 6.58s\n",
      "563:\tlearn: 0.0014465\ttotal: 8.5s\tremaining: 6.57s\n",
      "564:\tlearn: 0.0014465\ttotal: 8.51s\tremaining: 6.55s\n",
      "565:\tlearn: 0.0014465\ttotal: 8.53s\tremaining: 6.54s\n",
      "566:\tlearn: 0.0014465\ttotal: 8.54s\tremaining: 6.52s\n",
      "567:\tlearn: 0.0014465\ttotal: 8.55s\tremaining: 6.51s\n",
      "568:\tlearn: 0.0014465\ttotal: 8.57s\tremaining: 6.49s\n",
      "569:\tlearn: 0.0014465\ttotal: 8.58s\tremaining: 6.47s\n",
      "570:\tlearn: 0.0014465\ttotal: 8.59s\tremaining: 6.46s\n",
      "571:\tlearn: 0.0014465\ttotal: 8.61s\tremaining: 6.44s\n",
      "572:\tlearn: 0.0014465\ttotal: 8.62s\tremaining: 6.42s\n",
      "573:\tlearn: 0.0014465\ttotal: 8.63s\tremaining: 6.41s\n",
      "574:\tlearn: 0.0014465\ttotal: 8.65s\tremaining: 6.39s\n",
      "575:\tlearn: 0.0014465\ttotal: 8.66s\tremaining: 6.38s\n",
      "576:\tlearn: 0.0014465\ttotal: 8.68s\tremaining: 6.36s\n",
      "577:\tlearn: 0.0014465\ttotal: 8.69s\tremaining: 6.35s\n",
      "578:\tlearn: 0.0014465\ttotal: 8.71s\tremaining: 6.33s\n",
      "579:\tlearn: 0.0014465\ttotal: 8.72s\tremaining: 6.31s\n",
      "580:\tlearn: 0.0014465\ttotal: 8.73s\tremaining: 6.3s\n",
      "581:\tlearn: 0.0014465\ttotal: 8.74s\tremaining: 6.28s\n",
      "582:\tlearn: 0.0014465\ttotal: 8.76s\tremaining: 6.26s\n",
      "583:\tlearn: 0.0014465\ttotal: 8.77s\tremaining: 6.25s\n",
      "584:\tlearn: 0.0014465\ttotal: 8.79s\tremaining: 6.23s\n",
      "585:\tlearn: 0.0014465\ttotal: 8.8s\tremaining: 6.22s\n",
      "586:\tlearn: 0.0014465\ttotal: 8.81s\tremaining: 6.2s\n",
      "587:\tlearn: 0.0014465\ttotal: 8.83s\tremaining: 6.18s\n",
      "588:\tlearn: 0.0014465\ttotal: 8.84s\tremaining: 6.17s\n",
      "589:\tlearn: 0.0014465\ttotal: 8.86s\tremaining: 6.15s\n",
      "590:\tlearn: 0.0014465\ttotal: 8.87s\tremaining: 6.14s\n",
      "591:\tlearn: 0.0014465\ttotal: 8.88s\tremaining: 6.12s\n",
      "592:\tlearn: 0.0014465\ttotal: 8.9s\tremaining: 6.11s\n",
      "593:\tlearn: 0.0014465\ttotal: 8.91s\tremaining: 6.09s\n",
      "594:\tlearn: 0.0014465\ttotal: 8.93s\tremaining: 6.08s\n",
      "595:\tlearn: 0.0014465\ttotal: 8.94s\tremaining: 6.06s\n",
      "596:\tlearn: 0.0014465\ttotal: 8.96s\tremaining: 6.05s\n",
      "597:\tlearn: 0.0014465\ttotal: 8.97s\tremaining: 6.03s\n",
      "598:\tlearn: 0.0014465\ttotal: 8.98s\tremaining: 6.01s\n",
      "599:\tlearn: 0.0014465\ttotal: 9s\tremaining: 6s\n",
      "600:\tlearn: 0.0014465\ttotal: 9.01s\tremaining: 5.98s\n",
      "601:\tlearn: 0.0014465\ttotal: 9.03s\tremaining: 5.97s\n",
      "602:\tlearn: 0.0014465\ttotal: 9.04s\tremaining: 5.95s\n",
      "603:\tlearn: 0.0014465\ttotal: 9.05s\tremaining: 5.94s\n",
      "604:\tlearn: 0.0014465\ttotal: 9.07s\tremaining: 5.92s\n",
      "605:\tlearn: 0.0014465\ttotal: 9.08s\tremaining: 5.91s\n",
      "606:\tlearn: 0.0014465\ttotal: 9.1s\tremaining: 5.89s\n",
      "607:\tlearn: 0.0014465\ttotal: 9.12s\tremaining: 5.88s\n",
      "608:\tlearn: 0.0014465\ttotal: 9.13s\tremaining: 5.86s\n",
      "609:\tlearn: 0.0014465\ttotal: 9.15s\tremaining: 5.85s\n",
      "610:\tlearn: 0.0014465\ttotal: 9.16s\tremaining: 5.83s\n",
      "611:\tlearn: 0.0014465\ttotal: 9.18s\tremaining: 5.82s\n",
      "612:\tlearn: 0.0014465\ttotal: 9.19s\tremaining: 5.8s\n",
      "613:\tlearn: 0.0014465\ttotal: 9.21s\tremaining: 5.79s\n",
      "614:\tlearn: 0.0014465\ttotal: 9.22s\tremaining: 5.77s\n",
      "615:\tlearn: 0.0014465\ttotal: 9.23s\tremaining: 5.76s\n",
      "616:\tlearn: 0.0014465\ttotal: 9.25s\tremaining: 5.74s\n",
      "617:\tlearn: 0.0014465\ttotal: 9.26s\tremaining: 5.72s\n",
      "618:\tlearn: 0.0014465\ttotal: 9.28s\tremaining: 5.71s\n",
      "619:\tlearn: 0.0014465\ttotal: 9.29s\tremaining: 5.69s\n",
      "620:\tlearn: 0.0014465\ttotal: 9.3s\tremaining: 5.68s\n",
      "621:\tlearn: 0.0014465\ttotal: 9.32s\tremaining: 5.66s\n",
      "622:\tlearn: 0.0014465\ttotal: 9.33s\tremaining: 5.65s\n",
      "623:\tlearn: 0.0014465\ttotal: 9.35s\tremaining: 5.63s\n",
      "624:\tlearn: 0.0014465\ttotal: 9.36s\tremaining: 5.62s\n",
      "625:\tlearn: 0.0014465\ttotal: 9.38s\tremaining: 5.6s\n",
      "626:\tlearn: 0.0014465\ttotal: 9.39s\tremaining: 5.59s\n",
      "627:\tlearn: 0.0014465\ttotal: 9.41s\tremaining: 5.57s\n",
      "628:\tlearn: 0.0014465\ttotal: 9.42s\tremaining: 5.56s\n",
      "629:\tlearn: 0.0014465\ttotal: 9.44s\tremaining: 5.54s\n",
      "630:\tlearn: 0.0014465\ttotal: 9.45s\tremaining: 5.53s\n",
      "631:\tlearn: 0.0014465\ttotal: 9.46s\tremaining: 5.51s\n",
      "632:\tlearn: 0.0014465\ttotal: 9.48s\tremaining: 5.5s\n",
      "633:\tlearn: 0.0014465\ttotal: 9.49s\tremaining: 5.48s\n",
      "634:\tlearn: 0.0014465\ttotal: 9.51s\tremaining: 5.46s\n",
      "635:\tlearn: 0.0014465\ttotal: 9.53s\tremaining: 5.45s\n",
      "636:\tlearn: 0.0014465\ttotal: 9.54s\tremaining: 5.44s\n",
      "637:\tlearn: 0.0014465\ttotal: 9.55s\tremaining: 5.42s\n",
      "638:\tlearn: 0.0014465\ttotal: 9.57s\tremaining: 5.41s\n",
      "639:\tlearn: 0.0014465\ttotal: 9.58s\tremaining: 5.39s\n",
      "640:\tlearn: 0.0014465\ttotal: 9.6s\tremaining: 5.38s\n",
      "641:\tlearn: 0.0014465\ttotal: 9.61s\tremaining: 5.36s\n",
      "642:\tlearn: 0.0014465\ttotal: 9.62s\tremaining: 5.34s\n",
      "643:\tlearn: 0.0014465\ttotal: 9.64s\tremaining: 5.33s\n",
      "644:\tlearn: 0.0014465\ttotal: 9.65s\tremaining: 5.31s\n",
      "645:\tlearn: 0.0014465\ttotal: 9.67s\tremaining: 5.3s\n",
      "646:\tlearn: 0.0014465\ttotal: 9.68s\tremaining: 5.28s\n",
      "647:\tlearn: 0.0014465\ttotal: 9.7s\tremaining: 5.27s\n"
     ]
    },
    {
     "name": "stdout",
     "output_type": "stream",
     "text": [
      "648:\tlearn: 0.0014465\ttotal: 9.71s\tremaining: 5.25s\n",
      "649:\tlearn: 0.0014465\ttotal: 9.73s\tremaining: 5.24s\n",
      "650:\tlearn: 0.0014465\ttotal: 9.74s\tremaining: 5.22s\n",
      "651:\tlearn: 0.0014465\ttotal: 9.76s\tremaining: 5.21s\n",
      "652:\tlearn: 0.0014465\ttotal: 9.77s\tremaining: 5.19s\n",
      "653:\tlearn: 0.0014465\ttotal: 9.78s\tremaining: 5.17s\n",
      "654:\tlearn: 0.0014465\ttotal: 9.8s\tremaining: 5.16s\n",
      "655:\tlearn: 0.0014465\ttotal: 9.81s\tremaining: 5.14s\n",
      "656:\tlearn: 0.0014465\ttotal: 9.82s\tremaining: 5.13s\n",
      "657:\tlearn: 0.0014465\ttotal: 9.84s\tremaining: 5.11s\n",
      "658:\tlearn: 0.0014465\ttotal: 9.85s\tremaining: 5.1s\n",
      "659:\tlearn: 0.0014465\ttotal: 9.87s\tremaining: 5.08s\n",
      "660:\tlearn: 0.0014465\ttotal: 9.88s\tremaining: 5.07s\n",
      "661:\tlearn: 0.0014465\ttotal: 9.89s\tremaining: 5.05s\n",
      "662:\tlearn: 0.0014465\ttotal: 9.91s\tremaining: 5.04s\n",
      "663:\tlearn: 0.0014465\ttotal: 9.93s\tremaining: 5.02s\n",
      "664:\tlearn: 0.0014465\ttotal: 9.94s\tremaining: 5.01s\n",
      "665:\tlearn: 0.0014465\ttotal: 9.96s\tremaining: 4.99s\n",
      "666:\tlearn: 0.0014465\ttotal: 9.97s\tremaining: 4.98s\n",
      "667:\tlearn: 0.0014465\ttotal: 9.98s\tremaining: 4.96s\n",
      "668:\tlearn: 0.0014465\ttotal: 10s\tremaining: 4.95s\n",
      "669:\tlearn: 0.0014465\ttotal: 10s\tremaining: 4.93s\n",
      "670:\tlearn: 0.0014465\ttotal: 10s\tremaining: 4.92s\n",
      "671:\tlearn: 0.0014465\ttotal: 10s\tremaining: 4.9s\n",
      "672:\tlearn: 0.0014464\ttotal: 10.1s\tremaining: 4.88s\n",
      "673:\tlearn: 0.0014464\ttotal: 10.1s\tremaining: 4.87s\n",
      "674:\tlearn: 0.0014464\ttotal: 10.1s\tremaining: 4.86s\n",
      "675:\tlearn: 0.0014464\ttotal: 10.1s\tremaining: 4.84s\n",
      "676:\tlearn: 0.0014464\ttotal: 10.1s\tremaining: 4.83s\n",
      "677:\tlearn: 0.0014464\ttotal: 10.1s\tremaining: 4.81s\n",
      "678:\tlearn: 0.0014464\ttotal: 10.1s\tremaining: 4.79s\n",
      "679:\tlearn: 0.0014464\ttotal: 10.2s\tremaining: 4.78s\n",
      "680:\tlearn: 0.0014464\ttotal: 10.2s\tremaining: 4.76s\n",
      "681:\tlearn: 0.0014464\ttotal: 10.2s\tremaining: 4.75s\n",
      "682:\tlearn: 0.0014464\ttotal: 10.2s\tremaining: 4.73s\n",
      "683:\tlearn: 0.0014464\ttotal: 10.2s\tremaining: 4.72s\n",
      "684:\tlearn: 0.0014464\ttotal: 10.2s\tremaining: 4.7s\n",
      "685:\tlearn: 0.0014464\ttotal: 10.2s\tremaining: 4.69s\n",
      "686:\tlearn: 0.0014464\ttotal: 10.3s\tremaining: 4.67s\n",
      "687:\tlearn: 0.0014464\ttotal: 10.3s\tremaining: 4.66s\n",
      "688:\tlearn: 0.0014464\ttotal: 10.3s\tremaining: 4.64s\n",
      "689:\tlearn: 0.0014464\ttotal: 10.3s\tremaining: 4.63s\n",
      "690:\tlearn: 0.0014464\ttotal: 10.3s\tremaining: 4.61s\n",
      "691:\tlearn: 0.0014464\ttotal: 10.3s\tremaining: 4.59s\n",
      "692:\tlearn: 0.0014464\ttotal: 10.3s\tremaining: 4.58s\n",
      "693:\tlearn: 0.0014464\ttotal: 10.4s\tremaining: 4.56s\n",
      "694:\tlearn: 0.0014464\ttotal: 10.4s\tremaining: 4.55s\n",
      "695:\tlearn: 0.0014464\ttotal: 10.4s\tremaining: 4.54s\n",
      "696:\tlearn: 0.0014464\ttotal: 10.4s\tremaining: 4.52s\n",
      "697:\tlearn: 0.0014464\ttotal: 10.4s\tremaining: 4.5s\n",
      "698:\tlearn: 0.0014464\ttotal: 10.4s\tremaining: 4.49s\n",
      "699:\tlearn: 0.0014464\ttotal: 10.4s\tremaining: 4.47s\n",
      "700:\tlearn: 0.0014464\ttotal: 10.5s\tremaining: 4.46s\n",
      "701:\tlearn: 0.0014464\ttotal: 10.5s\tremaining: 4.44s\n",
      "702:\tlearn: 0.0014464\ttotal: 10.5s\tremaining: 4.43s\n",
      "703:\tlearn: 0.0014464\ttotal: 10.5s\tremaining: 4.41s\n",
      "704:\tlearn: 0.0014464\ttotal: 10.5s\tremaining: 4.4s\n",
      "705:\tlearn: 0.0014464\ttotal: 10.5s\tremaining: 4.38s\n",
      "706:\tlearn: 0.0014464\ttotal: 10.5s\tremaining: 4.37s\n",
      "707:\tlearn: 0.0014464\ttotal: 10.6s\tremaining: 4.35s\n",
      "708:\tlearn: 0.0014464\ttotal: 10.6s\tremaining: 4.34s\n",
      "709:\tlearn: 0.0014464\ttotal: 10.6s\tremaining: 4.32s\n",
      "710:\tlearn: 0.0014463\ttotal: 10.6s\tremaining: 4.31s\n",
      "711:\tlearn: 0.0014463\ttotal: 10.6s\tremaining: 4.29s\n",
      "712:\tlearn: 0.0014463\ttotal: 10.6s\tremaining: 4.28s\n",
      "713:\tlearn: 0.0014463\ttotal: 10.6s\tremaining: 4.26s\n",
      "714:\tlearn: 0.0014463\ttotal: 10.7s\tremaining: 4.25s\n",
      "715:\tlearn: 0.0014463\ttotal: 10.7s\tremaining: 4.23s\n",
      "716:\tlearn: 0.0014463\ttotal: 10.7s\tremaining: 4.22s\n",
      "717:\tlearn: 0.0014463\ttotal: 10.7s\tremaining: 4.2s\n",
      "718:\tlearn: 0.0014463\ttotal: 10.7s\tremaining: 4.18s\n",
      "719:\tlearn: 0.0014463\ttotal: 10.7s\tremaining: 4.17s\n",
      "720:\tlearn: 0.0014463\ttotal: 10.7s\tremaining: 4.16s\n",
      "721:\tlearn: 0.0014463\ttotal: 10.8s\tremaining: 4.14s\n",
      "722:\tlearn: 0.0014463\ttotal: 10.8s\tremaining: 4.13s\n",
      "723:\tlearn: 0.0014463\ttotal: 10.8s\tremaining: 4.11s\n",
      "724:\tlearn: 0.0014463\ttotal: 10.8s\tremaining: 4.1s\n",
      "725:\tlearn: 0.0014463\ttotal: 10.8s\tremaining: 4.08s\n",
      "726:\tlearn: 0.0014463\ttotal: 10.8s\tremaining: 4.07s\n",
      "727:\tlearn: 0.0014463\ttotal: 10.8s\tremaining: 4.05s\n",
      "728:\tlearn: 0.0014463\ttotal: 10.9s\tremaining: 4.04s\n",
      "729:\tlearn: 0.0014463\ttotal: 10.9s\tremaining: 4.02s\n",
      "730:\tlearn: 0.0014463\ttotal: 10.9s\tremaining: 4.01s\n",
      "731:\tlearn: 0.0014463\ttotal: 10.9s\tremaining: 3.99s\n",
      "732:\tlearn: 0.0014463\ttotal: 10.9s\tremaining: 3.98s\n",
      "733:\tlearn: 0.0014463\ttotal: 10.9s\tremaining: 3.96s\n",
      "734:\tlearn: 0.0014463\ttotal: 10.9s\tremaining: 3.95s\n",
      "735:\tlearn: 0.0014463\ttotal: 11s\tremaining: 3.93s\n",
      "736:\tlearn: 0.0014463\ttotal: 11s\tremaining: 3.92s\n",
      "737:\tlearn: 0.0014463\ttotal: 11s\tremaining: 3.9s\n",
      "738:\tlearn: 0.0014463\ttotal: 11s\tremaining: 3.89s\n",
      "739:\tlearn: 0.0014463\ttotal: 11s\tremaining: 3.87s\n",
      "740:\tlearn: 0.0014463\ttotal: 11s\tremaining: 3.85s\n",
      "741:\tlearn: 0.0014463\ttotal: 11s\tremaining: 3.84s\n",
      "742:\tlearn: 0.0014463\ttotal: 11.1s\tremaining: 3.83s\n",
      "743:\tlearn: 0.0014463\ttotal: 11.1s\tremaining: 3.81s\n",
      "744:\tlearn: 0.0014463\ttotal: 11.1s\tremaining: 3.79s\n",
      "745:\tlearn: 0.0014463\ttotal: 11.1s\tremaining: 3.78s\n",
      "746:\tlearn: 0.0014463\ttotal: 11.1s\tremaining: 3.77s\n",
      "747:\tlearn: 0.0014463\ttotal: 11.1s\tremaining: 3.75s\n",
      "748:\tlearn: 0.0014463\ttotal: 11.2s\tremaining: 3.74s\n",
      "749:\tlearn: 0.0014463\ttotal: 11.2s\tremaining: 3.72s\n",
      "750:\tlearn: 0.0014463\ttotal: 11.2s\tremaining: 3.71s\n",
      "751:\tlearn: 0.0014462\ttotal: 11.2s\tremaining: 3.69s\n",
      "752:\tlearn: 0.0014462\ttotal: 11.2s\tremaining: 3.68s\n",
      "753:\tlearn: 0.0014462\ttotal: 11.2s\tremaining: 3.67s\n",
      "754:\tlearn: 0.0014462\ttotal: 11.3s\tremaining: 3.65s\n",
      "755:\tlearn: 0.0014462\ttotal: 11.3s\tremaining: 3.64s\n",
      "756:\tlearn: 0.0014462\ttotal: 11.3s\tremaining: 3.62s\n",
      "757:\tlearn: 0.0014462\ttotal: 11.3s\tremaining: 3.6s\n",
      "758:\tlearn: 0.0014462\ttotal: 11.3s\tremaining: 3.59s\n",
      "759:\tlearn: 0.0014462\ttotal: 11.3s\tremaining: 3.57s\n",
      "760:\tlearn: 0.0014462\ttotal: 11.3s\tremaining: 3.56s\n",
      "761:\tlearn: 0.0014462\ttotal: 11.3s\tremaining: 3.54s\n",
      "762:\tlearn: 0.0014462\ttotal: 11.4s\tremaining: 3.53s\n",
      "763:\tlearn: 0.0014462\ttotal: 11.4s\tremaining: 3.51s\n",
      "764:\tlearn: 0.0014462\ttotal: 11.4s\tremaining: 3.5s\n",
      "765:\tlearn: 0.0014462\ttotal: 11.4s\tremaining: 3.48s\n",
      "766:\tlearn: 0.0014462\ttotal: 11.4s\tremaining: 3.47s\n",
      "767:\tlearn: 0.0014462\ttotal: 11.4s\tremaining: 3.45s\n",
      "768:\tlearn: 0.0014462\ttotal: 11.4s\tremaining: 3.44s\n",
      "769:\tlearn: 0.0014462\ttotal: 11.5s\tremaining: 3.42s\n",
      "770:\tlearn: 0.0014462\ttotal: 11.5s\tremaining: 3.41s\n",
      "771:\tlearn: 0.0014462\ttotal: 11.5s\tremaining: 3.39s\n",
      "772:\tlearn: 0.0014462\ttotal: 11.5s\tremaining: 3.38s\n",
      "773:\tlearn: 0.0014462\ttotal: 11.5s\tremaining: 3.36s\n",
      "774:\tlearn: 0.0014462\ttotal: 11.5s\tremaining: 3.35s\n",
      "775:\tlearn: 0.0014462\ttotal: 11.5s\tremaining: 3.33s\n",
      "776:\tlearn: 0.0014462\ttotal: 11.5s\tremaining: 3.31s\n",
      "777:\tlearn: 0.0014463\ttotal: 11.6s\tremaining: 3.3s\n",
      "778:\tlearn: 0.0014463\ttotal: 11.6s\tremaining: 3.29s\n",
      "779:\tlearn: 0.0014463\ttotal: 11.6s\tremaining: 3.27s\n",
      "780:\tlearn: 0.0014463\ttotal: 11.6s\tremaining: 3.25s\n",
      "781:\tlearn: 0.0014462\ttotal: 11.6s\tremaining: 3.24s\n",
      "782:\tlearn: 0.0014462\ttotal: 11.6s\tremaining: 3.22s\n",
      "783:\tlearn: 0.0014462\ttotal: 11.7s\tremaining: 3.21s\n",
      "784:\tlearn: 0.0014462\ttotal: 11.7s\tremaining: 3.19s\n",
      "785:\tlearn: 0.0014462\ttotal: 11.7s\tremaining: 3.18s\n",
      "786:\tlearn: 0.0014462\ttotal: 11.7s\tremaining: 3.16s\n",
      "787:\tlearn: 0.0014462\ttotal: 11.7s\tremaining: 3.15s\n",
      "788:\tlearn: 0.0014462\ttotal: 11.7s\tremaining: 3.13s\n",
      "789:\tlearn: 0.0014462\ttotal: 11.7s\tremaining: 3.12s\n",
      "790:\tlearn: 0.0014462\ttotal: 11.7s\tremaining: 3.1s\n",
      "791:\tlearn: 0.0014462\ttotal: 11.8s\tremaining: 3.09s\n",
      "792:\tlearn: 0.0014462\ttotal: 11.8s\tremaining: 3.07s\n",
      "793:\tlearn: 0.0014462\ttotal: 11.8s\tremaining: 3.06s\n",
      "794:\tlearn: 0.0014462\ttotal: 11.8s\tremaining: 3.04s\n",
      "795:\tlearn: 0.0014462\ttotal: 11.8s\tremaining: 3.03s\n",
      "796:\tlearn: 0.0014462\ttotal: 11.8s\tremaining: 3.01s\n",
      "797:\tlearn: 0.0014462\ttotal: 11.8s\tremaining: 3s\n",
      "798:\tlearn: 0.0014462\ttotal: 11.9s\tremaining: 2.98s\n",
      "799:\tlearn: 0.0014462\ttotal: 11.9s\tremaining: 2.97s\n",
      "800:\tlearn: 0.0014462\ttotal: 11.9s\tremaining: 2.95s\n",
      "801:\tlearn: 0.0014462\ttotal: 11.9s\tremaining: 2.94s\n",
      "802:\tlearn: 0.0014462\ttotal: 11.9s\tremaining: 2.92s\n",
      "803:\tlearn: 0.0014462\ttotal: 11.9s\tremaining: 2.91s\n",
      "804:\tlearn: 0.0014462\ttotal: 11.9s\tremaining: 2.89s\n",
      "805:\tlearn: 0.0014462\ttotal: 12s\tremaining: 2.88s\n",
      "806:\tlearn: 0.0014462\ttotal: 12s\tremaining: 2.86s\n"
     ]
    },
    {
     "name": "stdout",
     "output_type": "stream",
     "text": [
      "807:\tlearn: 0.0014462\ttotal: 12s\tremaining: 2.85s\n",
      "808:\tlearn: 0.0014461\ttotal: 12s\tremaining: 2.83s\n",
      "809:\tlearn: 0.0014461\ttotal: 12s\tremaining: 2.82s\n",
      "810:\tlearn: 0.0014461\ttotal: 12s\tremaining: 2.8s\n",
      "811:\tlearn: 0.0014461\ttotal: 12s\tremaining: 2.79s\n",
      "812:\tlearn: 0.0014462\ttotal: 12.1s\tremaining: 2.77s\n",
      "813:\tlearn: 0.0014462\ttotal: 12.1s\tremaining: 2.76s\n",
      "814:\tlearn: 0.0014462\ttotal: 12.1s\tremaining: 2.74s\n",
      "815:\tlearn: 0.0014461\ttotal: 12.1s\tremaining: 2.73s\n",
      "816:\tlearn: 0.0014461\ttotal: 12.1s\tremaining: 2.71s\n",
      "817:\tlearn: 0.0014461\ttotal: 12.1s\tremaining: 2.7s\n",
      "818:\tlearn: 0.0014461\ttotal: 12.1s\tremaining: 2.68s\n",
      "819:\tlearn: 0.0014461\ttotal: 12.2s\tremaining: 2.67s\n",
      "820:\tlearn: 0.0014461\ttotal: 12.2s\tremaining: 2.65s\n",
      "821:\tlearn: 0.0014461\ttotal: 12.2s\tremaining: 2.64s\n",
      "822:\tlearn: 0.0014461\ttotal: 12.2s\tremaining: 2.62s\n",
      "823:\tlearn: 0.0014461\ttotal: 12.2s\tremaining: 2.61s\n",
      "824:\tlearn: 0.0014461\ttotal: 12.2s\tremaining: 2.59s\n",
      "825:\tlearn: 0.0014461\ttotal: 12.2s\tremaining: 2.58s\n",
      "826:\tlearn: 0.0014461\ttotal: 12.3s\tremaining: 2.56s\n",
      "827:\tlearn: 0.0014461\ttotal: 12.3s\tremaining: 2.55s\n",
      "828:\tlearn: 0.0014461\ttotal: 12.3s\tremaining: 2.53s\n",
      "829:\tlearn: 0.0014461\ttotal: 12.3s\tremaining: 2.52s\n",
      "830:\tlearn: 0.0014461\ttotal: 12.3s\tremaining: 2.5s\n",
      "831:\tlearn: 0.0014461\ttotal: 12.3s\tremaining: 2.49s\n",
      "832:\tlearn: 0.0014461\ttotal: 12.3s\tremaining: 2.47s\n",
      "833:\tlearn: 0.0014461\ttotal: 12.3s\tremaining: 2.46s\n",
      "834:\tlearn: 0.0014461\ttotal: 12.4s\tremaining: 2.44s\n",
      "835:\tlearn: 0.0014461\ttotal: 12.4s\tremaining: 2.43s\n",
      "836:\tlearn: 0.0014461\ttotal: 12.4s\tremaining: 2.41s\n",
      "837:\tlearn: 0.0014461\ttotal: 12.4s\tremaining: 2.4s\n",
      "838:\tlearn: 0.0014461\ttotal: 12.4s\tremaining: 2.38s\n",
      "839:\tlearn: 0.0014461\ttotal: 12.4s\tremaining: 2.37s\n",
      "840:\tlearn: 0.0014461\ttotal: 12.4s\tremaining: 2.35s\n",
      "841:\tlearn: 0.0014461\ttotal: 12.5s\tremaining: 2.34s\n",
      "842:\tlearn: 0.0014461\ttotal: 12.5s\tremaining: 2.32s\n",
      "843:\tlearn: 0.0014461\ttotal: 12.5s\tremaining: 2.31s\n",
      "844:\tlearn: 0.0014461\ttotal: 12.5s\tremaining: 2.29s\n",
      "845:\tlearn: 0.0014461\ttotal: 12.5s\tremaining: 2.28s\n",
      "846:\tlearn: 0.0014461\ttotal: 12.5s\tremaining: 2.26s\n",
      "847:\tlearn: 0.0014461\ttotal: 12.5s\tremaining: 2.25s\n",
      "848:\tlearn: 0.0014461\ttotal: 12.5s\tremaining: 2.23s\n",
      "849:\tlearn: 0.0014461\ttotal: 12.6s\tremaining: 2.22s\n",
      "850:\tlearn: 0.0014461\ttotal: 12.6s\tremaining: 2.2s\n",
      "851:\tlearn: 0.0014461\ttotal: 12.6s\tremaining: 2.19s\n",
      "852:\tlearn: 0.0014461\ttotal: 12.6s\tremaining: 2.17s\n",
      "853:\tlearn: 0.0014461\ttotal: 12.6s\tremaining: 2.16s\n",
      "854:\tlearn: 0.0014461\ttotal: 12.6s\tremaining: 2.14s\n",
      "855:\tlearn: 0.0014461\ttotal: 12.6s\tremaining: 2.13s\n",
      "856:\tlearn: 0.0014461\ttotal: 12.7s\tremaining: 2.11s\n",
      "857:\tlearn: 0.0014461\ttotal: 12.7s\tremaining: 2.1s\n",
      "858:\tlearn: 0.0014461\ttotal: 12.7s\tremaining: 2.08s\n",
      "859:\tlearn: 0.0014461\ttotal: 12.7s\tremaining: 2.07s\n",
      "860:\tlearn: 0.0014461\ttotal: 12.7s\tremaining: 2.05s\n",
      "861:\tlearn: 0.0014461\ttotal: 12.7s\tremaining: 2.04s\n",
      "862:\tlearn: 0.0014461\ttotal: 12.7s\tremaining: 2.02s\n",
      "863:\tlearn: 0.0014461\ttotal: 12.8s\tremaining: 2.01s\n",
      "864:\tlearn: 0.0014461\ttotal: 12.8s\tremaining: 1.99s\n",
      "865:\tlearn: 0.0014461\ttotal: 12.8s\tremaining: 1.98s\n",
      "866:\tlearn: 0.0014461\ttotal: 12.8s\tremaining: 1.96s\n",
      "867:\tlearn: 0.0014461\ttotal: 12.8s\tremaining: 1.95s\n",
      "868:\tlearn: 0.0014461\ttotal: 12.8s\tremaining: 1.93s\n",
      "869:\tlearn: 0.0014461\ttotal: 12.8s\tremaining: 1.92s\n",
      "870:\tlearn: 0.0014461\ttotal: 12.8s\tremaining: 1.9s\n",
      "871:\tlearn: 0.0014461\ttotal: 12.9s\tremaining: 1.89s\n",
      "872:\tlearn: 0.0014461\ttotal: 12.9s\tremaining: 1.87s\n",
      "873:\tlearn: 0.0014461\ttotal: 12.9s\tremaining: 1.86s\n",
      "874:\tlearn: 0.0014461\ttotal: 12.9s\tremaining: 1.84s\n",
      "875:\tlearn: 0.0014461\ttotal: 12.9s\tremaining: 1.83s\n",
      "876:\tlearn: 0.0014461\ttotal: 12.9s\tremaining: 1.81s\n",
      "877:\tlearn: 0.0014461\ttotal: 12.9s\tremaining: 1.8s\n",
      "878:\tlearn: 0.0014461\ttotal: 13s\tremaining: 1.78s\n",
      "879:\tlearn: 0.0014461\ttotal: 13s\tremaining: 1.77s\n",
      "880:\tlearn: 0.0014461\ttotal: 13s\tremaining: 1.75s\n",
      "881:\tlearn: 0.0014461\ttotal: 13s\tremaining: 1.74s\n",
      "882:\tlearn: 0.0014461\ttotal: 13s\tremaining: 1.72s\n",
      "883:\tlearn: 0.0014460\ttotal: 13s\tremaining: 1.71s\n",
      "884:\tlearn: 0.0014460\ttotal: 13s\tremaining: 1.69s\n",
      "885:\tlearn: 0.0014460\ttotal: 13.1s\tremaining: 1.68s\n",
      "886:\tlearn: 0.0014461\ttotal: 13.1s\tremaining: 1.66s\n",
      "887:\tlearn: 0.0014461\ttotal: 13.1s\tremaining: 1.65s\n",
      "888:\tlearn: 0.0014461\ttotal: 13.1s\tremaining: 1.64s\n",
      "889:\tlearn: 0.0014460\ttotal: 13.1s\tremaining: 1.62s\n",
      "890:\tlearn: 0.0014460\ttotal: 13.1s\tremaining: 1.6s\n",
      "891:\tlearn: 0.0014461\ttotal: 13.1s\tremaining: 1.59s\n",
      "892:\tlearn: 0.0014461\ttotal: 13.1s\tremaining: 1.57s\n",
      "893:\tlearn: 0.0014460\ttotal: 13.2s\tremaining: 1.56s\n",
      "894:\tlearn: 0.0014460\ttotal: 13.2s\tremaining: 1.54s\n",
      "895:\tlearn: 0.0014460\ttotal: 13.2s\tremaining: 1.53s\n",
      "896:\tlearn: 0.0014461\ttotal: 13.2s\tremaining: 1.52s\n",
      "897:\tlearn: 0.0014461\ttotal: 13.2s\tremaining: 1.5s\n",
      "898:\tlearn: 0.0014461\ttotal: 13.2s\tremaining: 1.49s\n",
      "899:\tlearn: 0.0014460\ttotal: 13.2s\tremaining: 1.47s\n",
      "900:\tlearn: 0.0014460\ttotal: 13.3s\tremaining: 1.46s\n",
      "901:\tlearn: 0.0014460\ttotal: 13.3s\tremaining: 1.44s\n",
      "902:\tlearn: 0.0014460\ttotal: 13.3s\tremaining: 1.43s\n",
      "903:\tlearn: 0.0014460\ttotal: 13.3s\tremaining: 1.41s\n",
      "904:\tlearn: 0.0014460\ttotal: 13.3s\tremaining: 1.4s\n",
      "905:\tlearn: 0.0014460\ttotal: 13.3s\tremaining: 1.38s\n",
      "906:\tlearn: 0.0014460\ttotal: 13.3s\tremaining: 1.37s\n",
      "907:\tlearn: 0.0014460\ttotal: 13.4s\tremaining: 1.35s\n",
      "908:\tlearn: 0.0014460\ttotal: 13.4s\tremaining: 1.34s\n",
      "909:\tlearn: 0.0014460\ttotal: 13.4s\tremaining: 1.32s\n",
      "910:\tlearn: 0.0014460\ttotal: 13.4s\tremaining: 1.31s\n",
      "911:\tlearn: 0.0014460\ttotal: 13.4s\tremaining: 1.29s\n",
      "912:\tlearn: 0.0014460\ttotal: 13.4s\tremaining: 1.28s\n",
      "913:\tlearn: 0.0014460\ttotal: 13.4s\tremaining: 1.26s\n",
      "914:\tlearn: 0.0014460\ttotal: 13.5s\tremaining: 1.25s\n",
      "915:\tlearn: 0.0014460\ttotal: 13.5s\tremaining: 1.24s\n",
      "916:\tlearn: 0.0014460\ttotal: 13.5s\tremaining: 1.22s\n",
      "917:\tlearn: 0.0014460\ttotal: 13.5s\tremaining: 1.21s\n",
      "918:\tlearn: 0.0014460\ttotal: 13.5s\tremaining: 1.19s\n",
      "919:\tlearn: 0.0014460\ttotal: 13.5s\tremaining: 1.18s\n",
      "920:\tlearn: 0.0014460\ttotal: 13.5s\tremaining: 1.16s\n",
      "921:\tlearn: 0.0014460\ttotal: 13.6s\tremaining: 1.15s\n",
      "922:\tlearn: 0.0014460\ttotal: 13.6s\tremaining: 1.13s\n",
      "923:\tlearn: 0.0014460\ttotal: 13.6s\tremaining: 1.12s\n",
      "924:\tlearn: 0.0014460\ttotal: 13.6s\tremaining: 1.1s\n",
      "925:\tlearn: 0.0014460\ttotal: 13.6s\tremaining: 1.09s\n",
      "926:\tlearn: 0.0014460\ttotal: 13.6s\tremaining: 1.07s\n",
      "927:\tlearn: 0.0014460\ttotal: 13.6s\tremaining: 1.06s\n",
      "928:\tlearn: 0.0014460\ttotal: 13.7s\tremaining: 1.04s\n",
      "929:\tlearn: 0.0014460\ttotal: 13.7s\tremaining: 1.03s\n",
      "930:\tlearn: 0.0014460\ttotal: 13.7s\tremaining: 1.01s\n",
      "931:\tlearn: 0.0014460\ttotal: 13.7s\tremaining: 1s\n",
      "932:\tlearn: 0.0014460\ttotal: 13.7s\tremaining: 985ms\n",
      "933:\tlearn: 0.0014460\ttotal: 13.7s\tremaining: 971ms\n",
      "934:\tlearn: 0.0014460\ttotal: 13.7s\tremaining: 956ms\n",
      "935:\tlearn: 0.0014460\ttotal: 13.8s\tremaining: 941ms\n",
      "936:\tlearn: 0.0014460\ttotal: 13.8s\tremaining: 926ms\n",
      "937:\tlearn: 0.0014460\ttotal: 13.8s\tremaining: 912ms\n",
      "938:\tlearn: 0.0014460\ttotal: 13.8s\tremaining: 897ms\n",
      "939:\tlearn: 0.0014460\ttotal: 13.8s\tremaining: 882ms\n",
      "940:\tlearn: 0.0014460\ttotal: 13.8s\tremaining: 867ms\n",
      "941:\tlearn: 0.0014460\ttotal: 13.8s\tremaining: 853ms\n",
      "942:\tlearn: 0.0014460\ttotal: 13.9s\tremaining: 839ms\n",
      "943:\tlearn: 0.0014460\ttotal: 13.9s\tremaining: 825ms\n",
      "944:\tlearn: 0.0014460\ttotal: 13.9s\tremaining: 810ms\n",
      "945:\tlearn: 0.0014460\ttotal: 13.9s\tremaining: 795ms\n",
      "946:\tlearn: 0.0014460\ttotal: 13.9s\tremaining: 781ms\n",
      "947:\tlearn: 0.0014460\ttotal: 14s\tremaining: 766ms\n",
      "948:\tlearn: 0.0014460\ttotal: 14s\tremaining: 751ms\n",
      "949:\tlearn: 0.0014460\ttotal: 14s\tremaining: 736ms\n",
      "950:\tlearn: 0.0014460\ttotal: 14s\tremaining: 722ms\n",
      "951:\tlearn: 0.0014460\ttotal: 14s\tremaining: 707ms\n",
      "952:\tlearn: 0.0014460\ttotal: 14s\tremaining: 692ms\n",
      "953:\tlearn: 0.0014460\ttotal: 14.1s\tremaining: 678ms\n",
      "954:\tlearn: 0.0014460\ttotal: 14.1s\tremaining: 663ms\n",
      "955:\tlearn: 0.0014460\ttotal: 14.1s\tremaining: 648ms\n",
      "956:\tlearn: 0.0014460\ttotal: 14.1s\tremaining: 634ms\n",
      "957:\tlearn: 0.0014459\ttotal: 14.1s\tremaining: 619ms\n",
      "958:\tlearn: 0.0014460\ttotal: 14.1s\tremaining: 604ms\n",
      "959:\tlearn: 0.0014459\ttotal: 14.1s\tremaining: 590ms\n",
      "960:\tlearn: 0.0014459\ttotal: 14.2s\tremaining: 575ms\n",
      "961:\tlearn: 0.0014459\ttotal: 14.2s\tremaining: 560ms\n",
      "962:\tlearn: 0.0014459\ttotal: 14.2s\tremaining: 545ms\n",
      "963:\tlearn: 0.0014459\ttotal: 14.2s\tremaining: 531ms\n",
      "964:\tlearn: 0.0014459\ttotal: 14.2s\tremaining: 516ms\n",
      "965:\tlearn: 0.0014459\ttotal: 14.2s\tremaining: 501ms\n",
      "966:\tlearn: 0.0014459\ttotal: 14.3s\tremaining: 487ms\n",
      "967:\tlearn: 0.0014459\ttotal: 14.3s\tremaining: 472ms\n",
      "968:\tlearn: 0.0014459\ttotal: 14.3s\tremaining: 457ms\n",
      "969:\tlearn: 0.0014459\ttotal: 14.3s\tremaining: 442ms\n",
      "970:\tlearn: 0.0014459\ttotal: 14.3s\tremaining: 427ms\n",
      "971:\tlearn: 0.0014459\ttotal: 14.3s\tremaining: 413ms\n",
      "972:\tlearn: 0.0014459\ttotal: 14.3s\tremaining: 398ms\n",
      "973:\tlearn: 0.0014459\ttotal: 14.3s\tremaining: 383ms\n",
      "974:\tlearn: 0.0014459\ttotal: 14.4s\tremaining: 368ms\n",
      "975:\tlearn: 0.0014459\ttotal: 14.4s\tremaining: 354ms\n",
      "976:\tlearn: 0.0014459\ttotal: 14.4s\tremaining: 339ms\n",
      "977:\tlearn: 0.0014459\ttotal: 14.4s\tremaining: 324ms\n",
      "978:\tlearn: 0.0014459\ttotal: 14.4s\tremaining: 309ms\n",
      "979:\tlearn: 0.0014459\ttotal: 14.4s\tremaining: 295ms\n"
     ]
    },
    {
     "name": "stdout",
     "output_type": "stream",
     "text": [
      "980:\tlearn: 0.0014459\ttotal: 14.4s\tremaining: 280ms\n",
      "981:\tlearn: 0.0014459\ttotal: 14.5s\tremaining: 265ms\n",
      "982:\tlearn: 0.0014459\ttotal: 14.5s\tremaining: 250ms\n",
      "983:\tlearn: 0.0014459\ttotal: 14.5s\tremaining: 236ms\n",
      "984:\tlearn: 0.0014459\ttotal: 14.5s\tremaining: 221ms\n",
      "985:\tlearn: 0.0014459\ttotal: 14.5s\tremaining: 206ms\n",
      "986:\tlearn: 0.0014459\ttotal: 14.5s\tremaining: 191ms\n",
      "987:\tlearn: 0.0014459\ttotal: 14.5s\tremaining: 177ms\n",
      "988:\tlearn: 0.0014459\ttotal: 14.6s\tremaining: 162ms\n",
      "989:\tlearn: 0.0014459\ttotal: 14.6s\tremaining: 147ms\n",
      "990:\tlearn: 0.0014459\ttotal: 14.6s\tremaining: 132ms\n",
      "991:\tlearn: 0.0014459\ttotal: 14.6s\tremaining: 118ms\n",
      "992:\tlearn: 0.0014459\ttotal: 14.6s\tremaining: 103ms\n",
      "993:\tlearn: 0.0014459\ttotal: 14.6s\tremaining: 88.3ms\n",
      "994:\tlearn: 0.0014459\ttotal: 14.6s\tremaining: 73.5ms\n",
      "995:\tlearn: 0.0014459\ttotal: 14.7s\tremaining: 58.8ms\n",
      "996:\tlearn: 0.0014459\ttotal: 14.7s\tremaining: 44.1ms\n",
      "997:\tlearn: 0.0014459\ttotal: 14.7s\tremaining: 29.4ms\n",
      "998:\tlearn: 0.0014459\ttotal: 14.7s\tremaining: 14.7ms\n",
      "999:\tlearn: 0.0014459\ttotal: 14.7s\tremaining: 0us\n"
     ]
    },
    {
     "data": {
      "text/plain": [
       "<catboost.core.CatBoostClassifier at 0x7ff301ef5f40>"
      ]
     },
     "execution_count": 78,
     "metadata": {},
     "output_type": "execute_result"
    }
   ],
   "source": [
    "cat1.fit(X_train.drop('Class', axis=1), X_train['Class'])"
   ]
  },
  {
   "cell_type": "code",
   "execution_count": 86,
   "metadata": {},
   "outputs": [
    {
     "name": "stdout",
     "output_type": "stream",
     "text": [
      "0.5738337046348898\n",
      "0.7569886386130616\n",
      "0.7570244040292399\n"
     ]
    }
   ],
   "source": [
    "print(average_precision_score(X_test['Class'], cat1.predict(X_test.drop('Class', axis=1))))\n",
    "print(cohen_kappa_score(X_test['Class'], cat1.predict(X_test.drop('Class', axis=1))))\n",
    "print(matthews_corrcoef(X_test['Class'], cat1.predict(X_test.drop('Class', axis=1))))"
   ]
  },
  {
   "cell_type": "markdown",
   "metadata": {},
   "source": [
    "Метрики упали"
   ]
  },
  {
   "cell_type": "markdown",
   "metadata": {
    "id": "qwhhGSVVs9BR"
   },
   "source": [
    "Поскольку данный вес будет являться гиперпараметром метода, было бы опрометчиво остановиться на одном значении (тем более, с большой вероятностью у вас все сломалось). Запустите перебор для этого гиперпараметра на валидационной выборке (используйте `PR-AUC`), подберите оптимальный порог бинаризации для $\\kappa$ или $\\text{MCC}$. Для лучшего найденного веса и порога вычислите все метрики на тестовой части. \n",
    "\n",
    "При этом можете также проверить отдельное скалирование в большую сторону для мажорного класса (т.е. веса минорного сделать меньше 1) и экстремальные скалирования (т.е. веса минорного больше, чем в начале этого задания). Какой вес получился оптимальным?"
   ]
  },
  {
   "cell_type": "code",
   "execution_count": 90,
   "metadata": {},
   "outputs": [
    {
     "data": {
      "text/plain": [
       "545.3908872901678"
      ]
     },
     "execution_count": 90,
     "metadata": {},
     "output_type": "execute_result"
    }
   ],
   "source": [
    "scale"
   ]
  },
  {
   "cell_type": "code",
   "execution_count": 97,
   "metadata": {
    "id": "LluYkXus8OWt",
    "scrolled": true
   },
   "outputs": [
    {
     "data": {
      "application/vnd.jupyter.widget-view+json": {
       "model_id": "93af2b749e2a4b5e9466f5104a0aa9b5",
       "version_major": 2,
       "version_minor": 0
      },
      "text/plain": [
       "HBox(children=(FloatProgress(value=0.0, max=10.0), HTML(value='')))"
      ]
     },
     "metadata": {},
     "output_type": "display_data"
    },
    {
     "name": "stdout",
     "output_type": "stream",
     "text": [
      "Scale: 109\n",
      "Train: 0.9630484988452656\n",
      "Val: 0.6984889811648483\n",
      "Scale: 209\n",
      "Train: 0.9308035714285714\n",
      "Val: 0.747692907157978\n",
      "Scale: 309\n",
      "Train: 0.9164835164835164\n",
      "Val: 0.6827005586117542\n",
      "Scale: 409\n",
      "Train: 0.9045553145336226\n",
      "Val: 0.6406673291291025\n",
      "Scale: 509\n",
      "Train: 0.8910256410256411\n",
      "Val: 0.6827005586117542\n",
      "Scale: 609\n",
      "Train: 0.8948497854077253\n",
      "Val: 0.6406673291291025\n",
      "Scale: 709\n",
      "Train: 0.8615702479338843\n",
      "Val: 0.7046989496824622\n",
      "Scale: 809\n",
      "Train: 0.879746835443038\n",
      "Val: 0.7137196340542701\n",
      "Scale: 909\n",
      "Train: 0.8760504201680672\n",
      "Val: 0.6958628480703468\n",
      "Scale: 1009\n",
      "Train: 0.7882797731568998\n",
      "Val: 0.6443330574101214\n",
      "\n"
     ]
    }
   ],
   "source": [
    "for s in tqdm(np.arange(int(scale * 0.2), int(scale * 2), 100)):\n",
    "    cat3 = CatBoostClassifier(scale_pos_weight=s, silent=True)\n",
    "    cat3.fit(X_train.drop('Class', axis=1), X_train['Class'])\n",
    "    print('Scale:', s)\n",
    "    print('Train:', average_precision_score(X_train['Class'], cat3.predict(X_train.drop('Class', axis=1))))\n",
    "    print('Val:', average_precision_score(X_val['Class'], cat3.predict(X_val.drop('Class', axis=1))))"
   ]
  },
  {
   "cell_type": "code",
   "execution_count": 98,
   "metadata": {
    "scrolled": true
   },
   "outputs": [
    {
     "name": "stdout",
     "output_type": "stream",
     "text": [
      "0.5738337046348898\n",
      "0.7569886386130616\n",
      "0.7570244040292399\n"
     ]
    }
   ],
   "source": [
    "print(average_precision_score(X_test['Class'], cat3.predict(X_test.drop('Class', axis=1))))\n",
    "print(cohen_kappa_score(X_test['Class'], cat3.predict(X_test.drop('Class', axis=1))))\n",
    "print(matthews_corrcoef(X_test['Class'], cat3.predict(X_test.drop('Class', axis=1))))"
   ]
  },
  {
   "cell_type": "markdown",
   "metadata": {
    "id": "6SaQ-j2Ss9BS"
   },
   "source": [
    "**Задание 2. (1 балл)**. На самом деле, то, что мы сейчас делали, очень схоже с другой распространенной техникой - оверсэмплингом. Фактически, мы можем продублировать все объекты минорного класса и получить тот же эффект, какой был бы при использовании веса, равного 2. Тем не менее, такой подход - это лишь малая часть того, что мы можем проделать с целью повысить число объектов минорного класса. \n",
    "\n",
    "Для продолжения работы установим библиотеку [imbalanced-learn](https://imbalanced-learn.org/stable/):"
   ]
  },
  {
   "cell_type": "code",
   "execution_count": 99,
   "metadata": {
    "collapsed": true,
    "id": "oHL5jywds9BS"
   },
   "outputs": [
    {
     "name": "stdout",
     "output_type": "stream",
     "text": [
      "Requirement already satisfied: imbalanced-learn in /Library/Frameworks/Python.framework/Versions/3.9/lib/python3.9/site-packages (0.8.1)\n",
      "Requirement already satisfied: scikit-learn>=0.24 in /Library/Frameworks/Python.framework/Versions/3.9/lib/python3.9/site-packages (from imbalanced-learn) (1.0.1)\n",
      "Requirement already satisfied: scipy>=0.19.1 in /Library/Frameworks/Python.framework/Versions/3.9/lib/python3.9/site-packages (from imbalanced-learn) (1.6.3)\n",
      "Requirement already satisfied: numpy>=1.13.3 in /Library/Frameworks/Python.framework/Versions/3.9/lib/python3.9/site-packages (from imbalanced-learn) (1.20.0)\n",
      "Requirement already satisfied: joblib>=0.11 in /Library/Frameworks/Python.framework/Versions/3.9/lib/python3.9/site-packages (from imbalanced-learn) (1.0.1)\n",
      "Requirement already satisfied: threadpoolctl>=2.0.0 in /Library/Frameworks/Python.framework/Versions/3.9/lib/python3.9/site-packages (from scikit-learn>=0.24->imbalanced-learn) (3.0.0)\n",
      "\u001b[33mWARNING: You are using pip version 20.2.3; however, version 22.0.4 is available.\n",
      "You should consider upgrading via the '/Library/Frameworks/Python.framework/Versions/3.9/bin/python3.9 -m pip install --upgrade pip' command.\u001b[0m\n"
     ]
    }
   ],
   "source": [
    "!pip3 install imbalanced-learn"
   ]
  },
  {
   "cell_type": "markdown",
   "metadata": {
    "id": "A-dF_oXps9BS"
   },
   "source": [
    "Первый метод, которым мы воспользуемся, называется SMOTE (его вы уже разбирали на лекции). Кратко напомним суть: мы выбираем случайного кандидата среди $k$ ближайших соседей объекта минорного класса, затем берем точку на отрезке между двумя объектами (т.е. выпуклую комбинацию со случайными коэффициентами) и добавляем в выборку. "
   ]
  },
  {
   "cell_type": "code",
   "execution_count": 30,
   "metadata": {
    "id": "EcWmeujGs9BS"
   },
   "outputs": [],
   "source": [
    "from imblearn.over_sampling import SMOTE"
   ]
  },
  {
   "cell_type": "markdown",
   "metadata": {
    "id": "Pke-fWMGs9BT"
   },
   "source": [
    "Используйте SMOTE для ресэмплинга обучающей выборки, на новой выборке обучите модель (вес положительных объектов скалировать не нужно). Замерьте качество на тестовой выборке (**важно!** не преобразовывайте валидационную и тестовую выборку никак - мы не хотим отслеживать качество на объектах, которых в реальности не существует). Сравните полное выравнивание выборки с частичным (т.е. таким, что баланс классов улучшается, но не достигает равенства - скажем, 1:2 и 1:10)."
   ]
  },
  {
   "cell_type": "code",
   "execution_count": 102,
   "metadata": {},
   "outputs": [],
   "source": [
    "smoke = SMOTE()"
   ]
  },
  {
   "cell_type": "code",
   "execution_count": 108,
   "metadata": {
    "id": "xm3HED1ms9BT"
   },
   "outputs": [],
   "source": [
    "# 1:1\n",
    "X_train_smoked1, y_train_smoked1 = smoke.fit_resample(X_train.drop('Class', axis=1), X_train['Class'])"
   ]
  },
  {
   "cell_type": "code",
   "execution_count": 115,
   "metadata": {},
   "outputs": [
    {
     "data": {
      "text/plain": [
       "<catboost.core.CatBoostClassifier at 0x7ff30359c070>"
      ]
     },
     "execution_count": 115,
     "metadata": {},
     "output_type": "execute_result"
    }
   ],
   "source": [
    "cat4 = CatBoostClassifier(silent=True)\n",
    "cat4.fit(X_train_smoked1, y_train_smoked1)"
   ]
  },
  {
   "cell_type": "code",
   "execution_count": 116,
   "metadata": {},
   "outputs": [
    {
     "name": "stdout",
     "output_type": "stream",
     "text": [
      "0.5343513686530974\n",
      "0.7304411314019938\n",
      "0.7304411314019938\n"
     ]
    }
   ],
   "source": [
    "print(average_precision_score(X_test['Class'], cat4.predict(X_test.drop('Class', axis=1))))\n",
    "print(cohen_kappa_score(X_test['Class'], cat4.predict(X_test.drop('Class', axis=1))))\n",
    "print(matthews_corrcoef(X_test['Class'], cat4.predict(X_test.drop('Class', axis=1))))"
   ]
  },
  {
   "cell_type": "code",
   "execution_count": 117,
   "metadata": {},
   "outputs": [
    {
     "name": "stdout",
     "output_type": "stream",
     "text": [
      "0.5853042928701839\n",
      "0.7644247691641753\n",
      "0.7645721113350902\n"
     ]
    }
   ],
   "source": [
    "smoke = SMOTE(sampling_strategy=1/2)\n",
    "# 1:2\n",
    "X_train_smoked2, y_train_smoked2 = smoke.fit_resample(X_train.drop('Class', axis=1), X_train['Class'])\n",
    "cat5 = CatBoostClassifier(silent=True)\n",
    "cat5.fit(X_train_smoked2, y_train_smoked2)\n",
    "\n",
    "print(average_precision_score(X_test['Class'], cat5.predict(X_test.drop('Class', axis=1))))\n",
    "print(cohen_kappa_score(X_test['Class'], cat5.predict(X_test.drop('Class', axis=1))))\n",
    "print(matthews_corrcoef(X_test['Class'], cat5.predict(X_test.drop('Class', axis=1))))"
   ]
  },
  {
   "cell_type": "code",
   "execution_count": 118,
   "metadata": {},
   "outputs": [
    {
     "name": "stdout",
     "output_type": "stream",
     "text": [
      "0.5853042928701839\n",
      "0.7644247691641753\n",
      "0.7645721113350902\n"
     ]
    }
   ],
   "source": [
    "smoke = SMOTE(sampling_strategy=1/10)\n",
    "# 1:10\n",
    "X_train_smoked10, y_train_smoked10 = smoke.fit_resample(X_train.drop('Class', axis=1), X_train['Class'])\n",
    "cat6 = CatBoostClassifier(silent=True)\n",
    "cat6.fit(X_train_smoked2, y_train_smoked2)\n",
    "\n",
    "print(average_precision_score(X_test['Class'], cat6.predict(X_test.drop('Class', axis=1))))\n",
    "print(cohen_kappa_score(X_test['Class'], cat6.predict(X_test.drop('Class', axis=1))))\n",
    "print(matthews_corrcoef(X_test['Class'], cat6.predict(X_test.drop('Class', axis=1))))"
   ]
  },
  {
   "cell_type": "markdown",
   "metadata": {},
   "source": [
    "Странно, но бейзлайн работает лучше"
   ]
  },
  {
   "cell_type": "markdown",
   "metadata": {
    "id": "f_3MA21rs9BT"
   },
   "source": [
    "**Бонус (1.5 балла)**. Для vanilla SMOTE существуют некоторые модификации, часть из которых была реализована в библиотеке imblearn. Во время лекций/семинаров эти модификации не рассматривались, тем не менее, мы все равно их исследуем.\n",
    "\n",
    "Найдите статьи о следующих методах и попробуйте вкратце сформулировать, в чем их основная идея (сделайте так, чтобы человек, знакомый с машинным обучением в целом, но не слышавший конкретно про это смог понять):\n",
    "\n",
    "BorderlineSMOTE - SMOTE, который игнорирует шум, так как из-за него может сгененрироваться слишком много бесполезных объектов, и игнорируются обычные объекты минорного класса. То есть дублируются только те объекты, которые находятся на границе. Граница определяется количестовм объектов мажорного и минорного классов при использовании knn.\n",
    "\n",
    "SVM-SMOTE - такая же идея, как у BorderlineSMOTE, но граница определяетяс с помощью SVM.\n",
    "\n",
    "K-Means-SMOTE - SMOTE, который игнориурет только шум. С помощью k-means определяется кластер с минорными объектами и создаются новые объекты для граничных и обычных объектов минорноого класса.\n",
    "\n",
    "ADASYN - дублирует те объекты, которые неправильно классифицируются с помощью knn. В то время как SMOTE не различает, трудно классифицировать объект или нет.\n",
    "\n",
    "Теперь попробуйте сравнить качество всех методов на наших данных."
   ]
  },
  {
   "cell_type": "code",
   "execution_count": null,
   "metadata": {
    "id": "cw5hLd-6s9BT"
   },
   "outputs": [],
   "source": [
    "#your code here"
   ]
  },
  {
   "cell_type": "markdown",
   "metadata": {
    "id": "xvVG5osbs9BU"
   },
   "source": [
    "**Задание 3. (1 балл)**. До этого момента все наши решения концентрировались на работе с минорным классом. Теперь давайте попробуем зайти с другой стороны. Может быть, для восстановления закономерностей нам не нужно столько объектов мажорного класса, и они просто засоряют нам выборку лишней информацией?\n",
    "\n",
    "Для решения этой проблемы существуют методы андерсэмплинга. Самое простое, что можно придумать - удалять точки мажорного класса, пока мы не получим приемлемый баланс. Протестируйте следующий метод и постройте графики достигаемых значений метрик от баланса классов и от отношения размеров исходной и пересэмпленной выборки:"
   ]
  },
  {
   "cell_type": "code",
   "execution_count": 119,
   "metadata": {
    "id": "GZQymG9Rs9BU"
   },
   "outputs": [],
   "source": [
    "from imblearn.under_sampling import RandomUnderSampler"
   ]
  },
  {
   "cell_type": "code",
   "execution_count": 134,
   "metadata": {},
   "outputs": [
    {
     "data": {
      "text/plain": [
       "0.001830191577607584"
      ]
     },
     "execution_count": 134,
     "metadata": {},
     "output_type": "execute_result"
    }
   ],
   "source": [
    "X_train['Class'].mean()"
   ]
  },
  {
   "cell_type": "code",
   "execution_count": 137,
   "metadata": {
    "id": "ZRysrdxhs9BU"
   },
   "outputs": [],
   "source": [
    "pr_auc = []\n",
    "cohen = []\n",
    "matt = []\n",
    "ratios = [0.00184, 0.002, 0.003, 0.004, 0.005, 0.01, 0.05, 0.1, 0.2, 0.4, 0.5]"
   ]
  },
  {
   "cell_type": "code",
   "execution_count": 138,
   "metadata": {
    "scrolled": true
   },
   "outputs": [
    {
     "data": {
      "application/vnd.jupyter.widget-view+json": {
       "model_id": "bb7a831f502149a9a3e4e4013c9759d7",
       "version_major": 2,
       "version_minor": 0
      },
      "text/plain": [
       "HBox(children=(FloatProgress(value=0.0, max=11.0), HTML(value='')))"
      ]
     },
     "metadata": {},
     "output_type": "display_data"
    },
    {
     "name": "stdout",
     "output_type": "stream",
     "text": [
      "0.00184\n"
     ]
    },
    {
     "name": "stderr",
     "output_type": "stream",
     "text": [
      "Custom logger is already specified. Specify more than one logger at same time is not thread safe."
     ]
    },
    {
     "name": "stdout",
     "output_type": "stream",
     "text": [
      "0.6394277687396348\n",
      "0.7909907339649391\n",
      "0.7992051463662754\n",
      "_________\n",
      "0.002\n",
      "0.6776260114586972\n",
      "0.8170079130596475\n",
      "0.8227961283244573\n",
      "_________\n",
      "0.003\n",
      "0.6585241840809816\n",
      "0.8041405264648531\n",
      "0.8110844637119163\n",
      "_________\n",
      "0.004\n",
      "0.6754004168225988\n",
      "0.8129917093370508\n",
      "0.8214346011341345\n",
      "_________\n",
      "0.005\n",
      "0.6461237644147598\n",
      "0.7997793848131702\n",
      "0.8034007938264056\n",
      "_________\n",
      "0.01\n",
      "0.6040066297799305\n",
      "0.7752533972011291\n",
      "0.7767138345967645\n",
      "_________\n",
      "0.05\n",
      "0.43045135169371335\n",
      "0.6495165217065191\n",
      "0.6553845376233088\n",
      "_________\n",
      "0.1\n",
      "0.24331705058940375\n",
      "0.4422671576673395\n",
      "0.4921298875555772\n",
      "_________\n",
      "0.2\n",
      "0.228819917870184\n",
      "0.43235068222484596\n",
      "0.47712875272941746\n",
      "_________\n",
      "0.4\n",
      "0.10127911319784798\n",
      "0.21879421694672108\n",
      "0.31619777809400806\n",
      "_________\n",
      "0.5\n",
      "0.10558524200716493\n",
      "0.22297037104864748\n",
      "0.3229648794304099\n",
      "_________\n",
      "\n"
     ]
    }
   ],
   "source": [
    "for ratio in tqdm(ratios):\n",
    "    print(ratio)\n",
    "    rus = RandomUnderSampler(sampling_strategy=ratio)\n",
    "    X_train_rus, y_train_rus = rus.fit_resample(X_train.drop('Class', axis=1), X_train['Class'])\n",
    "    cat7 = CatBoostClassifier(silent=True)\n",
    "    cat7.fit(X_train_rus, y_train_rus)\n",
    "    \n",
    "    pr_auc_ = average_precision_score(X_test['Class'], cat7.predict(X_test.drop('Class', axis=1)))\n",
    "    pr_auc.append(pr_auc_)\n",
    "    cohen_ = cohen_kappa_score(X_test['Class'], cat7.predict(X_test.drop('Class', axis=1)))\n",
    "    cohen.append(cohen_)\n",
    "    matt_ = matthews_corrcoef(X_test['Class'], cat7.predict(X_test.drop('Class', axis=1)))\n",
    "    matt.append(matt_)\n",
    "    \n",
    "    print(pr_auc_)\n",
    "    print(cohen_)\n",
    "    print(matt_)\n",
    "    print('_________')"
   ]
  },
  {
   "cell_type": "code",
   "execution_count": 139,
   "metadata": {},
   "outputs": [
    {
     "data": {
      "image/png": "[encoded data removed]",
      "text/plain": [
       "<Figure size 720x360 with 1 Axes>"
      ]
     },
     "metadata": {},
     "output_type": "display_data"
    }
   ],
   "source": [
    "fig, ax = plt.subplots(figsize=(10, 5))\n",
    "ax.plot(ratios, pr_auc, label='pr_auc')\n",
    "ax.plot(ratios, cohen, label='cohen')\n",
    "ax.plot(ratios, matt, label='matthew')\n",
    "ax.legend();"
   ]
  },
  {
   "cell_type": "markdown",
   "metadata": {},
   "source": [
    "Пик качества при `ratio = 0.002`"
   ]
  },
  {
   "cell_type": "markdown",
   "metadata": {
    "id": "w-onGH2ts9BU"
   },
   "source": [
    "Даже такой наивный подход может дать относительно неплохие результаты и улучшить наши метрики. Тем не менее, сейчас мы никак не используем информацию о распределении объектов в выборке. Оказывается, что даже относительно простые эвристические правила могут заметно поднять нам качество - например, мы можем при отбрасывании использовать близость отдельных объектов мажорного класса к минорному и отбрасывать самые близкие. Протестируйте алгоритм [Near-Miss](https://www.site.uottawa.ca/~nat/Workshop2003/jzhang.pdf) на наших данных и постройте графики, аналогичные предыдущему пункту (также добавьте график с зависимостью качества от числа соседей)."
   ]
  },
  {
   "cell_type": "code",
   "execution_count": 140,
   "metadata": {
    "id": "FXhxPmEUs9BU",
    "scrolled": false
   },
   "outputs": [],
   "source": [
    "from imblearn.under_sampling import NearMiss"
   ]
  },
  {
   "cell_type": "code",
   "execution_count": 141,
   "metadata": {},
   "outputs": [],
   "source": [
    "pr_auc = []\n",
    "cohen = []\n",
    "matt = []\n",
    "ratios = [0.00184, 0.002, 0.003, 0.004, 0.005, 0.01, 0.05, 0.1, 0.2, 0.4, 0.5]"
   ]
  },
  {
   "cell_type": "code",
   "execution_count": 142,
   "metadata": {
    "scrolled": true
   },
   "outputs": [
    {
     "data": {
      "application/vnd.jupyter.widget-view+json": {
       "model_id": "11bd46c41b164d4eb9ab5c166d7ee6f2",
       "version_major": 2,
       "version_minor": 0
      },
      "text/plain": [
       "HBox(children=(FloatProgress(value=0.0, max=11.0), HTML(value='')))"
      ]
     },
     "metadata": {},
     "output_type": "display_data"
    },
    {
     "name": "stdout",
     "output_type": "stream",
     "text": [
      "0.00184\n",
      "0.6562449596458945\n",
      "0.7997942217552176\n",
      "0.8096706420078524\n",
      "_________\n",
      "0.002\n",
      "0.6271826089894064\n",
      "0.7870023681914495\n",
      "0.7915037854482287\n",
      "_________\n",
      "0.003\n",
      "0.4275466349252869\n",
      "0.6490980853470371\n",
      "0.6531534135015236\n",
      "_________\n",
      "0.004\n",
      "0.10130672099306526\n",
      "0.23084125704174907\n",
      "0.316184015232932\n",
      "_________\n",
      "0.005\n",
      "0.030646616521636267\n",
      "0.074634289533548\n",
      "0.17099289436149898\n",
      "_________\n",
      "0.01\n",
      "0.007945212964609165\n",
      "0.016898418374965862\n",
      "0.0808636802957435\n",
      "_________\n",
      "0.05\n",
      "0.0018665745282919434\n",
      "0.0014075376330809908\n",
      "0.0239546711604364\n",
      "_________\n",
      "0.1\n",
      "0.0019677397742526195\n",
      "0.0015617390759210537\n",
      "0.02662638441899513\n",
      "_________\n",
      "0.2\n",
      "0.0017401572389052942\n",
      "0.0010671740079160053\n",
      "0.022396531817087968\n",
      "_________\n",
      "0.4\n",
      "0.0014872846576661177\n",
      "0.0005513221065023277\n",
      "0.015787901901989306\n",
      "_________\n",
      "0.5\n",
      "0.0014089046445314817\n",
      "0.00039137429323354844\n",
      "0.013093496149321949\n",
      "_________\n",
      "\n"
     ]
    }
   ],
   "source": [
    "for ratio in tqdm(ratios):\n",
    "    print(ratio)\n",
    "    rus = NearMiss(sampling_strategy=ratio)\n",
    "    X_train_rus, y_train_rus = rus.fit_resample(X_train.drop('Class', axis=1), X_train['Class'])\n",
    "    cat7 = CatBoostClassifier(silent=True)\n",
    "    cat7.fit(X_train_rus, y_train_rus)\n",
    "    \n",
    "    pr_auc_ = average_precision_score(X_test['Class'], cat7.predict(X_test.drop('Class', axis=1)))\n",
    "    pr_auc.append(pr_auc_)\n",
    "    cohen_ = cohen_kappa_score(X_test['Class'], cat7.predict(X_test.drop('Class', axis=1)))\n",
    "    cohen.append(cohen_)\n",
    "    matt_ = matthews_corrcoef(X_test['Class'], cat7.predict(X_test.drop('Class', axis=1)))\n",
    "    matt.append(matt_)\n",
    "    \n",
    "    print(pr_auc_)\n",
    "    print(cohen_)\n",
    "    print(matt_)\n",
    "    print('_________')"
   ]
  },
  {
   "cell_type": "code",
   "execution_count": 143,
   "metadata": {},
   "outputs": [
    {
     "data": {
      "image/png": "[encoded data removed]",
      "text/plain": [
       "<Figure size 720x360 with 1 Axes>"
      ]
     },
     "metadata": {},
     "output_type": "display_data"
    }
   ],
   "source": [
    "fig, ax = plt.subplots(figsize=(10, 5))\n",
    "ax.plot(ratios, pr_auc, label='pr_auc')\n",
    "ax.plot(ratios, cohen, label='cohen')\n",
    "ax.plot(ratios, matt, label='matthew')\n",
    "ax.legend();"
   ]
  },
  {
   "cell_type": "markdown",
   "metadata": {},
   "source": [
    "Пик при `ratio = 0.00184`. Зафиксирую это значение и переберу `n_neighbours`"
   ]
  },
  {
   "cell_type": "code",
   "execution_count": 144,
   "metadata": {},
   "outputs": [],
   "source": [
    "pr_auc = []\n",
    "cohen = []\n",
    "matt = []\n",
    "neighbours = range(3, 11)"
   ]
  },
  {
   "cell_type": "code",
   "execution_count": 146,
   "metadata": {
    "scrolled": true
   },
   "outputs": [
    {
     "data": {
      "application/vnd.jupyter.widget-view+json": {
       "model_id": "b3a3348355fd4bf0aeea0a5e82eac777",
       "version_major": 2,
       "version_minor": 0
      },
      "text/plain": [
       "HBox(children=(FloatProgress(value=0.0, max=8.0), HTML(value='')))"
      ]
     },
     "metadata": {},
     "output_type": "display_data"
    },
    {
     "name": "stdout",
     "output_type": "stream",
     "text": [
      "3\n",
      "0.6562449596458945\n",
      "0.7997942217552176\n",
      "0.8096706420078524\n",
      "_________\n",
      "4\n",
      "0.6754004168225988\n",
      "0.8129917093370508\n",
      "0.8214346011341345\n",
      "_________\n",
      "5\n",
      "0.6585241840809816\n",
      "0.8041405264648531\n",
      "0.8110844637119163\n",
      "_________\n",
      "6\n",
      "0.6585241840809816\n",
      "0.8041405264648531\n",
      "0.8110844637119163\n",
      "_________\n",
      "7\n",
      "0.6394277687396348\n",
      "0.7909907339649391\n",
      "0.7992051463662754\n",
      "_________\n",
      "8\n",
      "0.6754004168225988\n",
      "0.8129917093370508\n",
      "0.8214346011341345\n",
      "_________\n",
      "9\n",
      "0.6394277687396348\n",
      "0.7909907339649391\n",
      "0.7992051463662754\n",
      "_________\n",
      "10\n",
      "0.6585241840809816\n",
      "0.8041405264648531\n",
      "0.8110844637119163\n",
      "_________\n",
      "\n"
     ]
    }
   ],
   "source": [
    "for n in tqdm(neighbours):\n",
    "    print(n)\n",
    "    rus = NearMiss(sampling_strategy=0.00184, n_neighbors=n)\n",
    "    X_train_rus, y_train_rus = rus.fit_resample(X_train.drop('Class', axis=1), X_train['Class'])\n",
    "    cat7 = CatBoostClassifier(silent=True)\n",
    "    cat7.fit(X_train_rus, y_train_rus)\n",
    "    \n",
    "    pr_auc_ = average_precision_score(X_test['Class'], cat7.predict(X_test.drop('Class', axis=1)))\n",
    "    pr_auc.append(pr_auc_)\n",
    "    cohen_ = cohen_kappa_score(X_test['Class'], cat7.predict(X_test.drop('Class', axis=1)))\n",
    "    cohen.append(cohen_)\n",
    "    matt_ = matthews_corrcoef(X_test['Class'], cat7.predict(X_test.drop('Class', axis=1)))\n",
    "    matt.append(matt_)\n",
    "    \n",
    "    print(pr_auc_)\n",
    "    print(cohen_)\n",
    "    print(matt_)\n",
    "    print('_________')"
   ]
  },
  {
   "cell_type": "code",
   "execution_count": 147,
   "metadata": {},
   "outputs": [
    {
     "data": {
      "image/png": "[encoded data removed]",
      "text/plain": [
       "<Figure size 720x360 with 1 Axes>"
      ]
     },
     "metadata": {},
     "output_type": "display_data"
    }
   ],
   "source": [
    "fig, ax = plt.subplots(figsize=(10, 5))\n",
    "ax.plot(neighbours, pr_auc, label='pr_auc')\n",
    "ax.plot(neighbours, cohen, label='cohen')\n",
    "ax.plot(neighbours, matt, label='matthew')\n",
    "ax.legend();"
   ]
  },
  {
   "cell_type": "markdown",
   "metadata": {
    "id": "9z_OwXkps9BV"
   },
   "source": [
    "**Бонус (1 балл)**. imblearn также предлагает много различных методов для андерсэмплинга. Выберите что-нибудь еще из предлагаемого на свой вкус, опишите идею метода и протестируйте его."
   ]
  },
  {
   "cell_type": "markdown",
   "metadata": {},
   "source": [
    "Я выбрал TomekLinks. При настройке `samplin_stratehy = 'all'` алгоритм находит близкие объекты разных классов и удаляет их.\n",
    "<img src=\"https://imbalanced-learn.org/stable/_images/sphx_glr_plot_illustration_tomek_links_001.png\" width=\"400\"/>\n",
    "<img src=\"https://imbalanced-learn.org/stable/_images/sphx_glr_plot_illustration_tomek_links_002.png\" width=\"800\"/>"
   ]
  },
  {
   "cell_type": "code",
   "execution_count": 148,
   "metadata": {},
   "outputs": [],
   "source": [
    "from imblearn.under_sampling import TomekLinks"
   ]
  },
  {
   "cell_type": "code",
   "execution_count": 149,
   "metadata": {},
   "outputs": [],
   "source": [
    "pr_auc = []\n",
    "cohen = []\n",
    "matt = []\n",
    "ratios = [0.00184, 0.002, 0.003, 0.004, 0.005, 0.01, 0.05, 0.1, 0.2, 0.4, 0.5]"
   ]
  },
  {
   "cell_type": "code",
   "execution_count": 150,
   "metadata": {},
   "outputs": [
    {
     "name": "stdout",
     "output_type": "stream",
     "text": [
      "0.6562449596458945\n",
      "0.7997942217552176\n",
      "0.8096706420078524\n"
     ]
    }
   ],
   "source": [
    "rus = TomekLinks(sampling_strategy='all')\n",
    "X_train_rus, y_train_rus = rus.fit_resample(X_train.drop('Class', axis=1), X_train['Class'])\n",
    "cat7 = CatBoostClassifier(silent=True)\n",
    "cat7.fit(X_train_rus, y_train_rus)\n",
    "\n",
    "pr_auc_ = average_precision_score(X_test['Class'], cat7.predict(X_test.drop('Class', axis=1)))\n",
    "pr_auc.append(pr_auc_)\n",
    "cohen_ = cohen_kappa_score(X_test['Class'], cat7.predict(X_test.drop('Class', axis=1)))\n",
    "cohen.append(cohen_)\n",
    "matt_ = matthews_corrcoef(X_test['Class'], cat7.predict(X_test.drop('Class', axis=1)))\n",
    "matt.append(matt_)\n",
    "\n",
    "print(pr_auc_)\n",
    "print(cohen_)\n",
    "print(matt_)"
   ]
  },
  {
   "cell_type": "markdown",
   "metadata": {},
   "source": [
    "Очень круто сработало"
   ]
  },
  {
   "cell_type": "markdown",
   "metadata": {
    "id": "9z_OwXkps9BV"
   },
   "source": [
    "**Бонус (2 балла)**. Сможете ли вы с помощью комбинации любых методов оверсэмплинга, андерсэмплинга и классификации набрать 0.8 на всех трех метриках?"
   ]
  },
  {
   "cell_type": "markdown",
   "metadata": {
    "id": "RXrq_R_Ks9BV"
   },
   "source": [
    "Не смогу"
   ]
  },
  {
   "cell_type": "markdown",
   "metadata": {
    "id": "gBf-rrmcs9BV"
   },
   "source": [
    "# Часть 2. Поиск аномалий. "
   ]
  },
  {
   "cell_type": "markdown",
   "metadata": {
    "id": "3UBhTHszs9BV"
   },
   "source": [
    "Как вы могли заметить, методы балансировки выборок очень часто могут привести к не самым лучшим результатам из-за того, что они по сути искажают информацию о реальном распределении данных - в реальности обычно требуется долгий подбор в принципе работоспособных для задачи методов и их аккуратная настройка. "
   ]
  },
  {
   "cell_type": "markdown",
   "metadata": {
    "id": "HSYVXvmxs9BV"
   },
   "source": [
    "Теперь давайте попробуем слегка сменить постановку задачи и переключиться на задачу \"одноклассовой\" классификации, то есть - поиска *аномалий* в выборке. В общем-то, это вполне согласуется с нашей областью работы - мы действительно можем назвать мошеннические транзакции аномальньми (как интуитивно, так и на основании наблюдаемой балансировки данных). \n",
    "\n",
    "Стоит отметить, что методы обнаружения аномалий чаще всего относятся к классу методов обучения без учителя. Это дает некоторый положительный эффект - нам не обязательно нужно тратить время на разметку данных (тем не менее, для контроля качества какую-то часть разметить все-таки придется). Впрочем, чаще всего перфоманс таких методов оказывается заметно хуже, чем у честного обучения с учителем (если мы можем себе его позволить).\n",
    "\n"
   ]
  },
  {
   "cell_type": "markdown",
   "metadata": {
    "id": "mrRy0uOAs9BW"
   },
   "source": [
    "**Задание 4. (3 балла).** На занятиях вы разбирали схожий с Random Forest подход для детекции аномалий без известной разметки данных, называемый Isolation Forest. Напомним суть: на этапе обучения мы создаем ансамбль из решающих деревьев, в котором признак и порог на каждую вершину подбираются случайно. Затем мы считаем для объектов оценку аномальности через длину пути до соответствующего листа в каждом дереве.\n",
    "\n",
    "В данном задании вам предлагается реализовать модификацию данного алгоритма, известную как Extended Isolation Forest. В ней мы на каждом шаге будем определять не порог для признака, а полноценную случайную гиперплоскость, разбивающую выборку на 2 части. С детальным описанием вы можете ознакомиться [здесь](https://arxiv.org/pdf/1811.02141.pdf).\n",
    "\n",
    "Ниже приведен шаблон кода. Постарайтесь работать в его рамках (минорные изменения вполне допустимы, главное не переворачивайте всю структуру с ног на голову). \n",
    "\n",
    "**NB**: будем считать, что в нашем датасете нет категориальных признаков - можете не заморачиваться с их обработкой (но в общем случае, это будет важно).\n",
    "\n",
    "**Советы**:\n",
    " - Численные признаки лучше предобработать надлежащим образом.\n",
    " - Возможно, вам поможет выбрасывание некоторых признаков.\n",
    " - Внимательно следите за знаками.\n",
    " - Не игнорируйте документирующие строки.\n",
    " - Вероятнее всего, вы не сможете приблизиться по качеству к supervised-решениям. Если у вас не получается это сделать (но вы уверены в своей правоте), не стоит тратить слишком много времени на поиск ошибок.\n",
    "\n",
    "\n",
    "\n",
    "**Бонусы (каждый по 0.5)**:\n",
    "- Сделайте ваш EIF параллельным (`multiprocessing`, `joblib`).\n",
    "- Добавьте возможность откатиться к дефолтному варианту Isolation Forest. (порассуждайте, как можно реализовать это в данной модели?):\n"
   ]
  },
  {
   "cell_type": "code",
   "execution_count": 35,
   "metadata": {},
   "outputs": [],
   "source": [
    "from sklearn.preprocessing import StandardScaler"
   ]
  },
  {
   "cell_type": "code",
   "execution_count": 70,
   "metadata": {
    "id": "HsFj1XR2s9BW"
   },
   "outputs": [],
   "source": [
    "def c_factor(n):\n",
    "    \"\"\"\n",
    "    Computes average path length for an unsuccessful search in a binary search tree.\n",
    "    Params:\n",
    "        n: int - number of data points for BST\n",
    "    \"\"\"\n",
    "    return 2 * harm(n - 1) - 2 * (n - 1) / (n + 0.000001)\n",
    "\n",
    "def calc_height(X, depth, node):\n",
    "    \"\"\"\n",
    "    Calculates anomaly scores for sample in a recursive manner.\n",
    "    Params:\n",
    "        X: np.array - current sample, available to node\n",
    "        depth: int - path length up to current node\n",
    "        node: Node - current tree node\n",
    "        \n",
    "    Returns:\n",
    "        scores: int, float or np.array - anomaly scores for sample\n",
    "    \"\"\"\n",
    "    scores = np.zeros(X.shape[0])\n",
    "    if node.kind == 'external':\n",
    "        return scores + c_factor(node.size) + depth\n",
    "    else:\n",
    "        w = node.w\n",
    "        b = node.b\n",
    "        right = X[(X - b) @ w > 0]\n",
    "        left = X[(X - b) @ w <= 0]\n",
    "        scores[(X - b) @ w > 0] = calc_height(right, depth+1, node.right)\n",
    "        scores[(X - b) @ w <= 0] = calc_height(left, depth+1, node.left)\n",
    "    return scores\n",
    "    \n",
    "#     if node.kind == 'internal':\n",
    "#         node = node.left if (X * node.w).sum() >= node.b else node.right\n",
    "#         height = calc_height(X, depth+1, node)\n",
    "#     return node.depth + c_n\n",
    "\n",
    "def harm(i):\n",
    "    return np.log(i) + np.euler_gamma\n",
    "\n",
    "\n",
    "class Node(object):\n",
    "    \"\"\"\n",
    "    A single node object for each tree. Contains information on height, current data,\n",
    "    splitting hyperplane and children nodes.\n",
    "    \n",
    "    Attributes:\n",
    "        X: np.array - data available to current node\n",
    "        size: int - length of available data\n",
    "        \n",
    "        depth: int - depth of node\n",
    "\n",
    "        left: Node - left child\n",
    "        right: Node - right child\n",
    "\n",
    "        kind: str - either \"internal\" or \"external\", indicates the type of current node\n",
    "\n",
    "        w: np.array - normal vector for the splitting hyperplane\n",
    "        b: float - intercept term for the splitting hyperplane\n",
    "    \"\"\"\n",
    "    def __init__(self, X, depth, left, right, kind, w, b):\n",
    "        \"\"\"\n",
    "        Node(h, left, right, kind, w, b)\n",
    "        Represents the node object.\n",
    "        \n",
    "        Params:\n",
    "            X: np.array - data available to current node\n",
    "            depth: int - depth of node\n",
    "            \n",
    "            left: Node - left child\n",
    "            right: Node - right child\n",
    "            \n",
    "            kind: str - either \"internal\" or \"external\", indicates the type of current node\n",
    "            \n",
    "            w: np.array - normal vector for the splitting hyperplane\n",
    "            b: float - intercept term for the splitting hyperplane\n",
    "            \n",
    "        \"\"\"\n",
    "        self.size = len(X)\n",
    "        \n",
    "        self.depth = depth\n",
    "        \n",
    "        self.left = left\n",
    "        self.right = right\n",
    "        \n",
    "        self.kind = kind\n",
    "    \n",
    "        self.w = w\n",
    "        self.b = b\n",
    "    \n",
    "    def __repr__(self):\n",
    "        \"\"\"\n",
    "        For convenience only.\n",
    "        \"\"\"\n",
    "        return f\"Node(size={self.size}, depth={self.depth}, kind={self.kind})\"\n",
    "\n",
    "class RandomizedTree(object):\n",
    "    \"\"\"\n",
    "    Single randomized tree object. Stores root and its depth (tree is built recursively).\n",
    "    Attributes:\n",
    "        depth: int - current tree depth\n",
    "        \n",
    "        max_depth: int - maximum tree depth\n",
    "        \n",
    "        root: Node - root node\n",
    "\n",
    "        internal_count: int - number of internal nodes\n",
    "\n",
    "        external_count: int - number of external nodes\n",
    "    \"\"\"\n",
    "    def __init__(self, X, max_depth):\n",
    "        \"\"\"\n",
    "        Single randomized tree object. Stores root and its depth (tree is built recursively).\n",
    "        Params:\n",
    "            X: np.array - train sample\n",
    "            max_depth: int - maximum tree depth\n",
    "        \"\"\"\n",
    "        self.depth = 0\n",
    "        self.max_depth = max_depth\n",
    "\n",
    "        self.internal_count = 0\n",
    "        self.external_count = 0\n",
    "\n",
    "        self.root = self.grow(X, 0)\n",
    "        \n",
    "    def __repr__(self):\n",
    "        \"\"\"\n",
    "        For convenience only.\n",
    "        \"\"\"\n",
    "        \n",
    "        return f\"RandomizedTree(depth={self.depth}, max_depth={self.max_depth}, n_internal={self.internal_count}, n_external={self.external_count})\"\n",
    "\n",
    "        \n",
    "        \n",
    "    def grow(self, X, depth):\n",
    "        \"\"\"\n",
    "        Grow tree in a recursive manner.\n",
    "        Params:\n",
    "            X: np.array - available train sample\n",
    "            \n",
    "            depth: int - current tree depth\n",
    "            \n",
    "        Returns:\n",
    "            node: Node - a trained node with separating hyperplane data.\n",
    "                         Node provides access to children if necessary (these are built recursively)\n",
    "        \"\"\"\n",
    "        if depth + 1 > self.max_depth or X.shape[0] <= 1:\n",
    "            kind = 'external'\n",
    "            return Node(X, depth, None, None, kind, None, None)\n",
    "        w = np.random.normal(size=X.shape[1])\n",
    "        b = []\n",
    "        for i in range(X.shape[1]):\n",
    "            try:\n",
    "                b.append(np.random.uniform(X[:, i].min(), X[:, i].max()))\n",
    "            except:\n",
    "                print(X[:, i])\n",
    "                print(node)\n",
    "        b = np.array(b)\n",
    "        kind = 'internal'\n",
    "        left_data = X[(X - b) @ w <= 0]\n",
    "        right_data = X[(X - b) @ w > 0]\n",
    "        left = self.grow(left_data, depth+1)\n",
    "        right = self.grow(right_data, depth+1)\n",
    "        return Node(X, depth, left, right, kind, w, b)\n",
    "\n",
    "    def score_samples(self, X):\n",
    "        \"\"\"\n",
    "        Calculate anomaly scores for given data. You may utilize outer function `calc_height`.\n",
    "        Params:\n",
    "            X: np.array - data to be evaluated\n",
    "            \n",
    "        Returns:\n",
    "            scores: np.array - estimated anomaly scores\n",
    "        \"\"\"\n",
    "        return calc_height(X, 0, self.root)\n",
    "        \n",
    "    "
   ]
  },
  {
   "cell_type": "code",
   "execution_count": 71,
   "metadata": {
    "id": "HsFj1XR2s9BW"
   },
   "outputs": [],
   "source": [
    "class ExtendedIsolationForest(object):\n",
    "    \"\"\"\n",
    "    Extended Isolation Forest object. Stores training data and trained randomized trees.\n",
    "    Attributes:\n",
    "        n_trees: int - number of Randomized Trees\n",
    "        \n",
    "        max_depth: int - maximum depth of each tree\n",
    "        \n",
    "        subsample_rate: float - draw `subsample_rate * X.shape[0]` samples for each tree\n",
    "        \n",
    "        trees: list - container for trained trees \n",
    "        \n",
    "        contamination: float - estimated fraction of anomaly samples in data. Used for thresholding\n",
    "        \n",
    "    \"\"\"\n",
    "    \n",
    "    def __init__(self, n_trees, subsample_rate, max_depth=None, contamination=0.01):\n",
    "        \"\"\"\n",
    "        Extended Isolation Forest object. Stores training data and trained randomized trees.\n",
    "        Params:\n",
    "            n_trees: int - number of Randomized Trees\n",
    "\n",
    "            subsample_rate: float - draw `subsample_rate * X.shape[0]` samples for each tree\n",
    "\n",
    "            max_depth: int or None - maximum depth of each tree. Defaults to ceil(log_2(subsample_size)) if not provided\n",
    "\n",
    "            contamination: float - estimated fraction of anomaly samples in data. Used for thresholding\n",
    "\n",
    "        \"\"\"\n",
    "        self.n_trees = n_trees\n",
    "        self.max_depth = max_depth\n",
    "        self.subsample_rate = subsample_rate\n",
    "        self.trees = []\n",
    "        self.contamination = contamination\n",
    "        self.is_fit = False\n",
    "        \n",
    "    def __repr__(self):\n",
    "        \"\"\"For convenience only.\"\"\"\n",
    "        \n",
    "        return f\"ExtendedIsolationForest(n_trees={self.n_trees}, max_depth={self.max_depth}, subsample_rate={self.subsample_rate}, contamination={self.contamination}, is_fit={self.is_fit})\"\n",
    "        \n",
    "    def fit(self, X):\n",
    "        \"\"\"\n",
    "        Fit EIF to new data.\n",
    "        Params:\n",
    "            X: np.array - 2d array of samples\n",
    "        \"\"\"\n",
    "        self.n_bst = int(X.shape[0] * self.subsample_rate)\n",
    "        self.scaler = StandardScaler()\n",
    "        X = self.scaler.fit_transform(X)\n",
    "        for i in range(self.n_trees):\n",
    "            indices = np.random.choice(range(X.shape[0]), size=self.n_bst)\n",
    "            self.trees.append(RandomizedTree(X[indices], self.max_depth))\n",
    "        return self\n",
    "    \n",
    "    def score_samples(self, X):\n",
    "        \"\"\"\n",
    "        Estimate (normalized) anomaly score for each given sample\n",
    "        Params:\n",
    "            X: np.array - new samples\n",
    "\n",
    "        Returns:\n",
    "            scores: np.array - anomaly scores (larger value means higher probability of a sample being an outlier)\n",
    "        \"\"\"\n",
    "        scores = np.zeros(X.shape[0])\n",
    "        for tree in self.trees:\n",
    "            scores += tree.score_samples(X)\n",
    "        scores = scores / self.n_trees\n",
    "        return 2**(-scores / c_factor(self.n_bst))\n",
    "\n",
    "    \n",
    "    def predict(self, X):\n",
    "        \"\"\"\n",
    "        Predict if given samples are outliers.\n",
    "        Params:\n",
    "            X: np.array - new samples\n",
    "\n",
    "        Returns:\n",
    "            labels: np.array - anomaly labels (1 for outliers, 0 for inliers)\n",
    "        \"\"\"\n",
    "        scaler = StandardScaler()\n",
    "        X = self.scaler.transform(X)\n",
    "        scores = self.score_samples(X)\n",
    "        labels = 1 * (scores > self.contamination)\n",
    "\n",
    "        return labels, scores\n"
   ]
  },
  {
   "cell_type": "code",
   "execution_count": 77,
   "metadata": {},
   "outputs": [],
   "source": [
    "eif = ExtendedIsolationForest(10, 0.2, 10, contamination=0.9)"
   ]
  },
  {
   "cell_type": "code",
   "execution_count": 78,
   "metadata": {},
   "outputs": [
    {
     "data": {
      "text/plain": [
       "ExtendedIsolationForest(n_trees=10, max_depth=10, subsample_rate=0.2, contamination=0.9, is_fit=False)"
      ]
     },
     "execution_count": 78,
     "metadata": {},
     "output_type": "execute_result"
    }
   ],
   "source": [
    "eif.fit(X_train.drop('Class', axis=1))"
   ]
  },
  {
   "cell_type": "code",
   "execution_count": 79,
   "metadata": {},
   "outputs": [
    {
     "name": "stderr",
     "output_type": "stream",
     "text": [
      "<ipython-input-70-1319494dea29>:40: RuntimeWarning: invalid value encountered in log\n",
      "  return np.log(i) + np.euler_gamma\n",
      "<ipython-input-70-1319494dea29>:40: RuntimeWarning: divide by zero encountered in log\n",
      "  return np.log(i) + np.euler_gamma\n",
      "<ipython-input-71-5397ceaf0ebc>:84: RuntimeWarning: invalid value encountered in greater\n",
      "  labels = 1 * (scores > self.contamination)\n"
     ]
    }
   ],
   "source": [
    "pred, scores = eif.predict(X_test.drop('Class', axis=1).values)"
   ]
  },
  {
   "cell_type": "code",
   "execution_count": 80,
   "metadata": {},
   "outputs": [
    {
     "data": {
      "text/plain": [
       "163"
      ]
     },
     "execution_count": 80,
     "metadata": {},
     "output_type": "execute_result"
    }
   ],
   "source": [
    "pred.sum()"
   ]
  },
  {
   "cell_type": "code",
   "execution_count": 81,
   "metadata": {},
   "outputs": [
    {
     "data": {
      "text/plain": [
       "array([0.36382889, 0.3658114 , 0.3678557 , ..., 0.38035712, 0.37746154,\n",
       "       0.36382889])"
      ]
     },
     "execution_count": 81,
     "metadata": {},
     "output_type": "execute_result"
    }
   ],
   "source": [
    "scores"
   ]
  },
  {
   "cell_type": "markdown",
   "metadata": {
    "id": "s9ikebErs9BX"
   },
   "source": [
    "**Задание 5. (1 балл).** Протестируйте вашу реализацию EIF и подберите оптимальные гиперпараметры (наш метод не использует разметку, поэтому можете попробовать делать это на обучающей выборке). Сравните ее с обычным IF из `sklearn` (желательно делать это на одних и тех же параметрах). Удалось ли сделать лучше?"
   ]
  },
  {
   "cell_type": "code",
   "execution_count": 82,
   "metadata": {
    "id": "7INFCxvKs9BX"
   },
   "outputs": [],
   "source": [
    "from sklearn.ensemble import IsolationForest"
   ]
  },
  {
   "cell_type": "code",
   "execution_count": 83,
   "metadata": {},
   "outputs": [
    {
     "name": "stderr",
     "output_type": "stream",
     "text": [
      "/opt/anaconda3/lib/python3.8/site-packages/sklearn/utils/validation.py:68: FutureWarning: Pass n_estimators=100 as keyword args. From version 0.25 passing these as positional arguments will result in an error\n",
      "  warnings.warn(\"Pass {} as keyword args. From version 0.25 \"\n"
     ]
    }
   ],
   "source": [
    "isf = IsolationForest(100)\n",
    "eif = ExtendedIsolationForest(100, 0.2, 10)"
   ]
  },
  {
   "cell_type": "code",
   "execution_count": 84,
   "metadata": {},
   "outputs": [
    {
     "data": {
      "text/plain": [
       "IsolationForest()"
      ]
     },
     "execution_count": 84,
     "metadata": {},
     "output_type": "execute_result"
    }
   ],
   "source": [
    "isf.fit(X_train.drop('Class', axis=1))"
   ]
  },
  {
   "cell_type": "code",
   "execution_count": 85,
   "metadata": {},
   "outputs": [
    {
     "data": {
      "text/plain": [
       "ExtendedIsolationForest(n_trees=100, max_depth=10, subsample_rate=0.2, contamination=0.01, is_fit=False)"
      ]
     },
     "execution_count": 85,
     "metadata": {},
     "output_type": "execute_result"
    }
   ],
   "source": [
    "eif.fit(X_train.drop('Class', axis=1))"
   ]
  },
  {
   "cell_type": "code",
   "execution_count": 86,
   "metadata": {},
   "outputs": [
    {
     "name": "stdout",
     "output_type": "stream",
     "text": [
      "0.0009713525036013077\n",
      "-0.0008206996697563973\n",
      "-0.06143637523893004\n"
     ]
    }
   ],
   "source": [
    "print(average_precision_score(X_test['Class'], isf.predict(X_test.drop('Class', axis=1))))\n",
    "print(cohen_kappa_score(X_test['Class'], isf.predict(X_test.drop('Class', axis=1))))\n",
    "print(matthews_corrcoef(X_test['Class'], isf.predict(X_test.drop('Class', axis=1))))"
   ]
  },
  {
   "cell_type": "code",
   "execution_count": 89,
   "metadata": {
    "scrolled": true
   },
   "outputs": [
    {
     "name": "stderr",
     "output_type": "stream",
     "text": [
      "<ipython-input-70-1319494dea29>:40: RuntimeWarning: invalid value encountered in log\n",
      "  return np.log(i) + np.euler_gamma\n",
      "<ipython-input-70-1319494dea29>:40: RuntimeWarning: divide by zero encountered in log\n",
      "  return np.log(i) + np.euler_gamma\n",
      "<ipython-input-71-5397ceaf0ebc>:84: RuntimeWarning: invalid value encountered in greater\n",
      "  labels = 1 * (scores > self.contamination)\n"
     ]
    },
    {
     "ename": "ValueError",
     "evalue": "Found input variables with inconsistent numbers of samples: [42722, 2]",
     "output_type": "error",
     "traceback": [
      "\u001b[0;31m---------------------------------------------------------------------------\u001b[0m",
      "\u001b[0;31mValueError\u001b[0m                                Traceback (most recent call last)",
      "\u001b[0;32m<ipython-input-89-b4aee8da3550>\u001b[0m in \u001b[0;36m<module>\u001b[0;34m\u001b[0m\n\u001b[1;32m      1\u001b[0m \u001b[0mpred\u001b[0m \u001b[0;34m=\u001b[0m \u001b[0meif\u001b[0m\u001b[0;34m.\u001b[0m\u001b[0mpredict\u001b[0m\u001b[0;34m(\u001b[0m\u001b[0mX_test\u001b[0m\u001b[0;34m.\u001b[0m\u001b[0mdrop\u001b[0m\u001b[0;34m(\u001b[0m\u001b[0;34m'Class'\u001b[0m\u001b[0;34m,\u001b[0m \u001b[0maxis\u001b[0m\u001b[0;34m=\u001b[0m\u001b[0;36m1\u001b[0m\u001b[0;34m)\u001b[0m\u001b[0;34m)\u001b[0m\u001b[0;34m\u001b[0m\u001b[0;34m\u001b[0m\u001b[0m\n\u001b[0;32m----> 2\u001b[0;31m \u001b[0mprint\u001b[0m\u001b[0;34m(\u001b[0m\u001b[0maverage_precision_score\u001b[0m\u001b[0;34m(\u001b[0m\u001b[0mX_test\u001b[0m\u001b[0;34m[\u001b[0m\u001b[0;34m'Class'\u001b[0m\u001b[0;34m]\u001b[0m\u001b[0;34m,\u001b[0m \u001b[0mpred\u001b[0m\u001b[0;34m)\u001b[0m\u001b[0;34m)\u001b[0m\u001b[0;34m\u001b[0m\u001b[0;34m\u001b[0m\u001b[0m\n\u001b[0m\u001b[1;32m      3\u001b[0m \u001b[0mprint\u001b[0m\u001b[0;34m(\u001b[0m\u001b[0mcohen_kappa_score\u001b[0m\u001b[0;34m(\u001b[0m\u001b[0mX_test\u001b[0m\u001b[0;34m[\u001b[0m\u001b[0;34m'Class'\u001b[0m\u001b[0;34m]\u001b[0m\u001b[0;34m,\u001b[0m \u001b[0mpred\u001b[0m\u001b[0;34m)\u001b[0m\u001b[0;34m)\u001b[0m\u001b[0;34m\u001b[0m\u001b[0;34m\u001b[0m\u001b[0m\n\u001b[1;32m      4\u001b[0m \u001b[0mprint\u001b[0m\u001b[0;34m(\u001b[0m\u001b[0mmatthews_corrcoef\u001b[0m\u001b[0;34m(\u001b[0m\u001b[0mX_test\u001b[0m\u001b[0;34m[\u001b[0m\u001b[0;34m'Class'\u001b[0m\u001b[0;34m]\u001b[0m\u001b[0;34m,\u001b[0m \u001b[0mpred\u001b[0m\u001b[0;34m)\u001b[0m\u001b[0;34m)\u001b[0m\u001b[0;34m\u001b[0m\u001b[0;34m\u001b[0m\u001b[0m\n",
      "\u001b[0;32m/opt/anaconda3/lib/python3.8/site-packages/sklearn/utils/validation.py\u001b[0m in \u001b[0;36minner_f\u001b[0;34m(*args, **kwargs)\u001b[0m\n\u001b[1;32m     71\u001b[0m                           FutureWarning)\n\u001b[1;32m     72\u001b[0m         \u001b[0mkwargs\u001b[0m\u001b[0;34m.\u001b[0m\u001b[0mupdate\u001b[0m\u001b[0;34m(\u001b[0m\u001b[0;34m{\u001b[0m\u001b[0mk\u001b[0m\u001b[0;34m:\u001b[0m \u001b[0marg\u001b[0m \u001b[0;32mfor\u001b[0m \u001b[0mk\u001b[0m\u001b[0;34m,\u001b[0m \u001b[0marg\u001b[0m \u001b[0;32min\u001b[0m \u001b[0mzip\u001b[0m\u001b[0;34m(\u001b[0m\u001b[0msig\u001b[0m\u001b[0;34m.\u001b[0m\u001b[0mparameters\u001b[0m\u001b[0;34m,\u001b[0m \u001b[0margs\u001b[0m\u001b[0;34m)\u001b[0m\u001b[0;34m}\u001b[0m\u001b[0;34m)\u001b[0m\u001b[0;34m\u001b[0m\u001b[0;34m\u001b[0m\u001b[0m\n\u001b[0;32m---> 73\u001b[0;31m         \u001b[0;32mreturn\u001b[0m \u001b[0mf\u001b[0m\u001b[0;34m(\u001b[0m\u001b[0;34m**\u001b[0m\u001b[0mkwargs\u001b[0m\u001b[0;34m)\u001b[0m\u001b[0;34m\u001b[0m\u001b[0;34m\u001b[0m\u001b[0m\n\u001b[0m\u001b[1;32m     74\u001b[0m     \u001b[0;32mreturn\u001b[0m \u001b[0minner_f\u001b[0m\u001b[0;34m\u001b[0m\u001b[0;34m\u001b[0m\u001b[0m\n\u001b[1;32m     75\u001b[0m \u001b[0;34m\u001b[0m\u001b[0m\n",
      "\u001b[0;32m/opt/anaconda3/lib/python3.8/site-packages/sklearn/metrics/_ranking.py\u001b[0m in \u001b[0;36maverage_precision_score\u001b[0;34m(y_true, y_score, average, pos_label, sample_weight)\u001b[0m\n\u001b[1;32m    214\u001b[0m     average_precision = partial(_binary_uninterpolated_average_precision,\n\u001b[1;32m    215\u001b[0m                                 pos_label=pos_label)\n\u001b[0;32m--> 216\u001b[0;31m     return _average_binary_score(average_precision, y_true, y_score,\n\u001b[0m\u001b[1;32m    217\u001b[0m                                  average, sample_weight=sample_weight)\n\u001b[1;32m    218\u001b[0m \u001b[0;34m\u001b[0m\u001b[0m\n",
      "\u001b[0;32m/opt/anaconda3/lib/python3.8/site-packages/sklearn/metrics/_base.py\u001b[0m in \u001b[0;36m_average_binary_score\u001b[0;34m(binary_metric, y_true, y_score, average, sample_weight)\u001b[0m\n\u001b[1;32m     75\u001b[0m \u001b[0;34m\u001b[0m\u001b[0m\n\u001b[1;32m     76\u001b[0m     \u001b[0;32mif\u001b[0m \u001b[0my_type\u001b[0m \u001b[0;34m==\u001b[0m \u001b[0;34m\"binary\"\u001b[0m\u001b[0;34m:\u001b[0m\u001b[0;34m\u001b[0m\u001b[0;34m\u001b[0m\u001b[0m\n\u001b[0;32m---> 77\u001b[0;31m         \u001b[0;32mreturn\u001b[0m \u001b[0mbinary_metric\u001b[0m\u001b[0;34m(\u001b[0m\u001b[0my_true\u001b[0m\u001b[0;34m,\u001b[0m \u001b[0my_score\u001b[0m\u001b[0;34m,\u001b[0m \u001b[0msample_weight\u001b[0m\u001b[0;34m=\u001b[0m\u001b[0msample_weight\u001b[0m\u001b[0;34m)\u001b[0m\u001b[0;34m\u001b[0m\u001b[0;34m\u001b[0m\u001b[0m\n\u001b[0m\u001b[1;32m     78\u001b[0m \u001b[0;34m\u001b[0m\u001b[0m\n\u001b[1;32m     79\u001b[0m     \u001b[0mcheck_consistent_length\u001b[0m\u001b[0;34m(\u001b[0m\u001b[0my_true\u001b[0m\u001b[0;34m,\u001b[0m \u001b[0my_score\u001b[0m\u001b[0;34m,\u001b[0m \u001b[0msample_weight\u001b[0m\u001b[0;34m)\u001b[0m\u001b[0;34m\u001b[0m\u001b[0;34m\u001b[0m\u001b[0m\n",
      "\u001b[0;32m/opt/anaconda3/lib/python3.8/site-packages/sklearn/metrics/_ranking.py\u001b[0m in \u001b[0;36m_binary_uninterpolated_average_precision\u001b[0;34m(y_true, y_score, pos_label, sample_weight)\u001b[0m\n\u001b[1;32m    195\u001b[0m     def _binary_uninterpolated_average_precision(\n\u001b[1;32m    196\u001b[0m             y_true, y_score, pos_label=1, sample_weight=None):\n\u001b[0;32m--> 197\u001b[0;31m         precision, recall, _ = precision_recall_curve(\n\u001b[0m\u001b[1;32m    198\u001b[0m             y_true, y_score, pos_label=pos_label, sample_weight=sample_weight)\n\u001b[1;32m    199\u001b[0m         \u001b[0;31m# Return the step function integral\u001b[0m\u001b[0;34m\u001b[0m\u001b[0;34m\u001b[0m\u001b[0;34m\u001b[0m\u001b[0m\n",
      "\u001b[0;32m/opt/anaconda3/lib/python3.8/site-packages/sklearn/utils/validation.py\u001b[0m in \u001b[0;36minner_f\u001b[0;34m(*args, **kwargs)\u001b[0m\n\u001b[1;32m     71\u001b[0m                           FutureWarning)\n\u001b[1;32m     72\u001b[0m         \u001b[0mkwargs\u001b[0m\u001b[0;34m.\u001b[0m\u001b[0mupdate\u001b[0m\u001b[0;34m(\u001b[0m\u001b[0;34m{\u001b[0m\u001b[0mk\u001b[0m\u001b[0;34m:\u001b[0m \u001b[0marg\u001b[0m \u001b[0;32mfor\u001b[0m \u001b[0mk\u001b[0m\u001b[0;34m,\u001b[0m \u001b[0marg\u001b[0m \u001b[0;32min\u001b[0m \u001b[0mzip\u001b[0m\u001b[0;34m(\u001b[0m\u001b[0msig\u001b[0m\u001b[0;34m.\u001b[0m\u001b[0mparameters\u001b[0m\u001b[0;34m,\u001b[0m \u001b[0margs\u001b[0m\u001b[0;34m)\u001b[0m\u001b[0;34m}\u001b[0m\u001b[0;34m)\u001b[0m\u001b[0;34m\u001b[0m\u001b[0;34m\u001b[0m\u001b[0m\n\u001b[0;32m---> 73\u001b[0;31m         \u001b[0;32mreturn\u001b[0m \u001b[0mf\u001b[0m\u001b[0;34m(\u001b[0m\u001b[0;34m**\u001b[0m\u001b[0mkwargs\u001b[0m\u001b[0;34m)\u001b[0m\u001b[0;34m\u001b[0m\u001b[0;34m\u001b[0m\u001b[0m\n\u001b[0m\u001b[1;32m     74\u001b[0m     \u001b[0;32mreturn\u001b[0m \u001b[0minner_f\u001b[0m\u001b[0;34m\u001b[0m\u001b[0;34m\u001b[0m\u001b[0m\n\u001b[1;32m     75\u001b[0m \u001b[0;34m\u001b[0m\u001b[0m\n",
      "\u001b[0;32m/opt/anaconda3/lib/python3.8/site-packages/sklearn/metrics/_ranking.py\u001b[0m in \u001b[0;36mprecision_recall_curve\u001b[0;34m(y_true, probas_pred, pos_label, sample_weight)\u001b[0m\n\u001b[1;32m    673\u001b[0m \u001b[0;34m\u001b[0m\u001b[0m\n\u001b[1;32m    674\u001b[0m     \"\"\"\n\u001b[0;32m--> 675\u001b[0;31m     fps, tps, thresholds = _binary_clf_curve(y_true, probas_pred,\n\u001b[0m\u001b[1;32m    676\u001b[0m                                              \u001b[0mpos_label\u001b[0m\u001b[0;34m=\u001b[0m\u001b[0mpos_label\u001b[0m\u001b[0;34m,\u001b[0m\u001b[0;34m\u001b[0m\u001b[0;34m\u001b[0m\u001b[0m\n\u001b[1;32m    677\u001b[0m                                              sample_weight=sample_weight)\n",
      "\u001b[0;32m/opt/anaconda3/lib/python3.8/site-packages/sklearn/metrics/_ranking.py\u001b[0m in \u001b[0;36m_binary_clf_curve\u001b[0;34m(y_true, y_score, pos_label, sample_weight)\u001b[0m\n\u001b[1;32m    539\u001b[0m         \u001b[0;32mraise\u001b[0m \u001b[0mValueError\u001b[0m\u001b[0;34m(\u001b[0m\u001b[0;34m\"{0} format is not supported\"\u001b[0m\u001b[0;34m.\u001b[0m\u001b[0mformat\u001b[0m\u001b[0;34m(\u001b[0m\u001b[0my_type\u001b[0m\u001b[0;34m)\u001b[0m\u001b[0;34m)\u001b[0m\u001b[0;34m\u001b[0m\u001b[0;34m\u001b[0m\u001b[0m\n\u001b[1;32m    540\u001b[0m \u001b[0;34m\u001b[0m\u001b[0m\n\u001b[0;32m--> 541\u001b[0;31m     \u001b[0mcheck_consistent_length\u001b[0m\u001b[0;34m(\u001b[0m\u001b[0my_true\u001b[0m\u001b[0;34m,\u001b[0m \u001b[0my_score\u001b[0m\u001b[0;34m,\u001b[0m \u001b[0msample_weight\u001b[0m\u001b[0;34m)\u001b[0m\u001b[0;34m\u001b[0m\u001b[0;34m\u001b[0m\u001b[0m\n\u001b[0m\u001b[1;32m    542\u001b[0m     \u001b[0my_true\u001b[0m \u001b[0;34m=\u001b[0m \u001b[0mcolumn_or_1d\u001b[0m\u001b[0;34m(\u001b[0m\u001b[0my_true\u001b[0m\u001b[0;34m)\u001b[0m\u001b[0;34m\u001b[0m\u001b[0;34m\u001b[0m\u001b[0m\n\u001b[1;32m    543\u001b[0m     \u001b[0my_score\u001b[0m \u001b[0;34m=\u001b[0m \u001b[0mcolumn_or_1d\u001b[0m\u001b[0;34m(\u001b[0m\u001b[0my_score\u001b[0m\u001b[0;34m)\u001b[0m\u001b[0;34m\u001b[0m\u001b[0;34m\u001b[0m\u001b[0m\n",
      "\u001b[0;32m/opt/anaconda3/lib/python3.8/site-packages/sklearn/utils/validation.py\u001b[0m in \u001b[0;36mcheck_consistent_length\u001b[0;34m(*arrays)\u001b[0m\n\u001b[1;32m    254\u001b[0m     \u001b[0muniques\u001b[0m \u001b[0;34m=\u001b[0m \u001b[0mnp\u001b[0m\u001b[0;34m.\u001b[0m\u001b[0munique\u001b[0m\u001b[0;34m(\u001b[0m\u001b[0mlengths\u001b[0m\u001b[0;34m)\u001b[0m\u001b[0;34m\u001b[0m\u001b[0;34m\u001b[0m\u001b[0m\n\u001b[1;32m    255\u001b[0m     \u001b[0;32mif\u001b[0m \u001b[0mlen\u001b[0m\u001b[0;34m(\u001b[0m\u001b[0muniques\u001b[0m\u001b[0;34m)\u001b[0m \u001b[0;34m>\u001b[0m \u001b[0;36m1\u001b[0m\u001b[0;34m:\u001b[0m\u001b[0;34m\u001b[0m\u001b[0;34m\u001b[0m\u001b[0m\n\u001b[0;32m--> 256\u001b[0;31m         raise ValueError(\"Found input variables with inconsistent numbers of\"\n\u001b[0m\u001b[1;32m    257\u001b[0m                          \" samples: %r\" % [int(l) for l in lengths])\n\u001b[1;32m    258\u001b[0m \u001b[0;34m\u001b[0m\u001b[0m\n",
      "\u001b[0;31mValueError\u001b[0m: Found input variables with inconsistent numbers of samples: [42722, 2]"
     ]
    }
   ],
   "source": [
    "pred = eif.predict(X_test.drop('Class', axis=1))\n",
    "print(average_precision_score(X_test['Class'], pred))\n",
    "print(cohen_kappa_score(X_test['Class'], pred))\n",
    "print(matthews_corrcoef(X_test['Class'], pred))"
   ]
  },
  {
   "cell_type": "markdown",
   "metadata": {
    "id": "G00BCRJj4Sz3"
   },
   "source": [
    "Возможно, ваш алгоритм выдал большие оценки объектам с негативной разметкой. Постарайтесь выбрать несколько таких объектов и доступно объяснить (= с кодом и графиками), почему так вышло:"
   ]
  },
  {
   "cell_type": "code",
   "execution_count": null,
   "metadata": {
    "id": "ds6Rz3a-4s9V"
   },
   "outputs": [],
   "source": [
    "#your code here"
   ]
  },
  {
   "cell_type": "markdown",
   "metadata": {
    "id": "oLpfrhGFs9BX"
   },
   "source": [
    "**Задание 6. (1 балл).** `sklearn` также предлагает нам и другие методы для поиска аномалий. В этом задании мы предлагаем вам сделать следующее:\n",
    "\n",
    "Для начала попробуйте использовать методы Local Outlier Factor и One-Class SVM. Сравните результаты с IF и EIF.  "
   ]
  },
  {
   "cell_type": "code",
   "execution_count": null,
   "metadata": {
    "id": "vs8q00tXs9BX"
   },
   "outputs": [],
   "source": [
    "#your code here"
   ]
  },
  {
   "cell_type": "markdown",
   "metadata": {
    "id": "BGY_u8nts9BX"
   },
   "source": [
    "У вас началась депрессия из-за плохих метрик? Не беда! Сейчас давайте сделаем так: все методы, опробованные в этой части, попробуем задействовать для создания дополнительных признаков в данных. Проделайте это (не забудьте, что обучаться здесь нужно на трейне). Теперь возьмите лучшую модель из предыдущей части и обучите на новых данных. Смогли ли unsupervised-методы повысить вам качество?"
   ]
  },
  {
   "cell_type": "code",
   "execution_count": null,
   "metadata": {
    "id": "Q3QpV-Hgs9BY"
   },
   "outputs": [],
   "source": [
    "#your code here"
   ]
  },
  {
   "cell_type": "markdown",
   "metadata": {
    "id": "NiGbNcXHs9BY"
   },
   "source": [
    "**Бонус. (0.1 балла).**\n",
    "\n",
    "При сдаче проверяющий запустит следующую клетку один раз. Если она даст положительный результат, вы получите 0.1 бонусных балла. Если она даст отрицательный результат, вы получите -0.1 бонусных балла. Если вы получите ровно 0, то мы посчитаем вас невероятно везучим человеком и в качестве поощрения зачтем теорминимум на коллоквиуме. \n",
    "\n",
    "Если вы хотите отказаться от сдачи данного задания, допишите \"хочу\" после двоеточия: `your text here`\n",
    "\n",
    "Ниже вы можете попрактиковаться и оценить ваши силы (изменять код ячейки запрещается!)"
   ]
  },
  {
   "cell_type": "code",
   "execution_count": 234,
   "metadata": {
    "id": "mfgJoZ_ns9BY",
    "scrolled": true
   },
   "outputs": [
    {
     "data": {
      "text/plain": [
       "-0.6367161191846675"
      ]
     },
     "execution_count": 234,
     "metadata": {},
     "output_type": "execute_result"
    }
   ],
   "source": [
    "import numpy as np\n",
    "\n",
    "np.random.randn()"
   ]
  },
  {
   "cell_type": "code",
   "execution_count": null,
   "metadata": {},
   "outputs": [],
   "source": []
  }
 ],
 "metadata": {
  "colab": {
   "collapsed_sections": [],
   "name": "imbalanced-hw-clean.ipynb",
   "provenance": []
  },
  "kernelspec": {
   "display_name": "Python 3 (ipykernel)",
   "language": "python",
   "name": "python3"
  },
  "language_info": {
   "codemirror_mode": {
    "name": "ipython",
    "version": 3
   },
   "file_extension": ".py",
   "mimetype": "text/x-python",
   "name": "python",
   "nbconvert_exporter": "python",
   "pygments_lexer": "ipython3",
   "version": "3.10.2"
  }
 },
 "nbformat": 4,
 "nbformat_minor": 1
}
