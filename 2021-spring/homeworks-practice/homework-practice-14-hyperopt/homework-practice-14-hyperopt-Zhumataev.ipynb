{
 "cells": [
  {
   "cell_type": "markdown",
   "id": "weekly-bumper",
   "metadata": {
    "id": "weekly-bumper"
   },
   "source": [
    "# Машинное обучение, ФКН ВШЭ\n",
    "\n",
    "## Практическое задание 14. Оптимизация гиперпараметров.\n",
    "\n",
    "### Общая информация\n",
    "\n",
    "Дата выдачи: 04.06.2022\n",
    "\n",
    "Мягкий дедлайн: 19.06.2022 23:59 MSK\n",
    "\n",
    "Жёсткий дедлайн: 21.06.2022 23:59 MSK\n",
    "\n",
    "### Оценивание и штрафы\n",
    "\n",
    "Каждая из задач имеет определенную «стоимость» (указана в скобках около задачи). Максимально допустимая оценка за работу — 15 баллов.\n",
    "\n",
    "Сдавать задание после указанного срока сдачи нельзя. При выставлении неполного балла за задание в связи с наличием ошибок на усмотрение проверяющего предусмотрена возможность исправить работу на указанных в ответном письме условиях.\n",
    "\n",
    "Задание выполняется самостоятельно. «Похожие» решения считаются плагиатом и все задействованные студенты (в том числе те, у кого списали) не могут получить за него больше 0 баллов (подробнее о плагиате см. на странице курса). Если вы нашли решение какого-то из заданий (или его часть) в открытом источнике, необходимо указать ссылку на этот источник в отдельном блоке в конце вашей работы (скорее всего вы будете не единственным, кто это нашел, поэтому чтобы исключить подозрение в плагиате, необходима ссылка на источник).\n",
    "\n",
    "Неэффективная реализация кода может негативно отразиться на оценке.\n",
    "\n",
    "### Формат сдачи\n",
    "\n",
    "Задания сдаются через систему anytask. Посылка должна содержать:\n",
    "\n",
    "- Ноутбук `homework-practice-14-Username.ipynb`\n",
    "- Модули `distributions.py` и `optimizers.py`, содержащие написанный вами код\n",
    "\n",
    "Username — ваша фамилия на латинице\n",
    "\n",
    "### О задании\n",
    "\n",
    "В этом задании вам предстоит разработать свой собственный AutoML фреймворк, который будет подбирать оптимальные значения гиперпараметров для определенной модели и обучающих данных. Попутно вы познакомитесь с основными концепциями Байесовской оптимизации и узнаете, как Гауссовские процессы и метод Парзеновского окна применяются на практике. Если вы все сделаете правильно, то на выходе получится фреймворк, не уступающий популярной `optuna`."
   ]
  },
  {
   "cell_type": "markdown",
   "id": "eO9uB0WzxO82",
   "metadata": {
    "id": "eO9uB0WzxO82"
   },
   "source": [
    "### Ссылки на все контесты\n",
    "Имя в контесте: \tZhumataev Zhantu \\\n",
    "A) https://contest.yandex.ru/contest/37803/run-report/69030400/ \\\n",
    "B) https://contest.yandex.ru/contest/37803/run-report/69035527/ \\\n",
    "C) https://contest.yandex.ru/contest/37803/run-report/69035569/ \\\n",
    "D) https://contest.yandex.ru/contest/37803/run-report/69056409/ \\\n",
    "E) https://contest.yandex.ru/contest/37803/run-report/69053888/ \\\n",
    "F) https://contest.yandex.ru/contest/37803/run-report/69056652/"
   ]
  },
  {
   "cell_type": "markdown",
   "id": "3bda6ac2",
   "metadata": {
    "id": "3bda6ac2"
   },
   "source": [
    "## 1. AutoML фреймворк (7.5 баллов)\n",
    "\n",
    "Наш фреймворк будет работать по аналогии с классом [`OptunaSearchCV`](https://optuna.readthedocs.io/en/stable/reference/generated/optuna.integration.OptunaSearchCV.html#optuna.integration.OptunaSearchCV) из пакета `optuna`, который интегрирован с интерфейсом `sklearn`. Общая схема следующая: сначала мы выбираем модель, для которой будем подбирать гиперпараметры, и задаем распределения на них (решаем, будет ли параметр вещественным или целочисленным; определяем границы; выбираем линейную или логарифмическую шкалу). Далее, на каждой итерации мы выбираем новый набор значений гиперпараметров и оцениваем качество модели на них с помощью кросс-валидации. За ограниченное число итераций находим лучший набор гиперпараметров и обучаем итоговую модель на всех данных. Условимся, что мы хотим **максимизировать** значение метрики (в случае, если мы хотим минимизировать метрику, будем брать ее с минусом). Отличие между различными стратегиями поиска заключается в том, как именно выбираются новые значения гиперпараметров. Подробнее об этом ниже.\n",
    "\n",
    "Вашу реализацию кода нужно будет протестировать через [ЯндексКонтест](https://contest.yandex.ru/contest/37803/). Помимо стандартных библиотек Python 3.7, в контесте доступны `numpy=1.21.6`, `scipy=1.7.3` и `scikit-learn=1.0.2`, а также их зависимости.\n",
    "\n",
    "**Задание 1.1 (0.5 балла).** Реализуйте распределения гиперпараметров в файле `distributions.py`. Каждый класс должен поддерживать метод `sample`, который возвращает выборку из распределения. Кроме того, для численных распределений нам понадобится метод `scale`, который переводит выборку в промежуток $[0, 1]$ (с линейной шкалой) (за подробностями обращайтесь к док-строкам в базовых классах). Чуть позже станет понятнее, как нам пригодится эта функция. Задача в контесте: [ссылка](https://contest.yandex.ru/contest/37803/problems/A/). \\\n",
    "**>>>Done**\n",
    "\n",
    "**Задание 1.2 (1 балл).** Реализуйте методы `sample_params`, `cross_validate`, `fit`, `predict` и `predict_proba` класса `BaseOptimizer` в файле `optimizers.py`. Обратите внимание, что разбиение на фолды должно быть одинаковым для каждой итерации оптимизации (чтобы оценивать наборы гиперпараметров честно). Кроме того, не забывайте о воспроизводимости экспериментов: запуски всех алгоритмов, содержащих случайность, должны контролироваться с помощью `random_seed`. Также сохраняйте историю параметров и метрики в поля `self.params_history` и `self.scores_history`.\\\n",
    "**>>>Done**\n",
    "\n",
    "**Задание 1.3 (0.5 балла).** Реализуйте простейшую возможную стратегию &mdash; стратегию случайного поиска в классе `RandomSearchOptimizer` из файла `optimizers.py`. На каждой новой итерации алгоритма мы генерируем новый случайный набор гиперпараметров, не производя никакого дополнительного отбора. Задача в контесте: [ссылка](https://contest.yandex.ru/contest/37803/problems/B/)\\\n",
    "**>>>Done**"
   ]
  },
  {
   "cell_type": "code",
   "execution_count": 1,
   "id": "10add764",
   "metadata": {
    "id": "10add764"
   },
   "outputs": [],
   "source": [
    "import numpy as np\n",
    "from distributions import UniformDistribution, CategoricalDistribution"
   ]
  },
  {
   "cell_type": "code",
   "execution_count": 2,
   "id": "8014f3f3",
   "metadata": {
    "colab": {
     "base_uri": "https://localhost:8080/"
    },
    "id": "8014f3f3",
    "outputId": "83c6f9cf-a3aa-40c8-a6c3-bb3bfd4320a1"
   },
   "outputs": [
    {
     "data": {
      "text/plain": [
       "array([8.16036474, 7.36399495, 8.48228777, 8.38638212, 2.06517113])"
      ]
     },
     "execution_count": 2,
     "metadata": {},
     "output_type": "execute_result"
    }
   ],
   "source": [
    "UniformDistribution(0, 10).sample(5)"
   ]
  },
  {
   "cell_type": "code",
   "execution_count": 3,
   "id": "f9483301",
   "metadata": {
    "colab": {
     "base_uri": "https://localhost:8080/"
    },
    "id": "f9483301",
    "outputId": "b35b8298-25fc-4377-dbe6-77a520b07726",
    "scrolled": true
   },
   "outputs": [
    {
     "data": {
      "text/plain": [
       "LogisticRegression(C=0.1, class_weight='auto', max_iter=5000, solver='saga')"
      ]
     },
     "execution_count": 3,
     "metadata": {},
     "output_type": "execute_result"
    }
   ],
   "source": [
    "from sklearn.linear_model import LogisticRegression\n",
    "from sklearn.model_selection import cross_validate, KFold, StratifiedKFold\n",
    "from sklearn import datasets\n",
    "\n",
    "X, y = datasets.load_breast_cancer(return_X_y=True)\n",
    "X.shape, y.shape\n",
    "\n",
    "params = {\"penalty\":\"l2\", \"solver\":\"saga\", \"C\":0.1, \"class_weight\":\"auto\", \"max_iter\":5000}\n",
    "clf = LogisticRegression()\n",
    "clf.set_params(**params)"
   ]
  },
  {
   "cell_type": "code",
   "execution_count": 4,
   "id": "1a60b564",
   "metadata": {
    "colab": {
     "base_uri": "https://localhost:8080/"
    },
    "id": "1a60b564",
    "outputId": "fa9328cc-b239-49a9-a2d5-af84b094eabc"
   },
   "outputs": [
    {
     "data": {
      "text/plain": [
       "0.9226672876882471"
      ]
     },
     "execution_count": 4,
     "metadata": {},
     "output_type": "execute_result"
    }
   ],
   "source": [
    "cross_validate(clf, X, y, cv=5, scoring=None)['test_score'].mean()"
   ]
  },
  {
   "cell_type": "code",
   "execution_count": null,
   "id": "ba7b497c",
   "metadata": {
    "id": "ba7b497c"
   },
   "outputs": [],
   "source": []
  },
  {
   "cell_type": "markdown",
   "id": "52f3b1e4",
   "metadata": {
    "id": "52f3b1e4"
   },
   "source": [
    "### Байесовская оптимизация\n",
    "\n",
    "Далее мы перейдем к более продвинутым методам поиска гиперпараметров. Одним из наиболее распространенных подходов к этой задаче является **Байейсовская оптимизация**. Ее суть состоит в следующем: на каждой итерации мы будем аппроксимировать распределение $p(y|x)$, где $y$ &mdash; это значение метрики, а $x$ &mdash; значение набора гиперпараметров. Допустим, что $y^*$ &mdash; это наилучшее (наибольшее) текущее значение метрики. Чтобы выбрать новое значение гиперпараметров, для которого мы будем учить модель, нам понадобится величина под названием **Expected Impovement (EI)**. Она определяется следующим образом:\n",
    "\n",
    "$$\n",
    "\\text{EI}_{y^*}(x) = \\mathbb{E}_{y \\sim p(y|x)} \\Big[\\max(0, y - y^*)\\Big] = \\int \\max(0, y - y^*) p(y|x) dy\n",
    "$$\n",
    "\n",
    "Соответственно, чем выше значение EI, тем большего увеличения $y^*$ мы ожидаем, обучив модель с гиперпараметрами $x$. Таким образом, на каждой итерации оптимизации мы будем семлировать несколько кандидатов $x_i, i=1, \\dots, N$ из исходного распределения гиперпараметров и выбирать из них наилучшего путем максимизации EI: $x_{\\text{new}} = \\arg\\max_{x_i} \\big\\{\\text{EI}_{y^*} (x_i)\\big\\}$. Нам осталось обсудить, как именно аппроксимировать распределение $p(y|x)$."
   ]
  },
  {
   "cell_type": "markdown",
   "id": "e8a50ce3",
   "metadata": {
    "id": "e8a50ce3"
   },
   "source": [
    "### Гауссовские процессы\n",
    "\n",
    "[Гауссовские процессы](https://en.wikipedia.org/wiki/Gaussian_process) (ГП) &mdash; одна из популярных опций для задания распределения $p(y|x)$. Если не вдаваться в глубокую теорию, то можно воспринимать ГП как случайные функции. ГП задаются двумя параметрами: функцией среднего $\\mu(x)$ и ковариационной функцией $K(x, x')$. Процесс называется гауссовским, поскольку в каждой отдельно взятой точке $x$ мы имеем нормальное распределение: $y(x) \\sim \\mathcal{N}\\big(\\mu(x), K(x, x)\\big)$. А условие $\\text{Cov}\\big(y(x), y(x')\\big) = K(x, x')$ объясняет название ковариационной функции. Как правило, для практических применений достаточно так называемых стационарных ГП, которые отличают константная функция среднего $\\mu(x)=\\text{const}$ (чаще всего даже $\\mu(x)=0$) и ковариационная функция, зависящая только от расстояния между точками: $K(x, x') = K\\big(\\|x-x'\\|\\big)$. Часто под переменной $x$ понимают время (отсюда название \"процесс\"), но мы будет рассматривать в качестве $x$ наше пространство гиперпараметров.\n",
    "\n",
    "На первый взгляд может показаться, что ГП мало чем могут быть полезны: ведь в каждой точке $x$ у нас свое собственное случайное значение $y$. Но оказывается, что если ковариационная функция непрерывна в нуле, то (почти все) реализации ГП (то есть интересующие нас случайные значения $y(x)$) непрерывны. Таким образом, каждая реализация ГП соответствует некоторой непрерывной функции, а значит, ГП можно использовать для регрессии.\n",
    "\n",
    "Если задана обучающая выборка $\\{(x_i, y_i)\\}_{i=1}^{\\ell}$, то мы можем посчитать распределение $p(y|x) = \\mathcal{N}\\big(y\\big|\\mu(x), \\sigma^2(x)\\big)$ для любой точки $x$ (замечание: здесь уже не будет выполняться $\\mu(x)=0$, так как распределение на $y$ апостериорное, то есть зависит от обучающих данных). При этом, для разных ковариационных функций мы будем получать разные распределения. Обычно в качестве ковариационных функций используют ядра (да-да, те самые из теоремы Мерсера). Нам повезло, что все это уже реализовано в классе [`sklearn.gaussian_process.GaussianProcessRegressor`](https://scikit-learn.org/stable/modules/generated/sklearn.gaussian_process.GaussianProcessRegressor.html#sklearn.gaussian_process.GaussianProcessRegressor), и мы можем сконцентрироваться на алгоритмах оптимизации гиперпараметров.\n",
    "\n",
    "Ниже приведен пример регрессии с помощью ГП:\n",
    "![](https://www.researchgate.net/profile/Florent-Leclercq/publication/327613136/figure/fig1/AS:749406701776896@1555683889137/Illustration-of-Gaussian-process-regression-in-one-dimension-for-the-target-test.png)\n",
    "\n",
    "Впрочем, в нашем случае, картинка будет выглядеть скорее так, поскольку $x$ будет многомерным:\n",
    "![](https://raw.githubusercontent.com/jmaronas/TGP.pytorch/master/images/2D_GP.gif)"
   ]
  },
  {
   "cell_type": "markdown",
   "id": "aea9d876",
   "metadata": {
    "id": "aea9d876"
   },
   "source": [
    "**Задание 1.4 (0.75 балла)**. Выведите аналитическую формулу для подсчета EI в случае $p(y|x) = \\mathcal{N}\\big(y\\big|\\mu(x), \\sigma^2(x)\\big)$ (подсказка: вам может пригодится значение функции распределения нормальной с.в.). \\\n",
    "Обозначим за $\\phi(x) = \\dfrac{1}{\\sqrt{2\\pi}}e^{-x^2 / 2}$ - плотность стандартной нормальной с.в. \\\n",
    "Стандартизируем значения метрики и обозначим их следующим образом:\n",
    "$$\n",
    "u^* = \\dfrac{y^* - \\mu}{\\sigma}, \\quad u = \\dfrac{y - \\mu}{\\sigma} \\text{, where } u \\sim \\phi(u).\n",
    "$$\n",
    "Тогда запишем expected improvement с новой плотностью:\n",
    "$$\n",
    "\\text{EI}_{y^*}(x) = \\int \\max(0, y - y^*) p(y|x) dy = \\\\\n",
    "= \\int_{\\mathbb{R}} (y - y^*) I\\{y > y^*\\} p(y|x) dy = \\\\\n",
    "= \\int_{\\mathbb{R}} (\\mu + \\sigma u - y^*) I\\{u > u^*\\} \\phi(u) du = \\\\\n",
    "= \\int_{u^*}^{+\\infty} (\\mu - y^* + \\sigma u) \\phi(u) du = \\\\\n",
    "= (\\mu - y^*)\\, \\big(1 - \\Phi(u^*)\\big) + \\dfrac{\\sigma}{\\sqrt{2\\pi}} \\int_{u^*}^{+\\infty}  u e^{-u^2 / 2} du = \\\\\n",
    "= (\\mu - y^*)\\, \\big(1 - \\Phi(u^*)\\big) - \\dfrac{\\sigma}{\\sqrt{2\\pi}} e^{-u^2 / 2} \\bigg|_{u^*}^{+\\infty} = \\\\\n",
    "= (\\mu - y^*)\\, \\big(1 - \\Phi(u^*)\\big) - \\sigma \\big(0 - \\phi(u^*)\\big) = \\\\\n",
    "= - \\sigma u^* \\, \\big(1 - \\Phi(u^*)\\big) + \\sigma \\phi(u^*).\n",
    "$$"
   ]
  },
  {
   "cell_type": "code",
   "execution_count": 5,
   "id": "77dae273",
   "metadata": {
    "colab": {
     "base_uri": "https://localhost:8080/"
    },
    "id": "77dae273",
    "outputId": "3383b664-2a88-4478-81bf-eb65b80f2058"
   },
   "outputs": [
    {
     "data": {
      "text/plain": [
       "array([5.00000005, 4.10785525, 3.72186248, 3.36276104, 2.79655822])"
      ]
     },
     "execution_count": 5,
     "metadata": {},
     "output_type": "execute_result"
    }
   ],
   "source": [
    "from scipy.stats import norm\n",
    "mu = np.arange(5)\n",
    "sigma = np.arange(1, 6)\n",
    "y_star = 5\n",
    "\n",
    "u_star = (y_star - mu) / sigma\n",
    "sigma * (u_star * norm.cdf(y_star - mu) + norm.pdf(u_star))"
   ]
  },
  {
   "cell_type": "code",
   "execution_count": 7,
   "id": "f9774953",
   "metadata": {
    "colab": {
     "base_uri": "https://localhost:8080/"
    },
    "id": "f9774953",
    "outputId": "6f5f1066-2731-4a09-eea2-53a25d8a07e3"
   },
   "outputs": [
    {
     "data": {
      "text/plain": [
       "((569, 30), (569,))"
      ]
     },
     "execution_count": 7,
     "metadata": {},
     "output_type": "execute_result"
    }
   ],
   "source": [
    "X.shape, y.shape"
   ]
  },
  {
   "cell_type": "code",
   "execution_count": null,
   "id": "b6104c00",
   "metadata": {
    "id": "b6104c00"
   },
   "outputs": [],
   "source": [
    "import warnings \n",
    "warnings.filterwarnings('ignore')"
   ]
  },
  {
   "cell_type": "code",
   "execution_count": 8,
   "id": "b3304763",
   "metadata": {
    "colab": {
     "base_uri": "https://localhost:8080/"
    },
    "id": "b3304763",
    "outputId": "5d1762e6-a349-43fe-d5b8-ecc8c53d3484",
    "scrolled": true
   },
   "outputs": [
    {
     "name": "stderr",
     "output_type": "stream",
     "text": [
      "/usr/local/lib/python3.7/dist-packages/sklearn/gaussian_process/kernels.py:427: ConvergenceWarning: The optimal value found for dimension 0 of parameter k1__noise_level is close to the specified lower bound 1e-05. Decreasing the bound and calling fit again may find a better value.\n",
      "  ConvergenceWarning,\n"
     ]
    }
   ],
   "source": [
    "from sklearn.gaussian_process import GaussianProcessRegressor\n",
    "from sklearn.gaussian_process.kernels import ConstantKernel, WhiteKernel, RBF\n",
    "\n",
    "kernel = WhiteKernel() + RBF()\n",
    "gpr = GaussianProcessRegressor(kernel=kernel, random_state=0).fit(X, y)"
   ]
  },
  {
   "cell_type": "code",
   "execution_count": 9,
   "id": "a5176e2a",
   "metadata": {
    "id": "a5176e2a",
    "scrolled": true
   },
   "outputs": [],
   "source": [
    "mu, sigma = gpr.predict(np.ones([250, 30]), return_std=True)"
   ]
  },
  {
   "cell_type": "code",
   "execution_count": 10,
   "id": "bc4dcdb8",
   "metadata": {
    "colab": {
     "base_uri": "https://localhost:8080/"
    },
    "id": "bc4dcdb8",
    "outputId": "53e35b17-5275-4bfa-cf8e-3a4141e1946b"
   },
   "outputs": [
    {
     "data": {
      "text/plain": [
       "(250,)"
      ]
     },
     "execution_count": 10,
     "metadata": {},
     "output_type": "execute_result"
    }
   ],
   "source": [
    "u_star = (5 - mu) / sigma\n",
    "ei = - sigma * u_star * (1 - norm.cdf(u_star)) + sigma * norm.pdf(u_star)\n",
    "ei.shape"
   ]
  },
  {
   "cell_type": "code",
   "execution_count": 11,
   "id": "93b4c137",
   "metadata": {
    "colab": {
     "base_uri": "https://localhost:8080/"
    },
    "id": "93b4c137",
    "outputId": "d5e1ea23-3208-4122-b78f-bd68c986c2ab",
    "scrolled": true
   },
   "outputs": [
    {
     "name": "stdout",
     "output_type": "stream",
     "text": [
      "('a', 111)\n",
      "('b', 222)\n",
      "('c', 333)\n"
     ]
    }
   ],
   "source": [
    "d = {'a': 111, 'b': 222, 'c': 333}\n",
    "for i, p in enumerate(d.items()):\n",
    "    print(p)"
   ]
  },
  {
   "cell_type": "code",
   "execution_count": 12,
   "id": "04a842f0",
   "metadata": {
    "colab": {
     "base_uri": "https://localhost:8080/"
    },
    "id": "04a842f0",
    "outputId": "9a0b2809-d17c-4851-f808-5f1390d2f4f9"
   },
   "outputs": [
    {
     "data": {
      "text/plain": [
       "array([9, 9, 9])"
      ]
     },
     "execution_count": 12,
     "metadata": {},
     "output_type": "execute_result"
    }
   ],
   "source": [
    "sx = np.arange(30).reshape(-1, 3)\n",
    "np.argmax(sx, axis=0)"
   ]
  },
  {
   "cell_type": "markdown",
   "id": "f5de48d1",
   "metadata": {
    "id": "f5de48d1"
   },
   "source": [
    "Теперь разберемся, как адаптировать ГП под наши нужды. Предлагается следующий план действий:\n",
    "\n",
    "1. Пускай на очередной итерации алгоритма $j$ у нас есть выборка $\\{(x_i, y_i)\\}_{i=1}^{j-1}$, где $x_i$ &mdash; значение набора гиперпараметров, а $y_i$ &mdash; соответствующее ему значение метрики, посчитанное по кросс-валидации.\n",
    "\n",
    "\n",
    "2. Если размер выборки меньше значения `self.num_dry_runs`, то возвращаем случайное значение гиперпараметров вместо запуска алгоритма. Таким образом, первые `self.num_dry_runs` итераций поиска подчиняются случайной стратегии, чтобы \"набрать статистику\" для работы алгоритма.\n",
    "\n",
    "\n",
    "3. ГП работает только с непрерывными величинами, поэтому давайте переведем значения гиперпараметров в диапазон $[0, 1]$ (тут-то нам и понадобится функция `scale`) и получим отнормированные гиперпараметры $x_i \\to \\tilde{x}_i$. Как вы догадываетесь, такой трюк сработает только с численными гиперпараметрами (как с непрерывными, так и с дискретными). Что делать с категориальными гиперпараметрами, обсудим позже. \n",
    "\n",
    "\n",
    "4. Далее обучаем ГП на выборку $\\{(\\tilde{x}_i, y_i)\\}_{i=1}^{j-1}$ (в качестве ковариационной функции возьмите сумму константного, белого и RBF ядер). \n",
    "\n",
    "\n",
    "5. Семплируем кандидатов в новые значения гиперпараметров $x^{\\text{new}}_1, ..., x^{\\text{new}}_N$ и преобразуем их функцией `scale`. Для каждого набора предсказываем параметры распределения $\\mu(\\tilde{x}), \\sigma^2(\\tilde{x})$, затем вычисляем $\\text{EI}_{y^*}(\\tilde{x})$ по формуле, посчитанной вами выше, и выбираем набор гиперпараметров $\\tilde{x}^\\text{new}_{*}$ с наибольшим значением EI.\n",
    "\n",
    "\n",
    "6. Выбираем исходный набор гиперпараметров $x^\\text{new}_{*}$, соответствующий $\\tilde{x}^\\text{new}_{*}$. Вуаля! Мы получили новый набор численных гиперпараметров, на котором будем валидировать модель.\n",
    "\n",
    "\n",
    "Для категориальных гиперпараметров попробуем провернуть что-нибудь похожее. Пусть у нас есть выборка $\\{(f_i, y_i)\\}_{i=1}^{j-1}$, где $f$ &mdash; интересующий нас категориальный гиперпараметр, $f_i \\in \\{1, \\dots, C\\}$ &mdash; конечное множество категорий. Зафиксируем $c \\in \\{1, \\dots, C\\}$ и рассмотрим $p(y|с) = \\mathcal{N}\\big(y\\big|\\mu(с), \\sigma^2(с)\\big)$. Определим параметры распределений следующим образом (как среднее и сглаженную дисперсию по категории):\n",
    "\n",
    "$$\n",
    "\\mu(c) = \\begin{cases}\n",
    "    \\cfrac{\\sum_i [f_i = c] \\cdot y_i}{\\sum_i [f_i = c]},& \\sum_i [f_i = c] > 0 \\\\\n",
    "    y^*,& \\sum_i [f_i = c] = 0\n",
    "\\end{cases}\n",
    "\\quad\\quad\\quad\n",
    "\\sigma^2(c) = \\frac{1 + \\sum_i [f_i = c] (y_i - \\mu(c))^2}{1 + \\sum_i [f_i = c]}\n",
    "$$\n",
    "\n",
    "В итоге, как и в случае с численными гиперпараметрами, мы находим категорию с лучшей EI. Впрочем, обычно такие гиперпараметры имеют не очень много возможных значений (скажем, не больше 10 категорий, а в реальности скорее 2-3: например, критерий при построении дерева), поэтому мы можем себе позволить **перебрать все значения** категориального признака **вместо семплирования** (что и требуется от вас в реализации). Обратите внимание, что категориальные гиперпараметры нужно обрабатывать отдельно (то есть они не имеют ничего общего с ГП, который мы обучаем по численным гиперпараметрам). Конечно, у такого подхода есть значительный минус: категории рассматриваются независимо друг от друга и от численных гиперпараметров, но уж лучше так, чем никак. \n",
    "\n",
    "**Задание 1.5 (2 балла)**. Реализуйте недостающие методы в классе `GPOptimizer` в файле `optimizers.py`. Задачи в контесте: [раз](https://contest.yandex.ru/contest/37803/problems/С/), [два](https://contest.yandex.ru/contest/37803/problems/D/) \\\n",
    "**>>>Done**"
   ]
  },
  {
   "cell_type": "markdown",
   "id": "mature-fluid",
   "metadata": {
    "id": "mature-fluid"
   },
   "source": [
    "### Tree-structured Parzen estimator (TPE)\n",
    "\n",
    "Рассмотрим иной подход к приближению распределения $p(y|x)$. Он основан на использовании формулы Байеса:\n",
    "\n",
    "$$\n",
    "p(y|x) = \\frac{p(x|y)p(y)}{p(x)}\n",
    "$$\n",
    "\n",
    "Эта формула позволяет нам моделировать распределение $p(x|y)$ вместо $p(y|x)$. Обозначим за $y^*$ $\\gamma$-квантиль распределения $p(y)$, то есть $p(y < y^*) = \\gamma$ (в отличие от ГП, где $y^*$ выступает как максимум распределения). Идея TPE заключается в следующем выражении для плотности $p(x|y)$:\n",
    "\n",
    "$$\n",
    "p(x|y) = \\begin{cases}\n",
    "    g(x),& y \\ge y* \\\\\n",
    "    l(x),& y < y^*,\n",
    "\\end{cases}\n",
    "$$\n",
    "\n",
    "где $l(x)$ &mdash; это аппроксимация распределения $x$ при значениях целевой метрики меньше порогового $y^*$, а $g(x)$ &mdash; наоборот, выше порогового. Оказывается, что такой способ задать распределение позволяет нам очень просто находить максимум EI:\n",
    "\n",
    "**Задание 1.6 (0.75 балла)**. Докажите, что точка максимума EI совпадает с точкой максимума $\\cfrac{g(x)}{l(x)}$.\n",
    "\n",
    "$$\n",
    "\\text{EI}_{y^*}(x) = \\int \\max(0, y - y^*) p(y|x) dy = \\\\\n",
    "\\int_{y^*}^{+\\infty} (y - y^*) p(y|x) dy = \\\\\n",
    "\\int_{y^*}^{+\\infty} (y - y^*) \\dfrac{p(x|y) p(y)}{p(x)} dy.\n",
    "$$\n",
    "Так как по построению $p(y < y^*) = \\gamma$, то знаменатель EI равен\n",
    "$$\n",
    "p(x) = \\int_{\\mathbb{R}} p(x|y) p(y) dy = \\mathbb{E}_y p(x|y) = \\gamma l(x) + (1 - \\gamma) g(x).\n",
    "$$\n",
    "Тогда как числитель EI можно записать следующим образом\n",
    "$$\n",
    "\\int_{y^*}^{+\\infty} (y - y^*) p(x|y) p(y) dy = \\\\\n",
    "\\int_{-\\infty}^{y^*} (y^* - y) p(x|y) p(y) dy = \\\\\n",
    "l(x) \\int_{-\\infty}^{y^*} (y^* - y) p(y) dy = \\\\\n",
    "l(x)\\gamma y^* - l(x) \\int_{y^*}^{+\\infty} p(y) dy.\n",
    "$$\n",
    "Отсюда, Expected Improvement пропорционален\n",
    "$$\n",
    "\\text{EI}_{y^*}(x) = \\dfrac{l(x) \\gamma y^* - l(x) \\int_{y^*}^{+\\infty} p(y) dy}{\\gamma l(x) + (1 - \\gamma) g(x)} \\propto \\bigg( \\gamma + \\dfrac{g(x)}{l(x)} (1 - \\gamma)\\bigg)^{-1}.\n",
    "$$\n",
    "\n",
    "Источник: https://proceedings.neurips.cc/paper/2011/file/86e8f7ab32cfd12577bc2619bc635690-Paper.pdf\n"
   ]
  },
  {
   "cell_type": "markdown",
   "id": "494c1bb1",
   "metadata": {
    "id": "494c1bb1"
   },
   "source": [
    "Таким образом, мы можем разделить все опробованные наборы гиперпараметров на две группы по значению целевой метрики, на каждой из них обучить свою оценку плотности ($g(x)$ или $l(x)$) и выбрать в качестве кандидата тот набор гиперпараметров, который имеет набольшее отношение плотностей. Такая процедура будет гарантировать нам максимизацию EI. В качестве алгоритма для приближения плотности мы будем пользоваться методом Парзеновского окна (он же Kernel Density Estimation, KDE), что и объясняет название оптимизатора (кстати, именно TPE находится под капотом у `optuna`). Как вы догадываетесь, KDE тоже реализован в [`sklearn.neighbors.KernelDensity`](https://www.youtube.com/watch?v=dQw4w9WgXcQ). И снова, такой подход позволяет обрабатывать только численные гиперпараметры. Получаем следующий алгоритм:\n",
    "\n",
    "1. Пускай на очередной итерации алгоритма $j$ у нас есть выборка $\\{(x_i, y_i)\\}_{i=1}^{j-1}$, где $x_i$ &mdash; значение набора гиперпараметров, а $y_i$ &mdash; соответствующее ему значение метрики, посчитанное по кросс-валидации.\n",
    "\n",
    "\n",
    "2. Если размер выборки меньше значения `self.num_dry_runs`, то возвращаем случайное значение гиперпараметров вместо запуска алгоритма.\n",
    "\n",
    "\n",
    "3. Переводим значения гиперпараметров в диапазон $[0, 1]$ и получаем отнормированные гиперпараметры $x_i \\to \\tilde{x}_i$.\n",
    "\n",
    "\n",
    "4. Считаем $\\gamma$-квантиль выборки $y_1, \\dots, y_{j-1}$ и делим значения гиперпараметров $\\tilde{x}_1, \\dots, \\tilde{x}_{j-1}$ на две группы (воспользуйтесь `np.quantile`). \n",
    "\n",
    "\n",
    "5. На каждой группе обучаем KDE, чтобы получить оценки $g(\\tilde{x})$ и $l(\\tilde{x})$ (обратите внимание, что алгоритм возвращает логарифм оценки плотности). Используйте гауссовское ядро, в качестве параметра `bandwidth` возьмите медианное расстояние до 1-го ближайшего соседа в полной выборке. Остальные параметры оставьте по умолчанию.\n",
    "\n",
    "\n",
    "6. Семплируем кандидатов в новые значения гиперпараметров $x^{\\text{new}}_1, ..., x^{\\text{new}}_N$ и преобразуем их функцией `scale`. Определяем точку:\n",
    "\n",
    "$$\n",
    "\\tilde{x}^\\text{new}_{*} = \\arg\\max_{i} \\bigg\\{\\frac{g(\\tilde{x}^{\\text{new}}_i)}{l(\\tilde{x}^{\\text{new}}_i)}\\bigg\\}\n",
    "$$\n",
    "\n",
    "\n",
    "7. Выбираем исходный набор гиперпараметров $x^\\text{new}_{*}$, соответствующий $\\tilde{x}^\\text{new}_{*}$.\n",
    "\n",
    "\n",
    "Для категориальных гиперпараметров $f_i \\in \\{1, \\dots, C\\}$ нам тоже нужно определить $g(x)$ и $l(x)$. Определим вероятность категории $с \\in \\{1, \\dots, C\\}$ пропорциональной следующей величине:\n",
    "\n",
    "$$\n",
    "p(c) \\propto N p_c + \\sum_i [f_i = c], \n",
    "$$\n",
    "\n",
    "где $N$ &mdash; число наборов гиперпараметров в группе (то есть это количество будет различным для $g(c)$ и $l(c)$), а $p_c$ &mdash; априорная вероятность категории (в нашем случае категории априорно равновероятны, $p_c = 1\\,/\\,C$). Сама вероятность $p(c)$ получается нормировкой по всем категориям гиперпараметра. И снова, мы будем **перебирать все значения** категориального признака **вместо семплирования**. Как и в случае ГП, категориальные гиперпараметры будут учитываться независимо от численных и друг от друга (тут даже можно выписать факторизацию распределения в виде $g(x) = g_{\\text{num}}(x_\\text{num}) \\prod_{\\text{cat}} g_{\\text{cat}}(x_\\text{cat})$, аналогично для $l(x)$, пусть эти формулы и не используются явно).\n",
    "\n",
    "Выглядит итерация метода примерно так:\n",
    "\n",
    "![](https://camo.githubusercontent.com/d14da729457267a66ebc9942b1ce57372adad287b74a1af5e0793f283c9bf1aa/687474703a2f2f6e657570792e636f6d2f5f696d616765732f7470652d73616d706c65642d63616e646964617465732e706e67)\n",
    "\n",
    "**Задание 1.7 (2 балла)**. Реализуйте недостающие методы в классе `TPEOptimizer` в файле `optimizers.py`. Задачи в контесте: [раз](https://contest.yandex.ru/contest/37803/problems/E/), [два](https://contest.yandex.ru/contest/37803/problems/F/)\n",
    "**>>>Done**"
   ]
  },
  {
   "cell_type": "code",
   "execution_count": 13,
   "id": "generous-latex",
   "metadata": {
    "id": "generous-latex"
   },
   "outputs": [],
   "source": [
    "%load_ext autoreload\n",
    "%autoreload 2"
   ]
  },
  {
   "cell_type": "code",
   "execution_count": 14,
   "id": "noted-cooking",
   "metadata": {
    "id": "noted-cooking"
   },
   "outputs": [],
   "source": [
    "import distributions as D\n",
    "import optimizers as O"
   ]
  },
  {
   "cell_type": "markdown",
   "id": "acquired-expense",
   "metadata": {
    "id": "acquired-expense"
   },
   "source": [
    "## 2. Эксперименты (7.5 баллов)\n",
    "\n",
    "**Задание 2.1 (1 балл)**. Сгенерируйте случайную выборку наборов гиперпараметров и выборку значений метрик. Замерьте время работы метода `select_params` для `GPOptimizer` и `TPEOptimizer`. Постройте график зависимости времени работы от размера выборки, сделайте выводы. Какую алгоритмическую сложность имеют алгоритмы?"
   ]
  },
  {
   "cell_type": "code",
   "execution_count": 319,
   "id": "competent-hungary",
   "metadata": {
    "id": "competent-hungary"
   },
   "outputs": [],
   "source": [
    "import pandas as pd\n",
    "import numpy as np\n",
    "import matplotlib.pyplot as plt\n",
    "\n",
    "from lightgbm import LGBMClassifier\n",
    "import warnings\n",
    "warnings.filterwarnings('ignore')"
   ]
  },
  {
   "cell_type": "code",
   "execution_count": null,
   "id": "bp5XORGolAho",
   "metadata": {
    "id": "bp5XORGolAho"
   },
   "outputs": [],
   "source": [
    "params_distr = {'n_estimators': D.IntUniformDistribution(50, 300), \n",
    "                'max_depth': D.IntUniformDistribution(3, 10), \n",
    "                'learning_rate': D.UniformDistribution(0.01, 1), \n",
    "                'boosting_type': D.CategoricalDistribution(['gbdt', 'dart', 'goss']), \n",
    "                'num_leaves': D.IntUniformDistribution(20, 50), \n",
    "                'min_child_samples': D.IntUniformDistribution(5, 50),\n",
    "                'colsample_bytree': D.UniformDistribution(0, 1)}\n",
    "estimator = LGBMClassifier(class_weight='balanced')"
   ]
  },
  {
   "cell_type": "code",
   "execution_count": null,
   "id": "Xqa4_nSMmIQ2",
   "metadata": {
    "id": "Xqa4_nSMmIQ2"
   },
   "outputs": [],
   "source": [
    "gp_search = O.GPOptimizer(estimator, params_distr, num_runs=40, scoring='neg_log_loss',\n",
    "                        cv=3, num_dry_runs=5, num_samples_per_run=10, random_state=42)\n",
    "tpe_search = O.TPEOptimizer(estimator, params_distr, num_runs=40, scoring='neg_log_loss',\n",
    "                        cv=3, num_dry_runs=5, num_samples_per_run=10, random_state=42)"
   ]
  },
  {
   "cell_type": "code",
   "execution_count": 320,
   "id": "srOhkCHJmI-B",
   "metadata": {
    "id": "srOhkCHJmI-B"
   },
   "outputs": [],
   "source": [
    "# Функция сэмплирующая гиперпараметры из распределения\n",
    "def sample(params_distr, sample_size):\n",
    "    param_samples = dict()\n",
    "    for param in params_distr.keys():\n",
    "        param_samples[param] = params_distr[param].sample(sample_size)\n",
    "    \n",
    "    return param_samples"
   ]
  },
  {
   "cell_type": "code",
   "execution_count": 324,
   "id": "7m8ZjeTmnSCx",
   "metadata": {
    "id": "7m8ZjeTmnSCx"
   },
   "outputs": [],
   "source": [
    "from time import time"
   ]
  },
  {
   "cell_type": "code",
   "execution_count": 348,
   "id": "QlkJTnT5nLIL",
   "metadata": {
    "id": "QlkJTnT5nLIL"
   },
   "outputs": [],
   "source": [
    "gp_perfomance = []\n",
    "\n",
    "for sample_size in range(250, 4001, 250):\n",
    "    time0 = time()\n",
    "    params_history = sample(params_distr, sample_size)\n",
    "    scores_history = np.random.normal(size=sample_size)\n",
    "    sampled_params = sample(params_distr, 10)\n",
    "    gp_search.select_params(params_history, \n",
    "                            scores_history,\n",
    "                            sampled_params)\n",
    "    gp_perfomance.append(time() - time0)"
   ]
  },
  {
   "cell_type": "code",
   "execution_count": 349,
   "id": "bRv1rykCnLDz",
   "metadata": {
    "id": "bRv1rykCnLDz"
   },
   "outputs": [],
   "source": [
    "tpe_perfomance = []\n",
    "\n",
    "for sample_size in range(250, 4001, 250):\n",
    "    time0 = time()\n",
    "    params_history = sample(params_distr, sample_size)\n",
    "    scores_history = np.random.normal(size=sample_size)\n",
    "    sampled_params = sample(params_distr, 10)\n",
    "    tpe_search.select_params(params_history, \n",
    "                             scores_history,\n",
    "                             sampled_params)\n",
    "    tpe_perfomance.append(time() - time0)"
   ]
  },
  {
   "cell_type": "code",
   "execution_count": 353,
   "id": "gRtY-QFxtrmh",
   "metadata": {
    "colab": {
     "base_uri": "https://localhost:8080/",
     "height": 513
    },
    "id": "gRtY-QFxtrmh",
    "outputId": "3999b870-06a7-4b90-d24e-3d94f05358fc"
   },
   "outputs": [
    {
     "data": {
      "image/png": "[encoded data removed]",
      "text/plain": [
       "<Figure size 864x576 with 1 Axes>"
      ]
     },
     "metadata": {
      "needs_background": "light"
     },
     "output_type": "display_data"
    }
   ],
   "source": [
    "plt.figure(figsize=(12, 8))\n",
    "plt.plot(np.arange(250, 4001, 250), gp_perfomance, label='GP Optimizer')\n",
    "plt.plot(np.arange(250, 4001, 250), tpe_perfomance, label='TPE Optimizer')\n",
    "\n",
    "plt.title('Optimizers complexity')\n",
    "plt.xlabel('Sample size')\n",
    "plt.ylabel('Time')\n",
    "plt.legend()\n",
    "plt.grid();"
   ]
  },
  {
   "cell_type": "code",
   "execution_count": 354,
   "id": "XQnmDLY6mI4S",
   "metadata": {
    "colab": {
     "base_uri": "https://localhost:8080/",
     "height": 513
    },
    "id": "XQnmDLY6mI4S",
    "outputId": "eb564651-a7b9-4298-87f2-f0d37d01a3ba"
   },
   "outputs": [
    {
     "data": {
      "image/png": "[encoded data removed]",
      "text/plain": [
       "<Figure size 864x576 with 1 Axes>"
      ]
     },
     "metadata": {
      "needs_background": "light"
     },
     "output_type": "display_data"
    }
   ],
   "source": [
    "plt.figure(figsize=(12, 8))\n",
    "plt.plot(np.arange(250, 4001, 250), tpe_perfomance, label='TPE Optimizer')\n",
    "\n",
    "plt.title('Optimizer complexity')\n",
    "plt.xlabel('Sample size')\n",
    "plt.ylabel('Time')\n",
    "plt.grid();"
   ]
  },
  {
   "cell_type": "markdown",
   "id": "wtOGJw6RuhEJ",
   "metadata": {
    "id": "wtOGJw6RuhEJ"
   },
   "source": [
    "> Из графиков предположу, то GP Optimizer имеет нелинейную сложность, скорее квадратичную, тогда как время работы TPE Optimizer примерно линейно по размеру выборки. "
   ]
  },
  {
   "cell_type": "code",
   "execution_count": null,
   "id": "1eUSwXN2vgjW",
   "metadata": {
    "id": "1eUSwXN2vgjW"
   },
   "outputs": [],
   "source": []
  },
  {
   "cell_type": "markdown",
   "id": "medium-encoding",
   "metadata": {
    "id": "medium-encoding"
   },
   "source": [
    "Дальнейшие эксперименты будет проводить на [наборе данных](https://www.kaggle.com/datasets/piyushagni5/white-wine-quality) о качестве белого вина.\n",
    "\n",
    "**Задание 2.2 (3 балла)**. Будем тестировать оптимизаторы на (барабанная дробь...) бустингах. Выберите библиотеку градиентного бустинга, которая приходится вам по душе и задайте распределения на гиперпараметры. Среди ваших гиперпараметров обязательно должны быть число деревьев, глубина дерева и learning rate, также добавьте еще 4-5 гиперпараметров по вашему желанию (среди них должен быть хотя бы один категориальный). Подумайте, какие распределения лучше всего подходят для каждого гиперпараметра.\n",
    "\n",
    "Как и всегда, разделите выборку на обучение и тест, предсказывать будем рейтинг вина (колонка `quality`). Хоть рейтинги и можно упорядочить, давайте решим задачу многоклассовой классификации на этих данных. В качестве метрики качества возьмем log loss. Мы будем сравнивать три стратегии для поиска, реализованные вами и [`OptunaSearchCV`](https://optuna.readthedocs.io/en/stable/reference/generated/optuna.integration.OptunaSearchCV.html#optuna.integration.OptunaSearchCV) из библиотеки `optuna`, который имеет такой же интерфейс. Давайте ограничим наш бюджет поиска 40 итерациями. Обучите каждый из этих четырех методов по нескольку раз, чтобы посмотреть на дисперсию метрики (как минимум 3 раза, а в идеале раз 5, если позволяет время)."
   ]
  },
  {
   "cell_type": "code",
   "execution_count": 105,
   "id": "c9c8deaf",
   "metadata": {
    "id": "c9c8deaf",
    "scrolled": true
   },
   "outputs": [],
   "source": [
    "# !pip install optuna"
   ]
  },
  {
   "cell_type": "code",
   "execution_count": 17,
   "id": "055e149c",
   "metadata": {
    "id": "055e149c"
   },
   "outputs": [],
   "source": [
    "from optuna.integration import OptunaSearchCV\n",
    "import optuna.distributions as optD\n",
    "import optuna\n",
    "optuna.logging.set_verbosity(optuna.logging.WARNING)"
   ]
  },
  {
   "cell_type": "code",
   "execution_count": 36,
   "id": "268537ed",
   "metadata": {
    "id": "268537ed"
   },
   "outputs": [],
   "source": [
    "from lightgbm import LGBMClassifier\n",
    "from sklearn.model_selection import train_test_split\n",
    "from sklearn.metrics import log_loss\n",
    "\n",
    "import warnings\n",
    "warnings.filterwarnings('ignore')"
   ]
  },
  {
   "cell_type": "code",
   "execution_count": 19,
   "id": "f068f5ce",
   "metadata": {
    "colab": {
     "base_uri": "https://localhost:8080/"
    },
    "id": "f068f5ce",
    "outputId": "8e9c7960-8ba4-4c70-a0b9-b5213597f112"
   },
   "outputs": [
    {
     "data": {
      "text/plain": [
       "6    2198\n",
       "5    1457\n",
       "7     880\n",
       "8     175\n",
       "4     163\n",
       "3      20\n",
       "9       5\n",
       "Name: quality, dtype: int64"
      ]
     },
     "execution_count": 19,
     "metadata": {},
     "output_type": "execute_result"
    }
   ],
   "source": [
    "df = pd.read_csv('winequality-white.csv', sep=';')\n",
    "\n",
    "X = df.drop('quality', axis=1)\n",
    "y = df['quality']\n",
    "y.value_counts()"
   ]
  },
  {
   "cell_type": "code",
   "execution_count": 163,
   "id": "b0c32468",
   "metadata": {
    "id": "b0c32468",
    "scrolled": true
   },
   "outputs": [],
   "source": [
    "X_train, X_test, y_train, y_test = train_test_split(X, y, \n",
    "                                                    test_size=0.3, \n",
    "                                                    random_state=42, \n",
    "                                                    stratify=y)\n",
    "estimator = LGBMClassifier(class_weight='balanced')"
   ]
  },
  {
   "cell_type": "markdown",
   "id": "8df6568f",
   "metadata": {
    "id": "8df6568f"
   },
   "source": [
    "### Optuna Search"
   ]
  },
  {
   "cell_type": "code",
   "execution_count": 164,
   "id": "ff5b8f1e",
   "metadata": {
    "id": "ff5b8f1e"
   },
   "outputs": [],
   "source": [
    "opt_params_distr = {'n_estimators': optD.IntUniformDistribution(50, 300), \n",
    "                    'max_depth': optD.IntUniformDistribution(3, 10), \n",
    "                    'learning_rate': optD.UniformDistribution(0.01, 1), \n",
    "                    'boosting_type': optD.CategoricalDistribution(['gbdt', 'dart', 'goss']), \n",
    "                    'num_leaves': optD.IntUniformDistribution(20, 50), \n",
    "                    'min_child_samples': optD.IntUniformDistribution(5, 50),\n",
    "                    'colsample_bytree': optD.UniformDistribution(0, 1)}"
   ]
  },
  {
   "cell_type": "code",
   "execution_count": 165,
   "id": "64a73ad7",
   "metadata": {
    "colab": {
     "base_uri": "https://localhost:8080/"
    },
    "id": "64a73ad7",
    "outputId": "f1532e73-d18a-4f27-f74d-35eaf6a630f3",
    "scrolled": true
   },
   "outputs": [
    {
     "name": "stdout",
     "output_type": "stream",
     "text": [
      "CPU times: user 3min 7s, sys: 6.01 s, total: 3min 13s\n",
      "Wall time: 1min 49s\n"
     ]
    }
   ],
   "source": [
    "%%time\n",
    "optuna_search = OptunaSearchCV(estimator, opt_params_distr, n_trials=40, scoring='neg_log_loss', cv=3)\n",
    "optuna_search.fit(X_train, y_train)"
   ]
  },
  {
   "cell_type": "code",
   "execution_count": 166,
   "id": "5e48720b",
   "metadata": {
    "colab": {
     "base_uri": "https://localhost:8080/"
    },
    "id": "5e48720b",
    "outputId": "5e0e1b45-88fc-4c85-f73a-8e533480d97d",
    "scrolled": true
   },
   "outputs": [
    {
     "data": {
      "text/plain": [
       "{'boosting_type': 'dart',\n",
       " 'colsample_bytree': 0.7354274303635201,\n",
       " 'learning_rate': 0.16527227020837873,\n",
       " 'max_depth': 8,\n",
       " 'min_child_samples': 13,\n",
       " 'n_estimators': 224,\n",
       " 'num_leaves': 35}"
      ]
     },
     "execution_count": 166,
     "metadata": {},
     "output_type": "execute_result"
    }
   ],
   "source": [
    "optuna_search.best_params_"
   ]
  },
  {
   "cell_type": "code",
   "execution_count": 167,
   "id": "v5iuJF8V4AsJ",
   "metadata": {
    "id": "v5iuJF8V4AsJ"
   },
   "outputs": [],
   "source": [
    "optuna_search = OptunaSearchCV(estimator, opt_params_distr, n_trials=40, scoring='neg_log_loss', cv=3)"
   ]
  },
  {
   "cell_type": "code",
   "execution_count": 168,
   "id": "70595ad6",
   "metadata": {
    "colab": {
     "base_uri": "https://localhost:8080/"
    },
    "id": "70595ad6",
    "outputId": "01f6248e-0f95-48a9-e7d1-79c6ea10c8db"
   },
   "outputs": [
    {
     "name": "stdout",
     "output_type": "stream",
     "text": [
      "Iteration: 0\n",
      "Iteration: 1\n",
      "Iteration: 2\n",
      "Iteration: 3\n",
      "Iteration: 4\n"
     ]
    }
   ],
   "source": [
    "optuna_scores_hist = []\n",
    "optuna_best_scores = []\n",
    "optuna_test_scores = []\n",
    "\n",
    "for i in range(5):\n",
    "    np.random.seed(i)\n",
    "    optuna_search.fit(X_train, y_train)\n",
    "    \n",
    "    scores_hist = optuna_search.study_.trials_dataframe()['user_attrs_mean_test_score'].to_numpy()\n",
    "    test_score = -log_loss(y_test, optuna_search.predict_proba(X_test))\n",
    "    \n",
    "    optuna_scores_hist.append(scores_hist)\n",
    "    optuna_best_scores.append(optuna_search.best_score_)\n",
    "    optuna_test_scores.append(test_score)\n",
    "    print(f'Iteration: {i}')"
   ]
  },
  {
   "cell_type": "code",
   "execution_count": 183,
   "id": "80s8BgAEyB4B",
   "metadata": {
    "colab": {
     "base_uri": "https://localhost:8080/"
    },
    "id": "80s8BgAEyB4B",
    "outputId": "4cbb730f-2b8e-46cd-eaf1-060c5ba3a214"
   },
   "outputs": [
    {
     "data": {
      "text/plain": [
       "[-1.0008530943948613,\n",
       " -1.0631271868761303,\n",
       " -1.0162087813894052,\n",
       " -1.0929332656475368,\n",
       " -1.009720581118006]"
      ]
     },
     "execution_count": 183,
     "metadata": {},
     "output_type": "execute_result"
    }
   ],
   "source": [
    "optuna_best_scores"
   ]
  },
  {
   "cell_type": "markdown",
   "id": "3e59a157",
   "metadata": {
    "id": "3e59a157"
   },
   "source": [
    "### Random Search"
   ]
  },
  {
   "cell_type": "code",
   "execution_count": 184,
   "id": "7e06e26f",
   "metadata": {
    "id": "7e06e26f"
   },
   "outputs": [],
   "source": [
    "params_distr = {'n_estimators': D.IntUniformDistribution(50, 300), \n",
    "                'max_depth': D.IntUniformDistribution(3, 10), \n",
    "                'learning_rate': D.UniformDistribution(0.01, 1), \n",
    "                'boosting_type': D.CategoricalDistribution(['gbdt', 'dart', 'goss']), \n",
    "                'num_leaves': D.IntUniformDistribution(20, 50), \n",
    "                'min_child_samples': D.IntUniformDistribution(5, 50),\n",
    "                'colsample_bytree': D.UniformDistribution(0, 1)}"
   ]
  },
  {
   "cell_type": "code",
   "execution_count": 185,
   "id": "4a501baf",
   "metadata": {
    "colab": {
     "base_uri": "https://localhost:8080/"
    },
    "id": "4a501baf",
    "outputId": "f5ccf2f1-6ed1-4089-9ed8-8259eb4a6e9b",
    "scrolled": false
   },
   "outputs": [
    {
     "name": "stdout",
     "output_type": "stream",
     "text": [
      "CPU times: user 2min 34s, sys: 4.1 s, total: 2min 38s\n",
      "Wall time: 1min 25s\n"
     ]
    }
   ],
   "source": [
    "%%time\n",
    "r_search = O.RandomSearchOptimizer(estimator, params_distr, num_runs=40, scoring='neg_log_loss', cv=3)\n",
    "r_search.fit(X_train, y_train)\n",
    "r_search.best_params"
   ]
  },
  {
   "cell_type": "code",
   "execution_count": 186,
   "id": "9V-ABSAOEj3C",
   "metadata": {
    "colab": {
     "base_uri": "https://localhost:8080/"
    },
    "id": "9V-ABSAOEj3C",
    "outputId": "194a2ba0-fd0e-4933-9fe3-37cb6173e83d"
   },
   "outputs": [
    {
     "data": {
      "text/plain": [
       "{'boosting_type': 'dart',\n",
       " 'colsample_bytree': 0.7636554731873668,\n",
       " 'learning_rate': 0.44015081471542494,\n",
       " 'max_depth': 10,\n",
       " 'min_child_samples': 45,\n",
       " 'n_estimators': 112,\n",
       " 'num_leaves': 23}"
      ]
     },
     "execution_count": 186,
     "metadata": {},
     "output_type": "execute_result"
    }
   ],
   "source": [
    "r_search.best_params"
   ]
  },
  {
   "cell_type": "code",
   "execution_count": 187,
   "id": "062506a5",
   "metadata": {
    "id": "062506a5"
   },
   "outputs": [],
   "source": [
    "def train(optimizer):\n",
    "    optimizer_scores_hist = []\n",
    "    optimizer_best_scores = []\n",
    "    optimizer_test_scores = []\n",
    "\n",
    "    for i in range(5):\n",
    "        np.random.seed(i)\n",
    "        optimizer.fit(X_train, y_train)\n",
    "        test_score = -log_loss(y_test, optimizer.predict_proba(X_test))\n",
    "\n",
    "        optimizer_best_scores.append(optimizer.best_score)\n",
    "        optimizer_scores_hist.append(optimizer.scores_history)\n",
    "        optimizer_test_scores.append(test_score)\n",
    "        print(f'Iteration: {i}')\n",
    "        \n",
    "    return optimizer_best_scores, optimizer_scores_hist, optimizer_test_scores"
   ]
  },
  {
   "cell_type": "code",
   "execution_count": 188,
   "id": "ad5a7025",
   "metadata": {
    "id": "ad5a7025"
   },
   "outputs": [],
   "source": [
    "r_search = O.RandomSearchOptimizer(estimator, params_distr, num_runs=40, scoring='neg_log_loss', cv=3)"
   ]
  },
  {
   "cell_type": "code",
   "execution_count": 189,
   "id": "6e3907e2",
   "metadata": {
    "colab": {
     "base_uri": "https://localhost:8080/"
    },
    "id": "6e3907e2",
    "outputId": "3b6495fe-01fb-4f13-fc5d-778d62ad7b3c"
   },
   "outputs": [
    {
     "name": "stdout",
     "output_type": "stream",
     "text": [
      "Iteration: 0\n",
      "Iteration: 1\n",
      "Iteration: 2\n",
      "Iteration: 3\n",
      "Iteration: 4\n",
      "CPU times: user 11min 2s, sys: 21.8 s, total: 11min 24s\n",
      "Wall time: 6min 23s\n"
     ]
    }
   ],
   "source": [
    "%%time\n",
    "rs_best_scores, rs_scores_hist, rs_test_scores = train(r_search)"
   ]
  },
  {
   "cell_type": "code",
   "execution_count": 190,
   "id": "CwZDsNQQ4ckm",
   "metadata": {
    "colab": {
     "base_uri": "https://localhost:8080/"
    },
    "id": "CwZDsNQQ4ckm",
    "outputId": "5de923d8-dc54-45bd-dbae-3e6f7e465704"
   },
   "outputs": [
    {
     "data": {
      "text/plain": [
       "[-1.0125304976002047,\n",
       " -0.9912605655313005,\n",
       " -1.0555161325201405,\n",
       " -0.9918513245545021,\n",
       " -1.0838015346808962]"
      ]
     },
     "execution_count": 190,
     "metadata": {},
     "output_type": "execute_result"
    }
   ],
   "source": [
    "rs_best_scores"
   ]
  },
  {
   "cell_type": "code",
   "execution_count": 191,
   "id": "pcEi6VFXIh8-",
   "metadata": {
    "colab": {
     "base_uri": "https://localhost:8080/"
    },
    "id": "pcEi6VFXIh8-",
    "outputId": "44b33095-6b02-45d4-8a21-0fd65894e83c"
   },
   "outputs": [
    {
     "data": {
      "text/plain": [
       "[-0.9532429369078124,\n",
       " -0.9467327555034266,\n",
       " -1.004036701305991,\n",
       " -0.9908930839100012,\n",
       " -0.9633634579471793]"
      ]
     },
     "execution_count": 191,
     "metadata": {},
     "output_type": "execute_result"
    }
   ],
   "source": [
    "rs_test_scores"
   ]
  },
  {
   "cell_type": "markdown",
   "id": "16a26de5",
   "metadata": {
    "id": "16a26de5"
   },
   "source": [
    "### GP Optimizer"
   ]
  },
  {
   "cell_type": "code",
   "execution_count": 192,
   "id": "568246b2",
   "metadata": {
    "colab": {
     "base_uri": "https://localhost:8080/"
    },
    "id": "568246b2",
    "outputId": "aef4520a-f751-4a0e-9790-9d336d7bd743",
    "scrolled": true
   },
   "outputs": [
    {
     "name": "stdout",
     "output_type": "stream",
     "text": [
      "CPU times: user 6min 58s, sys: 13.5 s, total: 7min 12s\n",
      "Wall time: 4min 4s\n"
     ]
    }
   ],
   "source": [
    "%%time\n",
    "gp_search = O.GPOptimizer(estimator, params_distr, num_runs=40, scoring='neg_log_loss',\n",
    "                        cv=3, num_dry_runs=5, num_samples_per_run=10, random_state=42)\n",
    "gp_search.fit(X_train, y_train)\n",
    "gp_search.best_params"
   ]
  },
  {
   "cell_type": "code",
   "execution_count": 193,
   "id": "RrRsRaUI4mTg",
   "metadata": {
    "colab": {
     "base_uri": "https://localhost:8080/"
    },
    "id": "RrRsRaUI4mTg",
    "outputId": "4451caaa-d70d-4383-b4f8-4978480626dd"
   },
   "outputs": [
    {
     "data": {
      "text/plain": [
       "-1.0175384563594456"
      ]
     },
     "execution_count": 193,
     "metadata": {},
     "output_type": "execute_result"
    }
   ],
   "source": [
    "gp_search.best_score"
   ]
  },
  {
   "cell_type": "code",
   "execution_count": 194,
   "id": "vNjPMeuh4pV_",
   "metadata": {
    "id": "vNjPMeuh4pV_"
   },
   "outputs": [],
   "source": [
    "gp_train = O.GPOptimizer(estimator, params_distr, num_runs=40, scoring='neg_log_loss',\n",
    "                        cv=3, num_dry_runs=5, num_samples_per_run=10)"
   ]
  },
  {
   "cell_type": "code",
   "execution_count": 198,
   "id": "dcDvYaLkNLQh",
   "metadata": {
    "colab": {
     "base_uri": "https://localhost:8080/"
    },
    "id": "dcDvYaLkNLQh",
    "outputId": "68415aa4-dc0e-4173-c227-962d9f943445"
   },
   "outputs": [
    {
     "name": "stdout",
     "output_type": "stream",
     "text": [
      "Iteration: 0\n",
      "Iteration: 1\n",
      "Iteration: 2\n",
      "Iteration: 3\n",
      "Iteration: 4\n"
     ]
    }
   ],
   "source": [
    "gp_best_scores, gp_scores_hist, gp_test_scores = train(gp_train)"
   ]
  },
  {
   "cell_type": "code",
   "execution_count": 196,
   "id": "bce91557",
   "metadata": {
    "colab": {
     "base_uri": "https://localhost:8080/"
    },
    "id": "bce91557",
    "outputId": "9aa9bb19-1309-4fae-ec79-95bf911400da"
   },
   "outputs": [
    {
     "data": {
      "text/plain": [
       "[-1.0414515706357517,\n",
       " -1.0230739130492454,\n",
       " -1.2252120433594715,\n",
       " -1.0385860680209182,\n",
       " -1.0503943260590531]"
      ]
     },
     "execution_count": 196,
     "metadata": {},
     "output_type": "execute_result"
    }
   ],
   "source": [
    "gp_best_scores"
   ]
  },
  {
   "cell_type": "markdown",
   "id": "51da3190",
   "metadata": {
    "id": "51da3190"
   },
   "source": [
    "### TPE Optimizer"
   ]
  },
  {
   "cell_type": "code",
   "execution_count": 211,
   "id": "e6c3c188",
   "metadata": {
    "colab": {
     "base_uri": "https://localhost:8080/"
    },
    "id": "e6c3c188",
    "outputId": "c2a56f45-a9ea-40e9-8bce-6bc7d60050b4"
   },
   "outputs": [
    {
     "data": {
      "text/plain": [
       "{'boosting_type': 'dart',\n",
       " 'colsample_bytree': 0.6032194102133722,\n",
       " 'learning_rate': 0.24450185338473723,\n",
       " 'max_depth': 8,\n",
       " 'min_child_samples': 11,\n",
       " 'n_estimators': 169,\n",
       " 'num_leaves': 47}"
      ]
     },
     "execution_count": 211,
     "metadata": {},
     "output_type": "execute_result"
    }
   ],
   "source": [
    "tpe_search = O.TPEOptimizer(estimator, params_distr, num_runs=40, scoring='neg_log_loss',\n",
    "                            cv=3, num_dry_runs=5, num_samples_per_run=10, random_state=42)\n",
    "tpe_search.fit(X_train, y_train)\n",
    "tpe_search.best_params"
   ]
  },
  {
   "cell_type": "code",
   "execution_count": 212,
   "id": "U3EBancc4zvF",
   "metadata": {
    "colab": {
     "base_uri": "https://localhost:8080/"
    },
    "id": "U3EBancc4zvF",
    "outputId": "ca052e17-d8e1-4da6-f3d7-207c1171bb27"
   },
   "outputs": [
    {
     "data": {
      "text/plain": [
       "-0.9872866931848528"
      ]
     },
     "execution_count": 212,
     "metadata": {},
     "output_type": "execute_result"
    }
   ],
   "source": [
    "tpe_search.best_score"
   ]
  },
  {
   "cell_type": "code",
   "execution_count": 213,
   "id": "q2J_WWwA426R",
   "metadata": {
    "id": "q2J_WWwA426R"
   },
   "outputs": [],
   "source": [
    "tpe_train = O.TPEOptimizer(estimator, params_distr, num_runs=40, scoring='neg_log_loss',\n",
    "                            cv=3, num_dry_runs=5, num_samples_per_run=10)"
   ]
  },
  {
   "cell_type": "code",
   "execution_count": 215,
   "id": "ctYV6Z2yNeRA",
   "metadata": {
    "colab": {
     "base_uri": "https://localhost:8080/"
    },
    "id": "ctYV6Z2yNeRA",
    "outputId": "1936b840-c50c-4acc-dfc8-955ab97fcf10"
   },
   "outputs": [
    {
     "name": "stdout",
     "output_type": "stream",
     "text": [
      "Iteration: 0\n",
      "Iteration: 1\n",
      "Iteration: 2\n",
      "Iteration: 3\n",
      "Iteration: 4\n"
     ]
    }
   ],
   "source": [
    "tpe_best_scores, tpe_scores_hist, tpe_test_scores = train(tpe_train)"
   ]
  },
  {
   "cell_type": "code",
   "execution_count": 216,
   "id": "aYcufAnd5CeE",
   "metadata": {
    "colab": {
     "base_uri": "https://localhost:8080/"
    },
    "id": "aYcufAnd5CeE",
    "outputId": "6b58a910-2e89-4236-a0f5-7f7499032d8c"
   },
   "outputs": [
    {
     "data": {
      "text/plain": [
       "[-1.0338375516314204,\n",
       " -1.060322971277242,\n",
       " -1.0360337105260027,\n",
       " -1.0703767538538183,\n",
       " -1.0101210475895868]"
      ]
     },
     "execution_count": 216,
     "metadata": {},
     "output_type": "execute_result"
    }
   ],
   "source": [
    "tpe_best_scores"
   ]
  },
  {
   "cell_type": "code",
   "execution_count": 217,
   "id": "a3d419e4",
   "metadata": {
    "colab": {
     "base_uri": "https://localhost:8080/",
     "height": 206
    },
    "id": "a3d419e4",
    "outputId": "82800fa7-d2d1-495a-e351-6461585c3383"
   },
   "outputs": [
    {
     "data": {
      "text/html": [
       "\n",
       "  <div id=\"df-a0884f37-89f3-48d8-9cdd-886635325a28\">\n",
       "    <div class=\"colab-df-container\">\n",
       "      <div>\n",
       "<style scoped>\n",
       "    .dataframe tbody tr th:only-of-type {\n",
       "        vertical-align: middle;\n",
       "    }\n",
       "\n",
       "    .dataframe tbody tr th {\n",
       "        vertical-align: top;\n",
       "    }\n",
       "\n",
       "    .dataframe thead th {\n",
       "        text-align: right;\n",
       "    }\n",
       "</style>\n",
       "<table border=\"1\" class=\"dataframe\">\n",
       "  <thead>\n",
       "    <tr style=\"text-align: right;\">\n",
       "      <th></th>\n",
       "      <th>Optuna Search</th>\n",
       "      <th>Random Search</th>\n",
       "      <th>GP Optimizer</th>\n",
       "      <th>TPE Optimizer</th>\n",
       "    </tr>\n",
       "  </thead>\n",
       "  <tbody>\n",
       "    <tr>\n",
       "      <th>0</th>\n",
       "      <td>-1.000853</td>\n",
       "      <td>-1.012530</td>\n",
       "      <td>-1.041452</td>\n",
       "      <td>-1.033838</td>\n",
       "    </tr>\n",
       "    <tr>\n",
       "      <th>1</th>\n",
       "      <td>-1.063127</td>\n",
       "      <td>-0.991261</td>\n",
       "      <td>-1.023074</td>\n",
       "      <td>-1.060323</td>\n",
       "    </tr>\n",
       "    <tr>\n",
       "      <th>2</th>\n",
       "      <td>-1.016209</td>\n",
       "      <td>-1.055516</td>\n",
       "      <td>-1.225212</td>\n",
       "      <td>-1.036034</td>\n",
       "    </tr>\n",
       "    <tr>\n",
       "      <th>3</th>\n",
       "      <td>-1.092933</td>\n",
       "      <td>-0.991851</td>\n",
       "      <td>-1.038586</td>\n",
       "      <td>-1.070377</td>\n",
       "    </tr>\n",
       "    <tr>\n",
       "      <th>4</th>\n",
       "      <td>-1.009721</td>\n",
       "      <td>-1.083802</td>\n",
       "      <td>-1.050394</td>\n",
       "      <td>-1.010121</td>\n",
       "    </tr>\n",
       "  </tbody>\n",
       "</table>\n",
       "</div>\n",
       "      <button class=\"colab-df-convert\" onclick=\"convertToInteractive('df-a0884f37-89f3-48d8-9cdd-886635325a28')\"\n",
       "              title=\"Convert this dataframe to an interactive table.\"\n",
       "              style=\"display:none;\">\n",
       "        \n",
       "  <svg xmlns=\"http://www.w3.org/2000/svg\" height=\"24px\"viewBox=\"0 0 24 24\"\n",
       "       width=\"24px\">\n",
       "    <path d=\"M0 0h24v24H0V0z\" fill=\"none\"/>\n",
       "    <path d=\"M18.56 5.44l.94 2.06.94-2.06 2.06-.94-2.06-.94-.94-2.06-.94 2.06-2.06.94zm-11 1L8.5 8.5l.94-2.06 2.06-.94-2.06-.94L8.5 2.5l-.94 2.06-2.06.94zm10 10l.94 2.06.94-2.06 2.06-.94-2.06-.94-.94-2.06-.94 2.06-2.06.94z\"/><path d=\"M17.41 7.96l-1.37-1.37c-.4-.4-.92-.59-1.43-.59-.52 0-1.04.2-1.43.59L10.3 9.45l-7.72 7.72c-.78.78-.78 2.05 0 2.83L4 21.41c.39.39.9.59 1.41.59.51 0 1.02-.2 1.41-.59l7.78-7.78 2.81-2.81c.8-.78.8-2.07 0-2.86zM5.41 20L4 18.59l7.72-7.72 1.47 1.35L5.41 20z\"/>\n",
       "  </svg>\n",
       "      </button>\n",
       "      \n",
       "  <style>\n",
       "    .colab-df-container {\n",
       "      display:flex;\n",
       "      flex-wrap:wrap;\n",
       "      gap: 12px;\n",
       "    }\n",
       "\n",
       "    .colab-df-convert {\n",
       "      background-color: #E8F0FE;\n",
       "      border: none;\n",
       "      border-radius: 50%;\n",
       "      cursor: pointer;\n",
       "      display: none;\n",
       "      fill: #1967D2;\n",
       "      height: 32px;\n",
       "      padding: 0 0 0 0;\n",
       "      width: 32px;\n",
       "    }\n",
       "\n",
       "    .colab-df-convert:hover {\n",
       "      background-color: #E2EBFA;\n",
       "      box-shadow: 0px 1px 2px rgba(60, 64, 67, 0.3), 0px 1px 3px 1px rgba(60, 64, 67, 0.15);\n",
       "      fill: #174EA6;\n",
       "    }\n",
       "\n",
       "    [theme=dark] .colab-df-convert {\n",
       "      background-color: #3B4455;\n",
       "      fill: #D2E3FC;\n",
       "    }\n",
       "\n",
       "    [theme=dark] .colab-df-convert:hover {\n",
       "      background-color: #434B5C;\n",
       "      box-shadow: 0px 1px 3px 1px rgba(0, 0, 0, 0.15);\n",
       "      filter: drop-shadow(0px 1px 2px rgba(0, 0, 0, 0.3));\n",
       "      fill: #FFFFFF;\n",
       "    }\n",
       "  </style>\n",
       "\n",
       "      <script>\n",
       "        const buttonEl =\n",
       "          document.querySelector('#df-a0884f37-89f3-48d8-9cdd-886635325a28 button.colab-df-convert');\n",
       "        buttonEl.style.display =\n",
       "          google.colab.kernel.accessAllowed ? 'block' : 'none';\n",
       "\n",
       "        async function convertToInteractive(key) {\n",
       "          const element = document.querySelector('#df-a0884f37-89f3-48d8-9cdd-886635325a28');\n",
       "          const dataTable =\n",
       "            await google.colab.kernel.invokeFunction('convertToInteractive',\n",
       "                                                     [key], {});\n",
       "          if (!dataTable) return;\n",
       "\n",
       "          const docLinkHtml = 'Like what you see? Visit the ' +\n",
       "            '<a target=\"_blank\" href=https://colab.research.google.com/notebooks/data_table.ipynb>data table notebook</a>'\n",
       "            + ' to learn more about interactive tables.';\n",
       "          element.innerHTML = '';\n",
       "          dataTable['output_type'] = 'display_data';\n",
       "          await google.colab.output.renderOutput(dataTable, element);\n",
       "          const docLink = document.createElement('div');\n",
       "          docLink.innerHTML = docLinkHtml;\n",
       "          element.appendChild(docLink);\n",
       "        }\n",
       "      </script>\n",
       "    </div>\n",
       "  </div>\n",
       "  "
      ],
      "text/plain": [
       "   Optuna Search  Random Search  GP Optimizer  TPE Optimizer\n",
       "0      -1.000853      -1.012530     -1.041452      -1.033838\n",
       "1      -1.063127      -0.991261     -1.023074      -1.060323\n",
       "2      -1.016209      -1.055516     -1.225212      -1.036034\n",
       "3      -1.092933      -0.991851     -1.038586      -1.070377\n",
       "4      -1.009721      -1.083802     -1.050394      -1.010121"
      ]
     },
     "execution_count": 217,
     "metadata": {},
     "output_type": "execute_result"
    }
   ],
   "source": [
    "df_results = pd.DataFrame({'Optuna Search': optuna_best_scores,\n",
    "                           'Random Search': rs_best_scores,\n",
    "                           'GP Optimizer': gp_best_scores,\n",
    "                           'TPE Optimizer': tpe_best_scores})\n",
    "df_results"
   ]
  },
  {
   "cell_type": "code",
   "execution_count": 218,
   "id": "xnyXaaejHJ5M",
   "metadata": {
    "colab": {
     "base_uri": "https://localhost:8080/",
     "height": 206
    },
    "id": "xnyXaaejHJ5M",
    "outputId": "91d09a19-9d82-4a30-bd72-1635c85e97ed"
   },
   "outputs": [
    {
     "data": {
      "text/html": [
       "\n",
       "  <div id=\"df-b2a5960f-a20c-40d2-8264-e19ec26933a5\">\n",
       "    <div class=\"colab-df-container\">\n",
       "      <div>\n",
       "<style scoped>\n",
       "    .dataframe tbody tr th:only-of-type {\n",
       "        vertical-align: middle;\n",
       "    }\n",
       "\n",
       "    .dataframe tbody tr th {\n",
       "        vertical-align: top;\n",
       "    }\n",
       "\n",
       "    .dataframe thead th {\n",
       "        text-align: right;\n",
       "    }\n",
       "</style>\n",
       "<table border=\"1\" class=\"dataframe\">\n",
       "  <thead>\n",
       "    <tr style=\"text-align: right;\">\n",
       "      <th></th>\n",
       "      <th>Optuna Search</th>\n",
       "      <th>Random Search</th>\n",
       "      <th>GP Optimizer</th>\n",
       "      <th>TPE Optimizer</th>\n",
       "    </tr>\n",
       "  </thead>\n",
       "  <tbody>\n",
       "    <tr>\n",
       "      <th>0</th>\n",
       "      <td>-0.974612</td>\n",
       "      <td>-0.953243</td>\n",
       "      <td>-0.962825</td>\n",
       "      <td>-0.969089</td>\n",
       "    </tr>\n",
       "    <tr>\n",
       "      <th>1</th>\n",
       "      <td>-1.053464</td>\n",
       "      <td>-0.946733</td>\n",
       "      <td>-0.974854</td>\n",
       "      <td>-1.045332</td>\n",
       "    </tr>\n",
       "    <tr>\n",
       "      <th>2</th>\n",
       "      <td>-1.003289</td>\n",
       "      <td>-1.004037</td>\n",
       "      <td>-1.236336</td>\n",
       "      <td>-1.045070</td>\n",
       "    </tr>\n",
       "    <tr>\n",
       "      <th>3</th>\n",
       "      <td>-1.022992</td>\n",
       "      <td>-0.990893</td>\n",
       "      <td>-1.013074</td>\n",
       "      <td>-1.039951</td>\n",
       "    </tr>\n",
       "    <tr>\n",
       "      <th>4</th>\n",
       "      <td>-0.953572</td>\n",
       "      <td>-0.963363</td>\n",
       "      <td>-0.938328</td>\n",
       "      <td>-0.983205</td>\n",
       "    </tr>\n",
       "  </tbody>\n",
       "</table>\n",
       "</div>\n",
       "      <button class=\"colab-df-convert\" onclick=\"convertToInteractive('df-b2a5960f-a20c-40d2-8264-e19ec26933a5')\"\n",
       "              title=\"Convert this dataframe to an interactive table.\"\n",
       "              style=\"display:none;\">\n",
       "        \n",
       "  <svg xmlns=\"http://www.w3.org/2000/svg\" height=\"24px\"viewBox=\"0 0 24 24\"\n",
       "       width=\"24px\">\n",
       "    <path d=\"M0 0h24v24H0V0z\" fill=\"none\"/>\n",
       "    <path d=\"M18.56 5.44l.94 2.06.94-2.06 2.06-.94-2.06-.94-.94-2.06-.94 2.06-2.06.94zm-11 1L8.5 8.5l.94-2.06 2.06-.94-2.06-.94L8.5 2.5l-.94 2.06-2.06.94zm10 10l.94 2.06.94-2.06 2.06-.94-2.06-.94-.94-2.06-.94 2.06-2.06.94z\"/><path d=\"M17.41 7.96l-1.37-1.37c-.4-.4-.92-.59-1.43-.59-.52 0-1.04.2-1.43.59L10.3 9.45l-7.72 7.72c-.78.78-.78 2.05 0 2.83L4 21.41c.39.39.9.59 1.41.59.51 0 1.02-.2 1.41-.59l7.78-7.78 2.81-2.81c.8-.78.8-2.07 0-2.86zM5.41 20L4 18.59l7.72-7.72 1.47 1.35L5.41 20z\"/>\n",
       "  </svg>\n",
       "      </button>\n",
       "      \n",
       "  <style>\n",
       "    .colab-df-container {\n",
       "      display:flex;\n",
       "      flex-wrap:wrap;\n",
       "      gap: 12px;\n",
       "    }\n",
       "\n",
       "    .colab-df-convert {\n",
       "      background-color: #E8F0FE;\n",
       "      border: none;\n",
       "      border-radius: 50%;\n",
       "      cursor: pointer;\n",
       "      display: none;\n",
       "      fill: #1967D2;\n",
       "      height: 32px;\n",
       "      padding: 0 0 0 0;\n",
       "      width: 32px;\n",
       "    }\n",
       "\n",
       "    .colab-df-convert:hover {\n",
       "      background-color: #E2EBFA;\n",
       "      box-shadow: 0px 1px 2px rgba(60, 64, 67, 0.3), 0px 1px 3px 1px rgba(60, 64, 67, 0.15);\n",
       "      fill: #174EA6;\n",
       "    }\n",
       "\n",
       "    [theme=dark] .colab-df-convert {\n",
       "      background-color: #3B4455;\n",
       "      fill: #D2E3FC;\n",
       "    }\n",
       "\n",
       "    [theme=dark] .colab-df-convert:hover {\n",
       "      background-color: #434B5C;\n",
       "      box-shadow: 0px 1px 3px 1px rgba(0, 0, 0, 0.15);\n",
       "      filter: drop-shadow(0px 1px 2px rgba(0, 0, 0, 0.3));\n",
       "      fill: #FFFFFF;\n",
       "    }\n",
       "  </style>\n",
       "\n",
       "      <script>\n",
       "        const buttonEl =\n",
       "          document.querySelector('#df-b2a5960f-a20c-40d2-8264-e19ec26933a5 button.colab-df-convert');\n",
       "        buttonEl.style.display =\n",
       "          google.colab.kernel.accessAllowed ? 'block' : 'none';\n",
       "\n",
       "        async function convertToInteractive(key) {\n",
       "          const element = document.querySelector('#df-b2a5960f-a20c-40d2-8264-e19ec26933a5');\n",
       "          const dataTable =\n",
       "            await google.colab.kernel.invokeFunction('convertToInteractive',\n",
       "                                                     [key], {});\n",
       "          if (!dataTable) return;\n",
       "\n",
       "          const docLinkHtml = 'Like what you see? Visit the ' +\n",
       "            '<a target=\"_blank\" href=https://colab.research.google.com/notebooks/data_table.ipynb>data table notebook</a>'\n",
       "            + ' to learn more about interactive tables.';\n",
       "          element.innerHTML = '';\n",
       "          dataTable['output_type'] = 'display_data';\n",
       "          await google.colab.output.renderOutput(dataTable, element);\n",
       "          const docLink = document.createElement('div');\n",
       "          docLink.innerHTML = docLinkHtml;\n",
       "          element.appendChild(docLink);\n",
       "        }\n",
       "      </script>\n",
       "    </div>\n",
       "  </div>\n",
       "  "
      ],
      "text/plain": [
       "   Optuna Search  Random Search  GP Optimizer  TPE Optimizer\n",
       "0      -0.974612      -0.953243     -0.962825      -0.969089\n",
       "1      -1.053464      -0.946733     -0.974854      -1.045332\n",
       "2      -1.003289      -1.004037     -1.236336      -1.045070\n",
       "3      -1.022992      -0.990893     -1.013074      -1.039951\n",
       "4      -0.953572      -0.963363     -0.938328      -0.983205"
      ]
     },
     "execution_count": 218,
     "metadata": {},
     "output_type": "execute_result"
    }
   ],
   "source": [
    "df_test = pd.DataFrame({'Optuna Search': optuna_test_scores,\n",
    "                        'Random Search': rs_test_scores,\n",
    "                        'GP Optimizer': gp_test_scores,\n",
    "                        'TPE Optimizer': tpe_test_scores})\n",
    "df_test"
   ]
  },
  {
   "cell_type": "code",
   "execution_count": 221,
   "id": "mVv-d9ag5JHl",
   "metadata": {
    "id": "mVv-d9ag5JHl"
   },
   "outputs": [],
   "source": [
    "df_history = pd.DataFrame({'Optuna Search history': optuna_scores_hist,\n",
    "                           'Random Search history': rs_scores_hist,\n",
    "                           'GP Optimizer history': gp_scores_hist,\n",
    "                           'TPE Optimizer history': tpe_scores_hist})"
   ]
  },
  {
   "cell_type": "code",
   "execution_count": 220,
   "id": "b0a165ff",
   "metadata": {
    "colab": {
     "base_uri": "https://localhost:8080/"
    },
    "id": "b0a165ff",
    "outputId": "15f6dd2d-986e-49e9-d117-32f39abc0e52"
   },
   "outputs": [
    {
     "data": {
      "text/plain": [
       "Index(['Optuna Search', 'Random Search', 'GP Optimizer', 'TPE Optimizer'], dtype='object')"
      ]
     },
     "execution_count": 220,
     "metadata": {},
     "output_type": "execute_result"
    }
   ],
   "source": [
    "df_results.columns"
   ]
  },
  {
   "cell_type": "markdown",
   "id": "desperate-float",
   "metadata": {
    "id": "desperate-float"
   },
   "source": [
    "Теперь попробуем визуализировать, что у нас получилось. Сделайте 4 сабплота, по одному на каждую стратегию поиска. На каждом графике изобразите лучшее найденное значение метрики, усредненное по запускам алгоритма, против номера итерации. Также нарисуйте область ± одного стандартного отклонения лучшего значения метрики. Кроме того, на том же графике сделайте scatter-plot **(номер итерации, значение метрики)** для этого запуска (именно для текущего набора гиперпараметра с итерации, а не лучшее, как для прошлого графика). Можете рисовать scatter-plot для всех повторных запусков сразу.\n",
    "\n",
    "Прокомментируйте наблюдаемое. Какой(-ие) алгоритм(-ы) показали себя лучше всего? Какой(-ие) можно назвать более стабильным(-и)?"
   ]
  },
  {
   "cell_type": "code",
   "execution_count": 222,
   "id": "b9d86e42",
   "metadata": {
    "id": "b9d86e42"
   },
   "outputs": [],
   "source": [
    "import matplotlib.pyplot as plt"
   ]
  },
  {
   "cell_type": "code",
   "execution_count": 233,
   "id": "N3d2fZQaUmVw",
   "metadata": {
    "colab": {
     "base_uri": "https://localhost:8080/",
     "height": 621
    },
    "id": "N3d2fZQaUmVw",
    "outputId": "3a6b7afb-2a1c-4459-e39c-bc388b7cd45c"
   },
   "outputs": [
    {
     "data": {
      "image/png": "[encoded data removed]",
      "text/plain": [
       "<Figure size 1440x720 with 4 Axes>"
      ]
     },
     "metadata": {
      "needs_background": "light"
     },
     "output_type": "display_data"
    }
   ],
   "source": [
    "fig, axes = plt.subplots(2,2, figsize = (20, 10), sharey=True)\n",
    "\n",
    "for model, ax in zip(df_results.columns, axes.flatten()):\n",
    "    name = f'{model}'\n",
    "    ax.set_title(name)\n",
    "\n",
    "    ax.plot(np.arange(5), df_results[name])\n",
    "    ax.fill_between(np.arange(5), \n",
    "                    (df_results[name] - df_results[name].std()), \n",
    "                    (df_results[name] + df_results[name].std()), color='b', alpha=.1)\n",
    "        \n",
    "    ax.set_xlabel('Iterations')\n",
    "    ax.set_ylabel('Score')\n",
    "    ax.grid()"
   ]
  },
  {
   "cell_type": "code",
   "execution_count": 247,
   "id": "racial-ghana",
   "metadata": {
    "colab": {
     "base_uri": "https://localhost:8080/",
     "height": 621
    },
    "id": "racial-ghana",
    "outputId": "28f94012-2ab2-42fb-b1bd-696c81d2951d"
   },
   "outputs": [
    {
     "data": {
      "image/png": "[encoded data removed]",
      "text/plain": [
       "<Figure size 1440x720 with 4 Axes>"
      ]
     },
     "metadata": {
      "needs_background": "light"
     },
     "output_type": "display_data"
    }
   ],
   "source": [
    "fig, axes = plt.subplots(2,2, figsize = (20, 10), sharey=True)\n",
    "\n",
    "for model, ax in zip(df_results.columns, axes.flatten()):\n",
    "    name = f'{model}'\n",
    "    ax.set_title(name)\n",
    "\n",
    "    ax.plot(np.arange(5), df_results[name])\n",
    "    ax.fill_between(np.arange(5), \n",
    "                    (df_results[name] - df_results[name].std()), \n",
    "                    (df_results[name] + df_results[name].std()), color='b', alpha=.1)\n",
    "    for i in range(5):\n",
    "        ax.scatter(x=np.array([i]*len(df_history[name + ' history'][i])), \n",
    "                   y=df_history[name + ' history'][i], color = 'm')\n",
    "        \n",
    "    ax.set_xlabel('Iterations')\n",
    "    ax.set_ylabel('Score')\n",
    "    ax.grid()"
   ]
  },
  {
   "cell_type": "markdown",
   "id": "QmS7jTpIKh7t",
   "metadata": {
    "id": "QmS7jTpIKh7t"
   },
   "source": [
    "> Наиболее стабильным получился TPE Optimizer и Optuna Search, который как раз таки основан на идее TPE Optimizer. Наша реализация TPE Optimizer показала схожий score по лучшей модели. GP Optimizer справился хуже с наибольшим разбросом.\n",
    "При добавлении истории score графики становятся похожими из-за большого разброса значений в истории и доверительные интервалы почти не видны."
   ]
  },
  {
   "cell_type": "markdown",
   "id": "pending-notion",
   "metadata": {
    "id": "pending-notion"
   },
   "source": [
    "**Задание 2.3 (1.5 балла).** Теперь посмотрим на распределение $p(y|x)$, которое получилось у `GPOptimizer`. Рассмотрим плоскость значений гиперпараметров числа деревьев и learning rate. Настройте ГП на выборку истории значений этих двух гиперпараметров одного из `GPOptimizer`, обученных вами выше. Ядро возьмите такое же, какое использовалось при поиске. Визуализируйте среднее, которое предсказывает ГП на плоскости (вам поможет `plt.imshow` или `plt.scatter`). Также добавьте на рисунок точки из истории поиска. Не забудьте про colorbar'ы и правильные подписи отметок на осях. Сделайте выводы. "
   ]
  },
  {
   "cell_type": "code",
   "execution_count": 250,
   "id": "95r0VtxEMVKI",
   "metadata": {
    "id": "95r0VtxEMVKI"
   },
   "outputs": [],
   "source": [
    "from sklearn.gaussian_process.kernels import ConstantKernel, WhiteKernel, RBF\n",
    "from sklearn.gaussian_process import GaussianProcessRegressor"
   ]
  },
  {
   "cell_type": "code",
   "execution_count": 264,
   "id": "greek-exclusion",
   "metadata": {
    "id": "greek-exclusion"
   },
   "outputs": [],
   "source": [
    "distr = gp_search.param_distributions['n_estimators']\n",
    "n_estimators = distr.scale(gp_search.params_history['n_estimators'])\n",
    "learning_rate = gp_search.params_history['learning_rate']\n",
    "\n",
    "X_num = np.vstack([n_estimators, learning_rate]).T"
   ]
  },
  {
   "cell_type": "code",
   "execution_count": 275,
   "id": "c_Ohl8mqXu6-",
   "metadata": {
    "colab": {
     "base_uri": "https://localhost:8080/"
    },
    "id": "c_Ohl8mqXu6-",
    "outputId": "0ec57be7-52d0-41d5-c361-b4912fba26ce"
   },
   "outputs": [
    {
     "data": {
      "text/plain": [
       "((40, 2), (40,))"
      ]
     },
     "execution_count": 275,
     "metadata": {},
     "output_type": "execute_result"
    }
   ],
   "source": [
    "X_num.shape, gp_search.scores_history.shape"
   ]
  },
  {
   "cell_type": "code",
   "execution_count": 273,
   "id": "uCz21v6bMWxT",
   "metadata": {
    "id": "uCz21v6bMWxT"
   },
   "outputs": [],
   "source": [
    "kernel = ConstantKernel() + WhiteKernel() + RBF()\n",
    "\n",
    "gpr = GaussianProcessRegressor(kernel)\n",
    "gpr.fit(X_num, gp_search.scores_history)\n",
    "mu, sigma = gpr.predict(X_num, return_std=True)"
   ]
  },
  {
   "cell_type": "code",
   "execution_count": 293,
   "id": "FO6xQZ4ZMWoM",
   "metadata": {
    "colab": {
     "base_uri": "https://localhost:8080/",
     "height": 621
    },
    "id": "FO6xQZ4ZMWoM",
    "outputId": "55ff6163-dc45-42ef-f124-7d1985ede0f1"
   },
   "outputs": [
    {
     "data": {
      "image/png": "[encoded data removed]",
      "text/plain": [
       "<Figure size 1080x720 with 1 Axes>"
      ]
     },
     "metadata": {
      "needs_background": "light"
     },
     "output_type": "display_data"
    }
   ],
   "source": [
    "plt.figure(figsize = (15, 10))\n",
    "plt.plot(mu, color = 'b', label='Gaussian Process')\n",
    "plt.scatter(x=np.arange(len(mu)), y=gp_search.scores_history, color = 'r', label='History')\n",
    "plt.fill_between(np.arange(len(mu)), \n",
    "                 (mu - sigma), \n",
    "                 (mu + sigma), color='b', alpha=.1)\n",
    "\n",
    "plt.title('GPR score predict vs History score')\n",
    "plt.xlabel('Iterations')\n",
    "plt.ylabel('Score')\n",
    "plt.legend()\n",
    "plt.grid();"
   ]
  },
  {
   "cell_type": "markdown",
   "id": "ztxv1vouTIy6",
   "metadata": {
    "id": "ztxv1vouTIy6"
   },
   "source": [
    "> GPOptimizer неплохо оценивает скоры, почти все точки попадают в доверительный интервал для скоров из истории."
   ]
  },
  {
   "cell_type": "code",
   "execution_count": null,
   "id": "qlzaJ5ioMV7p",
   "metadata": {
    "id": "qlzaJ5ioMV7p"
   },
   "outputs": [],
   "source": []
  },
  {
   "cell_type": "markdown",
   "id": "ambient-parade",
   "metadata": {
    "id": "ambient-parade"
   },
   "source": [
    "**Задание 2.4 (1.5 балла)**. Аналогичным образом визуализируйте значения $\\log g(x)$ и $\\log l(x)$ на той же плоскости для `TPEOptimizer`. Параметр `bandwidth` оценивайте так же, как и в алгоритме поиска. Не забудьте добавить на рисунок точки из истории поиска (каждую из двух групп поместите на свой график). Что можно сказать о получившихся распределениях?"
   ]
  },
  {
   "cell_type": "code",
   "execution_count": 300,
   "id": "u4GDfEQNfSbR",
   "metadata": {
    "id": "u4GDfEQNfSbR"
   },
   "outputs": [],
   "source": [
    "from sklearn.neighbors import KernelDensity, NearestNeighbors"
   ]
  },
  {
   "cell_type": "code",
   "execution_count": null,
   "id": "YJLZy9wwTWcd",
   "metadata": {
    "id": "YJLZy9wwTWcd"
   },
   "outputs": [],
   "source": [
    "distr = tpe_search.param_distributions['n_estimators']\n",
    "n_estimators = distr.scale(tpe_search.params_history['n_estimators'])\n",
    "learning_rate = tpe_search.params_history['learning_rate']\n",
    "\n",
    "X_num = np.vstack((n_estimators, learning_rate)).T"
   ]
  },
  {
   "cell_type": "code",
   "execution_count": 302,
   "id": "VKDzcIANfQiR",
   "metadata": {
    "colab": {
     "base_uri": "https://localhost:8080/"
    },
    "id": "VKDzcIANfQiR",
    "outputId": "034d7ce3-6f89-44bf-a6e0-763ea0ca88f2"
   },
   "outputs": [
    {
     "data": {
      "text/plain": [
       "0.06979827845632458"
      ]
     },
     "execution_count": 302,
     "metadata": {},
     "output_type": "execute_result"
    }
   ],
   "source": [
    "nn = NearestNeighbors(n_neighbors=1).fit(X_num)\n",
    "bandwidth = np.median(nn.kneighbors()[0])"
   ]
  },
  {
   "cell_type": "code",
   "execution_count": 305,
   "id": "u2AwRIQ_TWXo",
   "metadata": {
    "id": "u2AwRIQ_TWXo"
   },
   "outputs": [],
   "source": [
    "kde = KernelDensity(bandwidth=bandwidth)\n",
    "\n",
    "q = np.quantile(tpe_search.scores_history, tpe_search.gamma)\n",
    "X_g = X_num[tpe_search.scores_history >= q]\n",
    "X_l = X_num[tpe_search.scores_history < q]"
   ]
  },
  {
   "cell_type": "code",
   "execution_count": 312,
   "id": "SEitmGonTWS2",
   "metadata": {
    "id": "SEitmGonTWS2"
   },
   "outputs": [],
   "source": [
    "kde = KernelDensity(bandwidth=bandwidth)\n",
    "kde = kde.fit(X_l)\n",
    "log_kde_l = kde.score_samples(X_l)\n",
    "\n",
    "kde = KernelDensity(bandwidth=bandwidth)\n",
    "kde = kde.fit(X_g)\n",
    "log_kde_g = kde.score_samples(X_g)"
   ]
  },
  {
   "cell_type": "code",
   "execution_count": 313,
   "id": "86dbVkQFTWLT",
   "metadata": {
    "id": "86dbVkQFTWLT"
   },
   "outputs": [],
   "source": [
    "y_l = np.where(tpe_search.scores_history < q )\n",
    "y_g = np.where(tpe_search.scores_history >= q )"
   ]
  },
  {
   "cell_type": "code",
   "execution_count": 318,
   "id": "086UcX1ITWIq",
   "metadata": {
    "colab": {
     "base_uri": "https://localhost:8080/",
     "height": 621
    },
    "id": "086UcX1ITWIq",
    "outputId": "b716936e-fabd-4020-f85d-b6288f7f37e1"
   },
   "outputs": [
    {
     "data": {
      "image/png": "[encoded data removed]",
      "text/plain": [
       "<Figure size 1080x720 with 1 Axes>"
      ]
     },
     "metadata": {
      "needs_background": "light"
     },
     "output_type": "display_data"
    }
   ],
   "source": [
    "fig, ax = plt.subplots(figsize = (15,10))\n",
    "score_history = tpe_search.scores_history\n",
    "\n",
    "plt.scatter(x=y_l, y=log_kde_l, label='log_kde_l')\n",
    "plt.scatter(x=y_g, y=log_kde_g, label='log_kde_g')\n",
    "plt.scatter(x=range(len(score_history)), y=score_history, label='History scores')\n",
    "\n",
    "plt.title('Density estimations of log_l(x), log_g(x) and History scores')\n",
    "plt.xlabel('Iterations')\n",
    "plt.ylabel('Score')\n",
    "plt.legend()\n",
    "plt.grid();"
   ]
  },
  {
   "cell_type": "markdown",
   "id": "t-oj_gHThN86",
   "metadata": {
    "id": "t-oj_gHThN86"
   },
   "source": [
    "> TPE Optimizer также хорошо оценивает распределение, если вспомнить, что \n",
    "\n",
    "\n",
    "$$\n",
    "p(y|x) = \\begin{cases}\n",
    "    \\dfrac{g(x)p(x)}{p(y)},& y \\ge y* \\\\\n",
    "    \\dfrac{l(x)p(x)}{p(y)},& y < y^*.\n",
    "\\end{cases}\n",
    "$$"
   ]
  },
  {
   "cell_type": "code",
   "execution_count": null,
   "id": "HlhhYX-0y9_T",
   "metadata": {
    "id": "HlhhYX-0y9_T"
   },
   "outputs": [],
   "source": []
  },
  {
   "cell_type": "markdown",
   "id": "final-observation",
   "metadata": {
    "id": "final-observation"
   },
   "source": [
    "**Задание 2.5 (0.5 балла)**. И на последок визуализируем, как изменялись распределения для категориального гиперпараметра у разных стратегий поиска. В этом пункте вам предлагается построить три рисунка:\n",
    "\n",
    "1. Ддя `GPOptimizer`: постройте графики $\\mu(c) \\pm \\sigma(c)$ для каждой категории $c$ против номера итерации (все на одном рисунке). \n",
    "\n",
    "\n",
    "2. Для `TPEOptimizer`: постройте area plot для значений $g(c)$ против номера итерации.\n",
    "\n",
    "\n",
    "3. Аналогично пункту 2 для значений $l(c)$.\n",
    "\n",
    "Прокомментируйте то, что получилось."
   ]
  },
  {
   "cell_type": "code",
   "execution_count": 366,
   "id": "QMYBat3U2oed",
   "metadata": {
    "colab": {
     "base_uri": "https://localhost:8080/"
    },
    "id": "QMYBat3U2oed",
    "outputId": "5890577d-ec0b-485f-ceac-d1b3ec2df3ce"
   },
   "outputs": [
    {
     "data": {
      "text/plain": [
       "array(['dart', 'goss', 'goss', 'goss', 'goss', 'gbdt', 'dart', 'dart',\n",
       "       'dart', 'dart', 'gbdt', 'dart', 'dart', 'dart', 'dart', 'dart',\n",
       "       'dart', 'dart', 'gbdt', 'gbdt', 'gbdt', 'gbdt', 'gbdt', 'gbdt',\n",
       "       'gbdt', 'gbdt', 'gbdt', 'gbdt', 'gbdt', 'gbdt', 'gbdt', 'dart',\n",
       "       'dart', 'gbdt', 'gbdt', 'gbdt', 'gbdt', 'gbdt', 'gbdt', 'gbdt'],\n",
       "      dtype='<U32')"
      ]
     },
     "execution_count": 366,
     "metadata": {},
     "output_type": "execute_result"
    }
   ],
   "source": [
    "gp_search.params_history['boosting_type']"
   ]
  },
  {
   "cell_type": "code",
   "execution_count": 358,
   "id": "pGwxKBswyNLi",
   "metadata": {
    "colab": {
     "base_uri": "https://localhost:8080/",
     "height": 621
    },
    "id": "pGwxKBswyNLi",
    "outputId": "79dbd05c-2d80-4857-884e-0483364e3566"
   },
   "outputs": [
    {
     "data": {
      "image/png": "[encoded data removed]",
      "text/plain": [
       "<Figure size 1080x720 with 1 Axes>"
      ]
     },
     "metadata": {
      "needs_background": "light"
     },
     "output_type": "display_data"
    }
   ],
   "source": [
    "plt.figure(figsize=(15, 10))\n",
    "plt.plot(mu, color='b', label='Gaussian Process')\n",
    "plt.scatter(x=np.arange(len(mu)), y=mu, color='b', label='History')\n",
    "plt.fill_between(np.arange(len(mu)), \n",
    "                 (mu - sigma), \n",
    "                 (mu + sigma), color='b', alpha=.1)\n",
    "\n",
    "plt.title('GPR score predict')\n",
    "plt.xlabel('Iterations')\n",
    "plt.ylabel('Score')\n",
    "plt.legend()\n",
    "plt.grid();"
   ]
  }
 ],
 "metadata": {
  "colab": {
   "collapsed_sections": [
    "8df6568f",
    "3e59a157",
    "16a26de5"
   ],
   "name": "homework-practice-14-hyperopt-Zhumataev.ipynb",
   "provenance": []
  },
  "kernelspec": {
   "display_name": "Python 3 (ipykernel)",
   "language": "python",
   "name": "python3"
  },
  "language_info": {
   "codemirror_mode": {
    "name": "ipython",
    "version": 3
   },
   "file_extension": ".py",
   "mimetype": "text/x-python",
   "name": "python",
   "nbconvert_exporter": "python",
   "pygments_lexer": "ipython3",
   "version": "3.10.3"
  }
 },
 "nbformat": 4,
 "nbformat_minor": 5
}
