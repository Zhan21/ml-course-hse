{
 "cells": [
  {
   "cell_type": "markdown",
   "id": "weekly-bumper",
   "metadata": {},
   "source": [
    "# Машинное обучение, ФКН ВШЭ\n",
    "\n",
    "## Практическое задание 14. Оптимизация гиперпараметров.\n",
    "\n",
    "### Общая информация\n",
    "\n",
    "Дата выдачи: 04.06.2022\n",
    "\n",
    "Мягкий дедлайн: 19.06.2022 23:59 MSK\n",
    "\n",
    "Жёсткий дедлайн: 21.06.2022 23:59 MSK\n",
    "\n",
    "### Оценивание и штрафы\n",
    "\n",
    "Каждая из задач имеет определенную «стоимость» (указана в скобках около задачи). Максимально допустимая оценка за работу — 15 баллов.\n",
    "\n",
    "Сдавать задание после указанного срока сдачи нельзя. При выставлении неполного балла за задание в связи с наличием ошибок на усмотрение проверяющего предусмотрена возможность исправить работу на указанных в ответном письме условиях.\n",
    "\n",
    "Задание выполняется самостоятельно. «Похожие» решения считаются плагиатом и все задействованные студенты (в том числе те, у кого списали) не могут получить за него больше 0 баллов (подробнее о плагиате см. на странице курса). Если вы нашли решение какого-то из заданий (или его часть) в открытом источнике, необходимо указать ссылку на этот источник в отдельном блоке в конце вашей работы (скорее всего вы будете не единственным, кто это нашел, поэтому чтобы исключить подозрение в плагиате, необходима ссылка на источник).\n",
    "\n",
    "Неэффективная реализация кода может негативно отразиться на оценке.\n",
    "\n",
    "### Формат сдачи\n",
    "\n",
    "Задания сдаются через систему anytask. Посылка должна содержать:\n",
    "\n",
    "- Ноутбук `homework-practice-14-Username.ipynb`\n",
    "- Модули `distributions.py` и `optimizers.py`, содержащие написанный вами код\n",
    "\n",
    "Username — ваша фамилия на латинице\n",
    "\n",
    "### О задании\n",
    "\n",
    "В этом задании вам предстоит разработать свой собственный AutoML фреймворк, который будет подбирать оптимальные значения гиперпараметров для определенной модели и обучающих данных. Попутно вы познакомитесь с основными концепциями Байесовской оптимизации и узнаете, как Гауссовские процессы и метод Парзеновского окна применяются на практике. Если вы все сделаете правильно, то на выходе получится фреймворк, не уступающий популярной `optuna`."
   ]
  },
  {
   "cell_type": "markdown",
   "id": "3bda6ac2",
   "metadata": {},
   "source": [
    "## 1. AutoML фреймворк (7.5 баллов)\n",
    "\n",
    "Наш фреймворк будет работать по аналогии с классом [`OptunaSearchCV`](https://optuna.readthedocs.io/en/stable/reference/generated/optuna.integration.OptunaSearchCV.html#optuna.integration.OptunaSearchCV) из пакета `optuna`, который интегрирован с интерфейсом `sklearn`. Общая схема следующая: сначала мы выбираем модель, для которой будем подбирать гиперпараметры, и задаем распределения на них (решаем, будет ли параметр вещественным или целочисленным; определяем границы; выбираем линейную или логарифмическую шкалу). Далее, на каждой итерации мы выбираем новый набор значений гиперпараметров и оцениваем качество модели на них с помощью кросс-валидации. За ограниченное число итераций находим лучший набор гиперпараметров и обучаем итоговую модель на всех данных. Условимся, что мы хотим **максимизировать** значение метрики (в случае, если мы хотим минимизировать метрику, будем брать ее с минусом). Отличие между различными стратегиями поиска заключается в том, как именно выбираются новые значения гиперпараметров. Подробнее об этом ниже.\n",
    "\n",
    "Вашу реализацию кода нужно будет протестировать через [ЯндексКонтест](https://contest.yandex.ru/contest/37803/). Помимо стандартных библиотек Python 3.7, в контесте доступны `numpy=1.21.6`, `scipy=1.7.3` и `scikit-learn=1.0.2`, а также их зависимости.\n",
    "\n",
    "**Задание 1.1 (0.5 балла).** Реализуйте распределения гиперпараметров в файле `distributions.py`. Каждый класс должен поддерживать метод `sample`, который возвращает выборку из распределения. Кроме того, для численных распределений нам понадобится метод `scale`, который переводит выборку в промежуток $[0, 1]$ (с линейной шкалой) (за подробностями обращайтесь к док-строкам в базовых классах). Чуть позже станет понятнее, как нам пригодится эта функция. Задача в контесте: [ссылка](https://contest.yandex.ru/contest/37803/problems/A/). \\\n",
    "**>>>Done**\n",
    "\n",
    "**Задание 1.2 (1 балл).** Реализуйте методы `sample_params`, `cross_validate`, `fit`, `predict` и `predict_proba` класса `BaseOptimizer` в файле `optimizers.py`. Обратите внимание, что разбиение на фолды должно быть одинаковым для каждой итерации оптимизации (чтобы оценивать наборы гиперпараметров честно). Кроме того, не забывайте о воспроизводимости экспериментов: запуски всех алгоритмов, содержащих случайность, должны контролироваться с помощью `random_seed`. Также сохраняйте историю параметров и метрики в поля `self.params_history` и `self.scores_history`.\\\n",
    "**>>>Done**\n",
    "\n",
    "**Задание 1.3 (0.5 балла).** Реализуйте простейшую возможную стратегию &mdash; стратегию случайного поиска в классе `RandomSearchOptimizer` из файла `optimizers.py`. На каждой новой итерации алгоритма мы генерируем новый случайный набор гиперпараметров, не производя никакого дополнительного отбора. Задача в контесте: [ссылка](https://contest.yandex.ru/contest/37803/problems/B/)\\\n",
    "**>>>Done**"
   ]
  },
  {
   "cell_type": "code",
   "execution_count": 6,
   "id": "10add764",
   "metadata": {},
   "outputs": [],
   "source": [
    "import numpy as np\n",
    "from distributions import UniformDistribution, CategoricalDistribution"
   ]
  },
  {
   "cell_type": "code",
   "execution_count": 3,
   "id": "8014f3f3",
   "metadata": {},
   "outputs": [
    {
     "data": {
      "text/plain": [
       "array([4.88160636, 2.49717338, 5.51420902, 6.96908028, 3.98782348])"
      ]
     },
     "execution_count": 3,
     "metadata": {},
     "output_type": "execute_result"
    }
   ],
   "source": [
    "UniformDistribution(0, 10).sample(5)"
   ]
  },
  {
   "cell_type": "code",
   "execution_count": 4,
   "id": "f9483301",
   "metadata": {
    "scrolled": true
   },
   "outputs": [
    {
     "data": {
      "text/plain": [
       "LogisticRegression(C=0.1, class_weight='auto', max_iter=5000, solver='saga')"
      ]
     },
     "execution_count": 4,
     "metadata": {},
     "output_type": "execute_result"
    }
   ],
   "source": [
    "from sklearn.linear_model import LogisticRegression\n",
    "from sklearn.model_selection import cross_validate, KFold, StratifiedKFold\n",
    "from sklearn import datasets\n",
    "\n",
    "X, y = datasets.load_breast_cancer(return_X_y=True)\n",
    "X.shape, y.shape\n",
    "\n",
    "params = {\"penalty\":\"l2\", \"solver\":\"saga\", \"C\":0.1, \"class_weight\":\"auto\", \"max_iter\":5000}\n",
    "clf = LogisticRegression()\n",
    "clf.set_params(**params)"
   ]
  },
  {
   "cell_type": "code",
   "execution_count": 5,
   "id": "1a60b564",
   "metadata": {},
   "outputs": [
    {
     "data": {
      "text/plain": [
       "0.9226672876882471"
      ]
     },
     "execution_count": 5,
     "metadata": {},
     "output_type": "execute_result"
    }
   ],
   "source": [
    "cross_validate(clf, X, y, cv=5, scoring=None)['test_score'].mean()"
   ]
  },
  {
   "cell_type": "code",
   "execution_count": null,
   "id": "ba7b497c",
   "metadata": {},
   "outputs": [],
   "source": []
  },
  {
   "cell_type": "markdown",
   "id": "52f3b1e4",
   "metadata": {},
   "source": [
    "### Байесовская оптимизация\n",
    "\n",
    "Далее мы перейдем к более продвинутым методам поиска гиперпараметров. Одним из наиболее распространенных подходов к этой задаче является **Байейсовская оптимизация**. Ее суть состоит в следующем: на каждой итерации мы будем аппроксимировать распределение $p(y|x)$, где $y$ &mdash; это значение метрики, а $x$ &mdash; значение набора гиперпараметров. Допустим, что $y^*$ &mdash; это наилучшее (наибольшее) текущее значение метрики. Чтобы выбрать новое значение гиперпараметров, для которого мы будем учить модель, нам понадобится величина под названием **Expected Impovement (EI)**. Она определяется следующим образом:\n",
    "\n",
    "$$\n",
    "\\text{EI}_{y^*}(x) = \\mathbb{E}_{y \\sim p(y|x)} \\Big[\\max(0, y - y^*)\\Big] = \\int \\max(0, y - y^*) p(y|x) dy\n",
    "$$\n",
    "\n",
    "Соответственно, чем выше значение EI, тем большего увеличения $y^*$ мы ожидаем, обучив модель с гиперпараметрами $x$. Таким образом, на каждой итерации оптимизации мы будем семлировать несколько кандидатов $x_i, i=1, \\dots, N$ из исходного распределения гиперпараметров и выбирать из них наилучшего путем максимизации EI: $x_{\\text{new}} = \\arg\\max_{x_i} \\big\\{\\text{EI}_{y^*} (x_i)\\big\\}$. Нам осталось обсудить, как именно аппроксимировать распределение $p(y|x)$."
   ]
  },
  {
   "cell_type": "markdown",
   "id": "e8a50ce3",
   "metadata": {},
   "source": [
    "### Гауссовские процессы\n",
    "\n",
    "[Гауссовские процессы](https://en.wikipedia.org/wiki/Gaussian_process) (ГП) &mdash; одна из популярных опций для задания распределения $p(y|x)$. Если не вдаваться в глубокую теорию, то можно воспринимать ГП как случайные функции. ГП задаются двумя параметрами: функцией среднего $\\mu(x)$ и ковариационной функцией $K(x, x')$. Процесс называется гауссовским, поскольку в каждой отдельно взятой точке $x$ мы имеем нормальное распределение: $y(x) \\sim \\mathcal{N}\\big(\\mu(x), K(x, x)\\big)$. А условие $\\text{Cov}\\big(y(x), y(x')\\big) = K(x, x')$ объясняет название ковариационной функции. Как правило, для практических применений достаточно так называемых стационарных ГП, которые отличают константная функция среднего $\\mu(x)=\\text{const}$ (чаще всего даже $\\mu(x)=0$) и ковариационная функция, зависящая только от расстояния между точками: $K(x, x') = K\\big(\\|x-x'\\|\\big)$. Часто под переменной $x$ понимают время (отсюда название \"процесс\"), но мы будет рассматривать в качестве $x$ наше пространство гиперпараметров.\n",
    "\n",
    "На первый взгляд может показаться, что ГП мало чем могут быть полезны: ведь в каждой точке $x$ у нас свое собственное случайное значение $y$. Но оказывается, что если ковариационная функция непрерывна в нуле, то (почти все) реализации ГП (то есть интересующие нас случайные значения $y(x)$) непрерывны. Таким образом, каждая реализация ГП соответствует некоторой непрерывной функции, а значит, ГП можно использовать для регрессии.\n",
    "\n",
    "Если задана обучающая выборка $\\{(x_i, y_i)\\}_{i=1}^{\\ell}$, то мы можем посчитать распределение $p(y|x) = \\mathcal{N}\\big(y\\big|\\mu(x), \\sigma^2(x)\\big)$ для любой точки $x$ (замечание: здесь уже не будет выполняться $\\mu(x)=0$, так как распределение на $y$ апостериорное, то есть зависит от обучающих данных). При этом, для разных ковариационных функций мы будем получать разные распределения. Обычно в качестве ковариационных функций используют ядра (да-да, те самые из теоремы Мерсера). Нам повезло, что все это уже реализовано в классе [`sklearn.gaussian_process.GaussianProcessRegressor`](https://scikit-learn.org/stable/modules/generated/sklearn.gaussian_process.GaussianProcessRegressor.html#sklearn.gaussian_process.GaussianProcessRegressor), и мы можем сконцентрироваться на алгоритмах оптимизации гиперпараметров.\n",
    "\n",
    "Ниже приведен пример регрессии с помощью ГП:\n",
    "![](https://www.researchgate.net/profile/Florent-Leclercq/publication/327613136/figure/fig1/AS:749406701776896@1555683889137/Illustration-of-Gaussian-process-regression-in-one-dimension-for-the-target-test.png)\n",
    "\n",
    "Впрочем, в нашем случае, картинка будет выглядеть скорее так, поскольку $x$ будет многомерным:\n",
    "![](https://raw.githubusercontent.com/jmaronas/TGP.pytorch/master/images/2D_GP.gif)"
   ]
  },
  {
   "cell_type": "markdown",
   "id": "aea9d876",
   "metadata": {},
   "source": [
    "**Задание 1.4 (0.75 балла)**. Выведите аналитическую формулу для подсчета EI в случае $p(y|x) = \\mathcal{N}\\big(y\\big|\\mu(x), \\sigma^2(x)\\big)$ (подсказка: вам может пригодится значение функции распределения нормальной с.в.). \\\n",
    "Обозначим за $\\phi(x) = \\dfrac{1}{\\sqrt{2\\pi}}e^{-x^2 / 2}$ - плотность стандартной нормальной с.в. \\\n",
    "Стандартизируем значения метрики и обозначим их следующим образом:\n",
    "$$\n",
    "u^* = \\dfrac{y^* - \\mu}{\\sigma}, \\quad u = \\dfrac{y - \\mu}{\\sigma} \\text{, where } u \\sim \\phi(u).\n",
    "$$\n",
    "Тогда запишем expected improvement с новой плотностью:\n",
    "$$\n",
    "\\text{EI}_{y^*}(x) = \\int \\max(0, y - y^*) p(y|x) dy = \\\\\n",
    "= \\int_{\\mathbb{R}} (y - y^*) I\\{y > y^*\\} p(y|x) dy = \\\\\n",
    "= \\int_{\\mathbb{R}} (\\mu + \\sigma u - y^*) I\\{u > u^*\\} \\phi(u) du = \\\\\n",
    "= \\int_{u^*}^{+\\infty} (\\mu - y^* + \\sigma u) \\phi(u) du = \\\\\n",
    "= (\\mu - y^*)\\, \\big(1 - \\Phi(u^*)\\big) + \\dfrac{\\sigma}{\\sqrt{2\\pi}} \\int_{u^*}^{+\\infty}  u e^{-u^2 / 2} du = \\\\\n",
    "= (\\mu - y^*)\\, \\big(1 - \\Phi(u^*)\\big) - \\dfrac{\\sigma}{\\sqrt{2\\pi}} e^{-u^2 / 2} \\bigg|_{u^*}^{+\\infty} = \\\\\n",
    "= (\\mu - y^*)\\, \\big(1 - \\Phi(u^*)\\big) - \\sigma \\big(0 - \\phi(u^*)\\big) = \\\\\n",
    "= - \\sigma u^* \\, \\big(1 - \\Phi(u^*)\\big) + \\sigma \\phi(u^*).\n",
    "$$"
   ]
  },
  {
   "cell_type": "code",
   "execution_count": 7,
   "id": "77dae273",
   "metadata": {},
   "outputs": [
    {
     "data": {
      "text/plain": [
       "array([5.00000005, 4.10785525, 3.72186248, 3.36276104, 2.79655822])"
      ]
     },
     "execution_count": 7,
     "metadata": {},
     "output_type": "execute_result"
    }
   ],
   "source": [
    "from scipy.stats import norm\n",
    "mu = np.arange(5)\n",
    "sigma = np.arange(1, 6)\n",
    "y_star = 5\n",
    "\n",
    "u_star = (y_star - mu) / sigma\n",
    "sigma * (u_star * norm.cdf(y_star - mu) + norm.pdf(u_star))"
   ]
  },
  {
   "cell_type": "code",
   "execution_count": 8,
   "id": "e9b26541",
   "metadata": {},
   "outputs": [
    {
     "data": {
      "text/plain": [
       "99"
      ]
     },
     "execution_count": 8,
     "metadata": {},
     "output_type": "execute_result"
    }
   ],
   "source": [
    "X_num = np.zeros([100, 3])\n",
    "for i in range(3):\n",
    "    sc = np.arange(100)\n",
    "    X_num[:, i] = sc\n",
    "np.argmax(sc)"
   ]
  },
  {
   "cell_type": "code",
   "execution_count": 9,
   "id": "f9774953",
   "metadata": {},
   "outputs": [
    {
     "data": {
      "text/plain": [
       "((569, 30), (569,))"
      ]
     },
     "execution_count": 9,
     "metadata": {},
     "output_type": "execute_result"
    }
   ],
   "source": [
    "X.shape, y.shape"
   ]
  },
  {
   "cell_type": "code",
   "execution_count": 10,
   "id": "b6104c00",
   "metadata": {},
   "outputs": [],
   "source": [
    "import warnings \n",
    "warnings.filterwarnings('ignore')"
   ]
  },
  {
   "cell_type": "code",
   "execution_count": 11,
   "id": "b3304763",
   "metadata": {
    "scrolled": true
   },
   "outputs": [],
   "source": [
    "from sklearn.gaussian_process import GaussianProcessRegressor\n",
    "from sklearn.gaussian_process.kernels import ConstantKernel, WhiteKernel, RBF\n",
    "\n",
    "kernel = WhiteKernel() + RBF()\n",
    "gpr = GaussianProcessRegressor(kernel=kernel, random_state=0).fit(X, y)"
   ]
  },
  {
   "cell_type": "code",
   "execution_count": 12,
   "id": "a5176e2a",
   "metadata": {
    "scrolled": true
   },
   "outputs": [],
   "source": [
    "mu, sigma = gpr.predict(np.ones([250, 30]), return_std=True)"
   ]
  },
  {
   "cell_type": "code",
   "execution_count": 13,
   "id": "9f1c2583",
   "metadata": {},
   "outputs": [
    {
     "data": {
      "text/plain": [
       "((250,), (250,))"
      ]
     },
     "execution_count": 13,
     "metadata": {},
     "output_type": "execute_result"
    }
   ],
   "source": [
    "mu.shape, sigma.shape"
   ]
  },
  {
   "cell_type": "code",
   "execution_count": 14,
   "id": "bc4dcdb8",
   "metadata": {},
   "outputs": [
    {
     "data": {
      "text/plain": [
       "(250,)"
      ]
     },
     "execution_count": 14,
     "metadata": {},
     "output_type": "execute_result"
    }
   ],
   "source": [
    "u_star = (5 - mu) / sigma\n",
    "ei = - sigma * u_star * (1 - norm.cdf(u_star)) + sigma * norm.pdf(u_star)\n",
    "ei.shape"
   ]
  },
  {
   "cell_type": "code",
   "execution_count": 29,
   "id": "93b4c137",
   "metadata": {
    "scrolled": true
   },
   "outputs": [
    {
     "name": "stdout",
     "output_type": "stream",
     "text": [
      "a\n",
      "b\n",
      "c\n"
     ]
    }
   ],
   "source": [
    "d = {'a': 111, 'b': 222, 'c': 333}\n",
    "for i, p in enumerate(d.keys()):\n",
    "    print(p)"
   ]
  },
  {
   "cell_type": "code",
   "execution_count": 40,
   "id": "620ce25a",
   "metadata": {},
   "outputs": [
    {
     "ename": "TypeError",
     "evalue": "'dict_keys' object is not subscriptable",
     "output_type": "error",
     "traceback": [
      "\u001b[1;31m---------------------------------------------------------------------------\u001b[0m",
      "\u001b[1;31mTypeError\u001b[0m                                 Traceback (most recent call last)",
      "Input \u001b[1;32mIn [40]\u001b[0m, in \u001b[0;36m<cell line: 1>\u001b[1;34m()\u001b[0m\n\u001b[1;32m----> 1\u001b[0m d[\u001b[43md\u001b[49m\u001b[38;5;241;43m.\u001b[39;49m\u001b[43mkeys\u001b[49m\u001b[43m(\u001b[49m\u001b[43m)\u001b[49m\u001b[43m[\u001b[49m\u001b[38;5;241;43m0\u001b[39;49m\u001b[43m]\u001b[49m]\n",
      "\u001b[1;31mTypeError\u001b[0m: 'dict_keys' object is not subscriptable"
     ]
    }
   ],
   "source": [
    "d[d.keys()[0]]"
   ]
  },
  {
   "cell_type": "code",
   "execution_count": 155,
   "id": "04a842f0",
   "metadata": {},
   "outputs": [
    {
     "data": {
      "text/plain": [
       "array([9, 9, 9], dtype=int64)"
      ]
     },
     "execution_count": 155,
     "metadata": {},
     "output_type": "execute_result"
    }
   ],
   "source": [
    "sx = np.arange(30).reshape(-1, 3)\n",
    "np.argmax(sx, axis=0)"
   ]
  },
  {
   "cell_type": "markdown",
   "id": "f5de48d1",
   "metadata": {},
   "source": [
    "Теперь разберемся, как адаптировать ГП под наши нужды. Предлагается следующий план действий:\n",
    "\n",
    "1. Пускай на очередной итерации алгоритма $j$ у нас есть выборка $\\{(x_i, y_i)\\}_{i=1}^{j-1}$, где $x_i$ &mdash; значение набора гиперпараметров, а $y_i$ &mdash; соответствующее ему значение метрики, посчитанное по кросс-валидации.\n",
    "\n",
    "\n",
    "2. Если размер выборки меньше значения `self.num_dry_runs`, то возвращаем случайное значение гиперпараметров вместо запуска алгоритма. Таким образом, первые `self.num_dry_runs` итераций поиска подчиняются случайной стратегии, чтобы \"набрать статистику\" для работы алгоритма.\n",
    "\n",
    "\n",
    "3. ГП работает только с непрерывными величинами, поэтому давайте переведем значения гиперпараметров в диапазон $[0, 1]$ (тут-то нам и понадобится функция `scale`) и получим отнормированные гиперпараметры $x_i \\to \\tilde{x}_i$. Как вы догадываетесь, такой трюк сработает только с численными гиперпараметрами (как с непрерывными, так и с дискретными). Что делать с категориальными гиперпараметрами, обсудим позже. \n",
    "\n",
    "\n",
    "4. Далее обучаем ГП на выборку $\\{(\\tilde{x}_i, y_i)\\}_{i=1}^{j-1}$ (в качестве ковариационной функции возьмите сумму константного, белого и RBF ядер). \n",
    "\n",
    "\n",
    "5. Семплируем кандидатов в новые значения гиперпараметров $x^{\\text{new}}_1, ..., x^{\\text{new}}_N$ и преобразуем их функцией `scale`. Для каждого набора предсказываем параметры распределения $\\mu(\\tilde{x}), \\sigma^2(\\tilde{x})$, затем вычисляем $\\text{EI}_{y^*}(\\tilde{x})$ по формуле, посчитанной вами выше, и выбираем набор гиперпараметров $\\tilde{x}^\\text{new}_{*}$ с наибольшим значением EI.\n",
    "\n",
    "\n",
    "6. Выбираем исходный набор гиперпараметров $x^\\text{new}_{*}$, соответствующий $\\tilde{x}^\\text{new}_{*}$. Вуаля! Мы получили новый набор численных гиперпараметров, на котором будем валидировать модель.\n",
    "\n",
    "\n",
    "Для категориальных гиперпараметров попробуем провернуть что-нибудь похожее. Пусть у нас есть выборка $\\{(f_i, y_i)\\}_{i=1}^{j-1}$, где $f$ &mdash; интересующий нас категориальный гиперпараметр, $f_i \\in \\{1, \\dots, C\\}$ &mdash; конечное множество категорий. Зафиксируем $c \\in \\{1, \\dots, C\\}$ и рассмотрим $p(y|с) = \\mathcal{N}\\big(y\\big|\\mu(с), \\sigma^2(с)\\big)$. Определим параметры распределений следующим образом (как среднее и сглаженную дисперсию по категории):\n",
    "\n",
    "$$\n",
    "\\mu(c) = \\begin{cases}\n",
    "    \\cfrac{\\sum_i [f_i = c] \\cdot y_i}{\\sum_i [f_i = c]},& \\sum_i [f_i = c] > 0 \\\\\n",
    "    y^*,& \\sum_i [f_i = c] = 0\n",
    "\\end{cases}\n",
    "\\quad\\quad\\quad\n",
    "\\sigma^2(c) = \\frac{1 + \\sum_i [f_i = c] (y_i - \\mu(c))^2}{1 + \\sum_i [f_i = c]}\n",
    "$$\n",
    "\n",
    "В итоге, как и в случае с численными гиперпараметрами, мы находим категорию с лучшей EI. Впрочем, обычно такие гиперпараметры имеют не очень много возможных значений (скажем, не больше 10 категорий, а в реальности скорее 2-3: например, критерий при построении дерева), поэтому мы можем себе позволить **перебрать все значения** категориального признака **вместо семплирования** (что и требуется от вас в реализации). Обратите внимание, что категориальные гиперпараметры нужно обрабатывать отдельно (то есть они не имеют ничего общего с ГП, который мы обучаем по численным гиперпараметрам). Конечно, у такого подхода есть значительный минус: категории рассматриваются независимо друг от друга и от численных гиперпараметров, но уж лучше так, чем никак. \n",
    "\n",
    "**Задание 1.5 (2 балла)**. Реализуйте недостающие методы в классе `GPOptimizer` в файле `optimizers.py`. Задачи в контесте: [раз](https://contest.yandex.ru/contest/37803/problems/С/), [два](https://contest.yandex.ru/contest/37803/problems/D/) \\\n",
    "**>>>Done**"
   ]
  },
  {
   "cell_type": "markdown",
   "id": "mature-fluid",
   "metadata": {},
   "source": [
    "### Tree-structured Parzen estimator (TPE)\n",
    "\n",
    "Рассмотрим иной подход к приближению распределения $p(y|x)$. Он основан на использовании формулы Байеса:\n",
    "\n",
    "$$\n",
    "p(y|x) = \\frac{p(x|y)p(y)}{p(x)}\n",
    "$$\n",
    "\n",
    "Эта формула позволяет нам моделировать распределение $p(x|y)$ вместо $p(y|x)$. Обозначим за $y^*$ $\\gamma$-квантиль распределения $p(y)$, то есть $p(y < y^*)=\\gamma$ (в отличие от ГП, где $y^*$ выступает как максимум распределения). Идея TPE заключается в следующем выражении для плотности $p(x|y)$:\n",
    "\n",
    "$$\n",
    "p(x|y) = \\begin{cases}\n",
    "    g(x),& y \\ge y* \\\\\n",
    "    l(x),& y < y^*,\n",
    "\\end{cases}\n",
    "$$\n",
    "\n",
    "где $l(x)$ &mdash; это аппроксимация распределения $x$ при значениях целевой метрики меньше порогового $y^*$, а $g(x)$ &mdash; наоборот, выше порогового. Оказывается, что такой способ задать распределение позволяет нам очень просто находить максимум EI:\n",
    "\n",
    "**Задание 1.6 (0.75 балла)**. Докажите, что точка максимума EI совпадает с точкой максимума $\\cfrac{g(x)}{l(x)}$.\n",
    "\n",
    "$$\n",
    "\\text{EI}_{y^*}(x) = \\int \\max(0, y - y^*) p(y|x) dy = \\\\\n",
    "\\int_{y^*}^{+\\infty} (y - y^*) p(y|x) dy = \\\\\n",
    "\\int_{y^*}^{+\\infty} (y - y^*) \\dfrac{p(x|y) p(y)}{p(x)} dy.\n",
    "$$\n",
    "Так как по построению $p(y < y^*) = \\gamma$ и $p(x) = \\int p(x|y) p(y) dy = \\gamma l(x) + (1 - \\gamma) g(x)$, то\n",
    "$$\n",
    "\\int_{y^*}^{+\\infty} (y - y^*) \\dfrac{p(x|y) p(y)}{p(x)} dy = \\\\\n",
    "l(x) \\int_{y^*}^{+\\infty} (y - y^*) p(y) dy = \\\\\n",
    "\\gamma y^* l(x) + l(x) \\int_{y^*}^{+\\infty} p(y) dy.\n",
    "$$\n",
    "Отсюда, Expected Improvement пропорционален:\n",
    "$$\n",
    "\\text{EI}_{y^*}(x) = \\dfrac{\\gamma y^* l(x) + l(x) \\int_{y^*}^{+\\infty} p(y) dy}{\\gamma l(x) + (1 - \\gamma) g(x)} \\propto \\bigg( \\gamma + \\dfrac{g(x)}{l(x)} (1 - \\gamma)\\bigg)^{-1}.\n",
    "$$\n",
    "\n",
    "Источник: https://proceedings.neurips.cc/paper/2011/file/86e8f7ab32cfd12577bc2619bc635690-Paper.pdf\n"
   ]
  },
  {
   "cell_type": "markdown",
   "id": "494c1bb1",
   "metadata": {},
   "source": [
    "Таким образом, мы можем разделить все опробованные наборы гиперпараметров на две группы по значению целевой метрики, на каждой из них обучить свою оценку плотности ($g(x)$ или $l(x)$) и выбрать в качестве кандидата тот набор гиперпараметров, который имеет набольшее отношение плотностей. Такая процедура будет гарантировать нам максимизацию EI. В качестве алгоритма для приближения плотности мы будем пользоваться методом Парзеновского окна (он же Kernel Density Estimation, KDE), что и объясняет название оптимизатора (кстати, именно TPE находится под капотом у `optuna`). Как вы догадываетесь, KDE тоже реализован в [`sklearn.neighbors.KernelDensity`](https://www.youtube.com/watch?v=dQw4w9WgXcQ). И снова, такой подход позволяет обрабатывать только численные гиперпараметры. Получаем следующий алгоритм:\n",
    "\n",
    "1. Пускай на очередной итерации алгоритма $j$ у нас есть выборка $\\{(x_i, y_i)\\}_{i=1}^{j-1}$, где $x_i$ &mdash; значение набора гиперпараметров, а $y_i$ &mdash; соответствующее ему значение метрики, посчитанное по кросс-валидации.\n",
    "\n",
    "\n",
    "2. Если размер выборки меньше значения `self.num_dry_runs`, то возвращаем случайное значение гиперпараметров вместо запуска алгоритма.\n",
    "\n",
    "\n",
    "3. Переводим значения гиперпараметров в диапазон $[0, 1]$ и получаем отнормированные гиперпараметры $x_i \\to \\tilde{x}_i$.\n",
    "\n",
    "\n",
    "4. Считаем $\\gamma$-квантиль выборки $y_1, \\dots, y_{j-1}$ и делим значения гиперпараметров $\\tilde{x}_1, \\dots, \\tilde{x}_{j-1}$ на две группы (воспользуйтесь `np.quantile`). \n",
    "\n",
    "\n",
    "5. На каждой группе обучаем KDE, чтобы получить оценки $g(\\tilde{x})$ и $l(\\tilde{x})$ (обратите внимание, что алгоритм возвращает логарифм оценки плотности). Используйте гауссовское ядро, в качестве параметра `bandwidth` возьмите медианное расстояние до 1-го ближайшего соседа в полной выборке. Остальные параметры оставьте по умолчанию.\n",
    "\n",
    "\n",
    "6. Семплируем кандидатов в новые значения гиперпараметров $x^{\\text{new}}_1, ..., x^{\\text{new}}_N$ и преобразуем их функцией `scale`. Определяем точку:\n",
    "\n",
    "$$\n",
    "\\tilde{x}^\\text{new}_{*} = \\arg\\max_{i} \\bigg\\{\\frac{g(\\tilde{x}^{\\text{new}}_i)}{l(\\tilde{x}^{\\text{new}}_i)}\\bigg\\}\n",
    "$$\n",
    "\n",
    "\n",
    "7. Выбираем исходный набор гиперпараметров $x^\\text{new}_{*}$, соответствующий $\\tilde{x}^\\text{new}_{*}$.\n",
    "\n",
    "\n",
    "Для категориальных гиперпараметров $f_i \\in \\{1, \\dots, C\\}$ нам тоже нужно определить $g(x)$ и $l(x)$. Определим вероятность категории $с \\in \\{1, \\dots, C\\}$ пропорциональной следующей величине:\n",
    "\n",
    "$$\n",
    "p(c) \\propto N p_c + \\sum_i [f_i = c], \n",
    "$$\n",
    "\n",
    "где $N$ &mdash; число наборов гиперпараметров в группе (то есть это количество будет различным для $g(c)$ и $l(c)$), а $p_c$ &mdash; априорная вероятность категории (в нашем случае категории априорно равновероятны, $p_c = 1\\,/\\,C$). Сама вероятность $p(c)$ получается нормировкой по всем категориям гиперпараметра. И снова, мы будем **перебирать все значения** категориального признака **вместо семплирования**. Как и в случае ГП, категориальные гиперпараметры будут учитываться независимо от численных и друг от друга (тут даже можно выписать факторизацию распределения в виде $g(x) = g_{\\text{num}}(x_\\text{num}) \\prod_{\\text{cat}} g_{\\text{cat}}(x_\\text{cat})$, аналогично для $l(x)$, пусть эти формулы и не используются явно).\n",
    "\n",
    "Выглядит итерация метода примерно так:\n",
    "\n",
    "![](https://camo.githubusercontent.com/d14da729457267a66ebc9942b1ce57372adad287b74a1af5e0793f283c9bf1aa/687474703a2f2f6e657570792e636f6d2f5f696d616765732f7470652d73616d706c65642d63616e646964617465732e706e67)\n",
    "\n",
    "**Задание 1.7 (2 балла)**. Реализуйте недостающие методы в классе `TPEOptimizer` в файле `optimizers.py`. Задачи в контесте: [раз](https://contest.yandex.ru/contest/37803/problems/E/), [два](https://contest.yandex.ru/contest/37803/problems/F/)\n",
    "**>>>Done**"
   ]
  },
  {
   "cell_type": "code",
   "execution_count": null,
   "id": "generous-latex",
   "metadata": {},
   "outputs": [],
   "source": [
    "%load_ext autoreload\n",
    "%autoreload 2"
   ]
  },
  {
   "cell_type": "code",
   "execution_count": null,
   "id": "noted-cooking",
   "metadata": {},
   "outputs": [],
   "source": [
    "import distributions as D\n",
    "import optimizers as O"
   ]
  },
  {
   "cell_type": "markdown",
   "id": "acquired-expense",
   "metadata": {},
   "source": [
    "## 2. Эксперименты (7.5 баллов)\n",
    "\n",
    "**Задание 2.1 (1 балл)**. Сгенерируйте случайную выборку наборов гиперпараметров и выборку значений метрик. Замерьте время работы метода `select_params` для `GPOptimizer` и `TPEOptimizer`. Постройте график зависимости времени работы от размера выборки, сделайте выводы. Какую алгоритмическую сложность имеют алгоритмы?"
   ]
  },
  {
   "cell_type": "code",
   "execution_count": null,
   "id": "competent-hungary",
   "metadata": {},
   "outputs": [],
   "source": [
    "# Эксперименты еще не доделал, кину после мягкого дедлайна"
   ]
  },
  {
   "cell_type": "markdown",
   "id": "medium-encoding",
   "metadata": {},
   "source": [
    "Дальнейшие эксперименты будет проводить на [наборе данных](https://www.kaggle.com/datasets/piyushagni5/white-wine-quality) о качестве белого вина.\n",
    "\n",
    "**Задание 2.2 (3 балла)**. Будем тестировать оптимизаторы на (барабанная дробь...) бустингах. Выберите библиотеку градиентного бустинга, которая приходится вам по душе и задайте распределения на гиперпараметры. Среди ваших гиперпараметров обязательно должны быть число деревьев, глубина дерева и learning rate, также добавьте еще 4-5 гиперпараметров по вашему желанию (среди них должен быть хотя бы один категориальный). Подумайте, какие распределения лучше всего подходят для каждого гиперпараметра.\n",
    "\n",
    "Как и всегда, разделите выборку на обучение и тест, предсказывать будем рейтинг вина (колонка `quality`). Хоть рейтинги и можно упорядочить, давайте решим задачу многоклассовой классификации на этих данных. В качестве метрики качества возьмем log loss. Мы будем сравнивать три стратегии для поиска, реализованные вами и [`OptunaSearchCV`](https://optuna.readthedocs.io/en/stable/reference/generated/optuna.integration.OptunaSearchCV.html#optuna.integration.OptunaSearchCV) из библиотеки `optuna`, который имеет такой же интерфейс. Давайте ограничим наш бюджет поиска 40 итерациями. Обучите каждый из этих четырех методов по нескольку раз, чтобы посмотреть на дисперсию метрики (как минимум 3 раза, а в идеале раз 5, если позволяет время)."
   ]
  },
  {
   "cell_type": "code",
   "execution_count": 61,
   "id": "69c0b8d3",
   "metadata": {
    "scrolled": true
   },
   "outputs": [],
   "source": [
    "# !pip install optuna"
   ]
  },
  {
   "cell_type": "code",
   "execution_count": 80,
   "id": "8d1aedff",
   "metadata": {},
   "outputs": [],
   "source": [
    "from optuna.integration import OptunaSearchCV\n",
    "import optuna.distributions as opt_distr"
   ]
  },
  {
   "cell_type": "code",
   "execution_count": 107,
   "id": "b6af8c34",
   "metadata": {},
   "outputs": [],
   "source": [
    "import pandas as pd\n",
    "from lightgbm import LGBMClassifier\n",
    "from sklearn.model_selection import train_test_split\n",
    "import warnings\n",
    "warnings.filterwarnings('ignore')\n",
    "\n",
    "\n",
    "from distributions import CategoricalDistribution, UniformDistribution, IntUniformDistribution\n",
    "from optimizers import GPOptimizer, TPEOptimizer, RandomSearchOptimizer"
   ]
  },
  {
   "cell_type": "code",
   "execution_count": 105,
   "id": "937c38e6",
   "metadata": {},
   "outputs": [
    {
     "data": {
      "text/plain": [
       "6    2198\n",
       "5    1457\n",
       "7     880\n",
       "8     175\n",
       "4     163\n",
       "3      20\n",
       "9       5\n",
       "Name: quality, dtype: int64"
      ]
     },
     "execution_count": 105,
     "metadata": {},
     "output_type": "execute_result"
    }
   ],
   "source": [
    "df = pd.read_csv('winequality-white.csv', sep=';')\n",
    "\n",
    "X = df.drop('quality', axis=1)\n",
    "y = df['quality']\n",
    "y.value_counts()"
   ]
  },
  {
   "cell_type": "code",
   "execution_count": 106,
   "id": "8ed62b9e",
   "metadata": {
    "scrolled": true
   },
   "outputs": [],
   "source": [
    "X_train, X_test, y_train, y_test = train_test_split(X, y, \n",
    "                                                    test_size=0.3, \n",
    "                                                    random_state=42, \n",
    "                                                    stratify=y)\n",
    "est = LGBMClassifier(class_weight='balanced')"
   ]
  },
  {
   "cell_type": "markdown",
   "id": "8140a350",
   "metadata": {},
   "source": [
    "### Optuna Search"
   ]
  },
  {
   "cell_type": "code",
   "execution_count": 114,
   "id": "8011b25c",
   "metadata": {},
   "outputs": [],
   "source": [
    "opt_params_distr = {'n_estimators': opt_distr.IntUniformDistribution(50, 300), \n",
    "                'max_depth': opt_distr.IntUniformDistribution(3, 6), \n",
    "                'learning_rate': opt_distr.UniformDistribution(0.01, 0.1), \n",
    "                'boosting_type': opt_distr.CategoricalDistribution(['gbdt', 'dart', 'goss']), \n",
    "                'num_leaves': opt_distr.IntUniformDistribution(31, 50), \n",
    "                'min_child_samples': opt_distr.IntUniformDistribution(20, 50), \n",
    "                'reg_alpha ': opt_distr.UniformDistribution(0.1, 10)\n",
    "               }"
   ]
  },
  {
   "cell_type": "code",
   "execution_count": 123,
   "id": "164a10f3",
   "metadata": {
    "scrolled": true
   },
   "outputs": [
    {
     "name": "stderr",
     "output_type": "stream",
     "text": [
      "\u001b[32m[I 2022-06-19 23:22:12,746]\u001b[0m A new study created in memory with name: no-name-5e16cf04-cd61-4233-b36a-97a69f7db8a8\u001b[0m\n"
     ]
    },
    {
     "name": "stdout",
     "output_type": "stream",
     "text": [
      "[LightGBM] [Warning] reg_alpha is set=0.0, reg_alpha= will be ignored. Current value: reg_alpha=0.0\n",
      "[LightGBM] [Warning] Unknown parameter: 1.8445909353908974\n",
      "[LightGBM] [Warning] reg_alpha is set=0.0, reg_alpha= will be ignored. Current value: reg_alpha=0.0\n",
      "[LightGBM] [Warning] Unknown parameter: 1.8445909353908974\n",
      "[LightGBM] [Warning] reg_alpha is set=0.0, reg_alpha= will be ignored. Current value: reg_alpha=0.0\n",
      "[LightGBM] [Warning] Unknown parameter: 1.8445909353908974\n",
      "[LightGBM] [Warning] reg_alpha is set=0.0, reg_alpha= will be ignored. Current value: reg_alpha=0.0\n",
      "[LightGBM] [Warning] Unknown parameter: 1.8445909353908974\n"
     ]
    },
    {
     "name": "stderr",
     "output_type": "stream",
     "text": [
      "\u001b[32m[I 2022-06-19 23:22:15,157]\u001b[0m Trial 0 finished with value: -1.5695438859419177 and parameters: {'n_estimators': 73, 'max_depth': 6, 'learning_rate': 0.016214620678624378, 'boosting_type': 'dart', 'num_leaves': 35, 'min_child_samples': 25, 'reg_alpha ': 1.8445909353908974}. Best is trial 0 with value: -1.5695438859419177.\u001b[0m\n"
     ]
    },
    {
     "name": "stdout",
     "output_type": "stream",
     "text": [
      "[LightGBM] [Warning] reg_alpha is set=0.0, reg_alpha= will be ignored. Current value: reg_alpha=0.0\n",
      "[LightGBM] [Warning] Unknown parameter: 9.74005282941547\n",
      "[LightGBM] [Warning] reg_alpha is set=0.0, reg_alpha= will be ignored. Current value: reg_alpha=0.0\n",
      "[LightGBM] [Warning] Unknown parameter: 9.74005282941547\n",
      "[LightGBM] [Warning] reg_alpha is set=0.0, reg_alpha= will be ignored. Current value: reg_alpha=0.0\n",
      "[LightGBM] [Warning] Unknown parameter: 9.74005282941547\n",
      "[LightGBM] [Warning] reg_alpha is set=0.0, reg_alpha= will be ignored. Current value: reg_alpha=0.0\n",
      "[LightGBM] [Warning] Unknown parameter: 9.74005282941547\n"
     ]
    },
    {
     "name": "stderr",
     "output_type": "stream",
     "text": [
      "\u001b[32m[I 2022-06-19 23:22:15,847]\u001b[0m Trial 1 finished with value: -1.1328189584033048 and parameters: {'n_estimators': 66, 'max_depth': 4, 'learning_rate': 0.09993257743060854, 'boosting_type': 'gbdt', 'num_leaves': 40, 'min_child_samples': 46, 'reg_alpha ': 9.74005282941547}. Best is trial 1 with value: -1.1328189584033048.\u001b[0m\n"
     ]
    },
    {
     "name": "stdout",
     "output_type": "stream",
     "text": [
      "[LightGBM] [Warning] reg_alpha is set=0.0, reg_alpha= will be ignored. Current value: reg_alpha=0.0\n",
      "[LightGBM] [Warning] Unknown parameter: 9.74005282941547\n",
      "[LightGBM] [Warning] reg_alpha is set=0.0, reg_alpha= will be ignored. Current value: reg_alpha=0.0\n",
      "[LightGBM] [Warning] Unknown parameter: 8.295457145583939\n",
      "[LightGBM] [Warning] reg_alpha is set=0.0, reg_alpha= will be ignored. Current value: reg_alpha=0.0\n",
      "[LightGBM] [Warning] Unknown parameter: 8.295457145583939\n",
      "[LightGBM] [Warning] reg_alpha is set=0.0, reg_alpha= will be ignored. Current value: reg_alpha=0.0\n",
      "[LightGBM] [Warning] Unknown parameter: 8.295457145583939\n",
      "[LightGBM] [Warning] reg_alpha is set=0.0, reg_alpha= will be ignored. Current value: reg_alpha=0.0\n",
      "[LightGBM] [Warning] Unknown parameter: 8.295457145583939\n",
      "[LightGBM] [Warning] reg_alpha is set=0.0, reg_alpha= will be ignored. Current value: reg_alpha=0.0\n",
      "[LightGBM] [Warning] Unknown parameter: 8.295457145583939\n"
     ]
    },
    {
     "name": "stderr",
     "output_type": "stream",
     "text": [
      "\u001b[32m[I 2022-06-19 23:22:17,176]\u001b[0m Trial 2 finished with value: -1.1225663124676362 and parameters: {'n_estimators': 73, 'max_depth': 6, 'learning_rate': 0.05112992701401068, 'boosting_type': 'gbdt', 'num_leaves': 40, 'min_child_samples': 45, 'reg_alpha ': 8.295457145583939}. Best is trial 2 with value: -1.1225663124676362.\u001b[0m\n"
     ]
    },
    {
     "name": "stdout",
     "output_type": "stream",
     "text": [
      "[LightGBM] [Warning] reg_alpha is set=0.0, reg_alpha= will be ignored. Current value: reg_alpha=0.0\n",
      "[LightGBM] [Warning] Unknown parameter: 0.38791928039823953\n",
      "[LightGBM] [Warning] reg_alpha is set=0.0, reg_alpha= will be ignored. Current value: reg_alpha=0.0\n",
      "[LightGBM] [Warning] Unknown parameter: 0.38791928039823953\n",
      "[LightGBM] [Warning] reg_alpha is set=0.0, reg_alpha= will be ignored. Current value: reg_alpha=0.0\n",
      "[LightGBM] [Warning] Unknown parameter: 0.38791928039823953\n",
      "[LightGBM] [Warning] reg_alpha is set=0.0, reg_alpha= will be ignored. Current value: reg_alpha=0.0\n",
      "[LightGBM] [Warning] Unknown parameter: 0.38791928039823953\n",
      "[LightGBM] [Warning] reg_alpha is set=0.0, reg_alpha= will be ignored. Current value: reg_alpha=0.0\n",
      "[LightGBM] [Warning] Unknown parameter: 0.38791928039823953\n"
     ]
    },
    {
     "name": "stderr",
     "output_type": "stream",
     "text": [
      "\u001b[32m[I 2022-06-19 23:22:18,076]\u001b[0m Trial 3 finished with value: -1.4106730756633281 and parameters: {'n_estimators': 76, 'max_depth': 3, 'learning_rate': 0.07307440544431598, 'boosting_type': 'dart', 'num_leaves': 38, 'min_child_samples': 43, 'reg_alpha ': 0.38791928039823953}. Best is trial 2 with value: -1.1225663124676362.\u001b[0m\n"
     ]
    },
    {
     "name": "stdout",
     "output_type": "stream",
     "text": [
      "[LightGBM] [Warning] reg_alpha is set=0.0, reg_alpha= will be ignored. Current value: reg_alpha=0.0\n",
      "[LightGBM] [Warning] Unknown parameter: 1.477198292412846\n",
      "[LightGBM] [Warning] reg_alpha is set=0.0, reg_alpha= will be ignored. Current value: reg_alpha=0.0\n",
      "[LightGBM] [Warning] Unknown parameter: 1.477198292412846\n",
      "[LightGBM] [Warning] reg_alpha is set=0.0, reg_alpha= will be ignored. Current value: reg_alpha=0.0\n",
      "[LightGBM] [Warning] Unknown parameter: 1.477198292412846\n",
      "[LightGBM] [Warning] reg_alpha is set=0.0, reg_alpha= will be ignored. Current value: reg_alpha=0.0\n",
      "[LightGBM] [Warning] Unknown parameter: 1.477198292412846\n",
      "[LightGBM] [Warning] reg_alpha is set=0.0, reg_alpha= will be ignored. Current value: reg_alpha=0.0\n",
      "[LightGBM] [Warning] Unknown parameter: 1.477198292412846\n"
     ]
    },
    {
     "name": "stderr",
     "output_type": "stream",
     "text": [
      "\u001b[32m[I 2022-06-19 23:22:19,374]\u001b[0m Trial 4 finished with value: -1.1523525098333802 and parameters: {'n_estimators': 87, 'max_depth': 6, 'learning_rate': 0.052872389948309166, 'boosting_type': 'goss', 'num_leaves': 49, 'min_child_samples': 48, 'reg_alpha ': 1.477198292412846}. Best is trial 2 with value: -1.1225663124676362.\u001b[0m\n"
     ]
    },
    {
     "name": "stdout",
     "output_type": "stream",
     "text": [
      "[LightGBM] [Warning] reg_alpha is set=0.0, reg_alpha= will be ignored. Current value: reg_alpha=0.0\n",
      "[LightGBM] [Warning] Unknown parameter: 3.619039606538072\n",
      "[LightGBM] [Warning] reg_alpha is set=0.0, reg_alpha= will be ignored. Current value: reg_alpha=0.0\n",
      "[LightGBM] [Warning] Unknown parameter: 3.619039606538072\n",
      "[LightGBM] [Warning] reg_alpha is set=0.0, reg_alpha= will be ignored. Current value: reg_alpha=0.0\n",
      "[LightGBM] [Warning] Unknown parameter: 3.619039606538072\n",
      "[LightGBM] [Warning] reg_alpha is set=0.0, reg_alpha= will be ignored. Current value: reg_alpha=0.0\n",
      "[LightGBM] [Warning] Unknown parameter: 3.619039606538072\n",
      "[LightGBM] [Warning] reg_alpha is set=0.0, reg_alpha= will be ignored. Current value: reg_alpha=0.0\n",
      "[LightGBM] [Warning] Unknown parameter: 3.619039606538072\n"
     ]
    },
    {
     "name": "stderr",
     "output_type": "stream",
     "text": [
      "\u001b[32m[I 2022-06-19 23:22:20,623]\u001b[0m Trial 5 finished with value: -1.401811090983344 and parameters: {'n_estimators': 76, 'max_depth': 4, 'learning_rate': 0.052691408948993844, 'boosting_type': 'dart', 'num_leaves': 40, 'min_child_samples': 39, 'reg_alpha ': 3.619039606538072}. Best is trial 2 with value: -1.1225663124676362.\u001b[0m\n"
     ]
    },
    {
     "name": "stdout",
     "output_type": "stream",
     "text": [
      "[LightGBM] [Warning] reg_alpha is set=0.0, reg_alpha= will be ignored. Current value: reg_alpha=0.0\n",
      "[LightGBM] [Warning] Unknown parameter: 7.214784658705532\n",
      "[LightGBM] [Warning] reg_alpha is set=0.0, reg_alpha= will be ignored. Current value: reg_alpha=0.0\n",
      "[LightGBM] [Warning] Unknown parameter: 7.214784658705532\n",
      "[LightGBM] [Warning] reg_alpha is set=0.0, reg_alpha= will be ignored. Current value: reg_alpha=0.0\n",
      "[LightGBM] [Warning] Unknown parameter: 7.214784658705532\n",
      "[LightGBM] [Warning] reg_alpha is set=0.0, reg_alpha= will be ignored. Current value: reg_alpha=0.0\n",
      "[LightGBM] [Warning] Unknown parameter: 7.214784658705532\n"
     ]
    },
    {
     "name": "stderr",
     "output_type": "stream",
     "text": [
      "\u001b[32m[I 2022-06-19 23:22:21,268]\u001b[0m Trial 6 finished with value: -1.4904332863329521 and parameters: {'n_estimators': 72, 'max_depth': 3, 'learning_rate': 0.019455149633580488, 'boosting_type': 'goss', 'num_leaves': 45, 'min_child_samples': 27, 'reg_alpha ': 7.214784658705532}. Best is trial 2 with value: -1.1225663124676362.\u001b[0m\n"
     ]
    },
    {
     "name": "stdout",
     "output_type": "stream",
     "text": [
      "[LightGBM] [Warning] reg_alpha is set=0.0, reg_alpha= will be ignored. Current value: reg_alpha=0.0\n",
      "[LightGBM] [Warning] Unknown parameter: 7.214784658705532\n",
      "[LightGBM] [Warning] reg_alpha is set=0.0, reg_alpha= will be ignored. Current value: reg_alpha=0.0\n",
      "[LightGBM] [Warning] Unknown parameter: 0.12690293760454138\n",
      "[LightGBM] [Warning] reg_alpha is set=0.0, reg_alpha= will be ignored. Current value: reg_alpha=0.0\n",
      "[LightGBM] [Warning] Unknown parameter: 0.12690293760454138\n",
      "[LightGBM] [Warning] reg_alpha is set=0.0, reg_alpha= will be ignored. Current value: reg_alpha=0.0\n",
      "[LightGBM] [Warning] Unknown parameter: 0.12690293760454138\n",
      "[LightGBM] [Warning] reg_alpha is set=0.0, reg_alpha= will be ignored. Current value: reg_alpha=0.0\n",
      "[LightGBM] [Warning] Unknown parameter: 0.12690293760454138\n",
      "[LightGBM] [Warning] reg_alpha is set=0.0, reg_alpha= will be ignored. Current value: reg_alpha=0.0\n",
      "[LightGBM] [Warning] Unknown parameter: 0.12690293760454138\n"
     ]
    },
    {
     "name": "stderr",
     "output_type": "stream",
     "text": [
      "\u001b[32m[I 2022-06-19 23:22:24,449]\u001b[0m Trial 7 finished with value: -1.3083403694463733 and parameters: {'n_estimators': 100, 'max_depth': 6, 'learning_rate': 0.04064640319846343, 'boosting_type': 'dart', 'num_leaves': 39, 'min_child_samples': 35, 'reg_alpha ': 0.12690293760454138}. Best is trial 2 with value: -1.1225663124676362.\u001b[0m\n"
     ]
    },
    {
     "name": "stdout",
     "output_type": "stream",
     "text": [
      "[LightGBM] [Warning] reg_alpha is set=0.0, reg_alpha= will be ignored. Current value: reg_alpha=0.0\n",
      "[LightGBM] [Warning] Unknown parameter: 3.4494167388040005\n",
      "[LightGBM] [Warning] reg_alpha is set=0.0, reg_alpha= will be ignored. Current value: reg_alpha=0.0\n",
      "[LightGBM] [Warning] Unknown parameter: 3.4494167388040005\n",
      "[LightGBM] [Warning] reg_alpha is set=0.0, reg_alpha= will be ignored. Current value: reg_alpha=0.0\n",
      "[LightGBM] [Warning] Unknown parameter: 3.4494167388040005\n",
      "[LightGBM] [Warning] reg_alpha is set=0.0, reg_alpha= will be ignored. Current value: reg_alpha=0.0\n",
      "[LightGBM] [Warning] Unknown parameter: 3.4494167388040005\n"
     ]
    },
    {
     "name": "stderr",
     "output_type": "stream",
     "text": [
      "\u001b[32m[I 2022-06-19 23:22:25,090]\u001b[0m Trial 8 finished with value: -1.5492082557851585 and parameters: {'n_estimators': 58, 'max_depth': 3, 'learning_rate': 0.03956263629024348, 'boosting_type': 'dart', 'num_leaves': 36, 'min_child_samples': 28, 'reg_alpha ': 3.4494167388040005}. Best is trial 2 with value: -1.1225663124676362.\u001b[0m\n"
     ]
    },
    {
     "name": "stdout",
     "output_type": "stream",
     "text": [
      "[LightGBM] [Warning] reg_alpha is set=0.0, reg_alpha= will be ignored. Current value: reg_alpha=0.0\n",
      "[LightGBM] [Warning] Unknown parameter: 3.4494167388040005\n",
      "[LightGBM] [Warning] reg_alpha is set=0.0, reg_alpha= will be ignored. Current value: reg_alpha=0.0\n",
      "[LightGBM] [Warning] Unknown parameter: 6.339030519832575\n",
      "[LightGBM] [Warning] reg_alpha is set=0.0, reg_alpha= will be ignored. Current value: reg_alpha=0.0\n",
      "[LightGBM] [Warning] Unknown parameter: 6.339030519832575\n",
      "[LightGBM] [Warning] reg_alpha is set=0.0, reg_alpha= will be ignored. Current value: reg_alpha=0.0\n",
      "[LightGBM] [Warning] Unknown parameter: 6.339030519832575\n",
      "[LightGBM] [Warning] reg_alpha is set=0.0, reg_alpha= will be ignored. Current value: reg_alpha=0.0\n",
      "[LightGBM] [Warning] Unknown parameter: 6.339030519832575\n",
      "[LightGBM] [Warning] reg_alpha is set=0.0, reg_alpha= will be ignored. Current value: reg_alpha=0.0\n",
      "[LightGBM] [Warning] Unknown parameter: 6.339030519832575\n"
     ]
    },
    {
     "name": "stderr",
     "output_type": "stream",
     "text": [
      "\u001b[32m[I 2022-06-19 23:22:25,713]\u001b[0m Trial 9 finished with value: -1.238178891940077 and parameters: {'n_estimators': 74, 'max_depth': 3, 'learning_rate': 0.0759169163961891, 'boosting_type': 'goss', 'num_leaves': 35, 'min_child_samples': 29, 'reg_alpha ': 6.339030519832575}. Best is trial 2 with value: -1.1225663124676362.\u001b[0m\n"
     ]
    },
    {
     "name": "stdout",
     "output_type": "stream",
     "text": [
      "[LightGBM] [Warning] reg_alpha is set=0.0, reg_alpha= will be ignored. Current value: reg_alpha=0.0\n",
      "[LightGBM] [Warning] Unknown parameter: 8.295457145583939\n"
     ]
    },
    {
     "data": {
      "text/plain": [
       "OptunaSearchCV(estimator=LGBMClassifier(boosting_type='dart',\n",
       "                                        class_weight='balanced',\n",
       "                                        learning_rate=0.06619829018245553,\n",
       "                                        max_depth=6, min_child_samples=21,\n",
       "                                        n_estimators=490, num_leaves=48,\n",
       "                                        random_state=42,\n",
       "                                        reg_alpha =1.0658688513690675),\n",
       "               param_distributions={'boosting_type': CategoricalDistribution(choices=('gbdt', 'dart', 'goss')),\n",
       "                                    'learning_rate': UniformDistr...h=0.1, low=0.01),\n",
       "                                    'max_depth': IntUniformDistribution(high=6, low=3, step=1),\n",
       "                                    'min_child_samples': IntUniformDistribution(high=50, low=20, step=1),\n",
       "                                    'n_estimators': IntUniformDistribution(high=100, low=50, step=1),\n",
       "                                    'num_leaves': IntUniformDistribution(high=50, low=31, step=1),\n",
       "                                    'reg_alpha ': UniformDistribution(high=10.0, low=0.1)},\n",
       "               random_state=42, scoring='neg_log_loss')"
      ]
     },
     "execution_count": 123,
     "metadata": {},
     "output_type": "execute_result"
    }
   ],
   "source": [
    "optuna_search = OptunaSearchCV(est, opt_params_distr, cv=5, random_state=42, \n",
    "                              scoring='neg_log_loss')\n",
    "optuna_search.fit(X_train, y_train)"
   ]
  },
  {
   "cell_type": "code",
   "execution_count": 117,
   "id": "6fbc4a6d",
   "metadata": {
    "scrolled": true
   },
   "outputs": [
    {
     "data": {
      "text/plain": [
       "{'n_estimators': 66,\n",
       " 'max_depth': 4,\n",
       " 'learning_rate': 0.09993257743060854,\n",
       " 'boosting_type': 'gbdt',\n",
       " 'num_leaves': 40,\n",
       " 'min_child_samples': 46,\n",
       " 'reg_alpha ': 9.74005282941547}"
      ]
     },
     "execution_count": 117,
     "metadata": {},
     "output_type": "execute_result"
    }
   ],
   "source": [
    "optuna_search.best_params_\n",
    "optuna"
   ]
  },
  {
   "cell_type": "markdown",
   "id": "f0b4d083",
   "metadata": {},
   "source": [
    "### Random Search"
   ]
  },
  {
   "cell_type": "code",
   "execution_count": 98,
   "id": "aa95d092",
   "metadata": {},
   "outputs": [],
   "source": [
    "params_distr = {'n_estimators': IntUniformDistribution(50, 300), \n",
    "                'max_depth': IntUniformDistribution(3, 6), \n",
    "                'learning_rate': UniformDistribution(0.01, 0.1), \n",
    "                'boosting_type': CategoricalDistribution(['gbdt', 'dart', 'goss']), \n",
    "                'num_leaves': IntUniformDistribution(20, 50), \n",
    "                'min_child_samples': IntUniformDistribution(20, 50), \n",
    "                'reg_alpha ': UniformDistribution(0.1, 10)\n",
    "                }"
   ]
  },
  {
   "cell_type": "code",
   "execution_count": 110,
   "id": "72cb3b65",
   "metadata": {},
   "outputs": [
    {
     "name": "stdout",
     "output_type": "stream",
     "text": [
      "CPU times: total: 34min 21s\n",
      "Wall time: 4min 42s\n"
     ]
    },
    {
     "data": {
      "text/plain": [
       "RandomSearchOptimizer(estimator=LGBMClassifier(boosting_type='goss',\n",
       "                                               class_weight='balanced',\n",
       "                                               learning_rate=0.09556428757689246,\n",
       "                                               max_depth=6,\n",
       "                                               min_child_samples=40,\n",
       "                                               n_estimators=152, num_leaves=48,\n",
       "                                               random_state=42,\n",
       "                                               reg_alpha =1.6445845403801216),\n",
       "                      num_runs=40,\n",
       "                      param_distributions={'boosting_type': <distributions.CategoricalDistribution object at 0x000001E2DD08BAC0>...\n",
       "                                           'min_child_samples': <distributions.IntUniformDistribution object at 0x000001E2DD08A7D0>,\n",
       "                                           'n_estimators': <distributions.IntUniformDistribution object at 0x000001E2DD02A140>,\n",
       "                                           'num_leaves': <distributions.IntUniformDistribution object at 0x000001E2DD08BA90>,\n",
       "                                           'reg_alpha ': <distributions.UniformDistribution object at 0x000001E2DD08A3E0>},\n",
       "                      random_state=42,\n",
       "                      scoring=<function log_loss at 0x000001E2CA0AA9E0>)"
      ]
     },
     "execution_count": 110,
     "metadata": {},
     "output_type": "execute_result"
    }
   ],
   "source": [
    "%%time\n",
    "r_search = RandomSearchOptimizer(est, params_distr, num_runs=40, random_state=42, \n",
    "                                 scoring=log_loss)\n",
    "r_search.fit(X_train, y_train)"
   ]
  },
  {
   "cell_type": "code",
   "execution_count": 99,
   "id": "8adb0545",
   "metadata": {},
   "outputs": [],
   "source": []
  },
  {
   "cell_type": "markdown",
   "id": "c347ab29",
   "metadata": {},
   "source": [
    "### GP Optimizer"
   ]
  },
  {
   "cell_type": "code",
   "execution_count": 111,
   "id": "a17ed376",
   "metadata": {
    "scrolled": true
   },
   "outputs": [
    {
     "name": "stdout",
     "output_type": "stream",
     "text": [
      "[LightGBM] [Warning] reg_alpha is set=0.0, reg_alpha= will be ignored. Current value: reg_alpha=0.0\n",
      "[LightGBM] [Warning] Unknown parameter: 3.1859396532851685\n",
      "[LightGBM] [Warning] reg_alpha is set=0.0, reg_alpha= will be ignored. Current value: reg_alpha=0.0\n",
      "[LightGBM] [Warning] Unknown parameter: 3.1859396532851685\n",
      "[LightGBM] [Warning] reg_alpha is set=0.0, reg_alpha= will be ignored. Current value: reg_alpha=0.0\n",
      "[LightGBM] [Warning] Unknown parameter: 4.162790938052734\n",
      "[LightGBM] [Warning] reg_alpha is set=0.0, reg_alpha= will be ignored. Current value: reg_alpha=0.0\n",
      "[LightGBM] [Warning] Unknown parameter: 4.162790938052734\n",
      "[LightGBM] [Warning] reg_alpha is set=0.0, reg_alpha= will be ignored. Current value: reg_alpha=0.0\n",
      "[LightGBM] [Warning] Unknown parameter: 4.162790938052734\n",
      "[LightGBM] [Warning] reg_alpha is set=0.0, reg_alpha= will be ignored. Current value: reg_alpha=0.0\n",
      "[LightGBM] [Warning] Unknown parameter: 7.309341851257409\n",
      "[LightGBM] [Warning] reg_alpha is set=0.0, reg_alpha= will be ignored. Current value: reg_alpha=0.0\n",
      "[LightGBM] [Warning] Unknown parameter: 7.309341851257409\n",
      "[LightGBM] [Warning] reg_alpha is set=0.0, reg_alpha= will be ignored. Current value: reg_alpha=0.0\n",
      "[LightGBM] [Warning] Unknown parameter: 7.309341851257409\n",
      "[LightGBM] [Warning] reg_alpha is set=0.0, reg_alpha= will be ignored. Current value: reg_alpha=0.0\n",
      "[LightGBM] [Warning] Unknown parameter: 2.4487659662183208\n",
      "[LightGBM] [Warning] reg_alpha is set=0.0, reg_alpha= will be ignored. Current value: reg_alpha=0.0\n",
      "[LightGBM] [Warning] Unknown parameter: 2.4487659662183208\n",
      "[LightGBM] [Warning] reg_alpha is set=0.0, reg_alpha= will be ignored. Current value: reg_alpha=0.0\n",
      "[LightGBM] [Warning] Unknown parameter: 2.4487659662183208\n",
      "[LightGBM] [Warning] reg_alpha is set=0.0, reg_alpha= will be ignored. Current value: reg_alpha=0.0\n",
      "[LightGBM] [Warning] Unknown parameter: 4.255830478818137\n",
      "[LightGBM] [Warning] reg_alpha is set=0.0, reg_alpha= will be ignored. Current value: reg_alpha=0.0\n",
      "[LightGBM] [Warning] Unknown parameter: 4.255830478818137\n",
      "[LightGBM] [Warning] reg_alpha is set=0.0, reg_alpha= will be ignored. Current value: reg_alpha=0.0\n",
      "[LightGBM] [Warning] Unknown parameter: 4.255830478818137\n",
      "[LightGBM] [Warning] reg_alpha is set=0.0, reg_alpha= will be ignored. Current value: reg_alpha=0.0\n",
      "[LightGBM] [Warning] Unknown parameter: 7.602676493597254\n",
      "[LightGBM] [Warning] reg_alpha is set=0.0, reg_alpha= will be ignored. Current value: reg_alpha=0.0\n",
      "[LightGBM] [Warning] Unknown parameter: 7.602676493597254\n",
      "[LightGBM] [Warning] reg_alpha is set=0.0, reg_alpha= will be ignored. Current value: reg_alpha=0.0\n",
      "[LightGBM] [Warning] Unknown parameter: 7.602676493597254\n",
      "[LightGBM] [Warning] reg_alpha is set=0.0, reg_alpha= will be ignored. Current value: reg_alpha=0.0\n",
      "[LightGBM] [Warning] Unknown parameter: 9.67904746005045\n",
      "[LightGBM] [Warning] reg_alpha is set=0.0, reg_alpha= will be ignored. Current value: reg_alpha=0.0\n",
      "[LightGBM] [Warning] Unknown parameter: 9.67904746005045\n",
      "[LightGBM] [Warning] reg_alpha is set=0.0, reg_alpha= will be ignored. Current value: reg_alpha=0.0\n",
      "[LightGBM] [Warning] Unknown parameter: 9.67904746005045\n",
      "[LightGBM] [Warning] reg_alpha is set=0.0, reg_alpha= will be ignored. Current value: reg_alpha=0.0\n",
      "[LightGBM] [Warning] Unknown parameter: 2.3035065339532026\n",
      "[LightGBM] [Warning] reg_alpha is set=0.0, reg_alpha= will be ignored. Current value: reg_alpha=0.0\n",
      "[LightGBM] [Warning] Unknown parameter: 2.3035065339532026\n",
      "[LightGBM] [Warning] reg_alpha is set=0.0, reg_alpha= will be ignored. Current value: reg_alpha=0.0\n",
      "[LightGBM] [Warning] Unknown parameter: 2.3035065339532026\n",
      "[LightGBM] [Warning] reg_alpha is set=0.0, reg_alpha= will be ignored. Current value: reg_alpha=0.0\n",
      "[LightGBM] [Warning] Unknown parameter: 0.549919165380433\n",
      "[LightGBM] [Warning] reg_alpha is set=0.0, reg_alpha= will be ignored. Current value: reg_alpha=0.0\n",
      "[LightGBM] [Warning] Unknown parameter: 0.549919165380433\n",
      "[LightGBM] [Warning] reg_alpha is set=0.0, reg_alpha= will be ignored. Current value: reg_alpha=0.0\n",
      "[LightGBM] [Warning] Unknown parameter: 0.549919165380433\n",
      "[LightGBM] [Warning] reg_alpha is set=0.0, reg_alpha= will be ignored. Current value: reg_alpha=0.0\n",
      "[LightGBM] [Warning] Unknown parameter: 3.840720437830286\n",
      "[LightGBM] [Warning] reg_alpha is set=0.0, reg_alpha= will be ignored. Current value: reg_alpha=0.0\n",
      "[LightGBM] [Warning] Unknown parameter: 3.840720437830286\n",
      "[LightGBM] [Warning] reg_alpha is set=0.0, reg_alpha= will be ignored. Current value: reg_alpha=0.0\n",
      "[LightGBM] [Warning] Unknown parameter: 3.840720437830286\n",
      "[LightGBM] [Warning] reg_alpha is set=0.0, reg_alpha= will be ignored. Current value: reg_alpha=0.0\n",
      "[LightGBM] [Warning] Unknown parameter: 0.5540265374058663\n",
      "[LightGBM] [Warning] reg_alpha is set=0.0, reg_alpha= will be ignored. Current value: reg_alpha=0.0\n",
      "[LightGBM] [Warning] Unknown parameter: 0.5540265374058663\n",
      "[LightGBM] [Warning] reg_alpha is set=0.0, reg_alpha= will be ignored. Current value: reg_alpha=0.0\n",
      "[LightGBM] [Warning] Unknown parameter: 0.5540265374058663\n",
      "[LightGBM] [Warning] reg_alpha is set=0.0, reg_alpha= will be ignored. Current value: reg_alpha=0.0\n",
      "[LightGBM] [Warning] Unknown parameter: 1.1382047486715612\n",
      "[LightGBM] [Warning] reg_alpha is set=0.0, reg_alpha= will be ignored. Current value: reg_alpha=0.0\n",
      "[LightGBM] [Warning] Unknown parameter: 1.1382047486715612\n",
      "[LightGBM] [Warning] reg_alpha is set=0.0, reg_alpha= will be ignored. Current value: reg_alpha=0.0\n",
      "[LightGBM] [Warning] Unknown parameter: 1.1382047486715612\n",
      "[LightGBM] [Warning] reg_alpha is set=0.0, reg_alpha= will be ignored. Current value: reg_alpha=0.0\n",
      "[LightGBM] [Warning] Unknown parameter: 2.6532379877449044\n",
      "[LightGBM] [Warning] reg_alpha is set=0.0, reg_alpha= will be ignored. Current value: reg_alpha=0.0\n",
      "[LightGBM] [Warning] Unknown parameter: 2.6532379877449044\n",
      "[LightGBM] [Warning] reg_alpha is set=0.0, reg_alpha= will be ignored. Current value: reg_alpha=0.0\n",
      "[LightGBM] [Warning] Unknown parameter: 2.6532379877449044\n",
      "[LightGBM] [Warning] reg_alpha is set=0.0, reg_alpha= will be ignored. Current value: reg_alpha=0.0\n",
      "[LightGBM] [Warning] Unknown parameter: 3.652421792822675\n",
      "[LightGBM] [Warning] reg_alpha is set=0.0, reg_alpha= will be ignored. Current value: reg_alpha=0.0\n",
      "[LightGBM] [Warning] Unknown parameter: 3.652421792822675\n",
      "[LightGBM] [Warning] reg_alpha is set=0.0, reg_alpha= will be ignored. Current value: reg_alpha=0.0\n",
      "[LightGBM] [Warning] Unknown parameter: 3.652421792822675\n",
      "[LightGBM] [Warning] reg_alpha is set=0.0, reg_alpha= will be ignored. Current value: reg_alpha=0.0\n",
      "[LightGBM] [Warning] Unknown parameter: 1.8978173963341143\n",
      "[LightGBM] [Warning] reg_alpha is set=0.0, reg_alpha= will be ignored. Current value: reg_alpha=0.0\n",
      "[LightGBM] [Warning] Unknown parameter: 1.8978173963341143\n",
      "[LightGBM] [Warning] reg_alpha is set=0.0, reg_alpha= will be ignored. Current value: reg_alpha=0.0\n",
      "[LightGBM] [Warning] Unknown parameter: 1.8978173963341143\n",
      "[LightGBM] [Warning] reg_alpha is set=0.0, reg_alpha= will be ignored. Current value: reg_alpha=0.0\n",
      "[LightGBM] [Warning] Unknown parameter: 2.2789624194028613\n",
      "[LightGBM] [Warning] reg_alpha is set=0.0, reg_alpha= will be ignored. Current value: reg_alpha=0.0\n",
      "[LightGBM] [Warning] Unknown parameter: 2.2789624194028613\n",
      "[LightGBM] [Warning] reg_alpha is set=0.0, reg_alpha= will be ignored. Current value: reg_alpha=0.0\n",
      "[LightGBM] [Warning] Unknown parameter: 2.2789624194028613\n",
      "[LightGBM] [Warning] reg_alpha is set=0.0, reg_alpha= will be ignored. Current value: reg_alpha=0.0\n",
      "[LightGBM] [Warning] Unknown parameter: 2.458009532362593\n",
      "[LightGBM] [Warning] reg_alpha is set=0.0, reg_alpha= will be ignored. Current value: reg_alpha=0.0\n",
      "[LightGBM] [Warning] Unknown parameter: 2.458009532362593\n",
      "[LightGBM] [Warning] reg_alpha is set=0.0, reg_alpha= will be ignored. Current value: reg_alpha=0.0\n",
      "[LightGBM] [Warning] Unknown parameter: 2.458009532362593\n",
      "[LightGBM] [Warning] reg_alpha is set=0.0, reg_alpha= will be ignored. Current value: reg_alpha=0.0\n",
      "[LightGBM] [Warning] Unknown parameter: 0.7650364591655299\n",
      "[LightGBM] [Warning] reg_alpha is set=0.0, reg_alpha= will be ignored. Current value: reg_alpha=0.0\n",
      "[LightGBM] [Warning] Unknown parameter: 0.7650364591655299\n"
     ]
    },
    {
     "name": "stdout",
     "output_type": "stream",
     "text": [
      "[LightGBM] [Warning] reg_alpha is set=0.0, reg_alpha= will be ignored. Current value: reg_alpha=0.0\n",
      "[LightGBM] [Warning] Unknown parameter: 0.7650364591655299\n",
      "[LightGBM] [Warning] reg_alpha is set=0.0, reg_alpha= will be ignored. Current value: reg_alpha=0.0\n",
      "[LightGBM] [Warning] Unknown parameter: 5.943283602003962\n",
      "[LightGBM] [Warning] reg_alpha is set=0.0, reg_alpha= will be ignored. Current value: reg_alpha=0.0\n",
      "[LightGBM] [Warning] Unknown parameter: 5.943283602003962\n",
      "[LightGBM] [Warning] reg_alpha is set=0.0, reg_alpha= will be ignored. Current value: reg_alpha=0.0\n",
      "[LightGBM] [Warning] Unknown parameter: 5.943283602003962\n",
      "[LightGBM] [Warning] reg_alpha is set=0.0, reg_alpha= will be ignored. Current value: reg_alpha=0.0\n",
      "[LightGBM] [Warning] Unknown parameter: 5.76703481839131\n",
      "[LightGBM] [Warning] reg_alpha is set=0.0, reg_alpha= will be ignored. Current value: reg_alpha=0.0\n",
      "[LightGBM] [Warning] Unknown parameter: 5.76703481839131\n",
      "[LightGBM] [Warning] reg_alpha is set=0.0, reg_alpha= will be ignored. Current value: reg_alpha=0.0\n",
      "[LightGBM] [Warning] Unknown parameter: 5.76703481839131\n",
      "[LightGBM] [Warning] reg_alpha is set=0.0, reg_alpha= will be ignored. Current value: reg_alpha=0.0\n",
      "[LightGBM] [Warning] Unknown parameter: 7.459192946646879\n",
      "[LightGBM] [Warning] reg_alpha is set=0.0, reg_alpha= will be ignored. Current value: reg_alpha=0.0\n",
      "[LightGBM] [Warning] Unknown parameter: 7.459192946646879\n",
      "[LightGBM] [Warning] reg_alpha is set=0.0, reg_alpha= will be ignored. Current value: reg_alpha=0.0\n",
      "[LightGBM] [Warning] Unknown parameter: 7.459192946646879\n",
      "[LightGBM] [Warning] reg_alpha is set=0.0, reg_alpha= will be ignored. Current value: reg_alpha=0.0\n",
      "[LightGBM] [Warning] Unknown parameter: 9.074485822501343\n",
      "[LightGBM] [Warning] reg_alpha is set=0.0, reg_alpha= will be ignored. Current value: reg_alpha=0.0\n",
      "[LightGBM] [Warning] Unknown parameter: 9.074485822501343\n",
      "[LightGBM] [Warning] reg_alpha is set=0.0, reg_alpha= will be ignored. Current value: reg_alpha=0.0\n",
      "[LightGBM] [Warning] Unknown parameter: 9.074485822501343\n",
      "[LightGBM] [Warning] reg_alpha is set=0.0, reg_alpha= will be ignored. Current value: reg_alpha=0.0\n",
      "[LightGBM] [Warning] Unknown parameter: 0.8394747358027548\n",
      "[LightGBM] [Warning] reg_alpha is set=0.0, reg_alpha= will be ignored. Current value: reg_alpha=0.0\n",
      "[LightGBM] [Warning] Unknown parameter: 0.8394747358027548\n",
      "[LightGBM] [Warning] reg_alpha is set=0.0, reg_alpha= will be ignored. Current value: reg_alpha=0.0\n",
      "[LightGBM] [Warning] Unknown parameter: 0.8394747358027548\n",
      "[LightGBM] [Warning] reg_alpha is set=0.0, reg_alpha= will be ignored. Current value: reg_alpha=0.0\n",
      "[LightGBM] [Warning] Unknown parameter: 0.422009176963394\n",
      "[LightGBM] [Warning] reg_alpha is set=0.0, reg_alpha= will be ignored. Current value: reg_alpha=0.0\n",
      "[LightGBM] [Warning] Unknown parameter: 0.422009176963394\n",
      "[LightGBM] [Warning] reg_alpha is set=0.0, reg_alpha= will be ignored. Current value: reg_alpha=0.0\n",
      "[LightGBM] [Warning] Unknown parameter: 0.422009176963394\n",
      "[LightGBM] [Warning] reg_alpha is set=0.0, reg_alpha= will be ignored. Current value: reg_alpha=0.0\n",
      "[LightGBM] [Warning] Unknown parameter: 0.5077166032647896\n",
      "[LightGBM] [Warning] reg_alpha is set=0.0, reg_alpha= will be ignored. Current value: reg_alpha=0.0\n",
      "[LightGBM] [Warning] Unknown parameter: 0.5077166032647896\n",
      "[LightGBM] [Warning] reg_alpha is set=0.0, reg_alpha= will be ignored. Current value: reg_alpha=0.0\n",
      "[LightGBM] [Warning] Unknown parameter: 0.5077166032647896\n",
      "[LightGBM] [Warning] reg_alpha is set=0.0, reg_alpha= will be ignored. Current value: reg_alpha=0.0\n",
      "[LightGBM] [Warning] Unknown parameter: 3.524756426214933\n",
      "[LightGBM] [Warning] reg_alpha is set=0.0, reg_alpha= will be ignored. Current value: reg_alpha=0.0\n",
      "[LightGBM] [Warning] Unknown parameter: 3.524756426214933\n",
      "[LightGBM] [Warning] reg_alpha is set=0.0, reg_alpha= will be ignored. Current value: reg_alpha=0.0\n",
      "[LightGBM] [Warning] Unknown parameter: 3.524756426214933\n",
      "[LightGBM] [Warning] reg_alpha is set=0.0, reg_alpha= will be ignored. Current value: reg_alpha=0.0\n",
      "[LightGBM] [Warning] Unknown parameter: 0.8276177985671254\n",
      "[LightGBM] [Warning] reg_alpha is set=0.0, reg_alpha= will be ignored. Current value: reg_alpha=0.0\n",
      "[LightGBM] [Warning] Unknown parameter: 0.8276177985671254\n",
      "[LightGBM] [Warning] reg_alpha is set=0.0, reg_alpha= will be ignored. Current value: reg_alpha=0.0\n",
      "[LightGBM] [Warning] Unknown parameter: 0.8276177985671254\n",
      "[LightGBM] [Warning] reg_alpha is set=0.0, reg_alpha= will be ignored. Current value: reg_alpha=0.0\n",
      "[LightGBM] [Warning] Unknown parameter: 1.646022063442522\n",
      "[LightGBM] [Warning] reg_alpha is set=0.0, reg_alpha= will be ignored. Current value: reg_alpha=0.0\n",
      "[LightGBM] [Warning] Unknown parameter: 1.646022063442522\n",
      "[LightGBM] [Warning] reg_alpha is set=0.0, reg_alpha= will be ignored. Current value: reg_alpha=0.0\n",
      "[LightGBM] [Warning] Unknown parameter: 1.646022063442522\n",
      "[LightGBM] [Warning] reg_alpha is set=0.0, reg_alpha= will be ignored. Current value: reg_alpha=0.0\n",
      "[LightGBM] [Warning] Unknown parameter: 0.35385645148371336\n",
      "[LightGBM] [Warning] reg_alpha is set=0.0, reg_alpha= will be ignored. Current value: reg_alpha=0.0\n",
      "[LightGBM] [Warning] Unknown parameter: 0.35385645148371336\n",
      "[LightGBM] [Warning] reg_alpha is set=0.0, reg_alpha= will be ignored. Current value: reg_alpha=0.0\n",
      "[LightGBM] [Warning] Unknown parameter: 0.35385645148371336\n",
      "[LightGBM] [Warning] reg_alpha is set=0.0, reg_alpha= will be ignored. Current value: reg_alpha=0.0\n",
      "[LightGBM] [Warning] Unknown parameter: 0.5297840752627098\n",
      "[LightGBM] [Warning] reg_alpha is set=0.0, reg_alpha= will be ignored. Current value: reg_alpha=0.0\n",
      "[LightGBM] [Warning] Unknown parameter: 0.5297840752627098\n",
      "[LightGBM] [Warning] reg_alpha is set=0.0, reg_alpha= will be ignored. Current value: reg_alpha=0.0\n",
      "[LightGBM] [Warning] Unknown parameter: 0.5297840752627098\n",
      "[LightGBM] [Warning] reg_alpha is set=0.0, reg_alpha= will be ignored. Current value: reg_alpha=0.0\n",
      "[LightGBM] [Warning] Unknown parameter: 0.7872960431863243\n",
      "[LightGBM] [Warning] reg_alpha is set=0.0, reg_alpha= will be ignored. Current value: reg_alpha=0.0\n",
      "[LightGBM] [Warning] Unknown parameter: 0.7872960431863243\n",
      "[LightGBM] [Warning] reg_alpha is set=0.0, reg_alpha= will be ignored. Current value: reg_alpha=0.0\n",
      "[LightGBM] [Warning] Unknown parameter: 0.7872960431863243\n",
      "[LightGBM] [Warning] reg_alpha is set=0.0, reg_alpha= will be ignored. Current value: reg_alpha=0.0\n",
      "[LightGBM] [Warning] Unknown parameter: 1.2647253818882305\n",
      "[LightGBM] [Warning] reg_alpha is set=0.0, reg_alpha= will be ignored. Current value: reg_alpha=0.0\n",
      "[LightGBM] [Warning] Unknown parameter: 1.2647253818882305\n",
      "[LightGBM] [Warning] reg_alpha is set=0.0, reg_alpha= will be ignored. Current value: reg_alpha=0.0\n",
      "[LightGBM] [Warning] Unknown parameter: 1.2647253818882305\n",
      "[LightGBM] [Warning] reg_alpha is set=0.0, reg_alpha= will be ignored. Current value: reg_alpha=0.0\n",
      "[LightGBM] [Warning] Unknown parameter: 0.35553787879992116\n",
      "[LightGBM] [Warning] reg_alpha is set=0.0, reg_alpha= will be ignored. Current value: reg_alpha=0.0\n",
      "[LightGBM] [Warning] Unknown parameter: 0.35553787879992116\n",
      "[LightGBM] [Warning] reg_alpha is set=0.0, reg_alpha= will be ignored. Current value: reg_alpha=0.0\n",
      "[LightGBM] [Warning] Unknown parameter: 0.35553787879992116\n",
      "[LightGBM] [Warning] reg_alpha is set=0.0, reg_alpha= will be ignored. Current value: reg_alpha=0.0\n",
      "[LightGBM] [Warning] Unknown parameter: 0.7397051304564528\n",
      "[LightGBM] [Warning] reg_alpha is set=0.0, reg_alpha= will be ignored. Current value: reg_alpha=0.0\n",
      "[LightGBM] [Warning] Unknown parameter: 0.7397051304564528\n",
      "[LightGBM] [Warning] reg_alpha is set=0.0, reg_alpha= will be ignored. Current value: reg_alpha=0.0\n",
      "[LightGBM] [Warning] Unknown parameter: 0.7397051304564528\n",
      "[LightGBM] [Warning] reg_alpha is set=0.0, reg_alpha= will be ignored. Current value: reg_alpha=0.0\n",
      "[LightGBM] [Warning] Unknown parameter: 0.45215158365192865\n",
      "[LightGBM] [Warning] reg_alpha is set=0.0, reg_alpha= will be ignored. Current value: reg_alpha=0.0\n",
      "[LightGBM] [Warning] Unknown parameter: 0.45215158365192865\n",
      "[LightGBM] [Warning] reg_alpha is set=0.0, reg_alpha= will be ignored. Current value: reg_alpha=0.0\n",
      "[LightGBM] [Warning] Unknown parameter: 0.45215158365192865\n"
     ]
    },
    {
     "name": "stdout",
     "output_type": "stream",
     "text": [
      "[LightGBM] [Warning] reg_alpha is set=0.0, reg_alpha= will be ignored. Current value: reg_alpha=0.0\n",
      "[LightGBM] [Warning] Unknown parameter: 2.2885273773919117\n",
      "[LightGBM] [Warning] reg_alpha is set=0.0, reg_alpha= will be ignored. Current value: reg_alpha=0.0\n",
      "[LightGBM] [Warning] Unknown parameter: 2.2885273773919117\n",
      "[LightGBM] [Warning] reg_alpha is set=0.0, reg_alpha= will be ignored. Current value: reg_alpha=0.0\n",
      "[LightGBM] [Warning] Unknown parameter: 2.2885273773919117\n",
      "[LightGBM] [Warning] reg_alpha is set=0.0, reg_alpha= will be ignored. Current value: reg_alpha=0.0\n",
      "[LightGBM] [Warning] Unknown parameter: 0.1517731740748361\n",
      "[LightGBM] [Warning] reg_alpha is set=0.0, reg_alpha= will be ignored. Current value: reg_alpha=0.0\n",
      "[LightGBM] [Warning] Unknown parameter: 0.1517731740748361\n",
      "[LightGBM] [Warning] reg_alpha is set=0.0, reg_alpha= will be ignored. Current value: reg_alpha=0.0\n",
      "[LightGBM] [Warning] Unknown parameter: 0.1517731740748361\n",
      "[LightGBM] [Warning] reg_alpha is set=0.0, reg_alpha= will be ignored. Current value: reg_alpha=0.0\n",
      "[LightGBM] [Warning] Unknown parameter: 1.2715282901415346\n",
      "[LightGBM] [Warning] reg_alpha is set=0.0, reg_alpha= will be ignored. Current value: reg_alpha=0.0\n",
      "[LightGBM] [Warning] Unknown parameter: 1.2715282901415346\n",
      "[LightGBM] [Warning] reg_alpha is set=0.0, reg_alpha= will be ignored. Current value: reg_alpha=0.0\n",
      "[LightGBM] [Warning] Unknown parameter: 1.2715282901415346\n",
      "[LightGBM] [Warning] reg_alpha is set=0.0, reg_alpha= will be ignored. Current value: reg_alpha=0.0\n",
      "[LightGBM] [Warning] Unknown parameter: 0.4327746418144981\n",
      "[LightGBM] [Warning] reg_alpha is set=0.0, reg_alpha= will be ignored. Current value: reg_alpha=0.0\n",
      "[LightGBM] [Warning] Unknown parameter: 0.4327746418144981\n",
      "[LightGBM] [Warning] reg_alpha is set=0.0, reg_alpha= will be ignored. Current value: reg_alpha=0.0\n",
      "[LightGBM] [Warning] Unknown parameter: 0.4327746418144981\n",
      "[LightGBM] [Warning] reg_alpha is set=0.0, reg_alpha= will be ignored. Current value: reg_alpha=0.0\n",
      "[LightGBM] [Warning] Unknown parameter: 1.0658688513690675\n",
      "[LightGBM] [Warning] reg_alpha is set=0.0, reg_alpha= will be ignored. Current value: reg_alpha=0.0\n",
      "[LightGBM] [Warning] Unknown parameter: 1.0658688513690675\n",
      "[LightGBM] [Warning] reg_alpha is set=0.0, reg_alpha= will be ignored. Current value: reg_alpha=0.0\n",
      "[LightGBM] [Warning] Unknown parameter: 1.0658688513690675\n",
      "[LightGBM] [Warning] reg_alpha is set=0.0, reg_alpha= will be ignored. Current value: reg_alpha=0.0\n",
      "[LightGBM] [Warning] Unknown parameter: 1.0658688513690675\n",
      "CPU times: total: 31min 21s\n",
      "Wall time: 4min 17s\n"
     ]
    },
    {
     "data": {
      "text/plain": [
       "GPOptimizer(estimator=LGBMClassifier(boosting_type='dart',\n",
       "                                     class_weight='balanced',\n",
       "                                     learning_rate=0.06619829018245553,\n",
       "                                     max_depth=6, min_child_samples=21,\n",
       "                                     n_estimators=490, num_leaves=48,\n",
       "                                     random_state=42,\n",
       "                                     reg_alpha =1.0658688513690675),\n",
       "            num_runs=40, num_samples_per_run=10,\n",
       "            param_distributions={'boosting_type': <distributions.CategoricalDistribution object at 0x0000...\n",
       "                                 'min_child_samples': <distributions.IntUniformDistribution object at 0x000001E2DD08A7D0>,\n",
       "                                 'n_estimators': <distributions.IntUniformDistribution object at 0x000001E2DD02A140>,\n",
       "                                 'num_leaves': <distributions.IntUniformDistribution object at 0x000001E2DD08BA90>,\n",
       "                                 'reg_alpha ': <distributions.UniformDistribution object at 0x000001E2DD08A3E0>},\n",
       "            random_state=42, scoring='neg_log_loss')"
      ]
     },
     "execution_count": 111,
     "metadata": {},
     "output_type": "execute_result"
    }
   ],
   "source": [
    "%%time\n",
    "gp_search = GPOptimizer(est, params_distr, num_runs=40, random_state=42, \n",
    "                        num_dry_runs=5, num_samples_per_run=10, \n",
    "                        scoring='neg_log_loss')\n",
    "gp_search.fit(X_train, y_train)"
   ]
  },
  {
   "cell_type": "code",
   "execution_count": 112,
   "id": "dac96022",
   "metadata": {},
   "outputs": [
    {
     "data": {
      "text/plain": [
       "array([-1.38244446, -1.24234261, -1.17510703, -1.08519698, -1.08328073,\n",
       "       -1.57427871, -1.58651711, -1.26622241, -1.08865206, -1.08410907,\n",
       "       -1.14252219, -1.12765036, -1.17971472, -1.22910788, -1.36632201,\n",
       "       -1.21624848, -1.12862146, -1.52584761, -1.25064586, -1.32613662,\n",
       "       -1.0724979 , -1.69946445, -1.16144468, -1.27767098, -1.28638445,\n",
       "       -1.45272669, -1.18828677, -1.21189726, -1.09621166, -1.10712562,\n",
       "       -1.27862943, -1.14153632, -1.1275754 , -1.2000032 , -1.12822314,\n",
       "       -1.09666967, -1.08321278, -1.35660756, -1.12348419, -1.02969381])"
      ]
     },
     "execution_count": 112,
     "metadata": {},
     "output_type": "execute_result"
    }
   ],
   "source": [
    "gp_search.scores_history"
   ]
  },
  {
   "cell_type": "code",
   "execution_count": 116,
   "id": "76ad0b69",
   "metadata": {},
   "outputs": [
    {
     "data": {
      "text/plain": [
       "array([485., 774., 389., 197., 332., 174., 661., 148., 414., 725., 734.,\n",
       "       244.,  88., 274.,  72., 509., 525., 379., 659., 379., 788., 937.,\n",
       "       730.,  82., 255., 272., 996., 935., 850., 353., 633., 588., 810.,\n",
       "       336., 514., 369., 409.,  69., 886., 490.])"
      ]
     },
     "execution_count": 116,
     "metadata": {},
     "output_type": "execute_result"
    }
   ],
   "source": [
    "gp_search.params_history['n_estimators']"
   ]
  },
  {
   "cell_type": "code",
   "execution_count": null,
   "id": "bb311354",
   "metadata": {},
   "outputs": [],
   "source": [
    "tpe_search = TPEOptimizer(est, params_distr, num_runs=40, random_state=42, \n",
    "                        num_dry_runs=5, num_samples_per_run=10, \n",
    "                        scoring=log_loss)\n",
    "tpe_search.fit(X_train, y_train)"
   ]
  },
  {
   "cell_type": "code",
   "execution_count": null,
   "id": "5155a65e",
   "metadata": {},
   "outputs": [],
   "source": []
  },
  {
   "cell_type": "code",
   "execution_count": null,
   "id": "7bce36a7",
   "metadata": {},
   "outputs": [],
   "source": []
  },
  {
   "cell_type": "code",
   "execution_count": null,
   "id": "3ce6b208",
   "metadata": {},
   "outputs": [],
   "source": []
  },
  {
   "cell_type": "markdown",
   "id": "desperate-float",
   "metadata": {},
   "source": [
    "Теперь попробуем визуализировать, что у нас получилось. Сделайте 4 сабплота, по одному на каждую стратегию поиска. На каждом графике изобразите лучшее найденное значение метрики, усредненное по запускам алгоритма, против номера итерации. Также нарисуйте область ± одного стандартного отклонения лучшего значения метрики. Кроме того, на том же графике сделайте scatter-plot **(номер итерации, значение метрики)** для этого запуска (именно для текущего набора гиперпараметра с итерации, а не лучшее, как для прошлого графика). Можете рисовать scatter-plot для всех повторных запусков сразу.\n",
    "\n",
    "Прокомментируйте наблюдаемое. Какой(-ие) алгоритм(-ы) показали себя лучше всего? Какой(-ие) можно назвать более стабильным(-и)?"
   ]
  },
  {
   "cell_type": "code",
   "execution_count": 119,
   "id": "c3002f80",
   "metadata": {},
   "outputs": [],
   "source": [
    "import matplotlib.pyplot as plt"
   ]
  },
  {
   "cell_type": "code",
   "execution_count": null,
   "id": "7be51e63",
   "metadata": {},
   "outputs": [],
   "source": []
  },
  {
   "cell_type": "code",
   "execution_count": null,
   "id": "racial-ghana",
   "metadata": {},
   "outputs": [],
   "source": [
    "fig, axes = plt.subplots(2,2, figsize = (20,20))\n",
    "\n",
    "for ax in axes.flatten():\n",
    "    ax.set_title(\"RandomSearchOptimizer's best scores (scaled)\")\n",
    "    ax.plot(np.arange(1,6),test_scores['RS']/5)\n",
    "    ax.set_xlabel('Iterations')\n",
    "    ax.set_ylabel('Score')\n",
    "    \n",
    "    for i in range(1, 4):\n",
    "        ax.scatter(x=np.array([i]*len(scores_history['RS'][i])), \n",
    "                   y=scores_history['RS'][i-1]/5, color = 'r')\n",
    "    ax.fill_between(np.arange(1, 4), \n",
    "                    (test_scores['RS']/3 - test_scores_sigma['RS']), \n",
    "                    (test_scores['RS']/3 + test_scores_sigma['RS']), color='b', alpha=.1)\n",
    "\n",
    "\n",
    "\n",
    "axes[1,0].set_title(\"GPOptimizer's best scores (scaled)\")\n",
    "axes[1,0].plot(np.arange(1,6),test_scores['GP']/5)\n",
    "axes[1,0].set_xlabel('Number of iter')\n",
    "axes[1,0].set_ylabel('neg log loss')\n",
    "\n",
    "axes[1,0].fill_between(np.arange(1,6), (test_scores['GP']/5-test_scores_sigma['GP']), \n",
    "                       (test_scores['GP']/5+test_scores_sigma['GP']), color='g', alpha=.2)\n",
    "\n",
    "axes[0,1].set_title(\"TPEOptimizer's best scores (scaled)\")\n",
    "axes[0,1].plot(np.arange(1,6),test_scores['TPE']/5)\n",
    "axes[0,1].set_xlabel('Number of iter')\n",
    "axes[0,1].set_ylabel('neg log loss')\n",
    "\n",
    "axes[0,1].fill_between(np.arange(1,6), (test_scores['TPE']/5-test_scores_sigma['TPE']), \n",
    "                       (test_scores['TPE']/5+test_scores_sigma['TPE']), color='g', alpha=.2)\n",
    "\n",
    "\n",
    "axes[1,1].set_title(\"OptunaSearchOptimizerCV's best scores (scaled)\")\n",
    "axes[1,1].plot(np.arange(1,6),test_scores['Optuna']/5)\n",
    "axes[1,1].set_xlabel('Number of iter')\n",
    "axes[1,1].set_ylabel('neg log loss')\n",
    "\n",
    "axes[1,1].fill_between(np.arange(1,6), (test_scores['Optuna']/5-test_scores_sigma['Optuna']), \n",
    "                       (test_scores['Optuna']/5+test_scores_sigma['Optuna']), color='g', alpha=.2)\n",
    "plt.show()"
   ]
  },
  {
   "cell_type": "markdown",
   "id": "pending-notion",
   "metadata": {},
   "source": [
    "**Задание 2.3 (1.5 балла).** Теперь посмотрим на распределение $p(y|x)$, которое получилось у `GPOptimizer`. Рассмотрим плоскость значений гиперпараметров числа деревьев и learning rate. Настройте ГП на выборку истории значений этих двух гиперпараметров одного из `GPOptimizer`, обученных вами выше. Ядро возьмите такое же, какое использовалось при поиске. Визуализируйте среднее, которое предсказывает ГП на плоскости (вам поможет `plt.imshow` или `plt.scatter`). Также добавьте на рисунок точки из истории поиска. Не забудьте про colorbar'ы и правильные подписи отметок на осях. Сделайте выводы. "
   ]
  },
  {
   "cell_type": "code",
   "execution_count": null,
   "id": "greek-exclusion",
   "metadata": {},
   "outputs": [],
   "source": [
    "# Your code here (⊃｡•́‿•̀｡)⊃"
   ]
  },
  {
   "cell_type": "markdown",
   "id": "ambient-parade",
   "metadata": {},
   "source": [
    "**Задание 2.4 (1.5 балла)**. Аналогичным образом визуализируйте значения $\\log g(x)$ и $\\log l(x)$ на той же плоскости для `TPEOptimizer`. Параметр `bandwidth` оценивайте так же, как и в алгоритме поиска. Не забудьте добавить на рисунок точки из истории поиска (каждую из двух групп поместите на свой график). Что можно сказать о получившихся распределениях?"
   ]
  },
  {
   "cell_type": "code",
   "execution_count": null,
   "id": "crucial-ownership",
   "metadata": {},
   "outputs": [],
   "source": [
    "# Your code here (⊃｡•́‿•̀｡)⊃"
   ]
  },
  {
   "cell_type": "markdown",
   "id": "final-observation",
   "metadata": {},
   "source": [
    "**Задание 2.5 (0.5 балла)**. И на последок визуализируем, как изменялись распределения для категориального гиперпараметра у разных стратегий поиска. В этом пункте вам предлагается построить три рисунка:\n",
    "\n",
    "1. Ддя `GPOptimizer`: постройте графики $\\mu(c) \\pm \\sigma(c)$ для каждой категории $c$ против номера итерации (все на одном рисунке). \n",
    "\n",
    "\n",
    "2. Для `TPEOptimizer`: постройте area plot для значений $g(c)$ против номера итерации.\n",
    "\n",
    "\n",
    "3. Аналогично пункту 2 для значений $l(c)$.\n",
    "\n",
    "Прокомментируйте то, что получилось."
   ]
  },
  {
   "cell_type": "code",
   "execution_count": null,
   "id": "molecular-documentation",
   "metadata": {},
   "outputs": [],
   "source": [
    "# Your code here (⊃｡•́‿•̀｡)⊃"
   ]
  }
 ],
 "metadata": {
  "kernelspec": {
   "display_name": "Python 3 (ipykernel)",
   "language": "python",
   "name": "python3"
  },
  "language_info": {
   "codemirror_mode": {
    "name": "ipython",
    "version": 3
   },
   "file_extension": ".py",
   "mimetype": "text/x-python",
   "name": "python",
   "nbconvert_exporter": "python",
   "pygments_lexer": "ipython3",
   "version": "3.10.2"
  }
 },
 "nbformat": 4,
 "nbformat_minor": 5
}
