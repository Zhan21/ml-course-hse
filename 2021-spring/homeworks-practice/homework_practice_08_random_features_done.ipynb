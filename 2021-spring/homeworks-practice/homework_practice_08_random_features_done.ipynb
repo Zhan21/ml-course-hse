{
 "cells": [
  {
   "cell_type": "markdown",
   "metadata": {
    "id": "RYp0bXOFK-hP"
   },
   "source": [
    "# Машинное обучение, ФКН ВШЭ\n",
    "\n",
    "## Практическое задание 8. Метод опорных векторов и аппроксимация ядер\n",
    "\n",
    "### Общая информация\n",
    "\n",
    "Дата выдачи: 28.01.2022\n",
    "\n",
    "Мягкий дедлайн: 23:59MSK 14.02.2022\n",
    "\n",
    "Жесткий дедлайн: 23:59MSK 17.02.2022\n",
    "\n",
    "### Оценивание и штрафы\n",
    "Каждая из задач имеет определенную «стоимость» (указана в скобках около задачи). Максимальная оценка за работу (без учёта бонусов) — 10 баллов.\n",
    "\n",
    "Сдавать задание после указанного жёсткого срока сдачи нельзя. При выставлении неполного балла за задание в связи с наличием ошибок на усмотрение проверяющего предусмотрена возможность исправить работу на указанных в ответном письме условиях.\n",
    "\n",
    "Задание выполняется самостоятельно. «Похожие» решения считаются плагиатом и все задействованные студенты (в том числе те, у кого списали) не могут получить за него больше 0 баллов (подробнее о плагиате см. на странице курса). Если вы нашли решение какого-то из заданий (или его часть) в открытом источнике, необходимо указать ссылку на этот источник в отдельном блоке в конце вашей работы (скорее всего вы будете не единственным, кто это нашел, поэтому чтобы исключить подозрение в плагиате, необходима ссылка на источник).\n",
    "\n",
    "Неэффективная реализация кода может негативно отразиться на оценке.\n",
    "\n",
    "### Формат сдачи\n",
    "Задания сдаются через систему anytask. Посылка должна содержать:\n",
    "* Ноутбук homework-practice-08-random-features-Username.ipynb\n",
    "\n",
    "Username — ваша фамилия и имя на латинице именно в таком порядке"
   ]
  },
  {
   "cell_type": "markdown",
   "metadata": {
    "id": "vY8vT0W_K-hR"
   },
   "source": [
    "### О задании\n",
    "\n",
    "На занятиях мы подробно обсуждали метод опорных векторов (SVM). В базовой версии в нём нет чего-то особенного — мы всего лишь используем специальную функцию потерь, которая не требует устремлять отступы к бесконечности; ей достаточно, чтобы отступы были не меньше +1. Затем мы узнали, что SVM можно переписать в двойственном виде, который, позволяет заменить скалярные произведения объектов на ядра. Это будет соответствовать построению модели в новом пространстве более высокой размерности, координаты которого представляют собой нелинейные модификации исходных признаков.\n",
    "\n",
    "Ядровой SVM, к сожалению, довольно затратен по памяти (нужно хранить матрицу Грама размера $d \\times d$) и по времени (нужно решать задачу условной оптимизации с квадратичной функцией, а это не очень быстро). Мы обсуждали, что есть способы посчитать новые признаки $\\tilde \\varphi(x)$ на основе исходных так, что скалярные произведения этих новых $\\langle \\tilde \\varphi(x), \\tilde \\varphi(z) \\rangle$ приближают ядро $K(x, z)$.\n",
    "\n",
    "Мы будем исследовать аппроксимации методом Random Fourier Features (RFF, также в литературе встречается название Random Kitchen Sinks) для гауссовых ядер. Будем использовать формулы, которые немного отличаются от того, что было на лекциях (мы добавим сдвиги внутрь тригонометрических функций и будем использовать только косинусы, потому что с нужным сдвигом косинус превратится в синус):\n",
    "$$\\tilde \\varphi(x) = (\n",
    "\\cos (w_1^T x + b_1),\n",
    "\\dots,\n",
    "\\cos (w_n^T x + b_n)\n",
    "),$$\n",
    "где $w_j \\sim \\mathcal{N}(0, 1/\\sigma^2)$, $b_j \\sim U[-\\pi, \\pi]$.\n",
    "\n",
    "На новых признаках $\\tilde \\varphi(x)$ мы будем строить любую линейную модель.\n",
    "\n",
    "Можно считать, что это некоторая новая парадигма построения сложных моделей. Можно направленно искать сложные нелинейные закономерности в данных с помощью градиентного бустинга или нейронных сетей, а можно просто нагенерировать большое количество случайных нелинейных признаков и надеяться, что быстрая и простая модель (то есть линейная) сможет показать на них хорошее качество. В этом задании мы изучим, насколько работоспособна такая идея.\n",
    "\n",
    "### Алгоритм\n",
    "\n",
    "Вам потребуется реализовать следующий алгоритм:\n",
    "1. Понизить размерность выборки до new_dim с помощью метода главных компонент.\n",
    "2. Для полученной выборки оценить гиперпараметр $\\sigma^2$ с помощью эвристики (рекомендуем считать медиану не по всем парам объектов, а по случайному подмножеству из где-то миллиона пар объектов): $$\\sigma^2 = \\text{median}_{i, j = 1, \\dots, \\ell, i \\neq j} \\left\\{\\sum_{k = 1}^{d} (x_{ik} - x_{jk})^2 \\right\\}$$\n",
    "3. Сгенерировать n_features наборов весов $w_j$ и сдвигов $b_j$.\n",
    "4. Сформировать n_features новых признаков по формулам, приведённым выше.\n",
    "5. Обучить линейную модель (логистическую регрессию или SVM) на новых признаках.\n",
    "6. Повторить преобразования (PCA, формирование новых признаков) к тестовой выборке и применить модель."
   ]
  },
  {
   "cell_type": "markdown",
   "metadata": {
    "id": "N_sGunb7K-hS"
   },
   "source": [
    "Тестировать алгоритм мы будем на данных Fashion MNIST. Ниже код для их загрузки и подготовки."
   ]
  },
  {
   "cell_type": "code",
   "execution_count": null,
   "metadata": {
    "colab": {
     "base_uri": "https://localhost:8080/"
    },
    "id": "LasEofiLFmPs",
    "outputId": "fe34c244-8b78-421a-d1d7-1d445b7cf149"
   },
   "outputs": [
    {
     "data": {
      "text/plain": [
       "Generator(PCG64) at 0x7F8F88066950"
      ]
     },
     "execution_count": 3,
     "metadata": {},
     "output_type": "execute_result"
    }
   ],
   "source": [
    "import numpy as np\n",
    "rng = np.random.default_rng(2022)\n",
    "rng"
   ]
  },
  {
   "cell_type": "code",
   "execution_count": null,
   "metadata": {
    "id": "YyG6dBfjK-hS"
   },
   "outputs": [],
   "source": [
    "import keras\n",
    "from keras.datasets import fashion_mnist\n",
    "\n",
    "(x_train_pics, y_train), (x_test_pics, y_test) = fashion_mnist.load_data()\n",
    "x_train = x_train_pics.reshape(x_train_pics.shape[0], -1)\n",
    "x_test = x_test_pics.reshape(x_test_pics.shape[0], -1)"
   ]
  },
  {
   "cell_type": "markdown",
   "metadata": {
    "id": "rJNN55F7K-hT"
   },
   "source": [
    "#__Задание 1. (5 баллов)__\n",
    "\n",
    "Реализуйте алгоритм, описанный выше. Можете воспользоваться шаблоном класса ниже или написать свой интерфейс.\n",
    "\n",
    "Ваша реализация должна поддерживать следующие опции:\n",
    "1. Возможность задавать значения гиперпараметров new_dim (по умолчанию 50) и n_features (по умолчанию 1000).\n",
    "2. Возможность включать или выключать предварительное понижение размерности с помощью метода главных компонент.\n",
    "3. Возможность выбирать тип линейной модели (логистическая регрессия или SVM с линейным ядром).\n",
    "\n",
    "Протестируйте на данных Fashion MNIST, сформированных кодом выше. Если на тесте у вас получилась доля верных ответов не ниже 0.84 с гиперпараметрами по умолчанию, то вы всё сделали правильно."
   ]
  },
  {
   "cell_type": "markdown",
   "metadata": {
    "id": "oDwRbdxTrSAu"
   },
   "source": [
    "### Тесты без пайплайна (не надо проверять)"
   ]
  },
  {
   "cell_type": "code",
   "execution_count": null,
   "metadata": {
    "colab": {
     "base_uri": "https://localhost:8080/"
    },
    "id": "rM2t4FwuN6dZ",
    "outputId": "2f1e2187-fda1-4ad0-9d40-0a725b3c1159"
   },
   "outputs": [
    {
     "data": {
      "text/plain": [
       "54397.0"
      ]
     },
     "execution_count": 20,
     "metadata": {},
     "output_type": "execute_result"
    }
   ],
   "source": [
    "xi = x_train[np.random.randint(x_train.shape[0], size=1000000)]\n",
    "xj = x_train[np.random.randint(x_train.shape[0], size=1000000)]\n",
    "\n",
    "sigma_male = np.median(np.sum((xi - xj)**2, axis=1))\n",
    "sigma_male"
   ]
  },
  {
   "cell_type": "code",
   "execution_count": null,
   "metadata": {
    "id": "RvibIIbx20To"
   },
   "outputs": [],
   "source": [
    "###DO NOT SCALE \n",
    "# from sklearn.preprocessing import StandardScaler\n",
    "# scaler = StandardScaler()\n",
    "# x_train = scaler.fit_transform(x_train)\n",
    "# x_test = scaler.transform(x_test)"
   ]
  },
  {
   "cell_type": "code",
   "execution_count": null,
   "metadata": {
    "id": "X5qrSU5olZUh"
   },
   "outputs": [],
   "source": [
    "w_samples = np.random.normal(0, 1/sigma_male, (100, x_train.shape[1]))\n",
    "b = np.random.uniform(-np.pi, np.pi, 100)\n",
    "\n",
    "phi_x_train = np.cos(x_train @ w_samples.T + b)\n",
    "phi_x_test = np.cos(x_test @ w_samples.T + b)"
   ]
  },
  {
   "cell_type": "code",
   "execution_count": null,
   "metadata": {
    "colab": {
     "base_uri": "https://localhost:8080/"
    },
    "id": "BtCsoRIWtU1y",
    "outputId": "15dec804-07b8-44d0-a78c-93451c6893a8"
   },
   "outputs": [
    {
     "data": {
      "text/plain": [
       "(10000, 100)"
      ]
     },
     "execution_count": 23,
     "metadata": {},
     "output_type": "execute_result"
    }
   ],
   "source": [
    "phi_x_test.shape"
   ]
  },
  {
   "cell_type": "markdown",
   "metadata": {
    "id": "RfKcfmDDB5Nz"
   },
   "source": [
    "**Без PCA**"
   ]
  },
  {
   "cell_type": "code",
   "execution_count": null,
   "metadata": {
    "colab": {
     "base_uri": "https://localhost:8080/"
    },
    "id": "T1kfebtEhWsR",
    "outputId": "1bb581a9-6be8-43dc-94ac-47a44cb2160f"
   },
   "outputs": [
    {
     "data": {
      "text/plain": [
       "0.7421"
      ]
     },
     "execution_count": 24,
     "metadata": {},
     "output_type": "execute_result"
    }
   ],
   "source": [
    "from sklearn.svm import SVC, LinearSVC\n",
    "\n",
    "svc = SVC(kernel='linear', probability=True)\n",
    "svc.fit(phi_x_train[:5000], y_train[:5000])\n",
    "\n",
    "y1_pred = svc.predict(phi_x_test)\n",
    "(y1_pred == y_test).mean()"
   ]
  },
  {
   "cell_type": "code",
   "execution_count": null,
   "metadata": {
    "colab": {
     "base_uri": "https://localhost:8080/"
    },
    "id": "tIf4MSuZmjLf",
    "outputId": "e54f4005-8339-4a76-d933-40d5081e7369"
   },
   "outputs": [
    {
     "data": {
      "text/plain": [
       "0.7651"
      ]
     },
     "execution_count": 25,
     "metadata": {},
     "output_type": "execute_result"
    }
   ],
   "source": [
    "from sklearn.svm import SVC, LinearSVC\n",
    "\n",
    "lin_svc = LinearSVC(max_iter=3000)\n",
    "lin_svc.fit(phi_x_train[:5000], y_train[:5000])\n",
    "\n",
    "y2_pred = lin_svc.predict(phi_x_test)\n",
    "(y2_pred == y_test).mean()"
   ]
  },
  {
   "cell_type": "code",
   "execution_count": null,
   "metadata": {
    "colab": {
     "base_uri": "https://localhost:8080/"
    },
    "id": "_EFjQ-xRmFM5",
    "outputId": "6aaaa3b0-9894-44fd-b860-32ab10476bba"
   },
   "outputs": [
    {
     "data": {
      "text/plain": [
       "0.7263"
      ]
     },
     "execution_count": 26,
     "metadata": {},
     "output_type": "execute_result"
    }
   ],
   "source": [
    "from sklearn.linear_model import LogisticRegression\n",
    "\n",
    "logreg = LogisticRegression(solver='saga', max_iter=1000)\n",
    "logreg.fit(phi_x_train[:5000], y_train[:5000])\n",
    "\n",
    "y3_pred = logreg.predict(phi_x_test)\n",
    "(y3_pred == y_test).mean()"
   ]
  },
  {
   "cell_type": "code",
   "execution_count": null,
   "metadata": {
    "colab": {
     "base_uri": "https://localhost:8080/"
    },
    "id": "nyDlsahB7rgu",
    "outputId": "f3eef38c-21b8-4a9d-efce-bed8317b9314"
   },
   "outputs": [
    {
     "name": "stderr",
     "output_type": "stream",
     "text": [
      "/usr/local/lib/python3.7/dist-packages/sklearn/linear_model/_sag.py:354: ConvergenceWarning: The max_iter was reached which means the coef_ did not converge\n",
      "  ConvergenceWarning,\n"
     ]
    },
    {
     "data": {
      "text/plain": [
       "0.7261"
      ]
     },
     "execution_count": 27,
     "metadata": {},
     "output_type": "execute_result"
    }
   ],
   "source": [
    "from sklearn.linear_model import LogisticRegression\n",
    "\n",
    "logreg = LogisticRegression(solver='saga', max_iter=100)\n",
    "logreg.fit(phi_x_train[:5000], y_train[:5000])\n",
    "\n",
    "y3_pred = logreg.predict(phi_x_test)\n",
    "(y3_pred == y_test).mean()"
   ]
  },
  {
   "cell_type": "markdown",
   "metadata": {
    "id": "sBYDgZM-CJZ6"
   },
   "source": [
    "**Используя PCA**"
   ]
  },
  {
   "cell_type": "code",
   "execution_count": null,
   "metadata": {
    "id": "ZnMbFz06qRzB"
   },
   "outputs": [],
   "source": [
    "from sklearn.decomposition import PCA\n",
    "\n",
    "pca = PCA(n_components=50)\n",
    "pca_train = pca.fit_transform(x_train)\n",
    "pca_test = pca.transform(x_test)\n",
    "\n",
    "w_samples = np.random.normal(0, 1/sigma_male, (100, pca_train.shape[1]))\n",
    "b = np.random.uniform(-np.pi, np.pi, 100)\n",
    "\n",
    "phi_x_train = np.cos(pca_train @ w_samples.T + b)\n",
    "phi_x_test = np.cos(pca_test @ w_samples.T + b)"
   ]
  },
  {
   "cell_type": "code",
   "execution_count": null,
   "metadata": {
    "colab": {
     "base_uri": "https://localhost:8080/"
    },
    "id": "cswsosneq7th",
    "outputId": "db5e51e7-a411-45a6-c34a-b5ac9421c9fc"
   },
   "outputs": [
    {
     "data": {
      "text/plain": [
       "0.7458"
      ]
     },
     "execution_count": 29,
     "metadata": {},
     "output_type": "execute_result"
    }
   ],
   "source": [
    "from sklearn.svm import SVC, LinearSVC\n",
    "\n",
    "svc = SVC(kernel='linear', probability=True)\n",
    "svc.fit(phi_x_train[:5000], y_train[:5000])\n",
    "\n",
    "ysample_pred = svc.predict(phi_x_test)\n",
    "(ysample_pred == y_test).mean()"
   ]
  },
  {
   "cell_type": "code",
   "execution_count": null,
   "metadata": {
    "colab": {
     "base_uri": "https://localhost:8080/"
    },
    "id": "odoH4_mdq_bD",
    "outputId": "65a7e9c3-add5-4d47-ec04-6f0fbbe8800c"
   },
   "outputs": [
    {
     "data": {
      "text/plain": [
       "0.7741"
      ]
     },
     "execution_count": 30,
     "metadata": {},
     "output_type": "execute_result"
    }
   ],
   "source": [
    "from sklearn.svm import SVC, LinearSVC\n",
    "\n",
    "lin_svc = LinearSVC(max_iter=3000)\n",
    "lin_svc.fit(phi_x_train[:5000], y_train[:5000])\n",
    "\n",
    "ysample_pred = lin_svc.predict(phi_x_test)\n",
    "(ysample_pred == y_test).mean()"
   ]
  },
  {
   "cell_type": "code",
   "execution_count": null,
   "metadata": {
    "colab": {
     "base_uri": "https://localhost:8080/"
    },
    "id": "rVaW1gOuq-nK",
    "outputId": "a31d3092-3da7-44bb-9ca9-a3a1d9470880"
   },
   "outputs": [
    {
     "data": {
      "text/plain": [
       "0.7316"
      ]
     },
     "execution_count": 31,
     "metadata": {},
     "output_type": "execute_result"
    }
   ],
   "source": [
    "from sklearn.linear_model import LogisticRegression\n",
    "\n",
    "logreg = LogisticRegression(solver='saga', max_iter=1000)\n",
    "logreg.fit(phi_x_train[:5000], y_train[:5000])\n",
    "\n",
    "ysample_pred = logreg.predict(phi_x_test)\n",
    "(ysample_pred == y_test).mean()"
   ]
  },
  {
   "cell_type": "markdown",
   "metadata": {
    "id": "LoGHHUfYreG7"
   },
   "source": [
    "### Финальная модель с пайплайном"
   ]
  },
  {
   "cell_type": "code",
   "execution_count": 31,
   "metadata": {
    "id": "jP8yepx8K-hT"
   },
   "outputs": [],
   "source": [
    "from sklearn.base import BaseEstimator, TransformerMixin\n",
    "from sklearn.preprocessing import StandardScaler\n",
    "from sklearn.decomposition import PCA\n",
    "from sklearn.linear_model import LogisticRegression\n",
    "from sklearn.svm import SVC\n",
    "\n",
    "class RFFPipeline(BaseEstimator, TransformerMixin):\n",
    "    def __init__(self, n_features=1000, new_dim=50, use_PCA=True, use_scaler=False, classifier='logreg'):\n",
    "        \"\"\"\n",
    "        Implements pipeline, which consists of PCA decomposition,\n",
    "        Random Fourier Features approximation and linear classification model.\n",
    "          n_features, int: amount of synthetic random features generated with RFF approximation.\n",
    "          new_dim, int: PCA output size.\n",
    "          use_PCA, bool: whether to include PCA preprocessing.\n",
    "          classifier, string: either 'svm' or 'logreg', a linear classification model to use on top of pipeline.\n",
    "        Feel free to edit this template for your preferences.    \n",
    "        \"\"\"\n",
    "        self.n_features = n_features\n",
    "        self.use_PCA = use_PCA\n",
    "        self.new_dim = new_dim\n",
    "        self.classifier = classifier\n",
    "        self.use_scaler = use_scaler\n",
    "        \n",
    "    def fit(self, X, y):\n",
    "        \"\"\"\n",
    "        Fit all parts of algorithm (PCA, RFF, Classification) to training set.\n",
    "        \"\"\"\n",
    "        # Sigma squared Male Rule estimation\n",
    "        mask = np.random.randint(X.shape[0], size=(2, 1000000))\n",
    "        xi, xj = X[mask[0]], X[mask[1]]\n",
    "        sigma_sq = np.median(np.sum(((xi - xj) ** 2), axis=1))\n",
    "        \n",
    "        # Scaling and PCA\n",
    "        # scaler = StandardScaler()\n",
    "        # X = scaler.fit_transform(X)\n",
    "        if self.use_PCA:\n",
    "            self.pca = PCA(n_components=self.new_dim)\n",
    "            X = self.pca.fit_transform(X)\n",
    "\n",
    "        # Generating features with RFF\n",
    "        self.w_samples = np.random.normal(0, 1/sigma_sq, (self.n_features, X.shape[1]))\n",
    "        self.b = np.random.uniform(-np.pi, np.pi, self.n_features)\n",
    "        Phi_X = np.cos(X @ self.w_samples.T + self.b)\n",
    "        \n",
    "        # Scaling new features and fit\n",
    "        if self.use_scaler:\n",
    "            self.scaler = StandardScaler()\n",
    "            Phi_X = self.scaler.fit_transform(Phi_X)\n",
    "            \n",
    "        if self.classifier == 'svm':\n",
    "            self.svc = SVC(kernel='linear', probability=False)\n",
    "            self.svc.fit(Phi_X, y)\n",
    "            \n",
    "        if self.classifier == 'logreg':\n",
    "            self.logreg = LogisticRegression(solver='saga')\n",
    "            self.logreg.fit(Phi_X, y)\n",
    "            \n",
    "        return self\n",
    "\n",
    "    def predict_proba(self, X):\n",
    "        \"\"\"\n",
    "        Apply pipeline to obtain scores for input data.\n",
    "        \"\"\"\n",
    "        # Scaling and PCA\n",
    "        # scaler = StandardScaler()\n",
    "        # X = scaler.fit_transform(X)\n",
    "        if self.use_PCA:\n",
    "            X = self.pca.transform(X)\n",
    "        \n",
    "        # Generating features with RFF\n",
    "        Phi_X = np.cos(X @ self.w_samples.T + self.b)\n",
    "        \n",
    "        # Probabilities\n",
    "        if self.classifier == 'svm':\n",
    "            return self.svc.predict_proba(Phi_X)\n",
    "            \n",
    "        if self.classifier == 'logreg':\n",
    "            return self.logreg.predict_proba(Phi_X)\n",
    "                \n",
    "    def predict(self, X):\n",
    "        \"\"\"\n",
    "        Apply pipeline to obtain discrete predictions for input data.\n",
    "        \"\"\"\n",
    "        # Scaling and PCA\n",
    "        # scaler = StandardScaler()\n",
    "        # X = scaler.fit_transform(X)\n",
    "        if self.use_PCA:\n",
    "            X = self.pca.transform(X)\n",
    "            \n",
    "        # Generating features with RFF\n",
    "        Phi_X = np.cos(X @ self.w_samples.T + self.b)\n",
    "        \n",
    "        # Classification\n",
    "        if self.classifier == 'svm':\n",
    "            return self.svc.predict(Phi_X)\n",
    "            \n",
    "        if self.classifier == 'logreg':\n",
    "            return self.logreg.predict(Phi_X)\n",
    "            "
   ]
  },
  {
   "cell_type": "code",
   "execution_count": null,
   "metadata": {
    "colab": {
     "base_uri": "https://localhost:8080/"
    },
    "id": "wJdtN5T6ZYq0",
    "outputId": "58a06a4b-ecdd-4231-c106-08135fdd5a1a"
   },
   "outputs": [
    {
     "data": {
      "text/plain": [
       "0.8171"
      ]
     },
     "execution_count": 40,
     "metadata": {},
     "output_type": "execute_result"
    }
   ],
   "source": [
    "model = RFFPipeline(n_features=1000, new_dim=50, use_PCA=False, classifier='svm')\n",
    "model.fit(x_train[:5000], y_train[:5000])\n",
    "\n",
    "y_pred = model.predict(x_test)\n",
    "np.mean(y_pred == y_test)"
   ]
  },
  {
   "cell_type": "code",
   "execution_count": null,
   "metadata": {
    "colab": {
     "base_uri": "https://localhost:8080/"
    },
    "id": "tmtU0ZCJg5IP",
    "outputId": "68ac7f3b-964b-4017-8896-2bdec37d1e3d"
   },
   "outputs": [
    {
     "data": {
      "text/plain": [
       "0.8039"
      ]
     },
     "execution_count": 39,
     "metadata": {},
     "output_type": "execute_result"
    }
   ],
   "source": [
    "model = RFFPipeline(n_features=1000, new_dim=50, use_PCA=True, classifier='svm')\n",
    "model.fit(x_train[:5000], y_train[:5000])\n",
    "\n",
    "y_pred = model.predict(x_test)\n",
    "np.mean(y_pred == y_test)"
   ]
  },
  {
   "cell_type": "markdown",
   "metadata": {
    "id": "tc2OukcLC2ig"
   },
   "source": [
    "На подвыборке лучше себя показала модель без PCA. Поэтому для финальной прогонки используем именно её."
   ]
  },
  {
   "cell_type": "code",
   "execution_count": null,
   "metadata": {
    "colab": {
     "base_uri": "https://localhost:8080/"
    },
    "id": "UpsAnmkwhg2e",
    "outputId": "3866e67c-dd24-47e9-f47e-61f92b4a039b"
   },
   "outputs": [
    {
     "data": {
      "text/plain": [
       "0.8498"
      ]
     },
     "execution_count": 45,
     "metadata": {},
     "output_type": "execute_result"
    }
   ],
   "source": [
    "np.random.seed(2022)\n",
    "model = RFFPipeline(n_features=1000, new_dim=50, use_PCA=False, classifier='svm')\n",
    "model.fit(x_train, y_train)\n",
    "\n",
    "y_pred = model.predict(x_test)\n",
    "np.mean(y_pred == y_test)"
   ]
  },
  {
   "cell_type": "markdown",
   "metadata": {
    "id": "LyiCU95ORjZS"
   },
   "source": [
    "Обучение на всей выборке заняло 23 минуты."
   ]
  },
  {
   "cell_type": "markdown",
   "metadata": {
    "id": "HYqQUEi-K-hU"
   },
   "source": [
    "#__Задание 2. (3 балла)__\n",
    "\n",
    "Сравните подход со случайными признаками с обучением SVM на исходных признаках. Попробуйте вариант с обычным (линейным) SVM и с ядровым SVM. Ядровой SVM может очень долго обучаться, поэтому можно делать любые разумные вещи для ускорения: брать подмножество объектов из обучающей выборки, например.\n",
    "\n",
    "Сравните подход со случайными признаками с вариантом, в котором вы понижаете размерность с помощью PCA и обучаете градиентный бустинг. Используйте одну из реализаций CatBoost/LightGBM/XGBoost, не забудьте подобрать число деревьев и длину шага.\n",
    "\n",
    "Сделайте выводы — насколько идея со случайными признаками работает? Сравните как с точки зрения качества, так и с точки зрения скорости обучения и применения."
   ]
  },
  {
   "cell_type": "code",
   "execution_count": 29,
   "metadata": {
    "id": "Mk03D9E3XcpN"
   },
   "outputs": [],
   "source": [
    "from sklearn.svm import LinearSVC, SVC\n",
    "from xgboost.sklearn import XGBClassifier\n",
    "import time\n",
    "import warnings\n",
    "# warnings.filterwarnings(\"ignore\")"
   ]
  },
  {
   "cell_type": "code",
   "execution_count": null,
   "metadata": {
    "colab": {
     "base_uri": "https://localhost:8080/"
    },
    "id": "DefLKfJvZcJx",
    "outputId": "d04f2067-371a-41cc-edb2-2b2754fabfa2"
   },
   "outputs": [
    {
     "name": "stdout",
     "output_type": "stream",
     "text": [
      "LinearSVM accuracy: 0.7332\n",
      "--- 22.760557413101196 seconds ---\n"
     ]
    }
   ],
   "source": [
    "np.random.seed(2022)\n",
    "start_time = time.time()\n",
    "\n",
    "lin_svc = LinearSVC(max_iter=3000)\n",
    "lin_svc.fit(x_train[:5000], y_train[:5000])\n",
    "\n",
    "y_pred = lin_svc.predict(x_test)\n",
    "print(f\"LinearSVM accuracy: {np.mean(y_pred == y_test)}\")\n",
    "print(f\"--- {time.time() - start_time} seconds ---\")"
   ]
  },
  {
   "cell_type": "code",
   "execution_count": null,
   "metadata": {
    "colab": {
     "base_uri": "https://localhost:8080/"
    },
    "id": "ADR8jC9RaXFX",
    "outputId": "c19c751e-d01a-4d1d-f778-f291f69c4b52"
   },
   "outputs": [
    {
     "name": "stdout",
     "output_type": "stream",
     "text": [
      "KernelSVM accuracy: 0.7976\n",
      "--- 13.547722339630127 seconds ---\n"
     ]
    }
   ],
   "source": [
    "start_time = time.time()\n",
    "kernel_svc = SVC(kernel='linear')\n",
    "kernel_svc.fit(x_train[:5000], y_train[:5000])\n",
    "\n",
    "y_pred = kernel_svc.predict(x_test)\n",
    "print(f\"KernelSVM accuracy: {np.mean(y_pred == y_test)}\")\n",
    "print(f\"--- {time.time() - start_time} seconds ---\")"
   ]
  },
  {
   "cell_type": "code",
   "execution_count": null,
   "metadata": {
    "colab": {
     "base_uri": "https://localhost:8080/"
    },
    "id": "ZlbIiQxQXOdj",
    "outputId": "af15af81-5adb-41fa-8f8e-0344d8e65b8b"
   },
   "outputs": [
    {
     "name": "stdout",
     "output_type": "stream",
     "text": [
      "KernelSVM accuracy: 0.8343\n",
      "--- 24.421908617019653 seconds ---\n"
     ]
    }
   ],
   "source": [
    "start_time = time.time()\n",
    "kernel_svc = SVC(kernel='rbf')\n",
    "kernel_svc.fit(x_train[:5000], y_train[:5000])\n",
    "\n",
    "y_pred = kernel_svc.predict(x_test)\n",
    "print(f\"KernelSVM accuracy: {np.mean(y_pred == y_test)}\")\n",
    "print(f\"--- {time.time() - start_time} seconds ---\")"
   ]
  },
  {
   "cell_type": "markdown",
   "metadata": {
    "id": "mKc-4Bq9ZPtZ"
   },
   "source": [
    "Как можно видеть линейный SVM уступает ядровому методу при одинаковом времени обучения. Это как раз связано с тем, что гауссовское ядро, которое используется в ядровом SVM позволяет использовать признаки из бесконечномерного пространства, где они могут быть линейно разделимыми. Тогда как линейный метод использует исходные признаки. \n",
    "\n",
    "Комментарий насчет разницы между LinearSVC() и SVC(kernel='linear'). LinearSVC это более гибкий класс для обучения линейных классификаторов, так как он использует библиотеку liblinear, который позволяет настраивать регуляризацию и лоссы. \n",
    "SVC(kernel='linear') использует библиотекку libsvm, поэтому на больших данных LinearSVC обучается быстрее. \\\\\n",
    "https://stackoverflow.com/questions/11508788/whats-the-difference-between-libsvm-and-liblinear"
   ]
  },
  {
   "cell_type": "code",
   "execution_count": null,
   "metadata": {
    "colab": {
     "base_uri": "https://localhost:8080/"
    },
    "id": "qN8LUlJgK-hV",
    "outputId": "d337b3ad-dbcb-47bc-e5d2-1bc18c37da6e"
   },
   "outputs": [
    {
     "name": "stdout",
     "output_type": "stream",
     "text": [
      "XGBoost accuracy: 0.8349\n",
      "--- 114.93435788154602 seconds ---\n"
     ]
    }
   ],
   "source": [
    "start_time = time.time()\n",
    "xgb = XGBClassifier()\n",
    "xgb.fit(x_train[:5000], y_train[:5000])\n",
    "\n",
    "y_pred = xgb.predict(x_test)\n",
    "print(f\"XGBoost accuracy: {np.mean(y_pred == y_test)}\")\n",
    "print(f\"--- {time.time() - start_time} seconds ---\")"
   ]
  },
  {
   "cell_type": "markdown",
   "metadata": {
    "id": "z3cKtRInqIaC"
   },
   "source": [
    "Подберем параметры бустинга:"
   ]
  },
  {
   "cell_type": "code",
   "execution_count": null,
   "metadata": {
    "colab": {
     "base_uri": "https://localhost:8080/"
    },
    "id": "EXIDzwS-dwnH",
    "outputId": "5296929c-370c-4661-f3fa-7ef172e8a354"
   },
   "outputs": [
    {
     "name": "stdout",
     "output_type": "stream",
     "text": [
      "Tuned XGB accuracy: 0.8009, params: 2, 50\n",
      "--- 40.6189444065094 seconds ---\n",
      "Tuned XGB accuracy: 0.8224, params: 2, 100\n",
      "--- 73.7978003025055 seconds ---\n",
      "Tuned XGB accuracy: 0.8371, params: 2, 200\n",
      "--- 145.689377784729 seconds ---\n",
      "Tuned XGB accuracy: 0.8202, params: 3, 50\n",
      "--- 54.45456504821777 seconds ---\n",
      "Tuned XGB accuracy: 0.8349, params: 3, 100\n",
      "--- 107.29931879043579 seconds ---\n",
      "Tuned XGB accuracy: 0.8463, params: 3, 200\n",
      "--- 222.4045352935791 seconds ---\n"
     ]
    }
   ],
   "source": [
    "for m_depth in [2, 3]:\n",
    "  for n_est in [50,100, 200]:\n",
    "    start_time = time.time()\n",
    "    xgb = XGBClassifier(max_depth=m_depth, n_estimators=n_est)\n",
    "    xgb.fit(x_train[:5000], y_train[:5000])\n",
    "\n",
    "    y_pred = xgb.predict(x_test)\n",
    "    print(f\"Tuned XGB accuracy: {np.mean(y_pred == y_test)}, params: {m_depth}, {n_est}\")\n",
    "    print(f\"--- {time.time() - start_time} seconds ---\")"
   ]
  },
  {
   "cell_type": "markdown",
   "metadata": {
    "id": "X1XlfvLPkDrP"
   },
   "source": [
    "Даже без подбора гиперпараметров XGBoost выдает результат, сопоставимый с результатом ядрового SVM. Однако потраченное на обучение время у бустинга в 4 раза больше, чем у SVM. Если же еще брать в расчет подбор параметров, то бустинг самый долгий, однако за это время качество у модели действительно повысится чуть меньше, чем на процент."
   ]
  },
  {
   "cell_type": "markdown",
   "metadata": {
    "id": "3wazxXSpbxdk"
   },
   "source": [
    "**Используя PCA:**"
   ]
  },
  {
   "cell_type": "code",
   "execution_count": null,
   "metadata": {
    "id": "9Ny7ZqEsbwKA"
   },
   "outputs": [],
   "source": [
    "from sklearn.decomposition import PCA\n",
    "\n",
    "pca = PCA(n_components=50)\n",
    "pc_train = pca.fit_transform(x_train)\n",
    "pc_test = pca.transform(x_test)"
   ]
  },
  {
   "cell_type": "code",
   "execution_count": null,
   "metadata": {
    "colab": {
     "base_uri": "https://localhost:8080/"
    },
    "id": "inafburAb2mL",
    "outputId": "111066a9-b023-4eab-bcc5-fa32e2381e51"
   },
   "outputs": [
    {
     "name": "stdout",
     "output_type": "stream",
     "text": [
      "LinearSVM accuracy: 0.6094\n",
      "--- 30.227136611938477 seconds ---\n"
     ]
    }
   ],
   "source": [
    "np.random.seed(2022)\n",
    "start_time = time.time()\n",
    "\n",
    "lin_svc = LinearSVC(max_iter=3000)\n",
    "lin_svc.fit(pc_train[:5000], y_train[:5000])\n",
    "\n",
    "y_pred = lin_svc.predict(pc_test)\n",
    "print(f\"LinearSVM accuracy: {np.mean(y_pred == y_test)}\")\n",
    "print(f\"--- {time.time() - start_time} seconds ---\")"
   ]
  },
  {
   "cell_type": "code",
   "execution_count": null,
   "metadata": {
    "colab": {
     "base_uri": "https://localhost:8080/"
    },
    "id": "X9rdDhfmb22i",
    "outputId": "3407f768-17d1-49fa-9b55-c5b3424e99a5"
   },
   "outputs": [
    {
     "name": "stdout",
     "output_type": "stream",
     "text": [
      "KernelSVM accuracy: 0.8747\n",
      "--- 105.41046977043152 seconds ---\n"
     ]
    }
   ],
   "source": [
    "start_time = time.time()\n",
    "kernel_svc = SVC(kernel='rbf')\n",
    "kernel_svc.fit(pc_train, y_train)\n",
    "\n",
    "y_pred = kernel_svc.predict(pc_test)\n",
    "print(f\"KernelSVM accuracy: {np.mean(y_pred == y_test)}\")\n",
    "print(f\"--- {time.time() - start_time} seconds ---\")"
   ]
  },
  {
   "cell_type": "code",
   "execution_count": null,
   "metadata": {
    "colab": {
     "base_uri": "https://localhost:8080/"
    },
    "id": "U6rm6Ue4b3mg",
    "outputId": "65091265-09e7-4e05-fe43-f11c0703ab18"
   },
   "outputs": [
    {
     "name": "stdout",
     "output_type": "stream",
     "text": [
      "XGBoost accuracy: 0.8181\n",
      "--- 34.72909140586853 seconds ---\n"
     ]
    }
   ],
   "source": [
    "start_time = time.time()\n",
    "xgb = XGBClassifier(max_depth=3, n_estimators=200)\n",
    "xgb.fit(pc_train[:5000], y_train[:5000])\n",
    "\n",
    "y_pred = xgb.predict(pc_test)\n",
    "print(f\"XGBoost accuracy: {np.mean(y_pred == y_test)}\")\n",
    "print(f\"--- {time.time() - start_time} seconds ---\")"
   ]
  },
  {
   "cell_type": "markdown",
   "metadata": {
    "id": "JP4xtHUGcbU_"
   },
   "source": [
    "Выделение главных компонент существенно ускоряет ядровой SVM, да так, что даже можно обучиться на всем датасете чуть больше, чем за минуту (23 минуты без PCA!). Причем accuracy в таком случае вырастет существенно, аж до 0.87. \\\\\n",
    "XGBoost выдает похожее качсетво, но за большее время, поэтому осмысленно использовать именно ядровой метод, который быстрее. Не исключено, что бустинг на всем датасете при праивльно подобранных параметрах выдаст что-то большее, однако это опять же займет очень много времени."
   ]
  },
  {
   "cell_type": "markdown",
   "metadata": {
    "id": "e6umjhWuK-hV"
   },
   "source": [
    "# __Задание 3. (2 балла)__\n",
    "\n",
    "Проведите эксперименты:\n",
    "1. Помогает ли предварительное понижение размерности с помощью PCA? \\\\\n",
    "Помогает, как мы выяснили в предыдущем пункте, понижение размерности значительно ускоряет PCA, так как признаков становится меньше (50 вместо 784), а информация о данных сохраняется наибольшая (PCA отбирает 50 самых информативных признаков по дисперсии). Отсюда, обучение проходит в несколько раз быстрее, 1.5 минуты против 23 минут без PCA.\n",
    "\n",
    "2. Как зависит итоговое качество от n_features? Выходит ли оно на плато при росте n_features? \\\\\n",
    "При росте n_features качество растет и выходит на плато примерно на 1000-1500 признаках. Чем больше признаков, тем больше нелинейных закономерностей улавливает модель, используя ядро, поэтому качество растет."
   ]
  },
  {
   "cell_type": "code",
   "execution_count": 25,
   "metadata": {
    "colab": {
     "base_uri": "https://localhost:8080/",
     "height": 295
    },
    "id": "c2QIHIMbK-hW",
    "outputId": "6536b930-a091-41f9-b7d4-ebac55deb635"
   },
   "outputs": [
    {
     "data": {
      "image/png": "[encoded data removed]",
      "text/plain": [
       "<Figure size 432x288 with 1 Axes>"
      ]
     },
     "metadata": {
      "needs_background": "light"
     },
     "output_type": "display_data"
    }
   ],
   "source": [
    "import matplotlib.pyplot as plt\n",
    "accuracies = []\n",
    "\n",
    "for n_features in [100, 200, 500, 1000, 2000, 4000]:\n",
    "  model = RFFPipeline(n_features=n_features, new_dim=50, use_PCA=True, classifier='svm')\n",
    "  model.fit(x_train[:5000], y_train[:5000])\n",
    "\n",
    "  y_pred = model.predict(x_test)\n",
    "  accuracies.append(np.mean(y_pred == y_test))\n",
    "\n",
    "plt.plot([100, 200, 500, 1000, 2000, 4000], accuracies)\n",
    "plt.title('Аccuracy dependence on number of features.')\n",
    "plt.xlabel('n features')\n",
    "plt.ylabel('Accuracy')\n",
    "plt.grid()\n",
    "plt.show()"
   ]
  },
  {
   "cell_type": "markdown",
   "metadata": {
    "id": "zVukEqhysubf"
   },
   "source": [
    "3. Важно ли, какую модель обучать — логистическую регрессию или SVM? \\\\\n",
    "Незначительно, но все же SVM предпочтительнее использовать, чем Logreg для ядерной аппроксимации. SVM показывает лучшее качество и не уступает логрегу по времени."
   ]
  },
  {
   "cell_type": "code",
   "execution_count": 32,
   "metadata": {
    "colab": {
     "base_uri": "https://localhost:8080/"
    },
    "id": "KCRfjnoMwrL-",
    "outputId": "8b60ed81-7ccc-4319-a3b2-96c5d7f775a1"
   },
   "outputs": [
    {
     "name": "stdout",
     "output_type": "stream",
     "text": [
      "Logreg accuracy: 0.7777\n",
      "--- 33.91533327102661 seconds ---\n"
     ]
    }
   ],
   "source": [
    "start_time = time.time()\n",
    "model = RFFPipeline(n_features=1000, new_dim=50, use_PCA=True, classifier='logreg')\n",
    "model.fit(x_train[:5000], y_train[:5000])\n",
    "\n",
    "y_pred = model.predict(x_test)\n",
    "print(f\"Logreg accuracy: {np.mean(y_pred == y_test)}\")\n",
    "print(f\"--- {time.time() - start_time} seconds ---\")"
   ]
  },
  {
   "cell_type": "code",
   "execution_count": 33,
   "metadata": {
    "colab": {
     "base_uri": "https://localhost:8080/"
    },
    "id": "PgpB2WUcw_cm",
    "outputId": "4428e689-8b6a-414d-9f54-77a54270b796"
   },
   "outputs": [
    {
     "name": "stdout",
     "output_type": "stream",
     "text": [
      "SVM accuracy: 0.8063\n",
      "--- 27.41907238960266 seconds ---\n"
     ]
    }
   ],
   "source": [
    "start_time = time.time()\n",
    "model = RFFPipeline(n_features=1000, new_dim=50, use_PCA=True, classifier='svm')\n",
    "model.fit(x_train[:5000], y_train[:5000])\n",
    "\n",
    "y_pred = model.predict(x_test)\n",
    "print(f\"SVM accuracy: {np.mean(y_pred == y_test)}\")\n",
    "print(f\"--- {time.time() - start_time} seconds ---\")"
   ]
  },
  {
   "cell_type": "markdown",
   "metadata": {
    "id": "CJqXVuasK-hW"
   },
   "source": [
    "### Бонус"
   ]
  },
  {
   "cell_type": "markdown",
   "metadata": {
    "id": "QVDWHCdrK-hX"
   },
   "source": [
    "# __Задание 4. (Максимум 2 балла)__\n",
    "\n",
    "Как вы, должно быть, помните с курса МО-1, многие алгоритмы машинного обучения работают лучше, если признаки данных некоррелированы. Оказывается, что для RFF существует модификация, позволяющая получать ортогональные случайные признаки (Orthogonal Random Features, ORF). Об этом методе можно прочитать в [статье](https://proceedings.neurips.cc/paper/2016/file/53adaf494dc89ef7196d73636eb2451b-Paper.pdf). Реализуйте класс для вычисления ORF по аналогии с основным заданием. Обратите внимание, что ваш класс должен уметь работать со случаем n_features > new_dim (в статье есть замечание на этот счет). Проведите эксперименты, сравнивающие RFF и ORF, сделайте выводы."
   ]
  },
  {
   "cell_type": "code",
   "execution_count": null,
   "metadata": {
    "id": "HSxvGI9iK-hX"
   },
   "outputs": [],
   "source": [
    "# Your code here: (￣▽￣)/♫•*¨*•.¸¸♪"
   ]
  },
  {
   "cell_type": "markdown",
   "metadata": {
    "id": "4pc7-1jmK-hY"
   },
   "source": [
    "# __Задание 5. (Максимум 2 балла)__\n",
    "\n",
    "Поэкспериментируйте с функциями для вычисления новых случайных признаков. Не обязательно использовать косинус от скалярного произведения — можно брать знак от него, хэш и т.д. Придумайте побольше вариантов для генерации признаков и проверьте, не получается ли с их помощью добиваться более высокого качества. Также можете попробовать другой классификатор поверх случайных признаков, сравните результаты."
   ]
  },
  {
   "cell_type": "markdown",
   "metadata": {
    "id": "Nhr7LIsNPYQy"
   },
   "source": [
    "Добавим несколько функций для генерации новых признаков в наш класс и поочередно протеситурем их на подвыборке."
   ]
  },
  {
   "cell_type": "code",
   "execution_count": 63,
   "metadata": {
    "id": "dWj-O2vjK-hY"
   },
   "outputs": [],
   "source": [
    "class CoolerPipeline(BaseEstimator, TransformerMixin):\n",
    "    def __init__(self, n_features=1000, new_dim=50, use_PCA=False, func='rff', classifier='logreg'):\n",
    "        \"\"\"\n",
    "        Implements pipeline, which consists of PCA decomposition,\n",
    "        Random Fourier Features approximation and linear classification model.\n",
    "          n_features, int: amount of synthetic random features generated with RFF approximation.\n",
    "          new_dim, int: PCA output size.\n",
    "          use_PCA, bool: whether to include PCA preprocessing.\n",
    "          classifier, string: either 'svm' or 'logreg', a linear classification model to use on top of pipeline.\n",
    "        \"\"\"\n",
    "        self.n_features = n_features\n",
    "        self.use_PCA = use_PCA\n",
    "        self.new_dim = new_dim\n",
    "        self.classifier = classifier\n",
    "        self.func = func\n",
    "        \n",
    "    def fit(self, X, y):\n",
    "        \"\"\"\n",
    "        Fit all parts of algorithm (PCA, RFF, Classification) to training set.\n",
    "        \"\"\"\n",
    "        # Sigma squared Male Rule estimation\n",
    "        mask = np.random.randint(X.shape[0], size=(2, 1000000))\n",
    "        xi, xj = X[mask[0]], X[mask[1]]\n",
    "        sigma_sq = np.median(np.sum(((xi - xj) ** 2), axis=1))\n",
    "        \n",
    "        # Scaling and PCA\n",
    "        if self.use_PCA:\n",
    "            self.pca = PCA(n_components=self.new_dim)\n",
    "            X = self.pca.fit_transform(X)\n",
    "\n",
    "        # Generating features\n",
    "        if self.func == 'rff':\n",
    "          self.w_samples = np.random.normal(0, 1/sigma_sq, (self.n_features, X.shape[1]))\n",
    "          self.b = np.random.uniform(-np.pi, np.pi, self.n_features)\n",
    "          Phi_X = np.cos(X @ self.w_samples.T + self.b)\n",
    "\n",
    "        elif self.func == 'arctan':\n",
    "          self.w_samples = np.random.normal(0, 1/sigma_sq, (self.n_features, X.shape[1]))\n",
    "          self.b = np.random.uniform(-np.pi, np.pi, self.n_features)\n",
    "          Phi_X = np.arctan(X @ self.w_samples.T + self.b)\n",
    "        \n",
    "        elif self.func == 'sinh':\n",
    "          self.w_samples = np.random.normal(0, 1/sigma_sq, (self.n_features, X.shape[1]))\n",
    "          self.b = np.random.uniform(-np.pi, np.pi, self.n_features)\n",
    "          Phi_X = np.sinh(X @ self.w_samples.T + self.b)\n",
    "\n",
    "        elif self.func == 'indic':\n",
    "          self.w_samples = np.random.normal(0, 1/sigma_sq, (self.n_features, X.shape[1]))\n",
    "          self.b = np.random.uniform(-np.pi, np.pi, self.n_features)\n",
    "          Phi_X = (np.cos(X @ self.w_samples.T + self.b) > 0)\n",
    "\n",
    "        elif self.func == 'sigmoid':\n",
    "          self.w_samples = np.random.normal(0, 1/sigma_sq, (self.n_features, X.shape[1]))\n",
    "          self.b = np.random.uniform(-np.pi, np.pi, self.n_features)\n",
    "          Phi_X = 1 / (1 + np.exp(- X @ self.w_samples.T + self.b))\n",
    "        \n",
    "        elif self.func == 'relu':\n",
    "          self.w_samples = np.random.normal(0, 1/sigma_sq, (self.n_features, X.shape[1]))\n",
    "          self.b = np.random.uniform(-np.pi, np.pi, self.n_features)\n",
    "          Phi_X = ((X @ self.w_samples.T + self.b) > 0) * (X @ self.w_samples.T + self.b)\n",
    "\n",
    "        elif self.func == 'student':\n",
    "          self.w_samples = np.random.standard_t(df=1, size=(self.n_features, X.shape[1]))/sigma_sq\n",
    "          self.b = np.random.uniform(-np.pi, np.pi, self.n_features)\n",
    "          Phi_X = np.cos(X @ self.w_samples.T + self.b)\n",
    "      \n",
    "        # Fit\n",
    "        if self.classifier == 'svm':\n",
    "            self.svc = SVC(kernel='linear', probability=True)\n",
    "            self.svc.fit(Phi_X, y)\n",
    "            \n",
    "        elif self.classifier == 'logreg':\n",
    "            self.logreg = LogisticRegression(solver='saga')\n",
    "            self.logreg.fit(Phi_X, y)\n",
    "            \n",
    "        return self\n",
    "\n",
    "    def predict(self, X):\n",
    "        \"\"\"\n",
    "        Apply pipeline to obtain discrete predictions for input data.\n",
    "        \"\"\"\n",
    "        if self.use_PCA:\n",
    "            X = self.pca.transform(X)  # PCA\n",
    "        \n",
    "        if self.func == 'rff':\n",
    "          Phi_X = np.cos(X @ self.w_samples.T + self.b)  # RFF\n",
    "\n",
    "        elif self.func == 'arctan':\n",
    "          Phi_X = np.arctan(X @ self.w_samples.T + self.b)  # Arctan\n",
    "\n",
    "        elif self.func == 'sinh':\n",
    "          Phi_X = np.sinh(X @ self.w_samples.T + self.b)  # Sinh\n",
    "          \n",
    "        elif self.func == 'indic':\n",
    "          Phi_X = (np.cos(X @ self.w_samples.T + self.b) > 0)  # Indicator\n",
    "        \n",
    "        elif self.func == 'sigmoid':\n",
    "          Phi_X = 1 / (1 + np.exp(- X @ self.w_samples.T + self.b))  # Sigmoid\n",
    "\n",
    "        elif self.func == 'relu':\n",
    "          Phi_X = ((X @ self.w_samples.T + self.b) > 0) * (X @ self.w_samples.T + self.b)  # RELU\n",
    "\n",
    "        if self.func == 'student':\n",
    "          Phi_X = np.cos(X @ self.w_samples.T + self.b)  # Student\n",
    "\n",
    "        if self.classifier == 'svm':\n",
    "            return self.svc.predict(Phi_X)\n",
    "            \n",
    "        if self.classifier == 'logreg':\n",
    "            return self.logreg.predict(Phi_X)"
   ]
  },
  {
   "cell_type": "code",
   "execution_count": null,
   "metadata": {
    "colab": {
     "base_uri": "https://localhost:8080/"
    },
    "id": "YIll6MvsUIGN",
    "outputId": "80d55268-c949-475e-f6a9-3f5fb43f353c"
   },
   "outputs": [
    {
     "data": {
      "text/plain": [
       "0.8143"
      ]
     },
     "execution_count": 54,
     "metadata": {},
     "output_type": "execute_result"
    }
   ],
   "source": [
    "np.random.seed(2022)\n",
    "model = CoolerPipeline(n_features=1000, func='rff', classifier='svm')\n",
    "model.fit(x_train[:5000], y_train[:5000])\n",
    "\n",
    "y_pred = model.predict(x_test)\n",
    "print(f\"RFF accuracy: {np.mean(y_pred == y_test)}\")"
   ]
  },
  {
   "cell_type": "code",
   "execution_count": 39,
   "metadata": {
    "colab": {
     "base_uri": "https://localhost:8080/"
    },
    "id": "IrDre2P_VASZ",
    "outputId": "ce774d0c-5fce-4e72-a7fc-7680a5d81a8a"
   },
   "outputs": [
    {
     "name": "stdout",
     "output_type": "stream",
     "text": [
      "Arctanh accuracy: 0.8044\n"
     ]
    }
   ],
   "source": [
    "model = CoolerPipeline(n_features=1000, func='arctan', classifier='svm')\n",
    "model.fit(x_train[:5000], y_train[:5000])\n",
    "\n",
    "y_pred = model.predict(x_test)\n",
    "print(f\"Arctan accuracy: {np.mean(y_pred == y_test)}\")"
   ]
  },
  {
   "cell_type": "code",
   "execution_count": null,
   "metadata": {
    "colab": {
     "base_uri": "https://localhost:8080/"
    },
    "id": "DxEDPIj0VsQu",
    "outputId": "e4bedd51-7a3d-4584-ce45-cc6b2b75ee60"
   },
   "outputs": [
    {
     "name": "stdout",
     "output_type": "stream",
     "text": [
      "SinH accuracy: 0.8111\n"
     ]
    }
   ],
   "source": [
    "model = CoolerPipeline(n_features=1000, func='sinh', classifier='svm')\n",
    "model.fit(x_train[:5000], y_train[:5000])\n",
    "\n",
    "y_pred = model.predict(x_test)\n",
    "print(f\"SinH accuracy: {np.mean(y_pred == y_test)}\")"
   ]
  },
  {
   "cell_type": "code",
   "execution_count": null,
   "metadata": {
    "colab": {
     "base_uri": "https://localhost:8080/"
    },
    "id": "ErY-F7IMVcPI",
    "outputId": "a841c0dc-1937-48d3-f054-41492ffeaa8e"
   },
   "outputs": [
    {
     "name": "stdout",
     "output_type": "stream",
     "text": [
      "Indicator accuracy: 0.6665\n"
     ]
    }
   ],
   "source": [
    "model = CoolerPipeline(n_features=1000, func='indic', classifier='svm')\n",
    "model.fit(x_train[:5000], y_train[:5000])\n",
    "\n",
    "y_pred = model.predict(x_test)\n",
    "print(f\"Indicator accuracy: {np.mean(y_pred == y_test)}\")"
   ]
  },
  {
   "cell_type": "code",
   "execution_count": 42,
   "metadata": {
    "colab": {
     "base_uri": "https://localhost:8080/"
    },
    "id": "MutWtRty411r",
    "outputId": "3f2934fa-400f-4f34-ebda-8d1b0b81b547"
   },
   "outputs": [
    {
     "name": "stdout",
     "output_type": "stream",
     "text": [
      "Sigmoid accuracy: 0.5568\n"
     ]
    }
   ],
   "source": [
    "model = CoolerPipeline(n_features=1000, func='sigmoid', classifier='svm')\n",
    "model.fit(x_train[:5000], y_train[:5000])\n",
    "\n",
    "y_pred = model.predict(x_test)\n",
    "print(f\"Sigmoid accuracy: {np.mean(y_pred == y_test)}\")"
   ]
  },
  {
   "cell_type": "code",
   "execution_count": 58,
   "metadata": {
    "colab": {
     "base_uri": "https://localhost:8080/"
    },
    "id": "hTa4eNDH6qIr",
    "outputId": "a469f737-44f3-4009-99bf-9ad916bdd7f7"
   },
   "outputs": [
    {
     "name": "stdout",
     "output_type": "stream",
     "text": [
      "RELU accuracy: 0.8165\n"
     ]
    }
   ],
   "source": [
    "model = CoolerPipeline(n_features=1000, func='relu', classifier='svm')\n",
    "model.fit(x_train[:5000], y_train[:5000])\n",
    "\n",
    "y_pred = model.predict(x_test)\n",
    "print(f\"RELU accuracy: {np.mean(y_pred == y_test)}\")"
   ]
  },
  {
   "cell_type": "code",
   "execution_count": 64,
   "metadata": {
    "colab": {
     "base_uri": "https://localhost:8080/"
    },
    "id": "9O5LKy2j-ii6",
    "outputId": "9a213d78-b2b1-4114-df94-fec4b1c54c3f"
   },
   "outputs": [
    {
     "name": "stdout",
     "output_type": "stream",
     "text": [
      "Student accuracy: 0.8033\n"
     ]
    }
   ],
   "source": [
    "model = CoolerPipeline(n_features=1000, func='student', classifier='svm')\n",
    "model.fit(x_train[:5000], y_train[:5000])\n",
    "\n",
    "y_pred = model.predict(x_test)\n",
    "print(f\"Student accuracy: {np.mean(y_pred == y_test)}\")"
   ]
  },
  {
   "cell_type": "markdown",
   "metadata": {
    "id": "oYa9INGac82Y"
   },
   "source": [
    "В экспериментах я использовал арктангенс и гиперболический синус, которые показали качество сравнимые с RFF. Связано это наверное с тем, что обе эти функции монотонно возрастают на всех вещественной оси, не превнося какие-то радикальные изменения в признаки. \\\\\n",
    "После этого я попробовал разные функции активации из нейронных сетей, которые могут как-то преобразовать признаки. \\\\\n",
    "https://mlfromscratch.com/activation-functions-explained/#/ \\\\\n",
    "Первой я попробовал step function, то есть индикатор от косинуса, однако качество сильно понизилось до 0.67. \\\\\n",
    "Второй была сигмоида, качество упало еще ниже до 0.56. \\\\\n",
    "И третьей я протестировал RELU, которая выдала такое же качество, что и RFF 0.81.\n",
    "\n",
    "Последним, что я хотел поменять это распределение, из которого сэмплятся веса w. Вместо нормального я использовал t распределение с более тяжелыми хвостами. Качество опять же вышло сопоставимым с обычным RFF.\n",
    "\n",
    "В итоге, ничего лучше RFF придумать не вышло)\n"
   ]
  },
  {
   "cell_type": "code",
   "execution_count": null,
   "metadata": {
    "id": "Vk9luf97Vsq3"
   },
   "outputs": [],
   "source": []
  },
  {
   "cell_type": "code",
   "execution_count": null,
   "metadata": {
    "id": "WAGBd4JsVs6a"
   },
   "outputs": [],
   "source": []
  },
  {
   "cell_type": "code",
   "execution_count": null,
   "metadata": {
    "id": "et5NhWn6VtO5"
   },
   "outputs": [],
   "source": []
  }
 ],
 "metadata": {
  "colab": {
   "collapsed_sections": [
    "oDwRbdxTrSAu",
    "HYqQUEi-K-hU"
   ],
   "name": "homework-practice-08-random-features-ZhumataevZhantu.ipynb",
   "provenance": []
  },
  "kernelspec": {
   "display_name": "Python 3 (ipykernel)",
   "language": "python",
   "name": "python3"
  },
  "language_info": {
   "codemirror_mode": {
    "name": "ipython",
    "version": 3
   },
   "file_extension": ".py",
   "mimetype": "text/x-python",
   "name": "python",
   "nbconvert_exporter": "python",
   "pygments_lexer": "ipython3",
   "version": "3.10.2"
  }
 },
 "nbformat": 4,
 "nbformat_minor": 1
}
